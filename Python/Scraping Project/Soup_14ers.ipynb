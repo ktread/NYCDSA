{
 "cells": [
  {
   "cell_type": "code",
   "execution_count": null,
   "metadata": {},
   "outputs": [],
   "source": [
    "import re\n",
    "import requests\n",
    "from bs4 import BeautifulSoup"
   ]
  },
  {
   "cell_type": "code",
   "execution_count": null,
   "metadata": {},
   "outputs": [],
   "source": [
    "response = requests.get('https://www.14ers.com/')\n",
    "text = BeautifulSoup(response.text, 'html.parser')"
   ]
  },
  {
   "cell_type": "code",
   "execution_count": null,
   "metadata": {},
   "outputs": [],
   "source": [
    "print(text.prettify())"
   ]
  },
  {
   "cell_type": "code",
   "execution_count": 43,
   "metadata": {},
   "outputs": [],
   "source": [
    "Mountaindata = text.find_all('td')\n"
   ]
  },
  {
   "cell_type": "code",
   "execution_count": null,
   "metadata": {},
   "outputs": [],
   "source": [
    "MountainText = [tag.string for tag in Mountaindata if tag.string != None and tag.string.strip() != '']\n",
    "Newdata = [text.strip() for text in MountainText]\n",
    "print(Newdata)"
   ]
  },
  {
   "cell_type": "code",
   "execution_count": null,
   "metadata": {},
   "outputs": [],
   "source": [
    "class Mountain():\n",
    "    def __init__(self, name, elevation):\n",
    "        self.name = name\n",
    "        self.elevation = elevation\n",
    "    \n",
    "    def __repr__(self):\n",
    "        return self.name+ ':' +self.elevation\n",
    "\n",
    "def mountainstodf(mountains):\n",
    "    mountainlst = []\n",
    "    for i in range(0,len(mountains),2):\n",
    "        mountainlst.append(Mountain(mountains[i],mountains[i+1]))\n",
    "    return mountainlst                                           \n",
    "\n",
    "mountains = mountainstodf(Newdata)\n",
    "\n",
    "mountaindict = {x.name:x.elevation for x in mountains}\n",
    "\n",
    "print(mountaindict)      \n",
    "    "
   ]
  }
 ],
 "metadata": {
  "kernelspec": {
   "display_name": "Python 3",
   "language": "python",
   "name": "python3"
  },
  "language_info": {
   "codemirror_mode": {
    "name": "ipython",
    "version": 3
   },
   "file_extension": ".py",
   "mimetype": "text/x-python",
   "name": "python",
   "nbconvert_exporter": "python",
   "pygments_lexer": "ipython3",
   "version": "3.7.3"
  }
 },
 "nbformat": 4,
 "nbformat_minor": 2
}
