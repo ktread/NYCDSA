{
 "cells": [
  {
   "cell_type": "code",
   "execution_count": null,
   "metadata": {},
   "outputs": [],
   "source": [
    "import re\n",
    "import requests\n",
    "from bs4 import BeautifulSoup"
   ]
  },
  {
   "cell_type": "code",
   "execution_count": null,
   "metadata": {},
   "outputs": [],
   "source": [
    "response = requests.get('https://www.14ers.com/')\n",
    "text = BeautifulSoup(response.text, 'html.parser')"
   ]
  },
  {
   "cell_type": "code",
   "execution_count": null,
   "metadata": {},
   "outputs": [],
   "source": [
    "print(text.prettify())"
   ]
  },
  {
   "cell_type": "code",
   "execution_count": 43,
   "metadata": {},
   "outputs": [],
   "source": [
    "Mountaindata = text.find_all('td')\n"
   ]
  },
  {
   "cell_type": "code",
   "execution_count": 69,
   "metadata": {},
   "outputs": [
    {
     "name": "stdout",
     "output_type": "stream",
     "text": [
      "['Grays Peak', \"14,270'\", 'Torreys Peak', \"14,267'\", 'Mt. Evans', \"14,264'\", 'Longs Peak', \"14,255'\", 'Pikes Peak', \"14,110'\", 'Mt. Bierstadt', \"14,060'\", 'Quandary Peak', \"14,265'\", 'Mt. Lincoln', \"14,286'\", 'Mt. Cameron', \"14,238'\", 'Mt. Bross', \"14,172'\", 'Mt. Democrat', \"14,148'\", 'Mt. Sherman', \"14,036'\", 'Mt. Elbert', \"14,433'\", 'Mt. Massive', \"14,421'\", 'Mt. Harvard', \"14,420'\", 'La Plata Peak', \"14,336'\", 'Mt. Antero', \"14,269'\", 'Mt. Shavano', \"14,229'\", 'Mt. Princeton', \"14,197'\", 'Mt. Belford', \"14,197'\", 'Mt. Yale', \"14,196'\", 'Tabeguache Peak', \"14,155'\", 'Mt. Oxford', \"14,153'\", 'Mt. Columbia', \"14,073'\", 'Missouri Mountain', \"14,067'\", 'Mt. of the Holy Cross', \"14,005'\", 'Huron Peak', \"14,003'\", 'Castle Peak', \"14,265'\", 'Maroon Peak', \"14,156'\", 'Capitol Peak', \"14,130'\", 'Snowmass Mountain', \"14,092'\", 'Conundrum Peak', \"14,060'\", 'Pyramid Peak', \"14,018'\", 'North Maroon Peak', \"14,014'\", 'Uncompahgre Peak', \"14,309'\", 'Mt. Wilson', \"14,246'\", 'El Diente Peak', \"14,159'\", 'Mt. Sneffels', \"14,150'\", 'Windom Peak', \"14,087'\", 'Mt. Eolus', \"14,083'\", 'Sunlight Peak', \"14,059'\", 'Handies Peak', \"14,048'\", 'North Eolus', \"14,039'\", 'Redcloud Peak', \"14,034'\", 'Wilson Peak', \"14,017'\", 'Wetterhorn Peak', \"14,015'\", 'San Luis Peak', \"14,014'\", 'Sunshine Peak', \"14,001'\", 'Blanca Peak', \"14,345'\", 'Crestone Peak', \"14,294'\", 'Crestone Needle', \"14,197'\", 'Kit Carson Peak', \"14,165'\", 'Challenger Point', \"14,081'\", 'Humboldt Peak', \"14,064'\", 'Culebra Peak', \"14,047'\", 'Mt. Lindsey', \"14,042'\", 'Ellingwood Point', \"14,042'\", 'Little Bear Peak', \"14,037'\"]\n"
     ]
    }
   ],
   "source": [
    "MountainText = [tag.string for tag in Mountaindata if tag.string != None and tag.string.strip() != '']\n",
    "Newdata = [text.strip() for text in MountainText]\n",
    "print(Newdata)"
   ]
  },
  {
   "cell_type": "code",
   "execution_count": 111,
   "metadata": {},
   "outputs": [
    {
     "name": "stdout",
     "output_type": "stream",
     "text": [
      "{'Grays Peak': \"14,270'\", 'Torreys Peak': \"14,267'\", 'Mt. Evans': \"14,264'\", 'Longs Peak': \"14,255'\", 'Pikes Peak': \"14,110'\", 'Mt. Bierstadt': \"14,060'\", 'Quandary Peak': \"14,265'\", 'Mt. Lincoln': \"14,286'\", 'Mt. Cameron': \"14,238'\", 'Mt. Bross': \"14,172'\", 'Mt. Democrat': \"14,148'\", 'Mt. Sherman': \"14,036'\", 'Mt. Elbert': \"14,433'\", 'Mt. Massive': \"14,421'\", 'Mt. Harvard': \"14,420'\", 'La Plata Peak': \"14,336'\", 'Mt. Antero': \"14,269'\", 'Mt. Shavano': \"14,229'\", 'Mt. Princeton': \"14,197'\", 'Mt. Belford': \"14,197'\", 'Mt. Yale': \"14,196'\", 'Tabeguache Peak': \"14,155'\", 'Mt. Oxford': \"14,153'\", 'Mt. Columbia': \"14,073'\", 'Missouri Mountain': \"14,067'\", 'Mt. of the Holy Cross': \"14,005'\", 'Huron Peak': \"14,003'\", 'Castle Peak': \"14,265'\", 'Maroon Peak': \"14,156'\", 'Capitol Peak': \"14,130'\", 'Snowmass Mountain': \"14,092'\", 'Conundrum Peak': \"14,060'\", 'Pyramid Peak': \"14,018'\", 'North Maroon Peak': \"14,014'\", 'Uncompahgre Peak': \"14,309'\", 'Mt. Wilson': \"14,246'\", 'El Diente Peak': \"14,159'\", 'Mt. Sneffels': \"14,150'\", 'Windom Peak': \"14,087'\", 'Mt. Eolus': \"14,083'\", 'Sunlight Peak': \"14,059'\", 'Handies Peak': \"14,048'\", 'North Eolus': \"14,039'\", 'Redcloud Peak': \"14,034'\", 'Wilson Peak': \"14,017'\", 'Wetterhorn Peak': \"14,015'\", 'San Luis Peak': \"14,014'\", 'Sunshine Peak': \"14,001'\", 'Blanca Peak': \"14,345'\", 'Crestone Peak': \"14,294'\", 'Crestone Needle': \"14,197'\", 'Kit Carson Peak': \"14,165'\", 'Challenger Point': \"14,081'\", 'Humboldt Peak': \"14,064'\", 'Culebra Peak': \"14,047'\", 'Mt. Lindsey': \"14,042'\", 'Ellingwood Point': \"14,042'\", 'Little Bear Peak': \"14,037'\"}\n"
     ]
    }
   ],
   "source": [
    "class Mountain():\n",
    "    def __init__(self, name, elevation):\n",
    "        self.name = name\n",
    "        self.elevation = elevation\n",
    "    \n",
    "    def __repr__(self):\n",
    "        return self.name+ ':' +self.elevation\n",
    "\n",
    "def mountainstodf(mountains):\n",
    "    mountainlst = []\n",
    "    for i in range(0,len(mountains),2):\n",
    "        mountainlst.append(Mountain(mountains[i],mountains[i+1]))\n",
    "    return mountainlst                                           \n",
    "\n",
    "mountains = mountainstodf(Newdata)\n",
    "\n",
    "mountaindict = {x.name:x.elevation for x in mountains}\n",
    "\n",
    "print(mountaindict)\n",
    "\n",
    "\n",
    "\n",
    "        \n",
    "    "
   ]
  },
  {
   "cell_type": "code",
   "execution_count": null,
   "metadata": {},
   "outputs": [],
   "source": []
  }
 ],
 "metadata": {
  "kernelspec": {
   "display_name": "Python 3",
   "language": "python",
   "name": "python3"
  },
  "language_info": {
   "codemirror_mode": {
    "name": "ipython",
    "version": 3
   },
   "file_extension": ".py",
   "mimetype": "text/x-python",
   "name": "python",
   "nbconvert_exporter": "python",
   "pygments_lexer": "ipython3",
   "version": "3.7.3"
  }
 },
 "nbformat": 4,
 "nbformat_minor": 2
}
