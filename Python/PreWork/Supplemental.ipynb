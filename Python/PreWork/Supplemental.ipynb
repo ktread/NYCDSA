{
 "cells": [
  {
   "cell_type": "code",
   "execution_count": 6,
   "metadata": {},
   "outputs": [
    {
     "data": {
      "text/plain": [
       "7"
      ]
     },
     "execution_count": 6,
     "metadata": {},
     "output_type": "execute_result"
    }
   ],
   "source": [
    "# Anon Functions - functions without a name\n",
    "# short, simple functions - sort, filters, etc. with data\n",
    "\n",
    "def f(x):\n",
    "    return 3*x+1\n",
    "\n",
    "\n",
    "\n",
    "\n"
   ]
  },
  {
   "cell_type": "code",
   "execution_count": 7,
   "metadata": {},
   "outputs": [
    {
     "data": {
      "text/plain": [
       "'Kate Treadwell'"
      ]
     },
     "execution_count": 7,
     "metadata": {},
     "output_type": "execute_result"
    }
   ],
   "source": [
    "# Combine First and Last name\n",
    "\n",
    "full_name = lambda fn, ln: fn.strip().title()+ \" \" + ln.strip().title()\n",
    "\n",
    "full_name(\"KATE\",\"Treadwell\")"
   ]
  },
  {
   "cell_type": "code",
   "execution_count": 18,
   "metadata": {},
   "outputs": [
    {
     "data": {
      "text/plain": [
       "170"
      ]
     },
     "execution_count": 18,
     "metadata": {},
     "output_type": "execute_result"
    }
   ],
   "source": [
    "def build_quad(a,b,c):\n",
    "    return lambda x: a*x**2 + b*x +c\n",
    "\n",
    "build_quad(3,4,-5)(7)\n"
   ]
  },
  {
   "cell_type": "code",
   "execution_count": 20,
   "metadata": {},
   "outputs": [
    {
     "data": {
      "text/plain": [
       "[12.566370614359172,\n",
       " 78.53981633974483,\n",
       " 50.26548245743669,\n",
       " 12.566370614359172,\n",
       " 50.26548245743669]"
      ]
     },
     "execution_count": 20,
     "metadata": {},
     "output_type": "execute_result"
    }
   ],
   "source": [
    "\n",
    "\n",
    "import math\n",
    "\n",
    "def area(r):\n",
    "    return math.pi*(r**2)\n",
    "\n",
    "\n",
    "radii = [2,5,4,2,4]\n",
    "\n",
    "\n",
    "# WITHOUT MAP\n",
    "areas = []\n",
    "for r in radii:\n",
    "    a= area(r)\n",
    "    areas.append(a)\n",
    "    \n",
    "areas"
   ]
  },
  {
   "cell_type": "code",
   "execution_count": 22,
   "metadata": {},
   "outputs": [
    {
     "data": {
      "text/plain": [
       "[12.566370614359172,\n",
       " 78.53981633974483,\n",
       " 50.26548245743669,\n",
       " 12.566370614359172,\n",
       " 50.26548245743669]"
      ]
     },
     "execution_count": 22,
     "metadata": {},
     "output_type": "execute_result"
    }
   ],
   "source": [
    "\"\"\"WITH MAP\n",
    "MAP is just a construtor - you need to wrap it in a list in order to get the values back at the list - maps simply\n",
    "iterate through a list with a function\"\"\"\n",
    "\n",
    "\n",
    "list(map(area,radii))"
   ]
  }
 ],
 "metadata": {
  "kernelspec": {
   "display_name": "Python 3",
   "language": "python",
   "name": "python3"
  },
  "language_info": {
   "codemirror_mode": {
    "name": "ipython",
    "version": 3
   },
   "file_extension": ".py",
   "mimetype": "text/x-python",
   "name": "python",
   "nbconvert_exporter": "python",
   "pygments_lexer": "ipython3",
   "version": "3.7.3"
  }
 },
 "nbformat": 4,
 "nbformat_minor": 2
}
