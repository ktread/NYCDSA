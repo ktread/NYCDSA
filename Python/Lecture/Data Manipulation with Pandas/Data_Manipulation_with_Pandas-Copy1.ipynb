{
 "cells": [
  {
   "cell_type": "markdown",
   "metadata": {},
   "source": [
    "<p><a name=\"sections\"></a></p>\n",
    "\n",
    "\n",
    "# Sections\n",
    "\n",
    "- <a href=\"#DS\">Data Structure</a><br>\n",
    "- <a href=\"#DM\">Data Manipulation</a><br>\n",
    "- <a href=\"#miss\">Handling Missing Data</a><br>\n",
    "- <a href=\"#grouping\">Grouping and aggregration</a><br>\n",
    "- <a href=\"#time\">Time Series</a><br>\n",
    "- <a href=\"#sol\">Solutions</a><br>"
   ]
  },
  {
   "cell_type": "markdown",
   "metadata": {},
   "source": [
    "# Pandas\n",
    "\n",
    "<p><a name=\"DS\"></a></p>\n",
    "### Data Structure\n",
    "\n",
    "- Pandas is a Python package built on top of NumPy.  It is particularly strong in the area of handling spreadsheet structures, dealing with missing data, and processing time series data.\n",
    "\n",
    "- We will talk about three data structure objects in today's lecture: Series, DataFrame and Time Series."
   ]
  },
  {
   "cell_type": "markdown",
   "metadata": {},
   "source": [
    "These are the new data types introduced by pandas:\n",
    "\n",
    "- **Series**: 1D labeled homogeneously-typed array.\n",
    "- **DataFrame**: General 2D labeled, size-mutable tabular structure with potentially heterogeneously-typed columns.\n",
    "- **Time Series**: Series with index containing datetimes.\n",
    "\n",
    "Import the package, as follows:"
   ]
  },
  {
   "cell_type": "code",
   "execution_count": 1,
   "metadata": {
    "collapsed": true
   },
   "outputs": [],
   "source": [
    "import numpy as np\n",
    "import pandas as pd"
   ]
  },
  {
   "cell_type": "markdown",
   "metadata": {},
   "source": [
    "<p><a name=\"series\"></a></p>\n",
    "## Series\n",
    "\n",
    "- A series is a one-dimensional array-like object containing homogenously typed elements.   \n",
    "- Each element has an associated data label, called its index. By default, the index consists of ordinary array indices, i.e. consecutive integers starting from zero."
   ]
  },
  {
   "cell_type": "code",
   "execution_count": 2,
   "metadata": {
    "collapsed": false
   },
   "outputs": [
    {
     "data": {
      "text/plain": [
       "0    a\n",
       "1    b\n",
       "2    c\n",
       "3    d\n",
       "dtype: object"
      ]
     },
     "execution_count": 2,
     "metadata": {},
     "output_type": "execute_result"
    }
   ],
   "source": [
    "obj = pd.Series(['a', 'b', 'c', 'd'])\n",
    "obj"
   ]
  },
  {
   "cell_type": "code",
   "execution_count": 5,
   "metadata": {
    "collapsed": false
   },
   "outputs": [
    {
     "data": {
      "text/plain": [
       "RangeIndex(start=0, stop=4, step=1)"
      ]
     },
     "execution_count": 5,
     "metadata": {},
     "output_type": "execute_result"
    }
   ],
   "source": [
    "obj.index  #this is the default index"
   ]
  },
  {
   "cell_type": "markdown",
   "metadata": {},
   "source": [
    "- An entry can be retrieved using the index, as follows:"
   ]
  },
  {
   "cell_type": "code",
   "execution_count": 4,
   "metadata": {
    "collapsed": false
   },
   "outputs": [
    {
     "data": {
      "text/plain": [
       "'a'"
      ]
     },
     "execution_count": 4,
     "metadata": {},
     "output_type": "execute_result"
    }
   ],
   "source": [
    "obj[0]"
   ]
  },
  {
   "cell_type": "markdown",
   "metadata": {},
   "source": [
    "- Often it will be more desirable to create a series with a custom index. \n",
    "- Here the index is manually set the index from 1 to 4, with 4 repeated. Note there are two rows with the same index 4."
   ]
  },
  {
   "cell_type": "code",
   "execution_count": 9,
   "metadata": {
    "collapsed": false
   },
   "outputs": [
    {
     "data": {
      "text/plain": [
       "1    a\n",
       "2    b\n",
       "3    c\n",
       "4    d\n",
       "4    e\n",
       "dtype: object"
      ]
     },
     "execution_count": 9,
     "metadata": {},
     "output_type": "execute_result"
    }
   ],
   "source": [
    "obj2 = pd.Series(['a', 'b', 'c', 'd','e'], index=[1, 2, 3, 4, 4])\n",
    "obj2"
   ]
  },
  {
   "cell_type": "markdown",
   "metadata": {},
   "source": [
    "- Calling that entry gives both values.  In this way a series is different from a dictionary."
   ]
  },
  {
   "cell_type": "code",
   "execution_count": 10,
   "metadata": {
    "collapsed": false
   },
   "outputs": [
    {
     "data": {
      "text/plain": [
       "Int64Index([1, 2, 3, 4, 4], dtype='int64')"
      ]
     },
     "execution_count": 10,
     "metadata": {},
     "output_type": "execute_result"
    }
   ],
   "source": [
    "obj2.index #custom index"
   ]
  },
  {
   "cell_type": "code",
   "execution_count": 11,
   "metadata": {
    "collapsed": false
   },
   "outputs": [
    {
     "data": {
      "text/plain": [
       "4    d\n",
       "4    e\n",
       "dtype: object"
      ]
     },
     "execution_count": 11,
     "metadata": {},
     "output_type": "execute_result"
    }
   ],
   "source": [
    "obj2[4]"
   ]
  },
  {
   "cell_type": "code",
   "execution_count": 6,
   "metadata": {
    "collapsed": false
   },
   "outputs": [
    {
     "data": {
      "text/plain": [
       "0    a\n",
       "1    b\n",
       "2    a\n",
       "dtype: category\n",
       "Categories (2, object): [a, b]"
      ]
     },
     "execution_count": 6,
     "metadata": {},
     "output_type": "execute_result"
    }
   ],
   "source": [
    "\n",
    "U = pd.Series(['a', 'b', 'a'], dtype='category')\n",
    "X = range(10)\n",
    "X= pd.Categorical(X)\n",
    "W = U.cat\n",
    "W = pd.Categorical(1)\n",
    "U.infer_objects()"
   ]
  },
  {
   "cell_type": "markdown",
   "metadata": {},
   "source": [
    "- The index value may also be a string.  A new entry with a string index is written:"
   ]
  },
  {
   "cell_type": "code",
   "execution_count": 15,
   "metadata": {
    "collapsed": false
   },
   "outputs": [
    {
     "name": "stdout",
     "output_type": "stream",
     "text": [
      "1              a\n",
      "2              b\n",
      "3              c\n",
      "4              d\n",
      "4              e\n",
      "something    660\n",
      "dtype: object\n"
     ]
    }
   ],
   "source": [
    "obj2['something']=660\n",
    "obj3 = obj2.copy()\n",
    "obj3['something'] = 1000\n",
    "print(obj2)"
   ]
  },
  {
   "cell_type": "markdown",
   "metadata": {},
   "source": [
    "- Note the entries are not retrievable by their place but the value of their index."
   ]
  },
  {
   "cell_type": "code",
   "execution_count": 16,
   "metadata": {
    "collapsed": false
   },
   "outputs": [
    {
     "name": "stdout",
     "output_type": "stream",
     "text": [
      "b\n",
      "660\n"
     ]
    },
    {
     "ename": "IndexError",
     "evalue": "index out of bounds",
     "output_type": "error",
     "traceback": [
      "\u001b[0;31m---------------------------------------------------------------------------\u001b[0m",
      "\u001b[0;31mKeyError\u001b[0m                                  Traceback (most recent call last)",
      "\u001b[0;32m//anaconda/lib/python3.5/site-packages/pandas/core/indexes/base.py\u001b[0m in \u001b[0;36mget_value\u001b[0;34m(self, series, key)\u001b[0m\n\u001b[1;32m   2559\u001b[0m             return self._engine.get_value(s, k,\n\u001b[0;32m-> 2560\u001b[0;31m                                           tz=getattr(series.dtype, 'tz', None))\n\u001b[0m\u001b[1;32m   2561\u001b[0m         \u001b[0;32mexcept\u001b[0m \u001b[0mKeyError\u001b[0m \u001b[0;32mas\u001b[0m \u001b[0me1\u001b[0m\u001b[0;34m:\u001b[0m\u001b[0;34m\u001b[0m\u001b[0m\n",
      "\u001b[0;32mpandas/_libs/index.pyx\u001b[0m in \u001b[0;36mpandas._libs.index.IndexEngine.get_value\u001b[0;34m()\u001b[0m\n",
      "\u001b[0;32mpandas/_libs/index.pyx\u001b[0m in \u001b[0;36mpandas._libs.index.IndexEngine.get_value\u001b[0;34m()\u001b[0m\n",
      "\u001b[0;32mpandas/_libs/index.pyx\u001b[0m in \u001b[0;36mpandas._libs.index.IndexEngine.get_loc\u001b[0;34m()\u001b[0m\n",
      "\u001b[0;32mpandas/_libs/index.pyx\u001b[0m in \u001b[0;36mpandas._libs.index.IndexEngine._get_loc_duplicates\u001b[0;34m()\u001b[0m\n",
      "\u001b[0;32mpandas/_libs/index.pyx\u001b[0m in \u001b[0;36mpandas._libs.index.IndexEngine._maybe_get_bool_indexer\u001b[0;34m()\u001b[0m\n",
      "\u001b[0;31mKeyError\u001b[0m: 6",
      "\nDuring handling of the above exception, another exception occurred:\n",
      "\u001b[0;31mIndexError\u001b[0m                                Traceback (most recent call last)",
      "\u001b[0;32m<ipython-input-16-1b6ff8bf875f>\u001b[0m in \u001b[0;36m<module>\u001b[0;34m()\u001b[0m\n\u001b[1;32m      1\u001b[0m \u001b[0mprint\u001b[0m\u001b[0;34m(\u001b[0m\u001b[0mobj\u001b[0m\u001b[0;34m[\u001b[0m\u001b[0;36m1\u001b[0m\u001b[0;34m]\u001b[0m\u001b[0;34m)\u001b[0m\u001b[0;34m\u001b[0m\u001b[0m\n\u001b[1;32m      2\u001b[0m \u001b[0mprint\u001b[0m\u001b[0;34m(\u001b[0m\u001b[0mobj2\u001b[0m\u001b[0;34m[\u001b[0m\u001b[0;36m5\u001b[0m\u001b[0;34m]\u001b[0m\u001b[0;34m)\u001b[0m \u001b[0;31m# This one also works\u001b[0m\u001b[0;34m\u001b[0m\u001b[0m\n\u001b[0;32m----> 3\u001b[0;31m \u001b[0mprint\u001b[0m\u001b[0;34m(\u001b[0m\u001b[0mobj2\u001b[0m\u001b[0;34m[\u001b[0m\u001b[0;36m6\u001b[0m\u001b[0;34m]\u001b[0m\u001b[0;34m)\u001b[0m \u001b[0;31m# KeyError\u001b[0m\u001b[0;34m\u001b[0m\u001b[0m\n\u001b[0m",
      "\u001b[0;32m//anaconda/lib/python3.5/site-packages/pandas/core/series.py\u001b[0m in \u001b[0;36m__getitem__\u001b[0;34m(self, key)\u001b[0m\n\u001b[1;32m    621\u001b[0m         \u001b[0mkey\u001b[0m \u001b[0;34m=\u001b[0m \u001b[0mcom\u001b[0m\u001b[0;34m.\u001b[0m\u001b[0m_apply_if_callable\u001b[0m\u001b[0;34m(\u001b[0m\u001b[0mkey\u001b[0m\u001b[0;34m,\u001b[0m \u001b[0mself\u001b[0m\u001b[0;34m)\u001b[0m\u001b[0;34m\u001b[0m\u001b[0m\n\u001b[1;32m    622\u001b[0m         \u001b[0;32mtry\u001b[0m\u001b[0;34m:\u001b[0m\u001b[0;34m\u001b[0m\u001b[0m\n\u001b[0;32m--> 623\u001b[0;31m             \u001b[0mresult\u001b[0m \u001b[0;34m=\u001b[0m \u001b[0mself\u001b[0m\u001b[0;34m.\u001b[0m\u001b[0mindex\u001b[0m\u001b[0;34m.\u001b[0m\u001b[0mget_value\u001b[0m\u001b[0;34m(\u001b[0m\u001b[0mself\u001b[0m\u001b[0;34m,\u001b[0m \u001b[0mkey\u001b[0m\u001b[0;34m)\u001b[0m\u001b[0;34m\u001b[0m\u001b[0m\n\u001b[0m\u001b[1;32m    624\u001b[0m \u001b[0;34m\u001b[0m\u001b[0m\n\u001b[1;32m    625\u001b[0m             \u001b[0;32mif\u001b[0m \u001b[0;32mnot\u001b[0m \u001b[0mis_scalar\u001b[0m\u001b[0;34m(\u001b[0m\u001b[0mresult\u001b[0m\u001b[0;34m)\u001b[0m\u001b[0;34m:\u001b[0m\u001b[0;34m\u001b[0m\u001b[0m\n",
      "\u001b[0;32m//anaconda/lib/python3.5/site-packages/pandas/core/indexes/base.py\u001b[0m in \u001b[0;36mget_value\u001b[0;34m(self, series, key)\u001b[0m\n\u001b[1;32m   2564\u001b[0m \u001b[0;34m\u001b[0m\u001b[0m\n\u001b[1;32m   2565\u001b[0m             \u001b[0;32mtry\u001b[0m\u001b[0;34m:\u001b[0m\u001b[0;34m\u001b[0m\u001b[0m\n\u001b[0;32m-> 2566\u001b[0;31m                 \u001b[0;32mreturn\u001b[0m \u001b[0mlibts\u001b[0m\u001b[0;34m.\u001b[0m\u001b[0mget_value_box\u001b[0m\u001b[0;34m(\u001b[0m\u001b[0ms\u001b[0m\u001b[0;34m,\u001b[0m \u001b[0mkey\u001b[0m\u001b[0;34m)\u001b[0m\u001b[0;34m\u001b[0m\u001b[0m\n\u001b[0m\u001b[1;32m   2567\u001b[0m             \u001b[0;32mexcept\u001b[0m \u001b[0mIndexError\u001b[0m\u001b[0;34m:\u001b[0m\u001b[0;34m\u001b[0m\u001b[0m\n\u001b[1;32m   2568\u001b[0m                 \u001b[0;32mraise\u001b[0m\u001b[0;34m\u001b[0m\u001b[0m\n",
      "\u001b[0;32mpandas/_libs/tslib.pyx\u001b[0m in \u001b[0;36mpandas._libs.tslib.get_value_box\u001b[0;34m()\u001b[0m\n",
      "\u001b[0;32mpandas/_libs/tslib.pyx\u001b[0m in \u001b[0;36mpandas._libs.tslib.get_value_box\u001b[0;34m()\u001b[0m\n",
      "\u001b[0;31mIndexError\u001b[0m: index out of bounds"
     ]
    }
   ],
   "source": [
    "print(obj[1])\n",
    "print(obj2[5]) # This one also works\n",
    "print(obj2[6]) # KeyError"
   ]
  },
  {
   "cell_type": "markdown",
   "metadata": {},
   "source": [
    "- The attribute `values` returns all the values.\n",
    "- Under the hood, the so-called \"attribute\" **values** is in fact a python **property**."
   ]
  },
  {
   "cell_type": "code",
   "execution_count": 19,
   "metadata": {
    "collapsed": false
   },
   "outputs": [],
   "source": [
    "obj2.values?"
   ]
  },
  {
   "cell_type": "code",
   "execution_count": 11,
   "metadata": {
    "collapsed": false
   },
   "outputs": [
    {
     "data": {
      "text/plain": [
       "'b'"
      ]
     },
     "execution_count": 11,
     "metadata": {},
     "output_type": "execute_result"
    }
   ],
   "source": [
    "obj2.values[1]   # obj.values is simply an array "
   ]
  },
  {
   "cell_type": "markdown",
   "metadata": {},
   "source": [
    "- The **Series** object is similar to a **dictionary**, `Series.index` is like `dictionary.keys`, and `Series.values` is like `dictionary.values`. Directly convert a dictionary to a Series, as follows:"
   ]
  },
  {
   "cell_type": "code",
   "execution_count": 86,
   "metadata": {
    "collapsed": false
   },
   "outputs": [
    {
     "data": {
      "text/plain": [
       "1    a\n",
       "2    b\n",
       "3    c\n",
       "4    d\n",
       "dtype: object"
      ]
     },
     "execution_count": 86,
     "metadata": {},
     "output_type": "execute_result"
    }
   ],
   "source": [
    "dict_ = {1: 'a', 2: 'b', 3: 'c', 4: 'd'}\n",
    "obj3 = pd.Series(dict_)\n",
    "obj3"
   ]
  },
  {
   "cell_type": "markdown",
   "metadata": {},
   "source": [
    "Convert a Series back to a dictionary."
   ]
  },
  {
   "cell_type": "code",
   "execution_count": 13,
   "metadata": {
    "collapsed": false
   },
   "outputs": [
    {
     "data": {
      "text/plain": [
       "{1: 'a', 2: 'b', 3: 'c', 4: 'd'}"
      ]
     },
     "execution_count": 13,
     "metadata": {},
     "output_type": "execute_result"
    }
   ],
   "source": [
    "obj3.to_dict()"
   ]
  },
  {
   "cell_type": "markdown",
   "metadata": {},
   "source": [
    "Note what happens in translating a series with repeated index values.  Only the last entry for the repeated index is included in the dictionary."
   ]
  },
  {
   "cell_type": "code",
   "execution_count": 14,
   "metadata": {
    "collapsed": false
   },
   "outputs": [
    {
     "data": {
      "text/plain": [
       "{'something': 660, 1: 'a', 2: 'b', 3: 'c', 4: 'e'}"
      ]
     },
     "execution_count": 14,
     "metadata": {},
     "output_type": "execute_result"
    }
   ],
   "source": [
    "obj2.to_dict()"
   ]
  },
  {
   "cell_type": "markdown",
   "metadata": {},
   "source": [
    "<p><a name=\"DF\"></a></p>\n",
    "## DataFrame\n",
    "\n",
    "- A data frame represents a tabular, spreadsheet-like data structure containing an ordered collection of columns.\n",
    "- Each column can be a different type (integers, strings, floating point numbers, Python objects, etc.).  \n",
    "- All columns must be the same length, to give the data frame a defined shape."
   ]
  },
  {
   "cell_type": "code",
   "execution_count": 21,
   "metadata": {
    "collapsed": false
   },
   "outputs": [
    {
     "data": {
      "text/plain": [
       "<pandas.core.categorical.CategoricalAccessor object at 0x10b431da0>"
      ]
     },
     "execution_count": 21,
     "metadata": {},
     "output_type": "execute_result"
    }
   ],
   "source": [
    "data = {'commodity': ['Gold', 'Gold', 'Silver', 'Silver'],\n",
    "        'year': [2013, 2014, 2014, 2015],\n",
    "        'production_Moz': [107.6, 109.7, 868.3, 886.7]} #world wide in million oz\n",
    "\n",
    "# convert to DataFrame\n",
    "df = pd.DataFrame(data, dtype=str)\n",
    "df = df.astype({'commodity':'category', 'year':int, 'production_Moz':float})\n",
    "#pd.to_numeric(df['commodity'], errors='coerse')\n",
    "#df.infer_objects().dtypes\n",
    "df['commodity'].cat"
   ]
  },
  {
   "cell_type": "code",
   "execution_count": 40,
   "metadata": {
    "collapsed": false
   },
   "outputs": [
    {
     "data": {
      "text/plain": [
       "(4,)"
      ]
     },
     "execution_count": 40,
     "metadata": {},
     "output_type": "execute_result"
    }
   ],
   "source": [
    "df.columns \n",
    "np.shape(np.zeros(4))"
   ]
  },
  {
   "cell_type": "code",
   "execution_count": 98,
   "metadata": {
    "collapsed": false
   },
   "outputs": [
    {
     "data": {
      "text/plain": [
       "RangeIndex(start=0, stop=4, step=1)"
      ]
     },
     "execution_count": 98,
     "metadata": {},
     "output_type": "execute_result"
    }
   ],
   "source": [
    "df.index #standard index"
   ]
  },
  {
   "cell_type": "code",
   "execution_count": 99,
   "metadata": {
    "collapsed": false
   },
   "outputs": [
    {
     "data": {
      "text/html": [
       "<div>\n",
       "<style>\n",
       "    .dataframe thead tr:only-child th {\n",
       "        text-align: right;\n",
       "    }\n",
       "\n",
       "    .dataframe thead th {\n",
       "        text-align: left;\n",
       "    }\n",
       "\n",
       "    .dataframe tbody tr th {\n",
       "        vertical-align: top;\n",
       "    }\n",
       "</style>\n",
       "<table border=\"1\" class=\"dataframe\">\n",
       "  <thead>\n",
       "    <tr style=\"text-align: right;\">\n",
       "      <th></th>\n",
       "      <th>commodity</th>\n",
       "      <th>production_Moz</th>\n",
       "      <th>year</th>\n",
       "    </tr>\n",
       "  </thead>\n",
       "  <tbody>\n",
       "    <tr>\n",
       "      <th>4</th>\n",
       "      <td>Gold</td>\n",
       "      <td>107.6</td>\n",
       "      <td>2013</td>\n",
       "    </tr>\n",
       "    <tr>\n",
       "      <th>5</th>\n",
       "      <td>Gold</td>\n",
       "      <td>109.7</td>\n",
       "      <td>2014</td>\n",
       "    </tr>\n",
       "    <tr>\n",
       "      <th>6</th>\n",
       "      <td>Silver</td>\n",
       "      <td>868.3</td>\n",
       "      <td>2014</td>\n",
       "    </tr>\n",
       "    <tr>\n",
       "      <th>7</th>\n",
       "      <td>Silver</td>\n",
       "      <td>886.7</td>\n",
       "      <td>2015</td>\n",
       "    </tr>\n",
       "  </tbody>\n",
       "</table>\n",
       "</div>"
      ],
      "text/plain": [
       "  commodity  production_Moz  year\n",
       "4      Gold           107.6  2013\n",
       "5      Gold           109.7  2014\n",
       "6    Silver           868.3  2014\n",
       "7    Silver           886.7  2015"
      ]
     },
     "execution_count": 99,
     "metadata": {},
     "output_type": "execute_result"
    }
   ],
   "source": [
    "df.index=([4,5,6,7])\n",
    "df"
   ]
  },
  {
   "cell_type": "code",
   "execution_count": 100,
   "metadata": {
    "collapsed": false
   },
   "outputs": [
    {
     "data": {
      "text/plain": [
       "Int64Index([4, 5, 6, 7], dtype='int64')"
      ]
     },
     "execution_count": 100,
     "metadata": {},
     "output_type": "execute_result"
    }
   ],
   "source": [
    "df.index #custom integer index"
   ]
  },
  {
   "cell_type": "markdown",
   "metadata": {},
   "source": [
    "- The index may be set using the method `set_index`, as follows:"
   ]
  },
  {
   "cell_type": "code",
   "execution_count": 20,
   "metadata": {
    "collapsed": false
   },
   "outputs": [
    {
     "data": {
      "text/html": [
       "<div>\n",
       "<style>\n",
       "    .dataframe thead tr:only-child th {\n",
       "        text-align: right;\n",
       "    }\n",
       "\n",
       "    .dataframe thead th {\n",
       "        text-align: left;\n",
       "    }\n",
       "\n",
       "    .dataframe tbody tr th {\n",
       "        vertical-align: top;\n",
       "    }\n",
       "</style>\n",
       "<table border=\"1\" class=\"dataframe\">\n",
       "  <thead>\n",
       "    <tr style=\"text-align: right;\">\n",
       "      <th></th>\n",
       "      <th>production_Moz</th>\n",
       "      <th>year</th>\n",
       "    </tr>\n",
       "    <tr>\n",
       "      <th>commodity</th>\n",
       "      <th></th>\n",
       "      <th></th>\n",
       "    </tr>\n",
       "  </thead>\n",
       "  <tbody>\n",
       "    <tr>\n",
       "      <th>Gold</th>\n",
       "      <td>107.6</td>\n",
       "      <td>2013</td>\n",
       "    </tr>\n",
       "    <tr>\n",
       "      <th>Gold</th>\n",
       "      <td>109.7</td>\n",
       "      <td>2014</td>\n",
       "    </tr>\n",
       "    <tr>\n",
       "      <th>Silver</th>\n",
       "      <td>868.3</td>\n",
       "      <td>2014</td>\n",
       "    </tr>\n",
       "    <tr>\n",
       "      <th>Silver</th>\n",
       "      <td>886.7</td>\n",
       "      <td>2015</td>\n",
       "    </tr>\n",
       "  </tbody>\n",
       "</table>\n",
       "</div>"
      ],
      "text/plain": [
       "           production_Moz  year\n",
       "commodity                      \n",
       "Gold                107.6  2013\n",
       "Gold                109.7  2014\n",
       "Silver              868.3  2014\n",
       "Silver              886.7  2015"
      ]
     },
     "execution_count": 20,
     "metadata": {},
     "output_type": "execute_result"
    }
   ],
   "source": [
    "df=df.set_index('commodity')\n",
    "df"
   ]
  },
  {
   "cell_type": "code",
   "execution_count": 21,
   "metadata": {
    "collapsed": false
   },
   "outputs": [
    {
     "data": {
      "text/plain": [
       "Index(['Gold', 'Gold', 'Silver', 'Silver'], dtype='object', name='commodity')"
      ]
     },
     "execution_count": 21,
     "metadata": {},
     "output_type": "execute_result"
    }
   ],
   "source": [
    "df.index #custom string index"
   ]
  },
  {
   "cell_type": "code",
   "execution_count": 22,
   "metadata": {
    "collapsed": false
   },
   "outputs": [
    {
     "data": {
      "text/plain": [
       "Float64Index([107.6, 109.7, 868.3, 886.7], dtype='float64', name='production_Moz')"
      ]
     },
     "execution_count": 22,
     "metadata": {},
     "output_type": "execute_result"
    }
   ],
   "source": [
    "#floats can also be an index\n",
    "df.set_index('production_Moz').index "
   ]
  },
  {
   "cell_type": "code",
   "execution_count": 23,
   "metadata": {
    "collapsed": false
   },
   "outputs": [
    {
     "data": {
      "text/html": [
       "<div>\n",
       "<style>\n",
       "    .dataframe thead tr:only-child th {\n",
       "        text-align: right;\n",
       "    }\n",
       "\n",
       "    .dataframe thead th {\n",
       "        text-align: left;\n",
       "    }\n",
       "\n",
       "    .dataframe tbody tr th {\n",
       "        vertical-align: top;\n",
       "    }\n",
       "</style>\n",
       "<table border=\"1\" class=\"dataframe\">\n",
       "  <thead>\n",
       "    <tr style=\"text-align: right;\">\n",
       "      <th></th>\n",
       "      <th>production_Moz</th>\n",
       "      <th>year</th>\n",
       "    </tr>\n",
       "    <tr>\n",
       "      <th>commodity</th>\n",
       "      <th></th>\n",
       "      <th></th>\n",
       "    </tr>\n",
       "  </thead>\n",
       "  <tbody>\n",
       "    <tr>\n",
       "      <th>Gold</th>\n",
       "      <td>107.6</td>\n",
       "      <td>2013</td>\n",
       "    </tr>\n",
       "    <tr>\n",
       "      <th>Gold</th>\n",
       "      <td>109.7</td>\n",
       "      <td>2014</td>\n",
       "    </tr>\n",
       "    <tr>\n",
       "      <th>Silver</th>\n",
       "      <td>868.3</td>\n",
       "      <td>2014</td>\n",
       "    </tr>\n",
       "    <tr>\n",
       "      <th>Silver</th>\n",
       "      <td>886.7</td>\n",
       "      <td>2015</td>\n",
       "    </tr>\n",
       "  </tbody>\n",
       "</table>\n",
       "</div>"
      ],
      "text/plain": [
       "           production_Moz  year\n",
       "commodity                      \n",
       "Gold                107.6  2013\n",
       "Gold                109.7  2014\n",
       "Silver              868.3  2014\n",
       "Silver              886.7  2015"
      ]
     },
     "execution_count": 23,
     "metadata": {},
     "output_type": "execute_result"
    }
   ],
   "source": [
    "df"
   ]
  },
  {
   "cell_type": "code",
   "execution_count": 24,
   "metadata": {
    "collapsed": false
   },
   "outputs": [
    {
     "data": {
      "text/plain": [
       "commodity\n",
       "Gold      2013\n",
       "Gold      2014\n",
       "Silver    2014\n",
       "Silver    2015\n",
       "Name: year, dtype: int64"
      ]
     },
     "execution_count": 24,
     "metadata": {},
     "output_type": "execute_result"
    }
   ],
   "source": [
    "df['year'] #this yields a pandas series"
   ]
  },
  {
   "cell_type": "code",
   "execution_count": 25,
   "metadata": {
    "collapsed": false
   },
   "outputs": [
    {
     "data": {
      "text/html": [
       "<div>\n",
       "<style>\n",
       "    .dataframe thead tr:only-child th {\n",
       "        text-align: right;\n",
       "    }\n",
       "\n",
       "    .dataframe thead th {\n",
       "        text-align: left;\n",
       "    }\n",
       "\n",
       "    .dataframe tbody tr th {\n",
       "        vertical-align: top;\n",
       "    }\n",
       "</style>\n",
       "<table border=\"1\" class=\"dataframe\">\n",
       "  <thead>\n",
       "    <tr style=\"text-align: right;\">\n",
       "      <th></th>\n",
       "      <th>year</th>\n",
       "    </tr>\n",
       "    <tr>\n",
       "      <th>commodity</th>\n",
       "      <th></th>\n",
       "    </tr>\n",
       "  </thead>\n",
       "  <tbody>\n",
       "    <tr>\n",
       "      <th>Gold</th>\n",
       "      <td>2013</td>\n",
       "    </tr>\n",
       "    <tr>\n",
       "      <th>Gold</th>\n",
       "      <td>2014</td>\n",
       "    </tr>\n",
       "    <tr>\n",
       "      <th>Silver</th>\n",
       "      <td>2014</td>\n",
       "    </tr>\n",
       "    <tr>\n",
       "      <th>Silver</th>\n",
       "      <td>2015</td>\n",
       "    </tr>\n",
       "  </tbody>\n",
       "</table>\n",
       "</div>"
      ],
      "text/plain": [
       "           year\n",
       "commodity      \n",
       "Gold       2013\n",
       "Gold       2014\n",
       "Silver     2014\n",
       "Silver     2015"
      ]
     },
     "execution_count": 25,
     "metadata": {},
     "output_type": "execute_result"
    }
   ],
   "source": [
    "df[['year']] #this yields a pandas data frame"
   ]
  },
  {
   "cell_type": "markdown",
   "metadata": {},
   "source": [
    "- The dataframe can restore the original index using the mathod `reset_index`, as follows:"
   ]
  },
  {
   "cell_type": "code",
   "execution_count": 26,
   "metadata": {
    "collapsed": false
   },
   "outputs": [
    {
     "data": {
      "text/html": [
       "<div>\n",
       "<style>\n",
       "    .dataframe thead tr:only-child th {\n",
       "        text-align: right;\n",
       "    }\n",
       "\n",
       "    .dataframe thead th {\n",
       "        text-align: left;\n",
       "    }\n",
       "\n",
       "    .dataframe tbody tr th {\n",
       "        vertical-align: top;\n",
       "    }\n",
       "</style>\n",
       "<table border=\"1\" class=\"dataframe\">\n",
       "  <thead>\n",
       "    <tr style=\"text-align: right;\">\n",
       "      <th></th>\n",
       "      <th>commodity</th>\n",
       "      <th>production_Moz</th>\n",
       "      <th>year</th>\n",
       "    </tr>\n",
       "  </thead>\n",
       "  <tbody>\n",
       "    <tr>\n",
       "      <th>0</th>\n",
       "      <td>Gold</td>\n",
       "      <td>107.6</td>\n",
       "      <td>2013</td>\n",
       "    </tr>\n",
       "    <tr>\n",
       "      <th>1</th>\n",
       "      <td>Gold</td>\n",
       "      <td>109.7</td>\n",
       "      <td>2014</td>\n",
       "    </tr>\n",
       "    <tr>\n",
       "      <th>2</th>\n",
       "      <td>Silver</td>\n",
       "      <td>868.3</td>\n",
       "      <td>2014</td>\n",
       "    </tr>\n",
       "    <tr>\n",
       "      <th>3</th>\n",
       "      <td>Silver</td>\n",
       "      <td>886.7</td>\n",
       "      <td>2015</td>\n",
       "    </tr>\n",
       "  </tbody>\n",
       "</table>\n",
       "</div>"
      ],
      "text/plain": [
       "  commodity  production_Moz  year\n",
       "0      Gold           107.6  2013\n",
       "1      Gold           109.7  2014\n",
       "2    Silver           868.3  2014\n",
       "3    Silver           886.7  2015"
      ]
     },
     "execution_count": 26,
     "metadata": {},
     "output_type": "execute_result"
    }
   ],
   "source": [
    "df = df.reset_index()\n",
    "df"
   ]
  },
  {
   "cell_type": "markdown",
   "metadata": {},
   "source": [
    "- A data frame can also be created with a nested list. The two ways are equivalent."
   ]
  },
  {
   "cell_type": "code",
   "execution_count": 27,
   "metadata": {
    "collapsed": false
   },
   "outputs": [
    {
     "data": {
      "text/html": [
       "<div>\n",
       "<style>\n",
       "    .dataframe thead tr:only-child th {\n",
       "        text-align: right;\n",
       "    }\n",
       "\n",
       "    .dataframe thead th {\n",
       "        text-align: left;\n",
       "    }\n",
       "\n",
       "    .dataframe tbody tr th {\n",
       "        vertical-align: top;\n",
       "    }\n",
       "</style>\n",
       "<table border=\"1\" class=\"dataframe\">\n",
       "  <thead>\n",
       "    <tr style=\"text-align: right;\">\n",
       "      <th></th>\n",
       "      <th>production_Moz</th>\n",
       "      <th>commodity</th>\n",
       "      <th>year</th>\n",
       "    </tr>\n",
       "  </thead>\n",
       "  <tbody>\n",
       "    <tr>\n",
       "      <th>0</th>\n",
       "      <td>107.6</td>\n",
       "      <td>Gold</td>\n",
       "      <td>2013</td>\n",
       "    </tr>\n",
       "    <tr>\n",
       "      <th>1</th>\n",
       "      <td>109.7</td>\n",
       "      <td>Gold</td>\n",
       "      <td>2014</td>\n",
       "    </tr>\n",
       "    <tr>\n",
       "      <th>2</th>\n",
       "      <td>868.3</td>\n",
       "      <td>Silver</td>\n",
       "      <td>2014</td>\n",
       "    </tr>\n",
       "    <tr>\n",
       "      <th>3</th>\n",
       "      <td>886.7</td>\n",
       "      <td>Silver</td>\n",
       "      <td>2015</td>\n",
       "    </tr>\n",
       "  </tbody>\n",
       "</table>\n",
       "</div>"
      ],
      "text/plain": [
       "   production_Moz commodity  year\n",
       "0           107.6      Gold  2013\n",
       "1           109.7      Gold  2014\n",
       "2           868.3    Silver  2014\n",
       "3           886.7    Silver  2015"
      ]
     },
     "execution_count": 27,
     "metadata": {},
     "output_type": "execute_result"
    }
   ],
   "source": [
    "df_2 = pd.DataFrame([[107.6, 'Gold', 2013],\n",
    "                   [109.7, 'Gold', 2014],\n",
    "                   [868.3, 'Silver', 2014],\n",
    "                   [886.7, 'Silver', 2015]], \n",
    "                    columns=['production_Moz','commodity','year'])\n",
    "df_2"
   ]
  },
  {
   "cell_type": "markdown",
   "metadata": {},
   "source": [
    "- A data frame has an attribute **values** (more accurately, a **property**), which is of the multidimensional array type."
   ]
  },
  {
   "cell_type": "code",
   "execution_count": 27,
   "metadata": {
    "collapsed": false
   },
   "outputs": [
    {
     "name": "stdout",
     "output_type": "stream",
     "text": [
      "<class 'numpy.ndarray'>\n"
     ]
    },
    {
     "data": {
      "text/plain": [
       "109.7"
      ]
     },
     "execution_count": 27,
     "metadata": {},
     "output_type": "execute_result"
    }
   ],
   "source": [
    "print(type(df.values))\n",
    "dir(df)\n",
    "df.values[1,1] = 1\n",
    "df.values[1,1]"
   ]
  },
  {
   "cell_type": "code",
   "execution_count": 42,
   "metadata": {
    "collapsed": false
   },
   "outputs": [
    {
     "name": "stdout",
     "output_type": "stream",
     "text": [
      "[['Gold' 107.6 2013]\n",
      " ['Gold' 109.7 2014]\n",
      " ['Silver' 868.3 2014]\n",
      " ['Silver' 886.7 2015]]\n",
      "-------------------------------------------------------\n"
     ]
    },
    {
     "ename": "NameError",
     "evalue": "name 'df_2' is not defined",
     "output_type": "error",
     "traceback": [
      "\u001b[0;31m---------------------------------------------------------------------------\u001b[0m",
      "\u001b[0;31mNameError\u001b[0m                                 Traceback (most recent call last)",
      "\u001b[0;32m<ipython-input-42-3e31b4eadaf6>\u001b[0m in \u001b[0;36m<module>\u001b[0;34m()\u001b[0m\n\u001b[1;32m      1\u001b[0m \u001b[0mprint\u001b[0m\u001b[0;34m(\u001b[0m\u001b[0mdf\u001b[0m\u001b[0;34m.\u001b[0m\u001b[0mvalues\u001b[0m\u001b[0;34m)\u001b[0m\u001b[0;34m\u001b[0m\u001b[0m\n\u001b[1;32m      2\u001b[0m \u001b[0mprint\u001b[0m\u001b[0;34m(\u001b[0m\u001b[0;34m'-'\u001b[0m\u001b[0;34m*\u001b[0m\u001b[0;36m55\u001b[0m\u001b[0;34m)\u001b[0m\u001b[0;34m\u001b[0m\u001b[0m\n\u001b[0;32m----> 3\u001b[0;31m \u001b[0mprint\u001b[0m\u001b[0;34m(\u001b[0m\u001b[0mdf_2\u001b[0m\u001b[0;34m.\u001b[0m\u001b[0mvalues\u001b[0m\u001b[0;34m)\u001b[0m\u001b[0;34m\u001b[0m\u001b[0m\n\u001b[0m",
      "\u001b[0;31mNameError\u001b[0m: name 'df_2' is not defined"
     ]
    }
   ],
   "source": [
    "print(df.values)\n",
    "print('-'*55)\n",
    "print(df_2.values)"
   ]
  },
  {
   "cell_type": "markdown",
   "metadata": {},
   "source": [
    "- data frame v.s. series is similar to 2D array v.s. 1D array. A data frame has column names for the additional dimension."
   ]
  },
  {
   "cell_type": "code",
   "execution_count": 30,
   "metadata": {
    "collapsed": false
   },
   "outputs": [
    {
     "name": "stdout",
     "output_type": "stream",
     "text": [
      "<class 'pandas.core.indexes.base.Index'>\n"
     ]
    }
   ],
   "source": [
    "print(type(df.columns))"
   ]
  },
  {
   "cell_type": "code",
   "execution_count": 31,
   "metadata": {
    "collapsed": false
   },
   "outputs": [
    {
     "name": "stdout",
     "output_type": "stream",
     "text": [
      "Index(['commodity', 'production_Moz', 'year'], dtype='object')\n"
     ]
    }
   ],
   "source": [
    "print(df.columns)  # column name"
   ]
  },
  {
   "cell_type": "code",
   "execution_count": 23,
   "metadata": {
    "collapsed": false
   },
   "outputs": [
    {
     "data": {
      "text/plain": [
       "['commodity', 'production_Moz', 'year']"
      ]
     },
     "execution_count": 23,
     "metadata": {},
     "output_type": "execute_result"
    }
   ],
   "source": [
    "df.columns.tolist()\n",
    "#list(df.columns)"
   ]
  },
  {
   "cell_type": "markdown",
   "metadata": {},
   "source": [
    "- Each column in a DataFrame can be retrieved as a Series. \n",
    "- There are two ways to get the column: to retrieve by attribute and to retrieve by dictionary-like notation."
   ]
  },
  {
   "cell_type": "code",
   "execution_count": 33,
   "metadata": {
    "collapsed": false
   },
   "outputs": [
    {
     "data": {
      "text/plain": [
       "0    2013\n",
       "1    2014\n",
       "2    2014\n",
       "3    2015\n",
       "Name: year, dtype: int64"
      ]
     },
     "execution_count": 33,
     "metadata": {},
     "output_type": "execute_result"
    }
   ],
   "source": [
    "df.year         # retrieve by attribute"
   ]
  },
  {
   "cell_type": "code",
   "execution_count": 34,
   "metadata": {
    "collapsed": false
   },
   "outputs": [
    {
     "data": {
      "text/plain": [
       "0    2013\n",
       "1    2014\n",
       "2    2014\n",
       "3    2015\n",
       "Name: year, dtype: int64"
      ]
     },
     "execution_count": 34,
     "metadata": {},
     "output_type": "execute_result"
    }
   ],
   "source": [
    "df['year']  # retrieve by dictionary-like notation"
   ]
  },
  {
   "cell_type": "markdown",
   "metadata": {},
   "source": [
    "- The name of an individual column may be changed as follows:"
   ]
  },
  {
   "cell_type": "code",
   "execution_count": 35,
   "metadata": {
    "collapsed": false
   },
   "outputs": [
    {
     "data": {
      "text/html": [
       "<div>\n",
       "<style>\n",
       "    .dataframe thead tr:only-child th {\n",
       "        text-align: right;\n",
       "    }\n",
       "\n",
       "    .dataframe thead th {\n",
       "        text-align: left;\n",
       "    }\n",
       "\n",
       "    .dataframe tbody tr th {\n",
       "        vertical-align: top;\n",
       "    }\n",
       "</style>\n",
       "<table border=\"1\" class=\"dataframe\">\n",
       "  <thead>\n",
       "    <tr style=\"text-align: right;\">\n",
       "      <th></th>\n",
       "      <th>commodity</th>\n",
       "      <th>com</th>\n",
       "      <th>production</th>\n",
       "    </tr>\n",
       "  </thead>\n",
       "  <tbody>\n",
       "    <tr>\n",
       "      <th>0</th>\n",
       "      <td>Gold</td>\n",
       "      <td>107.6</td>\n",
       "      <td>2013</td>\n",
       "    </tr>\n",
       "    <tr>\n",
       "      <th>1</th>\n",
       "      <td>Gold</td>\n",
       "      <td>109.7</td>\n",
       "      <td>2014</td>\n",
       "    </tr>\n",
       "    <tr>\n",
       "      <th>2</th>\n",
       "      <td>Silver</td>\n",
       "      <td>868.3</td>\n",
       "      <td>2014</td>\n",
       "    </tr>\n",
       "    <tr>\n",
       "      <th>3</th>\n",
       "      <td>Silver</td>\n",
       "      <td>886.7</td>\n",
       "      <td>2015</td>\n",
       "    </tr>\n",
       "  </tbody>\n",
       "</table>\n",
       "</div>"
      ],
      "text/plain": [
       "  commodity    com  production\n",
       "0      Gold  107.6        2013\n",
       "1      Gold  109.7        2014\n",
       "2    Silver  868.3        2014\n",
       "3    Silver  886.7        2015"
      ]
     },
     "execution_count": 35,
     "metadata": {},
     "output_type": "execute_result"
    }
   ],
   "source": [
    "df.columns=['commodity', 'com','production']\n",
    "df"
   ]
  },
  {
   "cell_type": "code",
   "execution_count": 45,
   "metadata": {
    "collapsed": false
   },
   "outputs": [
    {
     "data": {
      "text/html": [
       "<div>\n",
       "<style scoped>\n",
       "    .dataframe tbody tr th:only-of-type {\n",
       "        vertical-align: middle;\n",
       "    }\n",
       "\n",
       "    .dataframe tbody tr th {\n",
       "        vertical-align: top;\n",
       "    }\n",
       "\n",
       "    .dataframe thead th {\n",
       "        text-align: right;\n",
       "    }\n",
       "</style>\n",
       "<table border=\"1\" class=\"dataframe\">\n",
       "  <thead>\n",
       "    <tr style=\"text-align: right;\">\n",
       "      <th></th>\n",
       "      <th>metalmodity</th>\n",
       "      <th>production_Moz</th>\n",
       "      <th>year</th>\n",
       "    </tr>\n",
       "  </thead>\n",
       "  <tbody>\n",
       "    <tr>\n",
       "      <th>0</th>\n",
       "      <td>Gold</td>\n",
       "      <td>107.6</td>\n",
       "      <td>2013</td>\n",
       "    </tr>\n",
       "    <tr>\n",
       "      <th>1</th>\n",
       "      <td>Gold</td>\n",
       "      <td>109.7</td>\n",
       "      <td>2014</td>\n",
       "    </tr>\n",
       "    <tr>\n",
       "      <th>2</th>\n",
       "      <td>Silver</td>\n",
       "      <td>868.3</td>\n",
       "      <td>2014</td>\n",
       "    </tr>\n",
       "    <tr>\n",
       "      <th>3</th>\n",
       "      <td>Silver</td>\n",
       "      <td>886.7</td>\n",
       "      <td>2015</td>\n",
       "    </tr>\n",
       "  </tbody>\n",
       "</table>\n",
       "</div>"
      ],
      "text/plain": [
       "  metalmodity  production_Moz  year\n",
       "0        Gold           107.6  2013\n",
       "1        Gold           109.7  2014\n",
       "2      Silver           868.3  2014\n",
       "3      Silver           886.7  2015"
      ]
     },
     "execution_count": 45,
     "metadata": {},
     "output_type": "execute_result"
    }
   ],
   "source": [
    "df.columns = df.columns.str.replace('com','metal')\n",
    "df"
   ]
  },
  {
   "cell_type": "markdown",
   "metadata": {},
   "source": [
    "- Indexing a pandas data frame is similar to indexing a numpy array. In pandas the first index retrieves a column and the second index retrieves the row.  \n",
    "- To return the third element of the metal column, use the following:"
   ]
  },
  {
   "cell_type": "code",
   "execution_count": 37,
   "metadata": {
    "collapsed": false
   },
   "outputs": [
    {
     "data": {
      "text/plain": [
       "868.29999999999995"
      ]
     },
     "execution_count": 37,
     "metadata": {},
     "output_type": "execute_result"
    }
   ],
   "source": [
    "df['metal'][2]"
   ]
  },
  {
   "cell_type": "markdown",
   "metadata": {},
   "source": [
    "- Slicing a pandas data frame is also similar to slicing a numpy array.  The following code returns the second and third elements of the production column."
   ]
  },
  {
   "cell_type": "code",
   "execution_count": 38,
   "metadata": {
    "collapsed": false
   },
   "outputs": [
    {
     "data": {
      "text/plain": [
       "1    2014\n",
       "2    2014\n",
       "Name: production, dtype: int64"
      ]
     },
     "execution_count": 38,
     "metadata": {},
     "output_type": "execute_result"
    }
   ],
   "source": [
    "df['production'][1:3]"
   ]
  },
  {
   "cell_type": "markdown",
   "metadata": {},
   "source": [
    "- In order to slice multiple columns pass a list of column names.  The following represents the world production of gold and silver in 2014."
   ]
  },
  {
   "cell_type": "code",
   "execution_count": 39,
   "metadata": {
    "collapsed": false
   },
   "outputs": [
    {
     "data": {
      "text/html": [
       "<div>\n",
       "<style>\n",
       "    .dataframe thead tr:only-child th {\n",
       "        text-align: right;\n",
       "    }\n",
       "\n",
       "    .dataframe thead th {\n",
       "        text-align: left;\n",
       "    }\n",
       "\n",
       "    .dataframe tbody tr th {\n",
       "        vertical-align: top;\n",
       "    }\n",
       "</style>\n",
       "<table border=\"1\" class=\"dataframe\">\n",
       "  <thead>\n",
       "    <tr style=\"text-align: right;\">\n",
       "      <th></th>\n",
       "      <th>metal</th>\n",
       "      <th>production</th>\n",
       "    </tr>\n",
       "  </thead>\n",
       "  <tbody>\n",
       "    <tr>\n",
       "      <th>1</th>\n",
       "      <td>109.7</td>\n",
       "      <td>2014</td>\n",
       "    </tr>\n",
       "    <tr>\n",
       "      <th>2</th>\n",
       "      <td>868.3</td>\n",
       "      <td>2014</td>\n",
       "    </tr>\n",
       "  </tbody>\n",
       "</table>\n",
       "</div>"
      ],
      "text/plain": [
       "   metal  production\n",
       "1  109.7        2014\n",
       "2  868.3        2014"
      ]
     },
     "execution_count": 39,
     "metadata": {},
     "output_type": "execute_result"
    }
   ],
   "source": [
    "df[['metal','production']][1:3]"
   ]
  },
  {
   "cell_type": "markdown",
   "metadata": {},
   "source": [
    "** Exercise 1** \n",
    "\n",
    "Create a Pandas DataFrame, named 'NYC', whose columns are 'boro', 'pop' and 'area'. The frame represents the five boroughs of New York City, including the 2010 census population (in millions),and land area in square miles.  The rows represent the following:\n",
    "\n",
    "- The Bronx is 42 square miles.  In the 2010 census, the Bronx had 1.39 million people.\n",
    "- Manhattan, with 2010 population 1.59 million, has an area of 23 square miles.\n",
    "- Brooklyn is 71 square miles.  The 2010 population was 2.47 million.\n",
    "- In 2010, Staten Island had 0.44 million inhabitants.  It is 59 square miles.\n",
    "- 2.23 million people lived across the 109 square miles of Queens, in 2010.\n",
    "\n",
    "Create a new column representing the population density using:\n",
    "```\n",
    "NYC['density']=NYC['pop']/NYC['area']\n",
    "```\n",
    "\n",
    "Now set the index of NYC to be the borough names using `set_index` function of a data frame. Make sure to update the data frame."
   ]
  },
  {
   "cell_type": "code",
   "execution_count": 57,
   "metadata": {
    "collapsed": false
   },
   "outputs": [
    {
     "data": {
      "text/html": [
       "<div>\n",
       "<style scoped>\n",
       "    .dataframe tbody tr th:only-of-type {\n",
       "        vertical-align: middle;\n",
       "    }\n",
       "\n",
       "    .dataframe tbody tr th {\n",
       "        vertical-align: top;\n",
       "    }\n",
       "\n",
       "    .dataframe thead th {\n",
       "        text-align: right;\n",
       "    }\n",
       "</style>\n",
       "<table border=\"1\" class=\"dataframe\">\n",
       "  <thead>\n",
       "    <tr style=\"text-align: right;\">\n",
       "      <th></th>\n",
       "      <th>area</th>\n",
       "      <th>pop</th>\n",
       "      <th>density</th>\n",
       "    </tr>\n",
       "    <tr>\n",
       "      <th>boro</th>\n",
       "      <th></th>\n",
       "      <th></th>\n",
       "      <th></th>\n",
       "    </tr>\n",
       "  </thead>\n",
       "  <tbody>\n",
       "    <tr>\n",
       "      <th>Bronx</th>\n",
       "      <td>42</td>\n",
       "      <td>1390000.0</td>\n",
       "      <td>33095.238095</td>\n",
       "    </tr>\n",
       "    <tr>\n",
       "      <th>Manhattan</th>\n",
       "      <td>23</td>\n",
       "      <td>1590000.0</td>\n",
       "      <td>69130.434783</td>\n",
       "    </tr>\n",
       "    <tr>\n",
       "      <th>Brooklyn</th>\n",
       "      <td>71</td>\n",
       "      <td>2470000.0</td>\n",
       "      <td>34788.732394</td>\n",
       "    </tr>\n",
       "    <tr>\n",
       "      <th>Staten Island</th>\n",
       "      <td>59</td>\n",
       "      <td>440000.0</td>\n",
       "      <td>7457.627119</td>\n",
       "    </tr>\n",
       "    <tr>\n",
       "      <th>Queens</th>\n",
       "      <td>109</td>\n",
       "      <td>2230000.0</td>\n",
       "      <td>20458.715596</td>\n",
       "    </tr>\n",
       "  </tbody>\n",
       "</table>\n",
       "</div>"
      ],
      "text/plain": [
       "               area        pop       density\n",
       "boro                                        \n",
       "Bronx            42  1390000.0  33095.238095\n",
       "Manhattan        23  1590000.0  69130.434783\n",
       "Brooklyn         71  2470000.0  34788.732394\n",
       "Staten Island    59   440000.0   7457.627119\n",
       "Queens          109  2230000.0  20458.715596"
      ]
     },
     "execution_count": 57,
     "metadata": {},
     "output_type": "execute_result"
    }
   ],
   "source": [
    "#### Your code here\n",
    "boro = ['Bronx', 'Manhattan', 'Brooklyn', 'Staten Island', 'Queens']\n",
    "pop  = [1.39e6,1.59e6,2.47e6,0.44e6,2.23e6]\n",
    "area = [42, 23, 71, 59, 109]\n",
    "NYC = pd.DataFrame({'boro':boro,\n",
    "                    'pop':pop,\n",
    "                     'area':area})\n",
    "NYC['density'] = NYC['pop']/NYC['area']\n",
    "NYC = NYC.set_index('boro')\n",
    "NYC"
   ]
  },
  {
   "cell_type": "markdown",
   "metadata": {},
   "source": [
    "<p><a name=\"IO\"></a></p>\n",
    "## I/O tools\n",
    "\n",
    "- Pandas has a number of functions for reading tabular data as a data frame object."
   ]
  },
  {
   "cell_type": "code",
   "execution_count": 41,
   "metadata": {
    "collapsed": false
   },
   "outputs": [
    {
     "name": "stdout",
     "output_type": "stream",
     "text": [
      "a,b,c,d,message\r\n",
      "1,2,3,4,hello\r\n",
      "5,6,7,8,world\r\n",
      "9,10,11,12,foo\r\n"
     ]
    }
   ],
   "source": [
    "!cat foo.csv"
   ]
  },
  {
   "cell_type": "code",
   "execution_count": 42,
   "metadata": {
    "collapsed": false
   },
   "outputs": [
    {
     "name": "stdout",
     "output_type": "stream",
     "text": [
      "/bin/sh: line 0: type: foo.csv: not found\r\n"
     ]
    }
   ],
   "source": [
    "!type foo.csv # Windows user"
   ]
  },
  {
   "cell_type": "code",
   "execution_count": 43,
   "metadata": {
    "collapsed": false
   },
   "outputs": [
    {
     "data": {
      "text/html": [
       "<div>\n",
       "<style>\n",
       "    .dataframe thead tr:only-child th {\n",
       "        text-align: right;\n",
       "    }\n",
       "\n",
       "    .dataframe thead th {\n",
       "        text-align: left;\n",
       "    }\n",
       "\n",
       "    .dataframe tbody tr th {\n",
       "        vertical-align: top;\n",
       "    }\n",
       "</style>\n",
       "<table border=\"1\" class=\"dataframe\">\n",
       "  <thead>\n",
       "    <tr style=\"text-align: right;\">\n",
       "      <th></th>\n",
       "      <th>a</th>\n",
       "      <th>b</th>\n",
       "      <th>c</th>\n",
       "      <th>d</th>\n",
       "      <th>message</th>\n",
       "    </tr>\n",
       "  </thead>\n",
       "  <tbody>\n",
       "    <tr>\n",
       "      <th>0</th>\n",
       "      <td>1</td>\n",
       "      <td>2</td>\n",
       "      <td>3</td>\n",
       "      <td>4</td>\n",
       "      <td>hello</td>\n",
       "    </tr>\n",
       "    <tr>\n",
       "      <th>1</th>\n",
       "      <td>5</td>\n",
       "      <td>6</td>\n",
       "      <td>7</td>\n",
       "      <td>8</td>\n",
       "      <td>world</td>\n",
       "    </tr>\n",
       "    <tr>\n",
       "      <th>2</th>\n",
       "      <td>9</td>\n",
       "      <td>10</td>\n",
       "      <td>11</td>\n",
       "      <td>12</td>\n",
       "      <td>foo</td>\n",
       "    </tr>\n",
       "  </tbody>\n",
       "</table>\n",
       "</div>"
      ],
      "text/plain": [
       "   a   b   c   d message\n",
       "0  1   2   3   4   hello\n",
       "1  5   6   7   8   world\n",
       "2  9  10  11  12     foo"
      ]
     },
     "execution_count": 43,
     "metadata": {},
     "output_type": "execute_result"
    }
   ],
   "source": [
    "pd.read_csv('foo.csv')"
   ]
  },
  {
   "cell_type": "markdown",
   "metadata": {},
   "source": [
    "- In some cases, there is no header in the file. By setting `header = None`, the column names will be filled with incremental numbers."
   ]
  },
  {
   "cell_type": "code",
   "execution_count": 44,
   "metadata": {
    "collapsed": false
   },
   "outputs": [
    {
     "name": "stdout",
     "output_type": "stream",
     "text": [
      "1,2,3,4,hello\r\n",
      "5,6,7,8,world\r\n",
      "9,10,11,12,foo\r\n"
     ]
    }
   ],
   "source": [
    "!cat foo_noheader.csv"
   ]
  },
  {
   "cell_type": "code",
   "execution_count": 46,
   "metadata": {
    "collapsed": false
   },
   "outputs": [
    {
     "name": "stdout",
     "output_type": "stream",
     "text": [
      "   0   1   2   3      4\n",
      "0  1   2   3   4  hello\n",
      "1  5   6   7   8  world\n",
      "2  9  10  11  12    foo\n"
     ]
    }
   ],
   "source": [
    "my_df=pd.read_csv('foo_noheader.csv', header = None)\n",
    "print(my_df)\n",
    "my_df.index\n",
    "pd.read_csv?"
   ]
  },
  {
   "cell_type": "markdown",
   "metadata": {},
   "source": [
    "\n",
    "- The column names may then be set, as follows:"
   ]
  },
  {
   "cell_type": "code",
   "execution_count": 46,
   "metadata": {
    "collapsed": false
   },
   "outputs": [
    {
     "data": {
      "text/html": [
       "<div>\n",
       "<style>\n",
       "    .dataframe thead tr:only-child th {\n",
       "        text-align: right;\n",
       "    }\n",
       "\n",
       "    .dataframe thead th {\n",
       "        text-align: left;\n",
       "    }\n",
       "\n",
       "    .dataframe tbody tr th {\n",
       "        vertical-align: top;\n",
       "    }\n",
       "</style>\n",
       "<table border=\"1\" class=\"dataframe\">\n",
       "  <thead>\n",
       "    <tr style=\"text-align: right;\">\n",
       "      <th></th>\n",
       "      <th>a</th>\n",
       "      <th>b</th>\n",
       "      <th>c</th>\n",
       "      <th>d</th>\n",
       "      <th>message</th>\n",
       "    </tr>\n",
       "  </thead>\n",
       "  <tbody>\n",
       "    <tr>\n",
       "      <th>0</th>\n",
       "      <td>1</td>\n",
       "      <td>2</td>\n",
       "      <td>3</td>\n",
       "      <td>4</td>\n",
       "      <td>hello</td>\n",
       "    </tr>\n",
       "    <tr>\n",
       "      <th>1</th>\n",
       "      <td>5</td>\n",
       "      <td>6</td>\n",
       "      <td>7</td>\n",
       "      <td>8</td>\n",
       "      <td>world</td>\n",
       "    </tr>\n",
       "    <tr>\n",
       "      <th>2</th>\n",
       "      <td>9</td>\n",
       "      <td>10</td>\n",
       "      <td>11</td>\n",
       "      <td>12</td>\n",
       "      <td>foo</td>\n",
       "    </tr>\n",
       "  </tbody>\n",
       "</table>\n",
       "</div>"
      ],
      "text/plain": [
       "   a   b   c   d message\n",
       "0  1   2   3   4   hello\n",
       "1  5   6   7   8   world\n",
       "2  9  10  11  12     foo"
      ]
     },
     "execution_count": 46,
     "metadata": {},
     "output_type": "execute_result"
    }
   ],
   "source": [
    "my_df.columns=['a', 'b', 'c', 'd', 'message']\n",
    "my_df"
   ]
  },
  {
   "cell_type": "markdown",
   "metadata": {},
   "source": [
    "- Another way is to pass the column names (as a list of strings) to the `names` parameter in `read_csv`.  \n",
    "- Note the parameter is called \"names\" instead of \"columns\"."
   ]
  },
  {
   "cell_type": "code",
   "execution_count": 53,
   "metadata": {
    "collapsed": false
   },
   "outputs": [
    {
     "data": {
      "text/plain": [
       "a           float64\n",
       "b          category\n",
       "c             int64\n",
       "d             int64\n",
       "message      object\n",
       "dtype: object"
      ]
     },
     "execution_count": 53,
     "metadata": {},
     "output_type": "execute_result"
    }
   ],
   "source": [
    "# Set the names manually\n",
    "U = pd.read_csv('foo_noheader.csv', \n",
    "             names=['a', 'b', 'c', 'd', 'message'], dtype={'a':float, 'b':'category'})\n",
    "U.dtypes"
   ]
  },
  {
   "cell_type": "markdown",
   "metadata": {},
   "source": [
    "- Importing files has been covered. This exercise demonstrates file exporting.\n",
    "\n",
    "**Exercise 2** \n",
    "\n",
    "- Write the data frame, `NYC`, to a file, NYC.csv. The function `to_csv` is useful for this task.\n",
    "- Now load 'NYC.csv' to a data frame named NYC2."
   ]
  },
  {
   "cell_type": "code",
   "execution_count": 48,
   "metadata": {
    "collapsed": false
   },
   "outputs": [],
   "source": [
    "#### Your code here\n",
    "NYC.to_csv('NYC.csv')"
   ]
  },
  {
   "cell_type": "code",
   "execution_count": 49,
   "metadata": {
    "collapsed": false
   },
   "outputs": [
    {
     "data": {
      "text/html": [
       "<div>\n",
       "<style>\n",
       "    .dataframe thead tr:only-child th {\n",
       "        text-align: right;\n",
       "    }\n",
       "\n",
       "    .dataframe thead th {\n",
       "        text-align: left;\n",
       "    }\n",
       "\n",
       "    .dataframe tbody tr th {\n",
       "        vertical-align: top;\n",
       "    }\n",
       "</style>\n",
       "<table border=\"1\" class=\"dataframe\">\n",
       "  <thead>\n",
       "    <tr style=\"text-align: right;\">\n",
       "      <th></th>\n",
       "      <th>area</th>\n",
       "      <th>pop</th>\n",
       "      <th>density</th>\n",
       "    </tr>\n",
       "    <tr>\n",
       "      <th>boro</th>\n",
       "      <th></th>\n",
       "      <th></th>\n",
       "      <th></th>\n",
       "    </tr>\n",
       "  </thead>\n",
       "  <tbody>\n",
       "    <tr>\n",
       "      <th>Bronx</th>\n",
       "      <td>42</td>\n",
       "      <td>1390000.0</td>\n",
       "      <td>33095.238095</td>\n",
       "    </tr>\n",
       "    <tr>\n",
       "      <th>Manhattan</th>\n",
       "      <td>23</td>\n",
       "      <td>1590000.0</td>\n",
       "      <td>69130.434783</td>\n",
       "    </tr>\n",
       "    <tr>\n",
       "      <th>Brooklyn</th>\n",
       "      <td>71</td>\n",
       "      <td>2470000.0</td>\n",
       "      <td>34788.732394</td>\n",
       "    </tr>\n",
       "    <tr>\n",
       "      <th>Staten Island</th>\n",
       "      <td>59</td>\n",
       "      <td>440000.0</td>\n",
       "      <td>7457.627119</td>\n",
       "    </tr>\n",
       "    <tr>\n",
       "      <th>Queens</th>\n",
       "      <td>109</td>\n",
       "      <td>2230000.0</td>\n",
       "      <td>20458.715596</td>\n",
       "    </tr>\n",
       "  </tbody>\n",
       "</table>\n",
       "</div>"
      ],
      "text/plain": [
       "               area        pop       density\n",
       "boro                                        \n",
       "Bronx            42  1390000.0  33095.238095\n",
       "Manhattan        23  1590000.0  69130.434783\n",
       "Brooklyn         71  2470000.0  34788.732394\n",
       "Staten Island    59   440000.0   7457.627119\n",
       "Queens          109  2230000.0  20458.715596"
      ]
     },
     "execution_count": 49,
     "metadata": {},
     "output_type": "execute_result"
    }
   ],
   "source": [
    "NYC"
   ]
  },
  {
   "cell_type": "code",
   "execution_count": 50,
   "metadata": {
    "collapsed": false
   },
   "outputs": [
    {
     "name": "stdout",
     "output_type": "stream",
     "text": [
      "boro,area,pop,density\r\n",
      "Bronx,42,1390000.0,33095.23809523809\r\n",
      "Manhattan,23,1590000.0,69130.43478260869\r\n",
      "Brooklyn,71,2470000.0,34788.7323943662\r\n",
      "Staten Island,59,440000.0,7457.627118644068\r\n",
      "Queens,109,2230000.0,20458.715596330276\r\n"
     ]
    }
   ],
   "source": [
    "!cat NYC.csv"
   ]
  },
  {
   "cell_type": "code",
   "execution_count": 54,
   "metadata": {
    "collapsed": false
   },
   "outputs": [
    {
     "data": {
      "text/html": [
       "<div>\n",
       "<style scoped>\n",
       "    .dataframe tbody tr th:only-of-type {\n",
       "        vertical-align: middle;\n",
       "    }\n",
       "\n",
       "    .dataframe tbody tr th {\n",
       "        vertical-align: top;\n",
       "    }\n",
       "\n",
       "    .dataframe thead th {\n",
       "        text-align: right;\n",
       "    }\n",
       "</style>\n",
       "<table border=\"1\" class=\"dataframe\">\n",
       "  <thead>\n",
       "    <tr style=\"text-align: right;\">\n",
       "      <th></th>\n",
       "      <th>area</th>\n",
       "      <th>pop</th>\n",
       "      <th>density</th>\n",
       "    </tr>\n",
       "    <tr>\n",
       "      <th>boro</th>\n",
       "      <th></th>\n",
       "      <th></th>\n",
       "      <th></th>\n",
       "    </tr>\n",
       "  </thead>\n",
       "  <tbody>\n",
       "    <tr>\n",
       "      <th>Bronx</th>\n",
       "      <td>42.0</td>\n",
       "      <td>1390000</td>\n",
       "      <td>33095.238095</td>\n",
       "    </tr>\n",
       "    <tr>\n",
       "      <th>Manhattan</th>\n",
       "      <td>23.0</td>\n",
       "      <td>1590000</td>\n",
       "      <td>69130.434783</td>\n",
       "    </tr>\n",
       "    <tr>\n",
       "      <th>Brooklyn</th>\n",
       "      <td>71.0</td>\n",
       "      <td>2470000</td>\n",
       "      <td>34788.732394</td>\n",
       "    </tr>\n",
       "    <tr>\n",
       "      <th>Staten Island</th>\n",
       "      <td>59.0</td>\n",
       "      <td>440000</td>\n",
       "      <td>7457.627119</td>\n",
       "    </tr>\n",
       "    <tr>\n",
       "      <th>Queens</th>\n",
       "      <td>109.0</td>\n",
       "      <td>2230000</td>\n",
       "      <td>20458.715596</td>\n",
       "    </tr>\n",
       "  </tbody>\n",
       "</table>\n",
       "</div>"
      ],
      "text/plain": [
       "                area      pop       density\n",
       "boro                                       \n",
       "Bronx           42.0  1390000  33095.238095\n",
       "Manhattan       23.0  1590000  69130.434783\n",
       "Brooklyn        71.0  2470000  34788.732394\n",
       "Staten Island   59.0   440000   7457.627119\n",
       "Queens         109.0  2230000  20458.715596"
      ]
     },
     "execution_count": 54,
     "metadata": {},
     "output_type": "execute_result"
    }
   ],
   "source": [
    "NYC2=pd.read_csv('NYC.csv', index_col=0, dtype={'area':float, 'pop':int}) # use the first column as index\n",
    "NYC2"
   ]
  },
  {
   "cell_type": "markdown",
   "metadata": {},
   "source": [
    "<p><a name=\"DM\"></a></p>\n",
    "# Data Manipulation in Pandas\n",
    "\n",
    "- Like numpy, pandas defines many broadcast operations, as well as numerous methods of manipulating data.\n",
    "\n",
    "<p><a name=\"concat\"></a></p>\n",
    "### concat\n",
    "Pandas DataFrames can be expanded in both directions. First create two data frames."
   ]
  },
  {
   "cell_type": "code",
   "execution_count": 52,
   "metadata": {
    "collapsed": false
   },
   "outputs": [
    {
     "data": {
      "text/html": [
       "<div>\n",
       "<style>\n",
       "    .dataframe thead tr:only-child th {\n",
       "        text-align: right;\n",
       "    }\n",
       "\n",
       "    .dataframe thead th {\n",
       "        text-align: left;\n",
       "    }\n",
       "\n",
       "    .dataframe tbody tr th {\n",
       "        vertical-align: top;\n",
       "    }\n",
       "</style>\n",
       "<table border=\"1\" class=\"dataframe\">\n",
       "  <thead>\n",
       "    <tr style=\"text-align: right;\">\n",
       "      <th></th>\n",
       "      <th>a</th>\n",
       "      <th>b</th>\n",
       "      <th>c</th>\n",
       "    </tr>\n",
       "  </thead>\n",
       "  <tbody>\n",
       "    <tr>\n",
       "      <th>one</th>\n",
       "      <td>0</td>\n",
       "      <td>1</td>\n",
       "      <td>2</td>\n",
       "    </tr>\n",
       "    <tr>\n",
       "      <th>two</th>\n",
       "      <td>3</td>\n",
       "      <td>4</td>\n",
       "      <td>5</td>\n",
       "    </tr>\n",
       "    <tr>\n",
       "      <th>three</th>\n",
       "      <td>6</td>\n",
       "      <td>7</td>\n",
       "      <td>8</td>\n",
       "    </tr>\n",
       "  </tbody>\n",
       "</table>\n",
       "</div>"
      ],
      "text/plain": [
       "       a  b  c\n",
       "one    0  1  2\n",
       "two    3  4  5\n",
       "three  6  7  8"
      ]
     },
     "execution_count": 52,
     "metadata": {},
     "output_type": "execute_result"
    }
   ],
   "source": [
    "df1 = pd.DataFrame(np.arange(9).reshape((3, 3)), \n",
    "                   columns=['a', 'b', 'c'],\n",
    "                   index=['one', 'two', 'three'])\n",
    "df2 = pd.DataFrame(np.arange(6).reshape((3, 2)), \n",
    "                   columns=['d','e'],\n",
    "                   index=['three', 'two','one'])\n",
    "df1"
   ]
  },
  {
   "cell_type": "code",
   "execution_count": 53,
   "metadata": {
    "collapsed": false
   },
   "outputs": [
    {
     "data": {
      "text/html": [
       "<div>\n",
       "<style>\n",
       "    .dataframe thead tr:only-child th {\n",
       "        text-align: right;\n",
       "    }\n",
       "\n",
       "    .dataframe thead th {\n",
       "        text-align: left;\n",
       "    }\n",
       "\n",
       "    .dataframe tbody tr th {\n",
       "        vertical-align: top;\n",
       "    }\n",
       "</style>\n",
       "<table border=\"1\" class=\"dataframe\">\n",
       "  <thead>\n",
       "    <tr style=\"text-align: right;\">\n",
       "      <th></th>\n",
       "      <th>d</th>\n",
       "      <th>e</th>\n",
       "    </tr>\n",
       "  </thead>\n",
       "  <tbody>\n",
       "    <tr>\n",
       "      <th>three</th>\n",
       "      <td>0</td>\n",
       "      <td>1</td>\n",
       "    </tr>\n",
       "    <tr>\n",
       "      <th>two</th>\n",
       "      <td>2</td>\n",
       "      <td>3</td>\n",
       "    </tr>\n",
       "    <tr>\n",
       "      <th>one</th>\n",
       "      <td>4</td>\n",
       "      <td>5</td>\n",
       "    </tr>\n",
       "  </tbody>\n",
       "</table>\n",
       "</div>"
      ],
      "text/plain": [
       "       d  e\n",
       "three  0  1\n",
       "two    2  3\n",
       "one    4  5"
      ]
     },
     "execution_count": 53,
     "metadata": {},
     "output_type": "execute_result"
    }
   ],
   "source": [
    "df2"
   ]
  },
  {
   "cell_type": "markdown",
   "metadata": {},
   "source": [
    "- Since the two data frames have the same number of rows, it is natural to combine them \"horizontally\".  \n",
    "- Note the concatenation takes place on the name of the index and not the order."
   ]
  },
  {
   "cell_type": "code",
   "execution_count": 54,
   "metadata": {
    "collapsed": false
   },
   "outputs": [
    {
     "data": {
      "text/html": [
       "<div>\n",
       "<style>\n",
       "    .dataframe thead tr:only-child th {\n",
       "        text-align: right;\n",
       "    }\n",
       "\n",
       "    .dataframe thead th {\n",
       "        text-align: left;\n",
       "    }\n",
       "\n",
       "    .dataframe tbody tr th {\n",
       "        vertical-align: top;\n",
       "    }\n",
       "</style>\n",
       "<table border=\"1\" class=\"dataframe\">\n",
       "  <thead>\n",
       "    <tr style=\"text-align: right;\">\n",
       "      <th></th>\n",
       "      <th>a</th>\n",
       "      <th>b</th>\n",
       "      <th>c</th>\n",
       "      <th>d</th>\n",
       "      <th>e</th>\n",
       "    </tr>\n",
       "  </thead>\n",
       "  <tbody>\n",
       "    <tr>\n",
       "      <th>one</th>\n",
       "      <td>0</td>\n",
       "      <td>1</td>\n",
       "      <td>2</td>\n",
       "      <td>4</td>\n",
       "      <td>5</td>\n",
       "    </tr>\n",
       "    <tr>\n",
       "      <th>three</th>\n",
       "      <td>6</td>\n",
       "      <td>7</td>\n",
       "      <td>8</td>\n",
       "      <td>0</td>\n",
       "      <td>1</td>\n",
       "    </tr>\n",
       "    <tr>\n",
       "      <th>two</th>\n",
       "      <td>3</td>\n",
       "      <td>4</td>\n",
       "      <td>5</td>\n",
       "      <td>2</td>\n",
       "      <td>3</td>\n",
       "    </tr>\n",
       "  </tbody>\n",
       "</table>\n",
       "</div>"
      ],
      "text/plain": [
       "       a  b  c  d  e\n",
       "one    0  1  2  4  5\n",
       "three  6  7  8  0  1\n",
       "two    3  4  5  2  3"
      ]
     },
     "execution_count": 54,
     "metadata": {},
     "output_type": "execute_result"
    }
   ],
   "source": [
    "pd.concat([df1, df2], axis = 1)"
   ]
  },
  {
   "cell_type": "code",
   "execution_count": 55,
   "metadata": {
    "collapsed": false
   },
   "outputs": [
    {
     "data": {
      "text/plain": [
       "array([[0, 1, 2, 0, 1],\n",
       "       [3, 4, 5, 2, 3],\n",
       "       [6, 7, 8, 4, 5]])"
      ]
     },
     "execution_count": 55,
     "metadata": {},
     "output_type": "execute_result"
    }
   ],
   "source": [
    "np.hstack((df1.values, df2.values))"
   ]
  },
  {
   "cell_type": "markdown",
   "metadata": {},
   "source": [
    "- More generally the **np.concatenate** can **glue** two arrays along a specified axies."
   ]
  },
  {
   "cell_type": "markdown",
   "metadata": {},
   "source": [
    "- The argument \"axis = 1\" means expanding along the column indices. Setting \"axis = 0\" will combine two data frames with same number of columns vertically. \n",
    "\n",
    "- Now changing the name of row 'one' to One' gives it a different index.  In this case the concatenation will use all the rows, filling in missing values with NaN."
   ]
  },
  {
   "cell_type": "code",
   "execution_count": 94,
   "metadata": {
    "collapsed": false
   },
   "outputs": [
    {
     "name": "stdout",
     "output_type": "stream",
     "text": [
      "       a  b  c\n",
      "One    0  1  2\n",
      "two    3  4  5\n",
      "three  6  7  8 \n",
      "\n",
      "        d  e\n",
      "three  0  1\n",
      "two    2  3\n",
      "one    4  5\n"
     ]
    }
   ],
   "source": [
    "df1 = pd.DataFrame(np.arange(9).reshape((3, 3)), \n",
    "                   columns=['a', 'b', 'c'],\n",
    "                   index=['One', 'two', 'three'])\n",
    "df2 = pd.DataFrame(np.arange(6).reshape((3, 2)), \n",
    "                   columns=['d','e'],\n",
    "                   index=['three', 'two','one'])\n",
    "print(df1,'\\n\\n',df2)"
   ]
  },
  {
   "cell_type": "code",
   "execution_count": 57,
   "metadata": {
    "collapsed": false
   },
   "outputs": [
    {
     "data": {
      "text/html": [
       "<div>\n",
       "<style>\n",
       "    .dataframe thead tr:only-child th {\n",
       "        text-align: right;\n",
       "    }\n",
       "\n",
       "    .dataframe thead th {\n",
       "        text-align: left;\n",
       "    }\n",
       "\n",
       "    .dataframe tbody tr th {\n",
       "        vertical-align: top;\n",
       "    }\n",
       "</style>\n",
       "<table border=\"1\" class=\"dataframe\">\n",
       "  <thead>\n",
       "    <tr style=\"text-align: right;\">\n",
       "      <th></th>\n",
       "      <th>a</th>\n",
       "      <th>b</th>\n",
       "      <th>c</th>\n",
       "      <th>d</th>\n",
       "      <th>e</th>\n",
       "    </tr>\n",
       "  </thead>\n",
       "  <tbody>\n",
       "    <tr>\n",
       "      <th>One</th>\n",
       "      <td>0.0</td>\n",
       "      <td>1.0</td>\n",
       "      <td>2.0</td>\n",
       "      <td>NaN</td>\n",
       "      <td>NaN</td>\n",
       "    </tr>\n",
       "    <tr>\n",
       "      <th>one</th>\n",
       "      <td>NaN</td>\n",
       "      <td>NaN</td>\n",
       "      <td>NaN</td>\n",
       "      <td>4.0</td>\n",
       "      <td>5.0</td>\n",
       "    </tr>\n",
       "    <tr>\n",
       "      <th>three</th>\n",
       "      <td>6.0</td>\n",
       "      <td>7.0</td>\n",
       "      <td>8.0</td>\n",
       "      <td>0.0</td>\n",
       "      <td>1.0</td>\n",
       "    </tr>\n",
       "    <tr>\n",
       "      <th>two</th>\n",
       "      <td>3.0</td>\n",
       "      <td>4.0</td>\n",
       "      <td>5.0</td>\n",
       "      <td>2.0</td>\n",
       "      <td>3.0</td>\n",
       "    </tr>\n",
       "  </tbody>\n",
       "</table>\n",
       "</div>"
      ],
      "text/plain": [
       "         a    b    c    d    e\n",
       "One    0.0  1.0  2.0  NaN  NaN\n",
       "one    NaN  NaN  NaN  4.0  5.0\n",
       "three  6.0  7.0  8.0  0.0  1.0\n",
       "two    3.0  4.0  5.0  2.0  3.0"
      ]
     },
     "execution_count": 57,
     "metadata": {},
     "output_type": "execute_result"
    }
   ],
   "source": [
    "pd.concat([df1, df2], axis = 1)"
   ]
  },
  {
   "cell_type": "markdown",
   "metadata": {},
   "source": [
    "- To include only the shared rows, set the join parameter to 'inner', as following:"
   ]
  },
  {
   "cell_type": "code",
   "execution_count": 58,
   "metadata": {
    "collapsed": false
   },
   "outputs": [
    {
     "data": {
      "text/html": [
       "<div>\n",
       "<style>\n",
       "    .dataframe thead tr:only-child th {\n",
       "        text-align: right;\n",
       "    }\n",
       "\n",
       "    .dataframe thead th {\n",
       "        text-align: left;\n",
       "    }\n",
       "\n",
       "    .dataframe tbody tr th {\n",
       "        vertical-align: top;\n",
       "    }\n",
       "</style>\n",
       "<table border=\"1\" class=\"dataframe\">\n",
       "  <thead>\n",
       "    <tr style=\"text-align: right;\">\n",
       "      <th></th>\n",
       "      <th>a</th>\n",
       "      <th>b</th>\n",
       "      <th>c</th>\n",
       "      <th>d</th>\n",
       "      <th>e</th>\n",
       "    </tr>\n",
       "  </thead>\n",
       "  <tbody>\n",
       "    <tr>\n",
       "      <th>two</th>\n",
       "      <td>3</td>\n",
       "      <td>4</td>\n",
       "      <td>5</td>\n",
       "      <td>2</td>\n",
       "      <td>3</td>\n",
       "    </tr>\n",
       "    <tr>\n",
       "      <th>three</th>\n",
       "      <td>6</td>\n",
       "      <td>7</td>\n",
       "      <td>8</td>\n",
       "      <td>0</td>\n",
       "      <td>1</td>\n",
       "    </tr>\n",
       "  </tbody>\n",
       "</table>\n",
       "</div>"
      ],
      "text/plain": [
       "       a  b  c  d  e\n",
       "two    3  4  5  2  3\n",
       "three  6  7  8  0  1"
      ]
     },
     "execution_count": 58,
     "metadata": {},
     "output_type": "execute_result"
    }
   ],
   "source": [
    "pd.concat([df1, df2], axis = 1, join='inner')"
   ]
  },
  {
   "cell_type": "markdown",
   "metadata": {},
   "source": [
    "**Exercise 3**\n",
    "\n",
    "In the jupyter notebook, create the data frame below.  Observe that this is a data frame with new features.  \n",
    "\n",
    "There are three new features:\n",
    "\n",
    "- **high_point** is the location of highest elevation \n",
    "- **geography** indicates if the borough is an island, on an island, or mainland\n",
    "- **inception** indicates the year of incorporation into the City of New York\n",
    "\n",
    "Combine 'new_features' with the old NYC data frame to make a new data frame named 'NYC3'."
   ]
  },
  {
   "cell_type": "code",
   "execution_count": 55,
   "metadata": {
    "collapsed": false
   },
   "outputs": [
    {
     "data": {
      "text/html": [
       "<div>\n",
       "<style scoped>\n",
       "    .dataframe tbody tr th:only-of-type {\n",
       "        vertical-align: middle;\n",
       "    }\n",
       "\n",
       "    .dataframe tbody tr th {\n",
       "        vertical-align: top;\n",
       "    }\n",
       "\n",
       "    .dataframe thead th {\n",
       "        text-align: right;\n",
       "    }\n",
       "</style>\n",
       "<table border=\"1\" class=\"dataframe\">\n",
       "  <thead>\n",
       "    <tr style=\"text-align: right;\">\n",
       "      <th></th>\n",
       "      <th>geography</th>\n",
       "      <th>high_point</th>\n",
       "      <th>inception</th>\n",
       "    </tr>\n",
       "  </thead>\n",
       "  <tbody>\n",
       "    <tr>\n",
       "      <th>Brooklyn</th>\n",
       "      <td>on island</td>\n",
       "      <td>Battle Hill</td>\n",
       "      <td>1634</td>\n",
       "    </tr>\n",
       "    <tr>\n",
       "      <th>Bronx</th>\n",
       "      <td>on mainland</td>\n",
       "      <td>Chapel Farm</td>\n",
       "      <td>1898</td>\n",
       "    </tr>\n",
       "    <tr>\n",
       "      <th>Queens</th>\n",
       "      <td>on island</td>\n",
       "      <td>North Glen Oaks</td>\n",
       "      <td>1683</td>\n",
       "    </tr>\n",
       "    <tr>\n",
       "      <th>Manhattan</th>\n",
       "      <td>is an island</td>\n",
       "      <td>Bennett Park</td>\n",
       "      <td>1624</td>\n",
       "    </tr>\n",
       "    <tr>\n",
       "      <th>Staten Island</th>\n",
       "      <td>is an island</td>\n",
       "      <td>Todt Hill</td>\n",
       "      <td>1683</td>\n",
       "    </tr>\n",
       "  </tbody>\n",
       "</table>\n",
       "</div>"
      ],
      "text/plain": [
       "                  geography       high_point inception\n",
       "Brooklyn          on island      Battle Hill      1634\n",
       "Bronx           on mainland      Chapel Farm      1898\n",
       "Queens            on island  North Glen Oaks      1683\n",
       "Manhattan      is an island     Bennett Park      1624\n",
       "Staten Island  is an island        Todt Hill      1683"
      ]
     },
     "execution_count": 55,
     "metadata": {},
     "output_type": "execute_result"
    }
   ],
   "source": [
    "new_features = pd.DataFrame({'high_point': ['Battle Hill', 'Chapel Farm', 'North Glen Oaks', 'Bennett Park','Todt Hill'],\\\n",
    "                            'geography':['on island','on mainland','on island','is an island','is an island'],\\\n",
    "                           'inception':['1634','1898','1683','1624','1683']},\\\n",
    "                            index=['Brooklyn', 'Bronx', 'Queens', 'Manhattan',\"Staten Island\"])\n",
    "new_features"
   ]
  },
  {
   "cell_type": "code",
   "execution_count": 58,
   "metadata": {
    "collapsed": false
   },
   "outputs": [
    {
     "data": {
      "text/html": [
       "<div>\n",
       "<style scoped>\n",
       "    .dataframe tbody tr th:only-of-type {\n",
       "        vertical-align: middle;\n",
       "    }\n",
       "\n",
       "    .dataframe tbody tr th {\n",
       "        vertical-align: top;\n",
       "    }\n",
       "\n",
       "    .dataframe thead th {\n",
       "        text-align: right;\n",
       "    }\n",
       "</style>\n",
       "<table border=\"1\" class=\"dataframe\">\n",
       "  <thead>\n",
       "    <tr style=\"text-align: right;\">\n",
       "      <th></th>\n",
       "      <th>area</th>\n",
       "      <th>pop</th>\n",
       "      <th>density</th>\n",
       "      <th>geography</th>\n",
       "      <th>high_point</th>\n",
       "      <th>inception</th>\n",
       "    </tr>\n",
       "  </thead>\n",
       "  <tbody>\n",
       "    <tr>\n",
       "      <th>Bronx</th>\n",
       "      <td>42</td>\n",
       "      <td>1390000.0</td>\n",
       "      <td>33095.238095</td>\n",
       "      <td>on mainland</td>\n",
       "      <td>Chapel Farm</td>\n",
       "      <td>1898</td>\n",
       "    </tr>\n",
       "    <tr>\n",
       "      <th>Brooklyn</th>\n",
       "      <td>71</td>\n",
       "      <td>2470000.0</td>\n",
       "      <td>34788.732394</td>\n",
       "      <td>on island</td>\n",
       "      <td>Battle Hill</td>\n",
       "      <td>1634</td>\n",
       "    </tr>\n",
       "    <tr>\n",
       "      <th>Manhattan</th>\n",
       "      <td>23</td>\n",
       "      <td>1590000.0</td>\n",
       "      <td>69130.434783</td>\n",
       "      <td>is an island</td>\n",
       "      <td>Bennett Park</td>\n",
       "      <td>1624</td>\n",
       "    </tr>\n",
       "    <tr>\n",
       "      <th>Queens</th>\n",
       "      <td>109</td>\n",
       "      <td>2230000.0</td>\n",
       "      <td>20458.715596</td>\n",
       "      <td>on island</td>\n",
       "      <td>North Glen Oaks</td>\n",
       "      <td>1683</td>\n",
       "    </tr>\n",
       "    <tr>\n",
       "      <th>Staten Island</th>\n",
       "      <td>59</td>\n",
       "      <td>440000.0</td>\n",
       "      <td>7457.627119</td>\n",
       "      <td>is an island</td>\n",
       "      <td>Todt Hill</td>\n",
       "      <td>1683</td>\n",
       "    </tr>\n",
       "  </tbody>\n",
       "</table>\n",
       "</div>"
      ],
      "text/plain": [
       "               area        pop       density     geography       high_point  \\\n",
       "Bronx            42  1390000.0  33095.238095   on mainland      Chapel Farm   \n",
       "Brooklyn         71  2470000.0  34788.732394     on island      Battle Hill   \n",
       "Manhattan        23  1590000.0  69130.434783  is an island     Bennett Park   \n",
       "Queens          109  2230000.0  20458.715596     on island  North Glen Oaks   \n",
       "Staten Island    59   440000.0   7457.627119  is an island        Todt Hill   \n",
       "\n",
       "              inception  \n",
       "Bronx              1898  \n",
       "Brooklyn           1634  \n",
       "Manhattan          1624  \n",
       "Queens             1683  \n",
       "Staten Island      1683  "
      ]
     },
     "execution_count": 58,
     "metadata": {},
     "output_type": "execute_result"
    }
   ],
   "source": [
    "#### Your code here (Notice that the pd.concat will re-align the row index automatically.)\n",
    "NYC3 = pd.concat((NYC, new_features),axis=1)\n",
    "NYC3"
   ]
  },
  {
   "cell_type": "markdown",
   "metadata": {},
   "source": [
    "<p><a name=\"sort\"></a></p>\n",
    "### sort\n",
    "- It is possible to order the rows of data frames using `sort_values()`.  This object method takes a column name as an argument.\n",
    "- It is used on the new_features data frame to order by date of inception, as follows:\n"
   ]
  },
  {
   "cell_type": "code",
   "execution_count": 59,
   "metadata": {
    "collapsed": false
   },
   "outputs": [
    {
     "data": {
      "text/html": [
       "<div>\n",
       "<style scoped>\n",
       "    .dataframe tbody tr th:only-of-type {\n",
       "        vertical-align: middle;\n",
       "    }\n",
       "\n",
       "    .dataframe tbody tr th {\n",
       "        vertical-align: top;\n",
       "    }\n",
       "\n",
       "    .dataframe thead th {\n",
       "        text-align: right;\n",
       "    }\n",
       "</style>\n",
       "<table border=\"1\" class=\"dataframe\">\n",
       "  <thead>\n",
       "    <tr style=\"text-align: right;\">\n",
       "      <th></th>\n",
       "      <th>geography</th>\n",
       "      <th>high_point</th>\n",
       "      <th>inception</th>\n",
       "    </tr>\n",
       "  </thead>\n",
       "  <tbody>\n",
       "    <tr>\n",
       "      <th>Manhattan</th>\n",
       "      <td>is an island</td>\n",
       "      <td>Bennett Park</td>\n",
       "      <td>1624</td>\n",
       "    </tr>\n",
       "    <tr>\n",
       "      <th>Brooklyn</th>\n",
       "      <td>on island</td>\n",
       "      <td>Battle Hill</td>\n",
       "      <td>1634</td>\n",
       "    </tr>\n",
       "    <tr>\n",
       "      <th>Queens</th>\n",
       "      <td>on island</td>\n",
       "      <td>North Glen Oaks</td>\n",
       "      <td>1683</td>\n",
       "    </tr>\n",
       "    <tr>\n",
       "      <th>Staten Island</th>\n",
       "      <td>is an island</td>\n",
       "      <td>Todt Hill</td>\n",
       "      <td>1683</td>\n",
       "    </tr>\n",
       "    <tr>\n",
       "      <th>Bronx</th>\n",
       "      <td>on mainland</td>\n",
       "      <td>Chapel Farm</td>\n",
       "      <td>1898</td>\n",
       "    </tr>\n",
       "  </tbody>\n",
       "</table>\n",
       "</div>"
      ],
      "text/plain": [
       "                  geography       high_point inception\n",
       "Manhattan      is an island     Bennett Park      1624\n",
       "Brooklyn          on island      Battle Hill      1634\n",
       "Queens            on island  North Glen Oaks      1683\n",
       "Staten Island  is an island        Todt Hill      1683\n",
       "Bronx           on mainland      Chapel Farm      1898"
      ]
     },
     "execution_count": 59,
     "metadata": {},
     "output_type": "execute_result"
    }
   ],
   "source": [
    "new_features.sort_values(['inception','high_point'])"
   ]
  },
  {
   "cell_type": "markdown",
   "metadata": {},
   "source": [
    "By default the sort is done in ascending order.  To apply the sort in decending order, set the `ascending` parameter to `False`."
   ]
  },
  {
   "cell_type": "code",
   "execution_count": 62,
   "metadata": {
    "collapsed": false
   },
   "outputs": [
    {
     "data": {
      "text/html": [
       "<div>\n",
       "<style>\n",
       "    .dataframe thead tr:only-child th {\n",
       "        text-align: right;\n",
       "    }\n",
       "\n",
       "    .dataframe thead th {\n",
       "        text-align: left;\n",
       "    }\n",
       "\n",
       "    .dataframe tbody tr th {\n",
       "        vertical-align: top;\n",
       "    }\n",
       "</style>\n",
       "<table border=\"1\" class=\"dataframe\">\n",
       "  <thead>\n",
       "    <tr style=\"text-align: right;\">\n",
       "      <th></th>\n",
       "      <th>geography</th>\n",
       "      <th>high_point</th>\n",
       "      <th>inception</th>\n",
       "    </tr>\n",
       "  </thead>\n",
       "  <tbody>\n",
       "    <tr>\n",
       "      <th>Bronx</th>\n",
       "      <td>on mainland</td>\n",
       "      <td>Chapel Farm</td>\n",
       "      <td>1898</td>\n",
       "    </tr>\n",
       "    <tr>\n",
       "      <th>Queens</th>\n",
       "      <td>on island</td>\n",
       "      <td>North Glen Oaks</td>\n",
       "      <td>1683</td>\n",
       "    </tr>\n",
       "    <tr>\n",
       "      <th>Staten Island</th>\n",
       "      <td>is an island</td>\n",
       "      <td>Todt Hill</td>\n",
       "      <td>1683</td>\n",
       "    </tr>\n",
       "    <tr>\n",
       "      <th>Brooklyn</th>\n",
       "      <td>on island</td>\n",
       "      <td>Battle Hill</td>\n",
       "      <td>1634</td>\n",
       "    </tr>\n",
       "    <tr>\n",
       "      <th>Manhattan</th>\n",
       "      <td>is an island</td>\n",
       "      <td>Bennett Park</td>\n",
       "      <td>1624</td>\n",
       "    </tr>\n",
       "  </tbody>\n",
       "</table>\n",
       "</div>"
      ],
      "text/plain": [
       "                  geography       high_point inception\n",
       "Bronx           on mainland      Chapel Farm      1898\n",
       "Queens            on island  North Glen Oaks      1683\n",
       "Staten Island  is an island        Todt Hill      1683\n",
       "Brooklyn          on island      Battle Hill      1634\n",
       "Manhattan      is an island     Bennett Park      1624"
      ]
     },
     "execution_count": 62,
     "metadata": {},
     "output_type": "execute_result"
    }
   ],
   "source": [
    "new_features.sort_values('inception',ascending=False)"
   ]
  },
  {
   "cell_type": "markdown",
   "metadata": {},
   "source": [
    "<p><a name=\"merge\"></a></p>\n",
    "### merge\n",
    "Merging is the most common way to combine multiple data frames. Create two data frames first."
   ]
  },
  {
   "cell_type": "code",
   "execution_count": 63,
   "metadata": {
    "collapsed": false
   },
   "outputs": [
    {
     "data": {
      "text/html": [
       "<div>\n",
       "<style>\n",
       "    .dataframe thead tr:only-child th {\n",
       "        text-align: right;\n",
       "    }\n",
       "\n",
       "    .dataframe thead th {\n",
       "        text-align: left;\n",
       "    }\n",
       "\n",
       "    .dataframe tbody tr th {\n",
       "        vertical-align: top;\n",
       "    }\n",
       "</style>\n",
       "<table border=\"1\" class=\"dataframe\">\n",
       "  <thead>\n",
       "    <tr style=\"text-align: right;\">\n",
       "      <th></th>\n",
       "      <th>col1</th>\n",
       "      <th>col2</th>\n",
       "      <th>col3</th>\n",
       "    </tr>\n",
       "  </thead>\n",
       "  <tbody>\n",
       "    <tr>\n",
       "      <th>0</th>\n",
       "      <td>a</td>\n",
       "      <td>b</td>\n",
       "      <td>c</td>\n",
       "    </tr>\n",
       "    <tr>\n",
       "      <th>1</th>\n",
       "      <td>d</td>\n",
       "      <td>e</td>\n",
       "      <td>f</td>\n",
       "    </tr>\n",
       "    <tr>\n",
       "      <th>2</th>\n",
       "      <td>g</td>\n",
       "      <td>h</td>\n",
       "      <td>i</td>\n",
       "    </tr>\n",
       "  </tbody>\n",
       "</table>\n",
       "</div>"
      ],
      "text/plain": [
       "  col1 col2 col3\n",
       "0    a    b    c\n",
       "1    d    e    f\n",
       "2    g    h    i"
      ]
     },
     "execution_count": 63,
     "metadata": {},
     "output_type": "execute_result"
    }
   ],
   "source": [
    "df3 = pd.DataFrame([['a','b','c'],['d','e','f'],['g','h','i']]\\\n",
    "                   ,columns=['col1','col2','col3'])\n",
    "df4 = pd.DataFrame({'col2':['x','e','b','z'],'col4':[1,2,3,4],'col5':['i','f','e','h']})\n",
    "df3"
   ]
  },
  {
   "cell_type": "code",
   "execution_count": 64,
   "metadata": {
    "collapsed": false
   },
   "outputs": [
    {
     "data": {
      "text/html": [
       "<div>\n",
       "<style>\n",
       "    .dataframe thead tr:only-child th {\n",
       "        text-align: right;\n",
       "    }\n",
       "\n",
       "    .dataframe thead th {\n",
       "        text-align: left;\n",
       "    }\n",
       "\n",
       "    .dataframe tbody tr th {\n",
       "        vertical-align: top;\n",
       "    }\n",
       "</style>\n",
       "<table border=\"1\" class=\"dataframe\">\n",
       "  <thead>\n",
       "    <tr style=\"text-align: right;\">\n",
       "      <th></th>\n",
       "      <th>col2</th>\n",
       "      <th>col4</th>\n",
       "      <th>col5</th>\n",
       "    </tr>\n",
       "  </thead>\n",
       "  <tbody>\n",
       "    <tr>\n",
       "      <th>0</th>\n",
       "      <td>x</td>\n",
       "      <td>1</td>\n",
       "      <td>i</td>\n",
       "    </tr>\n",
       "    <tr>\n",
       "      <th>1</th>\n",
       "      <td>e</td>\n",
       "      <td>2</td>\n",
       "      <td>f</td>\n",
       "    </tr>\n",
       "    <tr>\n",
       "      <th>2</th>\n",
       "      <td>b</td>\n",
       "      <td>3</td>\n",
       "      <td>e</td>\n",
       "    </tr>\n",
       "    <tr>\n",
       "      <th>3</th>\n",
       "      <td>z</td>\n",
       "      <td>4</td>\n",
       "      <td>h</td>\n",
       "    </tr>\n",
       "  </tbody>\n",
       "</table>\n",
       "</div>"
      ],
      "text/plain": [
       "  col2  col4 col5\n",
       "0    x     1    i\n",
       "1    e     2    f\n",
       "2    b     3    e\n",
       "3    z     4    h"
      ]
     },
     "execution_count": 64,
     "metadata": {},
     "output_type": "execute_result"
    }
   ],
   "source": [
    "df4"
   ]
  },
  {
   "cell_type": "markdown",
   "metadata": {},
   "source": [
    "- Merging will use the **`on`** column as a key for the merge.  The code below identifies the column ‘col2’ from both data frames. \n",
    "- The argument **`how`** set to 'inner' makes the merge only keep rows occuring in both data frames."
   ]
  },
  {
   "cell_type": "code",
   "execution_count": 65,
   "metadata": {
    "collapsed": false
   },
   "outputs": [
    {
     "data": {
      "text/html": [
       "<div>\n",
       "<style>\n",
       "    .dataframe thead tr:only-child th {\n",
       "        text-align: right;\n",
       "    }\n",
       "\n",
       "    .dataframe thead th {\n",
       "        text-align: left;\n",
       "    }\n",
       "\n",
       "    .dataframe tbody tr th {\n",
       "        vertical-align: top;\n",
       "    }\n",
       "</style>\n",
       "<table border=\"1\" class=\"dataframe\">\n",
       "  <thead>\n",
       "    <tr style=\"text-align: right;\">\n",
       "      <th></th>\n",
       "      <th>col1</th>\n",
       "      <th>col2</th>\n",
       "      <th>col3</th>\n",
       "      <th>col4</th>\n",
       "      <th>col5</th>\n",
       "    </tr>\n",
       "  </thead>\n",
       "  <tbody>\n",
       "    <tr>\n",
       "      <th>0</th>\n",
       "      <td>a</td>\n",
       "      <td>b</td>\n",
       "      <td>c</td>\n",
       "      <td>3</td>\n",
       "      <td>e</td>\n",
       "    </tr>\n",
       "    <tr>\n",
       "      <th>1</th>\n",
       "      <td>d</td>\n",
       "      <td>e</td>\n",
       "      <td>f</td>\n",
       "      <td>2</td>\n",
       "      <td>f</td>\n",
       "    </tr>\n",
       "  </tbody>\n",
       "</table>\n",
       "</div>"
      ],
      "text/plain": [
       "  col1 col2 col3  col4 col5\n",
       "0    a    b    c     3    e\n",
       "1    d    e    f     2    f"
      ]
     },
     "execution_count": 65,
     "metadata": {},
     "output_type": "execute_result"
    }
   ],
   "source": [
    "pd.merge(df3, df4, how='inner', on ='col2')"
   ]
  },
  {
   "cell_type": "markdown",
   "metadata": {},
   "source": [
    "- The default value of the parameter `how` is 'inner'. The following code performs the same task as above."
   ]
  },
  {
   "cell_type": "code",
   "execution_count": 66,
   "metadata": {
    "collapsed": false
   },
   "outputs": [
    {
     "data": {
      "text/html": [
       "<div>\n",
       "<style>\n",
       "    .dataframe thead tr:only-child th {\n",
       "        text-align: right;\n",
       "    }\n",
       "\n",
       "    .dataframe thead th {\n",
       "        text-align: left;\n",
       "    }\n",
       "\n",
       "    .dataframe tbody tr th {\n",
       "        vertical-align: top;\n",
       "    }\n",
       "</style>\n",
       "<table border=\"1\" class=\"dataframe\">\n",
       "  <thead>\n",
       "    <tr style=\"text-align: right;\">\n",
       "      <th></th>\n",
       "      <th>col1</th>\n",
       "      <th>col2</th>\n",
       "      <th>col3</th>\n",
       "      <th>col4</th>\n",
       "      <th>col5</th>\n",
       "    </tr>\n",
       "  </thead>\n",
       "  <tbody>\n",
       "    <tr>\n",
       "      <th>0</th>\n",
       "      <td>a</td>\n",
       "      <td>b</td>\n",
       "      <td>c</td>\n",
       "      <td>3</td>\n",
       "      <td>e</td>\n",
       "    </tr>\n",
       "    <tr>\n",
       "      <th>1</th>\n",
       "      <td>d</td>\n",
       "      <td>e</td>\n",
       "      <td>f</td>\n",
       "      <td>2</td>\n",
       "      <td>f</td>\n",
       "    </tr>\n",
       "  </tbody>\n",
       "</table>\n",
       "</div>"
      ],
      "text/plain": [
       "  col1 col2 col3  col4 col5\n",
       "0    a    b    c     3    e\n",
       "1    d    e    f     2    f"
      ]
     },
     "execution_count": 66,
     "metadata": {},
     "output_type": "execute_result"
    }
   ],
   "source": [
    "pd.merge(df3, df4, on ='col2')"
   ]
  },
  {
   "cell_type": "markdown",
   "metadata": {},
   "source": [
    "- To keep every row in df1 then set the parameter `how` = 'left'."
   ]
  },
  {
   "cell_type": "code",
   "execution_count": 67,
   "metadata": {
    "collapsed": false
   },
   "outputs": [
    {
     "data": {
      "text/html": [
       "<div>\n",
       "<style>\n",
       "    .dataframe thead tr:only-child th {\n",
       "        text-align: right;\n",
       "    }\n",
       "\n",
       "    .dataframe thead th {\n",
       "        text-align: left;\n",
       "    }\n",
       "\n",
       "    .dataframe tbody tr th {\n",
       "        vertical-align: top;\n",
       "    }\n",
       "</style>\n",
       "<table border=\"1\" class=\"dataframe\">\n",
       "  <thead>\n",
       "    <tr style=\"text-align: right;\">\n",
       "      <th></th>\n",
       "      <th>col1</th>\n",
       "      <th>col2</th>\n",
       "      <th>col3</th>\n",
       "      <th>col4</th>\n",
       "      <th>col5</th>\n",
       "    </tr>\n",
       "  </thead>\n",
       "  <tbody>\n",
       "    <tr>\n",
       "      <th>0</th>\n",
       "      <td>a</td>\n",
       "      <td>b</td>\n",
       "      <td>c</td>\n",
       "      <td>3.0</td>\n",
       "      <td>e</td>\n",
       "    </tr>\n",
       "    <tr>\n",
       "      <th>1</th>\n",
       "      <td>d</td>\n",
       "      <td>e</td>\n",
       "      <td>f</td>\n",
       "      <td>2.0</td>\n",
       "      <td>f</td>\n",
       "    </tr>\n",
       "    <tr>\n",
       "      <th>2</th>\n",
       "      <td>g</td>\n",
       "      <td>h</td>\n",
       "      <td>i</td>\n",
       "      <td>NaN</td>\n",
       "      <td>NaN</td>\n",
       "    </tr>\n",
       "  </tbody>\n",
       "</table>\n",
       "</div>"
      ],
      "text/plain": [
       "  col1 col2 col3  col4 col5\n",
       "0    a    b    c   3.0    e\n",
       "1    d    e    f   2.0    f\n",
       "2    g    h    i   NaN  NaN"
      ]
     },
     "execution_count": 67,
     "metadata": {},
     "output_type": "execute_result"
    }
   ],
   "source": [
    "pd.merge(df3, df4, how='left', on ='col2')"
   ]
  },
  {
   "cell_type": "markdown",
   "metadata": {},
   "source": [
    "- To keep all rows from both df1 and df2, set the parameter `how` = 'outer'."
   ]
  },
  {
   "cell_type": "code",
   "execution_count": 68,
   "metadata": {
    "collapsed": false
   },
   "outputs": [
    {
     "data": {
      "text/html": [
       "<div>\n",
       "<style>\n",
       "    .dataframe thead tr:only-child th {\n",
       "        text-align: right;\n",
       "    }\n",
       "\n",
       "    .dataframe thead th {\n",
       "        text-align: left;\n",
       "    }\n",
       "\n",
       "    .dataframe tbody tr th {\n",
       "        vertical-align: top;\n",
       "    }\n",
       "</style>\n",
       "<table border=\"1\" class=\"dataframe\">\n",
       "  <thead>\n",
       "    <tr style=\"text-align: right;\">\n",
       "      <th></th>\n",
       "      <th>col1</th>\n",
       "      <th>col2</th>\n",
       "      <th>col3</th>\n",
       "      <th>col4</th>\n",
       "      <th>col5</th>\n",
       "    </tr>\n",
       "  </thead>\n",
       "  <tbody>\n",
       "    <tr>\n",
       "      <th>0</th>\n",
       "      <td>a</td>\n",
       "      <td>b</td>\n",
       "      <td>c</td>\n",
       "      <td>3.0</td>\n",
       "      <td>e</td>\n",
       "    </tr>\n",
       "    <tr>\n",
       "      <th>1</th>\n",
       "      <td>d</td>\n",
       "      <td>e</td>\n",
       "      <td>f</td>\n",
       "      <td>2.0</td>\n",
       "      <td>f</td>\n",
       "    </tr>\n",
       "    <tr>\n",
       "      <th>2</th>\n",
       "      <td>g</td>\n",
       "      <td>h</td>\n",
       "      <td>i</td>\n",
       "      <td>NaN</td>\n",
       "      <td>NaN</td>\n",
       "    </tr>\n",
       "    <tr>\n",
       "      <th>3</th>\n",
       "      <td>NaN</td>\n",
       "      <td>x</td>\n",
       "      <td>NaN</td>\n",
       "      <td>1.0</td>\n",
       "      <td>i</td>\n",
       "    </tr>\n",
       "    <tr>\n",
       "      <th>4</th>\n",
       "      <td>NaN</td>\n",
       "      <td>z</td>\n",
       "      <td>NaN</td>\n",
       "      <td>4.0</td>\n",
       "      <td>h</td>\n",
       "    </tr>\n",
       "  </tbody>\n",
       "</table>\n",
       "</div>"
      ],
      "text/plain": [
       "  col1 col2 col3  col4 col5\n",
       "0    a    b    c   3.0    e\n",
       "1    d    e    f   2.0    f\n",
       "2    g    h    i   NaN  NaN\n",
       "3  NaN    x  NaN   1.0    i\n",
       "4  NaN    z  NaN   4.0    h"
      ]
     },
     "execution_count": 68,
     "metadata": {},
     "output_type": "execute_result"
    }
   ],
   "source": [
    "pd.merge(df3, df4, how='outer', on ='col2')"
   ]
  },
  {
   "cell_type": "markdown",
   "metadata": {},
   "source": [
    "- If the `on` column does not have the same name in the two data frames, use 'left_on' and 'right_on' to indicate how to perform the merge.  \n",
    "- Note that columns with the same name, in the two data frames, will be named with an x or y character appended."
   ]
  },
  {
   "cell_type": "code",
   "execution_count": 69,
   "metadata": {
    "collapsed": false
   },
   "outputs": [
    {
     "data": {
      "text/html": [
       "<div>\n",
       "<style>\n",
       "    .dataframe thead tr:only-child th {\n",
       "        text-align: right;\n",
       "    }\n",
       "\n",
       "    .dataframe thead th {\n",
       "        text-align: left;\n",
       "    }\n",
       "\n",
       "    .dataframe tbody tr th {\n",
       "        vertical-align: top;\n",
       "    }\n",
       "</style>\n",
       "<table border=\"1\" class=\"dataframe\">\n",
       "  <thead>\n",
       "    <tr style=\"text-align: right;\">\n",
       "      <th></th>\n",
       "      <th>col1</th>\n",
       "      <th>col2_x</th>\n",
       "      <th>col3</th>\n",
       "      <th>col2_y</th>\n",
       "      <th>col4</th>\n",
       "      <th>col5</th>\n",
       "    </tr>\n",
       "  </thead>\n",
       "  <tbody>\n",
       "    <tr>\n",
       "      <th>0</th>\n",
       "      <td>d</td>\n",
       "      <td>e</td>\n",
       "      <td>f</td>\n",
       "      <td>b</td>\n",
       "      <td>3</td>\n",
       "      <td>e</td>\n",
       "    </tr>\n",
       "    <tr>\n",
       "      <th>1</th>\n",
       "      <td>g</td>\n",
       "      <td>h</td>\n",
       "      <td>i</td>\n",
       "      <td>z</td>\n",
       "      <td>4</td>\n",
       "      <td>h</td>\n",
       "    </tr>\n",
       "  </tbody>\n",
       "</table>\n",
       "</div>"
      ],
      "text/plain": [
       "  col1 col2_x col3 col2_y  col4 col5\n",
       "0    d      e    f      b     3    e\n",
       "1    g      h    i      z     4    h"
      ]
     },
     "execution_count": 69,
     "metadata": {},
     "output_type": "execute_result"
    }
   ],
   "source": [
    "pd.merge(df3, df4, left_on='col2', right_on='col5')"
   ]
  },
  {
   "cell_type": "markdown",
   "metadata": {},
   "source": [
    "**Exercise 4**\n",
    "\n",
    "- Run the following code to create a data frame, 'Elevations'. It contains NYC locations and their elevation in feet.  How is this related to the NYC data frame? Why separate this information into another data frame?\n",
    "- Combine this data with the full NYC3 data frame to make a new data frame named NYC4.\n",
    "- Note NYC3 is indexed using boro, we want to keep it after the merge.\n",
    "- Change the name of the elevation column to 'peak_elevation'.\n",
    "- Order the data frame by highest to lowest 'peak_elevation'."
   ]
  },
  {
   "cell_type": "code",
   "execution_count": 60,
   "metadata": {
    "collapsed": false
   },
   "outputs": [
    {
     "data": {
      "text/html": [
       "<div>\n",
       "<style scoped>\n",
       "    .dataframe tbody tr th:only-of-type {\n",
       "        vertical-align: middle;\n",
       "    }\n",
       "\n",
       "    .dataframe tbody tr th {\n",
       "        vertical-align: top;\n",
       "    }\n",
       "\n",
       "    .dataframe thead th {\n",
       "        text-align: right;\n",
       "    }\n",
       "</style>\n",
       "<table border=\"1\" class=\"dataframe\">\n",
       "  <thead>\n",
       "    <tr style=\"text-align: right;\">\n",
       "      <th></th>\n",
       "      <th>area</th>\n",
       "      <th>pop</th>\n",
       "      <th>density</th>\n",
       "      <th>geography</th>\n",
       "      <th>high_point</th>\n",
       "      <th>inception</th>\n",
       "    </tr>\n",
       "  </thead>\n",
       "  <tbody>\n",
       "    <tr>\n",
       "      <th>Bronx</th>\n",
       "      <td>42</td>\n",
       "      <td>1390000.0</td>\n",
       "      <td>33095.238095</td>\n",
       "      <td>on mainland</td>\n",
       "      <td>Chapel Farm</td>\n",
       "      <td>1898</td>\n",
       "    </tr>\n",
       "    <tr>\n",
       "      <th>Brooklyn</th>\n",
       "      <td>71</td>\n",
       "      <td>2470000.0</td>\n",
       "      <td>34788.732394</td>\n",
       "      <td>on island</td>\n",
       "      <td>Battle Hill</td>\n",
       "      <td>1634</td>\n",
       "    </tr>\n",
       "    <tr>\n",
       "      <th>Manhattan</th>\n",
       "      <td>23</td>\n",
       "      <td>1590000.0</td>\n",
       "      <td>69130.434783</td>\n",
       "      <td>is an island</td>\n",
       "      <td>Bennett Park</td>\n",
       "      <td>1624</td>\n",
       "    </tr>\n",
       "    <tr>\n",
       "      <th>Queens</th>\n",
       "      <td>109</td>\n",
       "      <td>2230000.0</td>\n",
       "      <td>20458.715596</td>\n",
       "      <td>on island</td>\n",
       "      <td>North Glen Oaks</td>\n",
       "      <td>1683</td>\n",
       "    </tr>\n",
       "    <tr>\n",
       "      <th>Staten Island</th>\n",
       "      <td>59</td>\n",
       "      <td>440000.0</td>\n",
       "      <td>7457.627119</td>\n",
       "      <td>is an island</td>\n",
       "      <td>Todt Hill</td>\n",
       "      <td>1683</td>\n",
       "    </tr>\n",
       "  </tbody>\n",
       "</table>\n",
       "</div>"
      ],
      "text/plain": [
       "               area        pop       density     geography       high_point  \\\n",
       "Bronx            42  1390000.0  33095.238095   on mainland      Chapel Farm   \n",
       "Brooklyn         71  2470000.0  34788.732394     on island      Battle Hill   \n",
       "Manhattan        23  1590000.0  69130.434783  is an island     Bennett Park   \n",
       "Queens          109  2230000.0  20458.715596     on island  North Glen Oaks   \n",
       "Staten Island    59   440000.0   7457.627119  is an island        Todt Hill   \n",
       "\n",
       "              inception  \n",
       "Bronx              1898  \n",
       "Brooklyn           1634  \n",
       "Manhattan          1624  \n",
       "Queens             1683  \n",
       "Staten Island      1683  "
      ]
     },
     "execution_count": 60,
     "metadata": {},
     "output_type": "execute_result"
    }
   ],
   "source": [
    "Elevations = pd.DataFrame([['Battle Hill',220],['Marcus Garvey Park',103],['Bennett Park',265],\\\n",
    "                           ['Todt Hill',410],['Washington Square Park',27],['Chapel Farm',280],\\\n",
    "                           ['Bryant Park',58],['North Glen Oaks',258],['St Marys Park',47]],\n",
    "                      columns=['location', 'elevation'])\n",
    "Elevations\n",
    "NYC3"
   ]
  },
  {
   "cell_type": "code",
   "execution_count": 92,
   "metadata": {
    "collapsed": false
   },
   "outputs": [
    {
     "data": {
      "text/html": [
       "<div>\n",
       "<style scoped>\n",
       "    .dataframe tbody tr th:only-of-type {\n",
       "        vertical-align: middle;\n",
       "    }\n",
       "\n",
       "    .dataframe tbody tr th {\n",
       "        vertical-align: top;\n",
       "    }\n",
       "\n",
       "    .dataframe thead th {\n",
       "        text-align: right;\n",
       "    }\n",
       "</style>\n",
       "<table border=\"1\" class=\"dataframe\">\n",
       "  <thead>\n",
       "    <tr style=\"text-align: right;\">\n",
       "      <th></th>\n",
       "      <th>area</th>\n",
       "      <th>pop</th>\n",
       "      <th>density</th>\n",
       "      <th>geography</th>\n",
       "      <th>high_point</th>\n",
       "      <th>inception</th>\n",
       "      <th>location</th>\n",
       "      <th>x</th>\n",
       "    </tr>\n",
       "    <tr>\n",
       "      <th>boro</th>\n",
       "      <th></th>\n",
       "      <th></th>\n",
       "      <th></th>\n",
       "      <th></th>\n",
       "      <th></th>\n",
       "      <th></th>\n",
       "      <th></th>\n",
       "      <th></th>\n",
       "    </tr>\n",
       "  </thead>\n",
       "  <tbody>\n",
       "    <tr>\n",
       "      <th>Bronx</th>\n",
       "      <td>42</td>\n",
       "      <td>1390000.0</td>\n",
       "      <td>33095.238095</td>\n",
       "      <td>on mainland</td>\n",
       "      <td>Chapel Farm</td>\n",
       "      <td>1898</td>\n",
       "      <td>Chapel Farm</td>\n",
       "      <td>280</td>\n",
       "    </tr>\n",
       "    <tr>\n",
       "      <th>Brooklyn</th>\n",
       "      <td>71</td>\n",
       "      <td>2470000.0</td>\n",
       "      <td>34788.732394</td>\n",
       "      <td>on island</td>\n",
       "      <td>Battle Hill</td>\n",
       "      <td>1634</td>\n",
       "      <td>Battle Hill</td>\n",
       "      <td>220</td>\n",
       "    </tr>\n",
       "    <tr>\n",
       "      <th>Manhattan</th>\n",
       "      <td>23</td>\n",
       "      <td>1590000.0</td>\n",
       "      <td>69130.434783</td>\n",
       "      <td>is an island</td>\n",
       "      <td>Bennett Park</td>\n",
       "      <td>1624</td>\n",
       "      <td>Bennett Park</td>\n",
       "      <td>265</td>\n",
       "    </tr>\n",
       "    <tr>\n",
       "      <th>Queens</th>\n",
       "      <td>109</td>\n",
       "      <td>2230000.0</td>\n",
       "      <td>20458.715596</td>\n",
       "      <td>on island</td>\n",
       "      <td>North Glen Oaks</td>\n",
       "      <td>1683</td>\n",
       "      <td>North Glen Oaks</td>\n",
       "      <td>258</td>\n",
       "    </tr>\n",
       "    <tr>\n",
       "      <th>Staten Island</th>\n",
       "      <td>59</td>\n",
       "      <td>440000.0</td>\n",
       "      <td>7457.627119</td>\n",
       "      <td>is an island</td>\n",
       "      <td>Todt Hill</td>\n",
       "      <td>1683</td>\n",
       "      <td>Todt Hill</td>\n",
       "      <td>410</td>\n",
       "    </tr>\n",
       "  </tbody>\n",
       "</table>\n",
       "</div>"
      ],
      "text/plain": [
       "               area        pop       density     geography       high_point  \\\n",
       "boro                                                                          \n",
       "Bronx            42  1390000.0  33095.238095   on mainland      Chapel Farm   \n",
       "Brooklyn         71  2470000.0  34788.732394     on island      Battle Hill   \n",
       "Manhattan        23  1590000.0  69130.434783  is an island     Bennett Park   \n",
       "Queens          109  2230000.0  20458.715596     on island  North Glen Oaks   \n",
       "Staten Island    59   440000.0   7457.627119  is an island        Todt Hill   \n",
       "\n",
       "              inception         location    x  \n",
       "boro                                           \n",
       "Bronx              1898      Chapel Farm  280  \n",
       "Brooklyn           1634      Battle Hill  220  \n",
       "Manhattan          1624     Bennett Park  265  \n",
       "Queens             1683  North Glen Oaks  258  \n",
       "Staten Island      1683        Todt Hill  410  "
      ]
     },
     "execution_count": 92,
     "metadata": {},
     "output_type": "execute_result"
    }
   ],
   "source": [
    "# Your code here\n",
    "NYC4 = pd.merge(NYC3.reset_index(), Elevations, left_on='high_point', right_on='location')\n",
    "NYC4 = NYC4.set_index('index')\n",
    "NYC4.index.rename('boro',inplace=True)\n",
    "columns = NYC4.columns.values\n",
    "columns[-1] = 'x'\n",
    "NYC4.columns.reindex(columns)\n",
    "NYC4.head()"
   ]
  },
  {
   "cell_type": "markdown",
   "metadata": {},
   "source": [
    "<p><a name=\"SF\"></a></p>\n",
    "### selection and filter\n",
    "\n",
    "- The `loc` method provides purely label (index/columns)-based indexing. \n",
    "- This method allows selection from a data frame by index and columns. "
   ]
  },
  {
   "cell_type": "code",
   "execution_count": 106,
   "metadata": {
    "collapsed": false
   },
   "outputs": [
    {
     "data": {
      "text/html": [
       "<div>\n",
       "<style scoped>\n",
       "    .dataframe tbody tr th:only-of-type {\n",
       "        vertical-align: middle;\n",
       "    }\n",
       "\n",
       "    .dataframe tbody tr th {\n",
       "        vertical-align: top;\n",
       "    }\n",
       "\n",
       "    .dataframe thead th {\n",
       "        text-align: right;\n",
       "    }\n",
       "</style>\n",
       "<table border=\"1\" class=\"dataframe\">\n",
       "  <thead>\n",
       "    <tr style=\"text-align: right;\">\n",
       "      <th></th>\n",
       "      <th>a</th>\n",
       "      <th>b</th>\n",
       "      <th>c</th>\n",
       "    </tr>\n",
       "  </thead>\n",
       "  <tbody>\n",
       "    <tr>\n",
       "      <th>One</th>\n",
       "      <td>30</td>\n",
       "      <td>1</td>\n",
       "      <td>30</td>\n",
       "    </tr>\n",
       "    <tr>\n",
       "      <th>two</th>\n",
       "      <td>3</td>\n",
       "      <td>4</td>\n",
       "      <td>5</td>\n",
       "    </tr>\n",
       "    <tr>\n",
       "      <th>three</th>\n",
       "      <td>6</td>\n",
       "      <td>7</td>\n",
       "      <td>8</td>\n",
       "    </tr>\n",
       "  </tbody>\n",
       "</table>\n",
       "</div>"
      ],
      "text/plain": [
       "        a  b   c\n",
       "One    30  1  30\n",
       "two     3  4   5\n",
       "three   6  7   8"
      ]
     },
     "execution_count": 106,
     "metadata": {},
     "output_type": "execute_result"
    }
   ],
   "source": [
    "df1\n",
    "df1.loc['One',['a','c']] = 30\n",
    "df1"
   ]
  },
  {
   "cell_type": "markdown",
   "metadata": {},
   "source": [
    "The following returns a single column of df1."
   ]
  },
  {
   "cell_type": "code",
   "execution_count": 109,
   "metadata": {
    "collapsed": false
   },
   "outputs": [
    {
     "data": {
      "text/html": [
       "<div>\n",
       "<style scoped>\n",
       "    .dataframe tbody tr th:only-of-type {\n",
       "        vertical-align: middle;\n",
       "    }\n",
       "\n",
       "    .dataframe tbody tr th {\n",
       "        vertical-align: top;\n",
       "    }\n",
       "\n",
       "    .dataframe thead th {\n",
       "        text-align: right;\n",
       "    }\n",
       "</style>\n",
       "<table border=\"1\" class=\"dataframe\">\n",
       "  <thead>\n",
       "    <tr style=\"text-align: right;\">\n",
       "      <th></th>\n",
       "      <th>a</th>\n",
       "      <th>b</th>\n",
       "      <th>c</th>\n",
       "    </tr>\n",
       "  </thead>\n",
       "  <tbody>\n",
       "    <tr>\n",
       "      <th>One</th>\n",
       "      <td>30</td>\n",
       "      <td>1</td>\n",
       "      <td>30</td>\n",
       "    </tr>\n",
       "    <tr>\n",
       "      <th>two</th>\n",
       "      <td>3</td>\n",
       "      <td>4</td>\n",
       "      <td>5</td>\n",
       "    </tr>\n",
       "    <tr>\n",
       "      <th>three</th>\n",
       "      <td>6</td>\n",
       "      <td>7</td>\n",
       "      <td>8</td>\n",
       "    </tr>\n",
       "  </tbody>\n",
       "</table>\n",
       "</div>"
      ],
      "text/plain": [
       "        a  b   c\n",
       "One    30  1  30\n",
       "two     3  4   5\n",
       "three   6  7   8"
      ]
     },
     "execution_count": 109,
     "metadata": {},
     "output_type": "execute_result"
    }
   ],
   "source": [
    "df1['a'].copy() #gives series\n",
    "df1.copy()"
   ]
  },
  {
   "cell_type": "code",
   "execution_count": 107,
   "metadata": {
    "collapsed": false
   },
   "outputs": [
    {
     "ename": "KeyError",
     "evalue": "'two'",
     "output_type": "error",
     "traceback": [
      "\u001b[0;31m---------------------------------------------------------------------------\u001b[0m",
      "\u001b[0;31mKeyError\u001b[0m                                  Traceback (most recent call last)",
      "\u001b[0;32m//anaconda/lib/python3.5/site-packages/pandas/core/indexes/base.py\u001b[0m in \u001b[0;36mget_loc\u001b[0;34m(self, key, method, tolerance)\u001b[0m\n\u001b[1;32m   2524\u001b[0m             \u001b[0;32mtry\u001b[0m\u001b[0;34m:\u001b[0m\u001b[0;34m\u001b[0m\u001b[0m\n\u001b[0;32m-> 2525\u001b[0;31m                 \u001b[0;32mreturn\u001b[0m \u001b[0mself\u001b[0m\u001b[0;34m.\u001b[0m\u001b[0m_engine\u001b[0m\u001b[0;34m.\u001b[0m\u001b[0mget_loc\u001b[0m\u001b[0;34m(\u001b[0m\u001b[0mkey\u001b[0m\u001b[0;34m)\u001b[0m\u001b[0;34m\u001b[0m\u001b[0m\n\u001b[0m\u001b[1;32m   2526\u001b[0m             \u001b[0;32mexcept\u001b[0m \u001b[0mKeyError\u001b[0m\u001b[0;34m:\u001b[0m\u001b[0;34m\u001b[0m\u001b[0m\n",
      "\u001b[0;32mpandas/_libs/index.pyx\u001b[0m in \u001b[0;36mpandas._libs.index.IndexEngine.get_loc\u001b[0;34m()\u001b[0m\n",
      "\u001b[0;32mpandas/_libs/index.pyx\u001b[0m in \u001b[0;36mpandas._libs.index.IndexEngine.get_loc\u001b[0;34m()\u001b[0m\n",
      "\u001b[0;32mpandas/_libs/hashtable_class_helper.pxi\u001b[0m in \u001b[0;36mpandas._libs.hashtable.PyObjectHashTable.get_item\u001b[0;34m()\u001b[0m\n",
      "\u001b[0;32mpandas/_libs/hashtable_class_helper.pxi\u001b[0m in \u001b[0;36mpandas._libs.hashtable.PyObjectHashTable.get_item\u001b[0;34m()\u001b[0m\n",
      "\u001b[0;31mKeyError\u001b[0m: 'two'",
      "\nDuring handling of the above exception, another exception occurred:\n",
      "\u001b[0;31mKeyError\u001b[0m                                  Traceback (most recent call last)",
      "\u001b[0;32m<ipython-input-107-d0ad6bb1a4ae>\u001b[0m in \u001b[0;36m<module>\u001b[0;34m()\u001b[0m\n\u001b[1;32m      1\u001b[0m \u001b[0;31m#df1[1] #this throws an error\u001b[0m\u001b[0;34m\u001b[0m\u001b[0;34m\u001b[0m\u001b[0m\n\u001b[0;32m----> 2\u001b[0;31m \u001b[0mdf1\u001b[0m\u001b[0;34m[\u001b[0m\u001b[0;34m'two'\u001b[0m\u001b[0;34m]\u001b[0m\u001b[0;34m.\u001b[0m\u001b[0mcopy\u001b[0m\u001b[0;34m(\u001b[0m\u001b[0;34m)\u001b[0m\u001b[0;34m\u001b[0m\u001b[0m\n\u001b[0m",
      "\u001b[0;32m//anaconda/lib/python3.5/site-packages/pandas/core/frame.py\u001b[0m in \u001b[0;36m__getitem__\u001b[0;34m(self, key)\u001b[0m\n\u001b[1;32m   2137\u001b[0m             \u001b[0;32mreturn\u001b[0m \u001b[0mself\u001b[0m\u001b[0;34m.\u001b[0m\u001b[0m_getitem_multilevel\u001b[0m\u001b[0;34m(\u001b[0m\u001b[0mkey\u001b[0m\u001b[0;34m)\u001b[0m\u001b[0;34m\u001b[0m\u001b[0m\n\u001b[1;32m   2138\u001b[0m         \u001b[0;32melse\u001b[0m\u001b[0;34m:\u001b[0m\u001b[0;34m\u001b[0m\u001b[0m\n\u001b[0;32m-> 2139\u001b[0;31m             \u001b[0;32mreturn\u001b[0m \u001b[0mself\u001b[0m\u001b[0;34m.\u001b[0m\u001b[0m_getitem_column\u001b[0m\u001b[0;34m(\u001b[0m\u001b[0mkey\u001b[0m\u001b[0;34m)\u001b[0m\u001b[0;34m\u001b[0m\u001b[0m\n\u001b[0m\u001b[1;32m   2140\u001b[0m \u001b[0;34m\u001b[0m\u001b[0m\n\u001b[1;32m   2141\u001b[0m     \u001b[0;32mdef\u001b[0m \u001b[0m_getitem_column\u001b[0m\u001b[0;34m(\u001b[0m\u001b[0mself\u001b[0m\u001b[0;34m,\u001b[0m \u001b[0mkey\u001b[0m\u001b[0;34m)\u001b[0m\u001b[0;34m:\u001b[0m\u001b[0;34m\u001b[0m\u001b[0m\n",
      "\u001b[0;32m//anaconda/lib/python3.5/site-packages/pandas/core/frame.py\u001b[0m in \u001b[0;36m_getitem_column\u001b[0;34m(self, key)\u001b[0m\n\u001b[1;32m   2144\u001b[0m         \u001b[0;31m# get column\u001b[0m\u001b[0;34m\u001b[0m\u001b[0;34m\u001b[0m\u001b[0m\n\u001b[1;32m   2145\u001b[0m         \u001b[0;32mif\u001b[0m \u001b[0mself\u001b[0m\u001b[0;34m.\u001b[0m\u001b[0mcolumns\u001b[0m\u001b[0;34m.\u001b[0m\u001b[0mis_unique\u001b[0m\u001b[0;34m:\u001b[0m\u001b[0;34m\u001b[0m\u001b[0m\n\u001b[0;32m-> 2146\u001b[0;31m             \u001b[0;32mreturn\u001b[0m \u001b[0mself\u001b[0m\u001b[0;34m.\u001b[0m\u001b[0m_get_item_cache\u001b[0m\u001b[0;34m(\u001b[0m\u001b[0mkey\u001b[0m\u001b[0;34m)\u001b[0m\u001b[0;34m\u001b[0m\u001b[0m\n\u001b[0m\u001b[1;32m   2147\u001b[0m \u001b[0;34m\u001b[0m\u001b[0m\n\u001b[1;32m   2148\u001b[0m         \u001b[0;31m# duplicate columns & possible reduce dimensionality\u001b[0m\u001b[0;34m\u001b[0m\u001b[0;34m\u001b[0m\u001b[0m\n",
      "\u001b[0;32m//anaconda/lib/python3.5/site-packages/pandas/core/generic.py\u001b[0m in \u001b[0;36m_get_item_cache\u001b[0;34m(self, item)\u001b[0m\n\u001b[1;32m   1840\u001b[0m         \u001b[0mres\u001b[0m \u001b[0;34m=\u001b[0m \u001b[0mcache\u001b[0m\u001b[0;34m.\u001b[0m\u001b[0mget\u001b[0m\u001b[0;34m(\u001b[0m\u001b[0mitem\u001b[0m\u001b[0;34m)\u001b[0m\u001b[0;34m\u001b[0m\u001b[0m\n\u001b[1;32m   1841\u001b[0m         \u001b[0;32mif\u001b[0m \u001b[0mres\u001b[0m \u001b[0;32mis\u001b[0m \u001b[0;32mNone\u001b[0m\u001b[0;34m:\u001b[0m\u001b[0;34m\u001b[0m\u001b[0m\n\u001b[0;32m-> 1842\u001b[0;31m             \u001b[0mvalues\u001b[0m \u001b[0;34m=\u001b[0m \u001b[0mself\u001b[0m\u001b[0;34m.\u001b[0m\u001b[0m_data\u001b[0m\u001b[0;34m.\u001b[0m\u001b[0mget\u001b[0m\u001b[0;34m(\u001b[0m\u001b[0mitem\u001b[0m\u001b[0;34m)\u001b[0m\u001b[0;34m\u001b[0m\u001b[0m\n\u001b[0m\u001b[1;32m   1843\u001b[0m             \u001b[0mres\u001b[0m \u001b[0;34m=\u001b[0m \u001b[0mself\u001b[0m\u001b[0;34m.\u001b[0m\u001b[0m_box_item_values\u001b[0m\u001b[0;34m(\u001b[0m\u001b[0mitem\u001b[0m\u001b[0;34m,\u001b[0m \u001b[0mvalues\u001b[0m\u001b[0;34m)\u001b[0m\u001b[0;34m\u001b[0m\u001b[0m\n\u001b[1;32m   1844\u001b[0m             \u001b[0mcache\u001b[0m\u001b[0;34m[\u001b[0m\u001b[0mitem\u001b[0m\u001b[0;34m]\u001b[0m \u001b[0;34m=\u001b[0m \u001b[0mres\u001b[0m\u001b[0;34m\u001b[0m\u001b[0m\n",
      "\u001b[0;32m//anaconda/lib/python3.5/site-packages/pandas/core/internals.py\u001b[0m in \u001b[0;36mget\u001b[0;34m(self, item, fastpath)\u001b[0m\n\u001b[1;32m   3841\u001b[0m \u001b[0;34m\u001b[0m\u001b[0m\n\u001b[1;32m   3842\u001b[0m             \u001b[0;32mif\u001b[0m \u001b[0;32mnot\u001b[0m \u001b[0misna\u001b[0m\u001b[0;34m(\u001b[0m\u001b[0mitem\u001b[0m\u001b[0;34m)\u001b[0m\u001b[0;34m:\u001b[0m\u001b[0;34m\u001b[0m\u001b[0m\n\u001b[0;32m-> 3843\u001b[0;31m                 \u001b[0mloc\u001b[0m \u001b[0;34m=\u001b[0m \u001b[0mself\u001b[0m\u001b[0;34m.\u001b[0m\u001b[0mitems\u001b[0m\u001b[0;34m.\u001b[0m\u001b[0mget_loc\u001b[0m\u001b[0;34m(\u001b[0m\u001b[0mitem\u001b[0m\u001b[0;34m)\u001b[0m\u001b[0;34m\u001b[0m\u001b[0m\n\u001b[0m\u001b[1;32m   3844\u001b[0m             \u001b[0;32melse\u001b[0m\u001b[0;34m:\u001b[0m\u001b[0;34m\u001b[0m\u001b[0m\n\u001b[1;32m   3845\u001b[0m                 \u001b[0mindexer\u001b[0m \u001b[0;34m=\u001b[0m \u001b[0mnp\u001b[0m\u001b[0;34m.\u001b[0m\u001b[0marange\u001b[0m\u001b[0;34m(\u001b[0m\u001b[0mlen\u001b[0m\u001b[0;34m(\u001b[0m\u001b[0mself\u001b[0m\u001b[0;34m.\u001b[0m\u001b[0mitems\u001b[0m\u001b[0;34m)\u001b[0m\u001b[0;34m)\u001b[0m\u001b[0;34m[\u001b[0m\u001b[0misna\u001b[0m\u001b[0;34m(\u001b[0m\u001b[0mself\u001b[0m\u001b[0;34m.\u001b[0m\u001b[0mitems\u001b[0m\u001b[0;34m)\u001b[0m\u001b[0;34m]\u001b[0m\u001b[0;34m\u001b[0m\u001b[0m\n",
      "\u001b[0;32m//anaconda/lib/python3.5/site-packages/pandas/core/indexes/base.py\u001b[0m in \u001b[0;36mget_loc\u001b[0;34m(self, key, method, tolerance)\u001b[0m\n\u001b[1;32m   2525\u001b[0m                 \u001b[0;32mreturn\u001b[0m \u001b[0mself\u001b[0m\u001b[0;34m.\u001b[0m\u001b[0m_engine\u001b[0m\u001b[0;34m.\u001b[0m\u001b[0mget_loc\u001b[0m\u001b[0;34m(\u001b[0m\u001b[0mkey\u001b[0m\u001b[0;34m)\u001b[0m\u001b[0;34m\u001b[0m\u001b[0m\n\u001b[1;32m   2526\u001b[0m             \u001b[0;32mexcept\u001b[0m \u001b[0mKeyError\u001b[0m\u001b[0;34m:\u001b[0m\u001b[0;34m\u001b[0m\u001b[0m\n\u001b[0;32m-> 2527\u001b[0;31m                 \u001b[0;32mreturn\u001b[0m \u001b[0mself\u001b[0m\u001b[0;34m.\u001b[0m\u001b[0m_engine\u001b[0m\u001b[0;34m.\u001b[0m\u001b[0mget_loc\u001b[0m\u001b[0;34m(\u001b[0m\u001b[0mself\u001b[0m\u001b[0;34m.\u001b[0m\u001b[0m_maybe_cast_indexer\u001b[0m\u001b[0;34m(\u001b[0m\u001b[0mkey\u001b[0m\u001b[0;34m)\u001b[0m\u001b[0;34m)\u001b[0m\u001b[0;34m\u001b[0m\u001b[0m\n\u001b[0m\u001b[1;32m   2528\u001b[0m \u001b[0;34m\u001b[0m\u001b[0m\n\u001b[1;32m   2529\u001b[0m         \u001b[0mindexer\u001b[0m \u001b[0;34m=\u001b[0m \u001b[0mself\u001b[0m\u001b[0;34m.\u001b[0m\u001b[0mget_indexer\u001b[0m\u001b[0;34m(\u001b[0m\u001b[0;34m[\u001b[0m\u001b[0mkey\u001b[0m\u001b[0;34m]\u001b[0m\u001b[0;34m,\u001b[0m \u001b[0mmethod\u001b[0m\u001b[0;34m=\u001b[0m\u001b[0mmethod\u001b[0m\u001b[0;34m,\u001b[0m \u001b[0mtolerance\u001b[0m\u001b[0;34m=\u001b[0m\u001b[0mtolerance\u001b[0m\u001b[0;34m)\u001b[0m\u001b[0;34m\u001b[0m\u001b[0m\n",
      "\u001b[0;32mpandas/_libs/index.pyx\u001b[0m in \u001b[0;36mpandas._libs.index.IndexEngine.get_loc\u001b[0;34m()\u001b[0m\n",
      "\u001b[0;32mpandas/_libs/index.pyx\u001b[0m in \u001b[0;36mpandas._libs.index.IndexEngine.get_loc\u001b[0;34m()\u001b[0m\n",
      "\u001b[0;32mpandas/_libs/hashtable_class_helper.pxi\u001b[0m in \u001b[0;36mpandas._libs.hashtable.PyObjectHashTable.get_item\u001b[0;34m()\u001b[0m\n",
      "\u001b[0;32mpandas/_libs/hashtable_class_helper.pxi\u001b[0m in \u001b[0;36mpandas._libs.hashtable.PyObjectHashTable.get_item\u001b[0;34m()\u001b[0m\n",
      "\u001b[0;31mKeyError\u001b[0m: 'two'"
     ]
    }
   ],
   "source": [
    "#df1[1] #this throws an error\n",
    "df1['two'].copy()"
   ]
  },
  {
   "cell_type": "code",
   "execution_count": 101,
   "metadata": {
    "collapsed": false
   },
   "outputs": [
    {
     "data": {
      "text/plain": [
       "pandas.core.series.Series"
      ]
     },
     "execution_count": 101,
     "metadata": {},
     "output_type": "execute_result"
    }
   ],
   "source": [
    "type(df1['a'])"
   ]
  },
  {
   "cell_type": "code",
   "execution_count": 102,
   "metadata": {
    "collapsed": false
   },
   "outputs": [
    {
     "data": {
      "text/html": [
       "<div>\n",
       "<style scoped>\n",
       "    .dataframe tbody tr th:only-of-type {\n",
       "        vertical-align: middle;\n",
       "    }\n",
       "\n",
       "    .dataframe tbody tr th {\n",
       "        vertical-align: top;\n",
       "    }\n",
       "\n",
       "    .dataframe thead th {\n",
       "        text-align: right;\n",
       "    }\n",
       "</style>\n",
       "<table border=\"1\" class=\"dataframe\">\n",
       "  <thead>\n",
       "    <tr style=\"text-align: right;\">\n",
       "      <th></th>\n",
       "      <th>a</th>\n",
       "    </tr>\n",
       "  </thead>\n",
       "  <tbody>\n",
       "    <tr>\n",
       "      <th>One</th>\n",
       "      <td>100</td>\n",
       "    </tr>\n",
       "    <tr>\n",
       "      <th>two</th>\n",
       "      <td>3</td>\n",
       "    </tr>\n",
       "    <tr>\n",
       "      <th>three</th>\n",
       "      <td>6</td>\n",
       "    </tr>\n",
       "  </tbody>\n",
       "</table>\n",
       "</div>"
      ],
      "text/plain": [
       "         a\n",
       "One    100\n",
       "two      3\n",
       "three    6"
      ]
     },
     "execution_count": 102,
     "metadata": {},
     "output_type": "execute_result"
    }
   ],
   "source": [
    "df1[['a']] #gives a single column data frame"
   ]
  },
  {
   "cell_type": "code",
   "execution_count": 103,
   "metadata": {
    "collapsed": false
   },
   "outputs": [
    {
     "data": {
      "text/html": [
       "<div>\n",
       "<style scoped>\n",
       "    .dataframe tbody tr th:only-of-type {\n",
       "        vertical-align: middle;\n",
       "    }\n",
       "\n",
       "    .dataframe tbody tr th {\n",
       "        vertical-align: top;\n",
       "    }\n",
       "\n",
       "    .dataframe thead th {\n",
       "        text-align: right;\n",
       "    }\n",
       "</style>\n",
       "<table border=\"1\" class=\"dataframe\">\n",
       "  <thead>\n",
       "    <tr style=\"text-align: right;\">\n",
       "      <th></th>\n",
       "      <th>a</th>\n",
       "      <th>c</th>\n",
       "    </tr>\n",
       "  </thead>\n",
       "  <tbody>\n",
       "    <tr>\n",
       "      <th>One</th>\n",
       "      <td>100</td>\n",
       "      <td>2</td>\n",
       "    </tr>\n",
       "    <tr>\n",
       "      <th>two</th>\n",
       "      <td>3</td>\n",
       "      <td>5</td>\n",
       "    </tr>\n",
       "    <tr>\n",
       "      <th>three</th>\n",
       "      <td>6</td>\n",
       "      <td>8</td>\n",
       "    </tr>\n",
       "  </tbody>\n",
       "</table>\n",
       "</div>"
      ],
      "text/plain": [
       "         a  c\n",
       "One    100  2\n",
       "two      3  5\n",
       "three    6  8"
      ]
     },
     "execution_count": 103,
     "metadata": {},
     "output_type": "execute_result"
    }
   ],
   "source": [
    "df1[['a','c']] #gives a multi column data frame"
   ]
  },
  {
   "cell_type": "markdown",
   "metadata": {},
   "source": [
    "- The following uses `loc` to return a single row of df1, using the index string name."
   ]
  },
  {
   "cell_type": "code",
   "execution_count": 78,
   "metadata": {
    "collapsed": false
   },
   "outputs": [
    {
     "data": {
      "text/plain": [
       "a    3\n",
       "b    4\n",
       "c    5\n",
       "Name: two, dtype: int64"
      ]
     },
     "execution_count": 78,
     "metadata": {},
     "output_type": "execute_result"
    }
   ],
   "source": [
    "df1.loc['two'] # the row that has index two"
   ]
  },
  {
   "cell_type": "code",
   "execution_count": 79,
   "metadata": {
    "collapsed": false
   },
   "outputs": [
    {
     "data": {
      "text/html": [
       "<div>\n",
       "<style>\n",
       "    .dataframe thead tr:only-child th {\n",
       "        text-align: right;\n",
       "    }\n",
       "\n",
       "    .dataframe thead th {\n",
       "        text-align: left;\n",
       "    }\n",
       "\n",
       "    .dataframe tbody tr th {\n",
       "        vertical-align: top;\n",
       "    }\n",
       "</style>\n",
       "<table border=\"1\" class=\"dataframe\">\n",
       "  <thead>\n",
       "    <tr style=\"text-align: right;\">\n",
       "      <th></th>\n",
       "      <th>a</th>\n",
       "      <th>b</th>\n",
       "      <th>c</th>\n",
       "    </tr>\n",
       "  </thead>\n",
       "  <tbody>\n",
       "    <tr>\n",
       "      <th>two</th>\n",
       "      <td>3</td>\n",
       "      <td>4</td>\n",
       "      <td>5</td>\n",
       "    </tr>\n",
       "  </tbody>\n",
       "</table>\n",
       "</div>"
      ],
      "text/plain": [
       "     a  b  c\n",
       "two  3  4  5"
      ]
     },
     "execution_count": 79,
     "metadata": {},
     "output_type": "execute_result"
    }
   ],
   "source": [
    "df1.loc[['two']] # the row that has index two"
   ]
  },
  {
   "cell_type": "markdown",
   "metadata": {},
   "source": [
    "- A second parameter is passed to loc to specify the chosen column. For example:"
   ]
  },
  {
   "cell_type": "code",
   "execution_count": 111,
   "metadata": {
    "collapsed": false
   },
   "outputs": [],
   "source": [
    "df1.loc['two', 'b'] # the row that has index two and column b\n",
    "df1.loc?"
   ]
  },
  {
   "cell_type": "markdown",
   "metadata": {},
   "source": [
    "- Note the two ways to accomplish this:"
   ]
  },
  {
   "cell_type": "code",
   "execution_count": 110,
   "metadata": {
    "collapsed": false
   },
   "outputs": [
    {
     "name": "stdout",
     "output_type": "stream",
     "text": [
      "4\n",
      "4\n"
     ]
    }
   ],
   "source": [
    "print(df1.loc['two', 'b'])\n",
    "print(df1['b'][1])"
   ]
  },
  {
   "cell_type": "markdown",
   "metadata": {},
   "source": [
    "- Fancy indexing can be done with `loc` in pandas, as was done in Numpy. Select a row with a condition, as follows. \n",
    "- The code below returns all columns for the rows in which column 'a' is zero."
   ]
  },
  {
   "cell_type": "code",
   "execution_count": 82,
   "metadata": {
    "collapsed": false
   },
   "outputs": [
    {
     "data": {
      "text/html": [
       "<div>\n",
       "<style>\n",
       "    .dataframe thead tr:only-child th {\n",
       "        text-align: right;\n",
       "    }\n",
       "\n",
       "    .dataframe thead th {\n",
       "        text-align: left;\n",
       "    }\n",
       "\n",
       "    .dataframe tbody tr th {\n",
       "        vertical-align: top;\n",
       "    }\n",
       "</style>\n",
       "<table border=\"1\" class=\"dataframe\">\n",
       "  <thead>\n",
       "    <tr style=\"text-align: right;\">\n",
       "      <th></th>\n",
       "      <th>a</th>\n",
       "      <th>b</th>\n",
       "      <th>c</th>\n",
       "    </tr>\n",
       "  </thead>\n",
       "  <tbody>\n",
       "    <tr>\n",
       "      <th>One</th>\n",
       "      <td>0</td>\n",
       "      <td>1</td>\n",
       "      <td>2</td>\n",
       "    </tr>\n",
       "  </tbody>\n",
       "</table>\n",
       "</div>"
      ],
      "text/plain": [
       "     a  b  c\n",
       "One  0  1  2"
      ]
     },
     "execution_count": 82,
     "metadata": {},
     "output_type": "execute_result"
    }
   ],
   "source": [
    "df1.loc[df1.a==0,:]"
   ]
  },
  {
   "cell_type": "markdown",
   "metadata": {},
   "source": [
    "- Columns are selected in a similar way.  The code below returns all rows for the columns in which row 'one' is zero."
   ]
  },
  {
   "cell_type": "code",
   "execution_count": 112,
   "metadata": {
    "collapsed": false
   },
   "outputs": [
    {
     "data": {
      "text/html": [
       "<div>\n",
       "<style scoped>\n",
       "    .dataframe tbody tr th:only-of-type {\n",
       "        vertical-align: middle;\n",
       "    }\n",
       "\n",
       "    .dataframe tbody tr th {\n",
       "        vertical-align: top;\n",
       "    }\n",
       "\n",
       "    .dataframe thead th {\n",
       "        text-align: right;\n",
       "    }\n",
       "</style>\n",
       "<table border=\"1\" class=\"dataframe\">\n",
       "  <thead>\n",
       "    <tr style=\"text-align: right;\">\n",
       "      <th></th>\n",
       "    </tr>\n",
       "  </thead>\n",
       "  <tbody>\n",
       "    <tr>\n",
       "      <th>One</th>\n",
       "    </tr>\n",
       "    <tr>\n",
       "      <th>two</th>\n",
       "    </tr>\n",
       "    <tr>\n",
       "      <th>three</th>\n",
       "    </tr>\n",
       "  </tbody>\n",
       "</table>\n",
       "</div>"
      ],
      "text/plain": [
       "Empty DataFrame\n",
       "Columns: []\n",
       "Index: [One, two, three]"
      ]
     },
     "execution_count": 112,
     "metadata": {},
     "output_type": "execute_result"
    }
   ],
   "source": [
    "df1.loc[:, df1.loc['One']==0]"
   ]
  },
  {
   "cell_type": "markdown",
   "metadata": {},
   "source": [
    "- Note: loc only accepts labels as input. If you try to use numbers, it will give you an error. For example:"
   ]
  },
  {
   "cell_type": "code",
   "execution_count": 84,
   "metadata": {
    "collapsed": false
   },
   "outputs": [
    {
     "ename": "TypeError",
     "evalue": "cannot do label indexing on <class 'pandas.core.indexes.base.Index'> with these indexers [1] of <class 'int'>",
     "output_type": "error",
     "traceback": [
      "\u001b[0;31m---------------------------------------------------------------------------\u001b[0m",
      "\u001b[0;31mTypeError\u001b[0m                                 Traceback (most recent call last)",
      "\u001b[0;32m<ipython-input-84-45528eb94678>\u001b[0m in \u001b[0;36m<module>\u001b[0;34m()\u001b[0m\n\u001b[0;32m----> 1\u001b[0;31m \u001b[0mdf1\u001b[0m\u001b[0;34m.\u001b[0m\u001b[0mloc\u001b[0m\u001b[0;34m[\u001b[0m\u001b[0;36m1\u001b[0m\u001b[0;34m,\u001b[0m \u001b[0;36m2\u001b[0m\u001b[0;34m]\u001b[0m\u001b[0;34m\u001b[0m\u001b[0m\n\u001b[0m",
      "\u001b[0;32m//anaconda/lib/python3.5/site-packages/pandas/core/indexing.py\u001b[0m in \u001b[0;36m__getitem__\u001b[0;34m(self, key)\u001b[0m\n\u001b[1;32m   1323\u001b[0m             \u001b[0;32mexcept\u001b[0m \u001b[0;34m(\u001b[0m\u001b[0mKeyError\u001b[0m\u001b[0;34m,\u001b[0m \u001b[0mIndexError\u001b[0m\u001b[0;34m)\u001b[0m\u001b[0;34m:\u001b[0m\u001b[0;34m\u001b[0m\u001b[0m\n\u001b[1;32m   1324\u001b[0m                 \u001b[0;32mpass\u001b[0m\u001b[0;34m\u001b[0m\u001b[0m\n\u001b[0;32m-> 1325\u001b[0;31m             \u001b[0;32mreturn\u001b[0m \u001b[0mself\u001b[0m\u001b[0;34m.\u001b[0m\u001b[0m_getitem_tuple\u001b[0m\u001b[0;34m(\u001b[0m\u001b[0mkey\u001b[0m\u001b[0;34m)\u001b[0m\u001b[0;34m\u001b[0m\u001b[0m\n\u001b[0m\u001b[1;32m   1326\u001b[0m         \u001b[0;32melse\u001b[0m\u001b[0;34m:\u001b[0m\u001b[0;34m\u001b[0m\u001b[0m\n\u001b[1;32m   1327\u001b[0m             \u001b[0mkey\u001b[0m \u001b[0;34m=\u001b[0m \u001b[0mcom\u001b[0m\u001b[0;34m.\u001b[0m\u001b[0m_apply_if_callable\u001b[0m\u001b[0;34m(\u001b[0m\u001b[0mkey\u001b[0m\u001b[0;34m,\u001b[0m \u001b[0mself\u001b[0m\u001b[0;34m.\u001b[0m\u001b[0mobj\u001b[0m\u001b[0;34m)\u001b[0m\u001b[0;34m\u001b[0m\u001b[0m\n",
      "\u001b[0;32m//anaconda/lib/python3.5/site-packages/pandas/core/indexing.py\u001b[0m in \u001b[0;36m_getitem_tuple\u001b[0;34m(self, tup)\u001b[0m\n\u001b[1;32m    834\u001b[0m     \u001b[0;32mdef\u001b[0m \u001b[0m_getitem_tuple\u001b[0m\u001b[0;34m(\u001b[0m\u001b[0mself\u001b[0m\u001b[0;34m,\u001b[0m \u001b[0mtup\u001b[0m\u001b[0;34m)\u001b[0m\u001b[0;34m:\u001b[0m\u001b[0;34m\u001b[0m\u001b[0m\n\u001b[1;32m    835\u001b[0m         \u001b[0;32mtry\u001b[0m\u001b[0;34m:\u001b[0m\u001b[0;34m\u001b[0m\u001b[0m\n\u001b[0;32m--> 836\u001b[0;31m             \u001b[0;32mreturn\u001b[0m \u001b[0mself\u001b[0m\u001b[0;34m.\u001b[0m\u001b[0m_getitem_lowerdim\u001b[0m\u001b[0;34m(\u001b[0m\u001b[0mtup\u001b[0m\u001b[0;34m)\u001b[0m\u001b[0;34m\u001b[0m\u001b[0m\n\u001b[0m\u001b[1;32m    837\u001b[0m         \u001b[0;32mexcept\u001b[0m \u001b[0mIndexingError\u001b[0m\u001b[0;34m:\u001b[0m\u001b[0;34m\u001b[0m\u001b[0m\n\u001b[1;32m    838\u001b[0m             \u001b[0;32mpass\u001b[0m\u001b[0;34m\u001b[0m\u001b[0m\n",
      "\u001b[0;32m//anaconda/lib/python3.5/site-packages/pandas/core/indexing.py\u001b[0m in \u001b[0;36m_getitem_lowerdim\u001b[0;34m(self, tup)\u001b[0m\n\u001b[1;32m    965\u001b[0m         \u001b[0;32mfor\u001b[0m \u001b[0mi\u001b[0m\u001b[0;34m,\u001b[0m \u001b[0mkey\u001b[0m \u001b[0;32min\u001b[0m \u001b[0menumerate\u001b[0m\u001b[0;34m(\u001b[0m\u001b[0mtup\u001b[0m\u001b[0;34m)\u001b[0m\u001b[0;34m:\u001b[0m\u001b[0;34m\u001b[0m\u001b[0m\n\u001b[1;32m    966\u001b[0m             \u001b[0;32mif\u001b[0m \u001b[0mis_label_like\u001b[0m\u001b[0;34m(\u001b[0m\u001b[0mkey\u001b[0m\u001b[0;34m)\u001b[0m \u001b[0;32mor\u001b[0m \u001b[0misinstance\u001b[0m\u001b[0;34m(\u001b[0m\u001b[0mkey\u001b[0m\u001b[0;34m,\u001b[0m \u001b[0mtuple\u001b[0m\u001b[0;34m)\u001b[0m\u001b[0;34m:\u001b[0m\u001b[0;34m\u001b[0m\u001b[0m\n\u001b[0;32m--> 967\u001b[0;31m                 \u001b[0msection\u001b[0m \u001b[0;34m=\u001b[0m \u001b[0mself\u001b[0m\u001b[0;34m.\u001b[0m\u001b[0m_getitem_axis\u001b[0m\u001b[0;34m(\u001b[0m\u001b[0mkey\u001b[0m\u001b[0;34m,\u001b[0m \u001b[0maxis\u001b[0m\u001b[0;34m=\u001b[0m\u001b[0mi\u001b[0m\u001b[0;34m)\u001b[0m\u001b[0;34m\u001b[0m\u001b[0m\n\u001b[0m\u001b[1;32m    968\u001b[0m \u001b[0;34m\u001b[0m\u001b[0m\n\u001b[1;32m    969\u001b[0m                 \u001b[0;31m# we have yielded a scalar ?\u001b[0m\u001b[0;34m\u001b[0m\u001b[0;34m\u001b[0m\u001b[0m\n",
      "\u001b[0;32m//anaconda/lib/python3.5/site-packages/pandas/core/indexing.py\u001b[0m in \u001b[0;36m_getitem_axis\u001b[0;34m(self, key, axis)\u001b[0m\n\u001b[1;32m   1549\u001b[0m \u001b[0;34m\u001b[0m\u001b[0m\n\u001b[1;32m   1550\u001b[0m         \u001b[0;31m# fall thru to straight lookup\u001b[0m\u001b[0;34m\u001b[0m\u001b[0;34m\u001b[0m\u001b[0m\n\u001b[0;32m-> 1551\u001b[0;31m         \u001b[0mself\u001b[0m\u001b[0;34m.\u001b[0m\u001b[0m_has_valid_type\u001b[0m\u001b[0;34m(\u001b[0m\u001b[0mkey\u001b[0m\u001b[0;34m,\u001b[0m \u001b[0maxis\u001b[0m\u001b[0;34m)\u001b[0m\u001b[0;34m\u001b[0m\u001b[0m\n\u001b[0m\u001b[1;32m   1552\u001b[0m         \u001b[0;32mreturn\u001b[0m \u001b[0mself\u001b[0m\u001b[0;34m.\u001b[0m\u001b[0m_get_label\u001b[0m\u001b[0;34m(\u001b[0m\u001b[0mkey\u001b[0m\u001b[0;34m,\u001b[0m \u001b[0maxis\u001b[0m\u001b[0;34m=\u001b[0m\u001b[0maxis\u001b[0m\u001b[0;34m)\u001b[0m\u001b[0;34m\u001b[0m\u001b[0m\n\u001b[1;32m   1553\u001b[0m \u001b[0;34m\u001b[0m\u001b[0m\n",
      "\u001b[0;32m//anaconda/lib/python3.5/site-packages/pandas/core/indexing.py\u001b[0m in \u001b[0;36m_has_valid_type\u001b[0;34m(self, key, axis)\u001b[0m\n\u001b[1;32m   1430\u001b[0m \u001b[0;34m\u001b[0m\u001b[0m\n\u001b[1;32m   1431\u001b[0m             \u001b[0;32mtry\u001b[0m\u001b[0;34m:\u001b[0m\u001b[0;34m\u001b[0m\u001b[0m\n\u001b[0;32m-> 1432\u001b[0;31m                 \u001b[0mkey\u001b[0m \u001b[0;34m=\u001b[0m \u001b[0mself\u001b[0m\u001b[0;34m.\u001b[0m\u001b[0m_convert_scalar_indexer\u001b[0m\u001b[0;34m(\u001b[0m\u001b[0mkey\u001b[0m\u001b[0;34m,\u001b[0m \u001b[0maxis\u001b[0m\u001b[0;34m)\u001b[0m\u001b[0;34m\u001b[0m\u001b[0m\n\u001b[0m\u001b[1;32m   1433\u001b[0m                 \u001b[0;32mif\u001b[0m \u001b[0;32mnot\u001b[0m \u001b[0max\u001b[0m\u001b[0;34m.\u001b[0m\u001b[0mcontains\u001b[0m\u001b[0;34m(\u001b[0m\u001b[0mkey\u001b[0m\u001b[0;34m)\u001b[0m\u001b[0;34m:\u001b[0m\u001b[0;34m\u001b[0m\u001b[0m\n\u001b[1;32m   1434\u001b[0m                     \u001b[0merror\u001b[0m\u001b[0;34m(\u001b[0m\u001b[0;34m)\u001b[0m\u001b[0;34m\u001b[0m\u001b[0m\n",
      "\u001b[0;32m//anaconda/lib/python3.5/site-packages/pandas/core/indexing.py\u001b[0m in \u001b[0;36m_convert_scalar_indexer\u001b[0;34m(self, key, axis)\u001b[0m\n\u001b[1;32m    234\u001b[0m         \u001b[0max\u001b[0m \u001b[0;34m=\u001b[0m \u001b[0mself\u001b[0m\u001b[0;34m.\u001b[0m\u001b[0mobj\u001b[0m\u001b[0;34m.\u001b[0m\u001b[0m_get_axis\u001b[0m\u001b[0;34m(\u001b[0m\u001b[0mmin\u001b[0m\u001b[0;34m(\u001b[0m\u001b[0maxis\u001b[0m\u001b[0;34m,\u001b[0m \u001b[0mself\u001b[0m\u001b[0;34m.\u001b[0m\u001b[0mndim\u001b[0m \u001b[0;34m-\u001b[0m \u001b[0;36m1\u001b[0m\u001b[0;34m)\u001b[0m\u001b[0;34m)\u001b[0m\u001b[0;34m\u001b[0m\u001b[0m\n\u001b[1;32m    235\u001b[0m         \u001b[0;31m# a scalar\u001b[0m\u001b[0;34m\u001b[0m\u001b[0;34m\u001b[0m\u001b[0m\n\u001b[0;32m--> 236\u001b[0;31m         \u001b[0;32mreturn\u001b[0m \u001b[0max\u001b[0m\u001b[0;34m.\u001b[0m\u001b[0m_convert_scalar_indexer\u001b[0m\u001b[0;34m(\u001b[0m\u001b[0mkey\u001b[0m\u001b[0;34m,\u001b[0m \u001b[0mkind\u001b[0m\u001b[0;34m=\u001b[0m\u001b[0mself\u001b[0m\u001b[0;34m.\u001b[0m\u001b[0mname\u001b[0m\u001b[0;34m)\u001b[0m\u001b[0;34m\u001b[0m\u001b[0m\n\u001b[0m\u001b[1;32m    237\u001b[0m \u001b[0;34m\u001b[0m\u001b[0m\n\u001b[1;32m    238\u001b[0m     \u001b[0;32mdef\u001b[0m \u001b[0m_convert_slice_indexer\u001b[0m\u001b[0;34m(\u001b[0m\u001b[0mself\u001b[0m\u001b[0;34m,\u001b[0m \u001b[0mkey\u001b[0m\u001b[0;34m,\u001b[0m \u001b[0maxis\u001b[0m\u001b[0;34m)\u001b[0m\u001b[0;34m:\u001b[0m\u001b[0;34m\u001b[0m\u001b[0m\n",
      "\u001b[0;32m//anaconda/lib/python3.5/site-packages/pandas/core/indexes/base.py\u001b[0m in \u001b[0;36m_convert_scalar_indexer\u001b[0;34m(self, key, kind)\u001b[0m\n\u001b[1;32m   1333\u001b[0m             \u001b[0;32melif\u001b[0m \u001b[0mkind\u001b[0m \u001b[0;32min\u001b[0m \u001b[0;34m[\u001b[0m\u001b[0;34m'loc'\u001b[0m\u001b[0;34m]\u001b[0m \u001b[0;32mand\u001b[0m \u001b[0mis_integer\u001b[0m\u001b[0;34m(\u001b[0m\u001b[0mkey\u001b[0m\u001b[0;34m)\u001b[0m\u001b[0;34m:\u001b[0m\u001b[0;34m\u001b[0m\u001b[0m\n\u001b[1;32m   1334\u001b[0m                 \u001b[0;32mif\u001b[0m \u001b[0;32mnot\u001b[0m \u001b[0mself\u001b[0m\u001b[0;34m.\u001b[0m\u001b[0mholds_integer\u001b[0m\u001b[0;34m(\u001b[0m\u001b[0;34m)\u001b[0m\u001b[0;34m:\u001b[0m\u001b[0;34m\u001b[0m\u001b[0m\n\u001b[0;32m-> 1335\u001b[0;31m                     \u001b[0;32mreturn\u001b[0m \u001b[0mself\u001b[0m\u001b[0;34m.\u001b[0m\u001b[0m_invalid_indexer\u001b[0m\u001b[0;34m(\u001b[0m\u001b[0;34m'label'\u001b[0m\u001b[0;34m,\u001b[0m \u001b[0mkey\u001b[0m\u001b[0;34m)\u001b[0m\u001b[0;34m\u001b[0m\u001b[0m\n\u001b[0m\u001b[1;32m   1336\u001b[0m \u001b[0;34m\u001b[0m\u001b[0m\n\u001b[1;32m   1337\u001b[0m         \u001b[0;32mreturn\u001b[0m \u001b[0mkey\u001b[0m\u001b[0;34m\u001b[0m\u001b[0m\n",
      "\u001b[0;32m//anaconda/lib/python3.5/site-packages/pandas/core/indexes/base.py\u001b[0m in \u001b[0;36m_invalid_indexer\u001b[0;34m(self, form, key)\u001b[0m\n\u001b[1;32m   1517\u001b[0m                         \"indexers [{key}] of {kind}\".format(\n\u001b[1;32m   1518\u001b[0m                             \u001b[0mform\u001b[0m\u001b[0;34m=\u001b[0m\u001b[0mform\u001b[0m\u001b[0;34m,\u001b[0m \u001b[0mklass\u001b[0m\u001b[0;34m=\u001b[0m\u001b[0mtype\u001b[0m\u001b[0;34m(\u001b[0m\u001b[0mself\u001b[0m\u001b[0;34m)\u001b[0m\u001b[0;34m,\u001b[0m \u001b[0mkey\u001b[0m\u001b[0;34m=\u001b[0m\u001b[0mkey\u001b[0m\u001b[0;34m,\u001b[0m\u001b[0;34m\u001b[0m\u001b[0m\n\u001b[0;32m-> 1519\u001b[0;31m                             kind=type(key)))\n\u001b[0m\u001b[1;32m   1520\u001b[0m \u001b[0;34m\u001b[0m\u001b[0m\n\u001b[1;32m   1521\u001b[0m     \u001b[0;32mdef\u001b[0m \u001b[0mget_duplicates\u001b[0m\u001b[0;34m(\u001b[0m\u001b[0mself\u001b[0m\u001b[0;34m)\u001b[0m\u001b[0;34m:\u001b[0m\u001b[0;34m\u001b[0m\u001b[0m\n",
      "\u001b[0;31mTypeError\u001b[0m: cannot do label indexing on <class 'pandas.core.indexes.base.Index'> with these indexers [1] of <class 'int'>"
     ]
    }
   ],
   "source": [
    "df1.loc[1, 2]"
   ]
  },
  {
   "cell_type": "markdown",
   "metadata": {},
   "source": [
    "- To select data by position number, use iloc. The iloc method provides a purely position based indexing."
   ]
  },
  {
   "cell_type": "code",
   "execution_count": 85,
   "metadata": {
    "collapsed": false
   },
   "outputs": [
    {
     "data": {
      "text/plain": [
       "5"
      ]
     },
     "execution_count": 85,
     "metadata": {},
     "output_type": "execute_result"
    }
   ],
   "source": [
    "# select as a matrix \n",
    "# row 2, col 3\n",
    "df1.iloc[1, 2]"
   ]
  },
  {
   "cell_type": "code",
   "execution_count": 86,
   "metadata": {
    "collapsed": false
   },
   "outputs": [
    {
     "data": {
      "text/plain": [
       "a    0\n",
       "b    1\n",
       "Name: One, dtype: int64"
      ]
     },
     "execution_count": 86,
     "metadata": {},
     "output_type": "execute_result"
    }
   ],
   "source": [
    "# first row, first two columns\n",
    "# return a Series\n",
    "row1 = df1.iloc[0,:2]\n",
    "row1"
   ]
  },
  {
   "cell_type": "markdown",
   "metadata": {},
   "source": [
    "- You can also use a list to slice the dataframe."
   ]
  },
  {
   "cell_type": "code",
   "execution_count": 87,
   "metadata": {
    "collapsed": false
   },
   "outputs": [
    {
     "data": {
      "text/html": [
       "<div>\n",
       "<style>\n",
       "    .dataframe thead tr:only-child th {\n",
       "        text-align: right;\n",
       "    }\n",
       "\n",
       "    .dataframe thead th {\n",
       "        text-align: left;\n",
       "    }\n",
       "\n",
       "    .dataframe tbody tr th {\n",
       "        vertical-align: top;\n",
       "    }\n",
       "</style>\n",
       "<table border=\"1\" class=\"dataframe\">\n",
       "  <thead>\n",
       "    <tr style=\"text-align: right;\">\n",
       "      <th></th>\n",
       "      <th>a</th>\n",
       "      <th>b</th>\n",
       "    </tr>\n",
       "  </thead>\n",
       "  <tbody>\n",
       "    <tr>\n",
       "      <th>One</th>\n",
       "      <td>0</td>\n",
       "      <td>1</td>\n",
       "    </tr>\n",
       "    <tr>\n",
       "      <th>three</th>\n",
       "      <td>6</td>\n",
       "      <td>7</td>\n",
       "    </tr>\n",
       "  </tbody>\n",
       "</table>\n",
       "</div>"
      ],
      "text/plain": [
       "       a  b\n",
       "One    0  1\n",
       "three  6  7"
      ]
     },
     "execution_count": 87,
     "metadata": {},
     "output_type": "execute_result"
    }
   ],
   "source": [
    "df1.iloc[[0,2], :2]"
   ]
  },
  {
   "cell_type": "code",
   "execution_count": 113,
   "metadata": {
    "collapsed": false
   },
   "outputs": [
    {
     "data": {
      "text/html": [
       "<div>\n",
       "<style scoped>\n",
       "    .dataframe tbody tr th:only-of-type {\n",
       "        vertical-align: middle;\n",
       "    }\n",
       "\n",
       "    .dataframe tbody tr th {\n",
       "        vertical-align: top;\n",
       "    }\n",
       "\n",
       "    .dataframe thead th {\n",
       "        text-align: right;\n",
       "    }\n",
       "</style>\n",
       "<table border=\"1\" class=\"dataframe\">\n",
       "  <thead>\n",
       "    <tr style=\"text-align: right;\">\n",
       "      <th></th>\n",
       "      <th>area</th>\n",
       "      <th>pop</th>\n",
       "      <th>density</th>\n",
       "      <th>geography</th>\n",
       "      <th>high_point</th>\n",
       "      <th>inception</th>\n",
       "      <th>location</th>\n",
       "      <th>x</th>\n",
       "    </tr>\n",
       "    <tr>\n",
       "      <th>boro</th>\n",
       "      <th></th>\n",
       "      <th></th>\n",
       "      <th></th>\n",
       "      <th></th>\n",
       "      <th></th>\n",
       "      <th></th>\n",
       "      <th></th>\n",
       "      <th></th>\n",
       "    </tr>\n",
       "  </thead>\n",
       "  <tbody>\n",
       "    <tr>\n",
       "      <th>Bronx</th>\n",
       "      <td>42</td>\n",
       "      <td>1390000.0</td>\n",
       "      <td>33095.238095</td>\n",
       "      <td>on mainland</td>\n",
       "      <td>Chapel Farm</td>\n",
       "      <td>1898</td>\n",
       "      <td>Chapel Farm</td>\n",
       "      <td>280</td>\n",
       "    </tr>\n",
       "    <tr>\n",
       "      <th>Brooklyn</th>\n",
       "      <td>71</td>\n",
       "      <td>2470000.0</td>\n",
       "      <td>34788.732394</td>\n",
       "      <td>on island</td>\n",
       "      <td>Battle Hill</td>\n",
       "      <td>1634</td>\n",
       "      <td>Battle Hill</td>\n",
       "      <td>220</td>\n",
       "    </tr>\n",
       "    <tr>\n",
       "      <th>Manhattan</th>\n",
       "      <td>23</td>\n",
       "      <td>1590000.0</td>\n",
       "      <td>69130.434783</td>\n",
       "      <td>is an island</td>\n",
       "      <td>Bennett Park</td>\n",
       "      <td>1624</td>\n",
       "      <td>Bennett Park</td>\n",
       "      <td>265</td>\n",
       "    </tr>\n",
       "    <tr>\n",
       "      <th>Queens</th>\n",
       "      <td>109</td>\n",
       "      <td>2230000.0</td>\n",
       "      <td>20458.715596</td>\n",
       "      <td>on island</td>\n",
       "      <td>North Glen Oaks</td>\n",
       "      <td>1683</td>\n",
       "      <td>North Glen Oaks</td>\n",
       "      <td>258</td>\n",
       "    </tr>\n",
       "    <tr>\n",
       "      <th>Staten Island</th>\n",
       "      <td>59</td>\n",
       "      <td>440000.0</td>\n",
       "      <td>7457.627119</td>\n",
       "      <td>is an island</td>\n",
       "      <td>Todt Hill</td>\n",
       "      <td>1683</td>\n",
       "      <td>Todt Hill</td>\n",
       "      <td>410</td>\n",
       "    </tr>\n",
       "  </tbody>\n",
       "</table>\n",
       "</div>"
      ],
      "text/plain": [
       "               area        pop       density     geography       high_point  \\\n",
       "boro                                                                          \n",
       "Bronx            42  1390000.0  33095.238095   on mainland      Chapel Farm   \n",
       "Brooklyn         71  2470000.0  34788.732394     on island      Battle Hill   \n",
       "Manhattan        23  1590000.0  69130.434783  is an island     Bennett Park   \n",
       "Queens          109  2230000.0  20458.715596     on island  North Glen Oaks   \n",
       "Staten Island    59   440000.0   7457.627119  is an island        Todt Hill   \n",
       "\n",
       "              inception         location    x  \n",
       "boro                                           \n",
       "Bronx              1898      Chapel Farm  280  \n",
       "Brooklyn           1634      Battle Hill  220  \n",
       "Manhattan          1624     Bennett Park  265  \n",
       "Queens             1683  North Glen Oaks  258  \n",
       "Staten Island      1683        Todt Hill  410  "
      ]
     },
     "execution_count": 113,
     "metadata": {},
     "output_type": "execute_result"
    }
   ],
   "source": [
    "NYC4 #look at NYC4 again"
   ]
  },
  {
   "cell_type": "code",
   "execution_count": 114,
   "metadata": {
    "collapsed": false
   },
   "outputs": [
    {
     "data": {
      "text/html": [
       "<div>\n",
       "<style scoped>\n",
       "    .dataframe tbody tr th:only-of-type {\n",
       "        vertical-align: middle;\n",
       "    }\n",
       "\n",
       "    .dataframe tbody tr th {\n",
       "        vertical-align: top;\n",
       "    }\n",
       "\n",
       "    .dataframe thead th {\n",
       "        text-align: right;\n",
       "    }\n",
       "</style>\n",
       "<table border=\"1\" class=\"dataframe\">\n",
       "  <thead>\n",
       "    <tr style=\"text-align: right;\">\n",
       "      <th></th>\n",
       "      <th>density</th>\n",
       "      <th>high_point</th>\n",
       "    </tr>\n",
       "    <tr>\n",
       "      <th>boro</th>\n",
       "      <th></th>\n",
       "      <th></th>\n",
       "    </tr>\n",
       "  </thead>\n",
       "  <tbody>\n",
       "    <tr>\n",
       "      <th>Bronx</th>\n",
       "      <td>33095.238095</td>\n",
       "      <td>Chapel Farm</td>\n",
       "    </tr>\n",
       "    <tr>\n",
       "      <th>Brooklyn</th>\n",
       "      <td>34788.732394</td>\n",
       "      <td>Battle Hill</td>\n",
       "    </tr>\n",
       "    <tr>\n",
       "      <th>Manhattan</th>\n",
       "      <td>69130.434783</td>\n",
       "      <td>Bennett Park</td>\n",
       "    </tr>\n",
       "    <tr>\n",
       "      <th>Queens</th>\n",
       "      <td>20458.715596</td>\n",
       "      <td>North Glen Oaks</td>\n",
       "    </tr>\n",
       "    <tr>\n",
       "      <th>Staten Island</th>\n",
       "      <td>7457.627119</td>\n",
       "      <td>Todt Hill</td>\n",
       "    </tr>\n",
       "  </tbody>\n",
       "</table>\n",
       "</div>"
      ],
      "text/plain": [
       "                    density       high_point\n",
       "boro                                        \n",
       "Bronx          33095.238095      Chapel Farm\n",
       "Brooklyn       34788.732394      Battle Hill\n",
       "Manhattan      69130.434783     Bennett Park\n",
       "Queens         20458.715596  North Glen Oaks\n",
       "Staten Island   7457.627119        Todt Hill"
      ]
     },
     "execution_count": 114,
     "metadata": {},
     "output_type": "execute_result"
    }
   ],
   "source": [
    "#get the i=2 and i=4 column of NYC4\n",
    "NYC4.iloc[:,[2,4]]"
   ]
  },
  {
   "cell_type": "markdown",
   "metadata": {},
   "source": [
    "- DataFrame’s apply method applies a function on 1D arrays to each column or row."
   ]
  },
  {
   "cell_type": "code",
   "execution_count": 90,
   "metadata": {
    "collapsed": false
   },
   "outputs": [
    {
     "data": {
      "text/plain": [
       "a    6\n",
       "b    7\n",
       "c    8\n",
       "dtype: int64"
      ]
     },
     "execution_count": 90,
     "metadata": {},
     "output_type": "execute_result"
    }
   ],
   "source": [
    "df1.apply(lambda x: max(x), axis=0) # 0 stands for apply to each column"
   ]
  },
  {
   "cell_type": "code",
   "execution_count": 91,
   "metadata": {
    "collapsed": false
   },
   "outputs": [
    {
     "data": {
      "text/plain": [
       "One      0\n",
       "two      3\n",
       "three    6\n",
       "dtype: int64"
      ]
     },
     "execution_count": 91,
     "metadata": {},
     "output_type": "execute_result"
    }
   ],
   "source": [
    "df1.apply(lambda x: min(x), axis=1) # 1 stands for apply to each row"
   ]
  },
  {
   "cell_type": "markdown",
   "metadata": {},
   "source": [
    "- If you just want to apply the function to a single column, you can extract that specific series first and then call the `map()` method just like the `map` operator in Python. "
   ]
  },
  {
   "cell_type": "code",
   "execution_count": 92,
   "metadata": {
    "collapsed": false
   },
   "outputs": [
    {
     "data": {
      "text/plain": [
       "One      1\n",
       "two      4\n",
       "three    7\n",
       "Name: a, dtype: int64"
      ]
     },
     "execution_count": 92,
     "metadata": {},
     "output_type": "execute_result"
    }
   ],
   "source": [
    "df1.a.map(lambda x: x+1)"
   ]
  },
  {
   "cell_type": "markdown",
   "metadata": {},
   "source": [
    "### Removing data"
   ]
  },
  {
   "cell_type": "code",
   "execution_count": 93,
   "metadata": {
    "collapsed": false
   },
   "outputs": [
    {
     "data": {
      "text/html": [
       "<div>\n",
       "<style>\n",
       "    .dataframe thead tr:only-child th {\n",
       "        text-align: right;\n",
       "    }\n",
       "\n",
       "    .dataframe thead th {\n",
       "        text-align: left;\n",
       "    }\n",
       "\n",
       "    .dataframe tbody tr th {\n",
       "        vertical-align: top;\n",
       "    }\n",
       "</style>\n",
       "<table border=\"1\" class=\"dataframe\">\n",
       "  <thead>\n",
       "    <tr style=\"text-align: right;\">\n",
       "      <th></th>\n",
       "      <th>a</th>\n",
       "      <th>b</th>\n",
       "      <th>c</th>\n",
       "    </tr>\n",
       "  </thead>\n",
       "  <tbody>\n",
       "    <tr>\n",
       "      <th>One</th>\n",
       "      <td>0</td>\n",
       "      <td>1</td>\n",
       "      <td>2</td>\n",
       "    </tr>\n",
       "    <tr>\n",
       "      <th>two</th>\n",
       "      <td>3</td>\n",
       "      <td>4</td>\n",
       "      <td>5</td>\n",
       "    </tr>\n",
       "    <tr>\n",
       "      <th>three</th>\n",
       "      <td>6</td>\n",
       "      <td>7</td>\n",
       "      <td>8</td>\n",
       "    </tr>\n",
       "  </tbody>\n",
       "</table>\n",
       "</div>"
      ],
      "text/plain": [
       "       a  b  c\n",
       "One    0  1  2\n",
       "two    3  4  5\n",
       "three  6  7  8"
      ]
     },
     "execution_count": 93,
     "metadata": {},
     "output_type": "execute_result"
    }
   ],
   "source": [
    "#this removes row 'two'\n",
    "df1.loc[df1.index != 'two']\n",
    "df1"
   ]
  },
  {
   "cell_type": "code",
   "execution_count": 115,
   "metadata": {
    "collapsed": false
   },
   "outputs": [],
   "source": [
    "#this removes column 'a'\n",
    "df1.drop('a', 1)\n",
    "df1.drop?"
   ]
  },
  {
   "cell_type": "markdown",
   "metadata": {},
   "source": [
    "- Rows and columns may also be removed using fancy indexing or `drop()`."
   ]
  },
  {
   "cell_type": "code",
   "execution_count": 116,
   "metadata": {
    "collapsed": false
   },
   "outputs": [
    {
     "data": {
      "text/html": [
       "<div>\n",
       "<style scoped>\n",
       "    .dataframe tbody tr th:only-of-type {\n",
       "        vertical-align: middle;\n",
       "    }\n",
       "\n",
       "    .dataframe tbody tr th {\n",
       "        vertical-align: top;\n",
       "    }\n",
       "\n",
       "    .dataframe thead th {\n",
       "        text-align: right;\n",
       "    }\n",
       "</style>\n",
       "<table border=\"1\" class=\"dataframe\">\n",
       "  <thead>\n",
       "    <tr style=\"text-align: right;\">\n",
       "      <th></th>\n",
       "      <th>a</th>\n",
       "      <th>c</th>\n",
       "    </tr>\n",
       "  </thead>\n",
       "  <tbody>\n",
       "    <tr>\n",
       "      <th>One</th>\n",
       "      <td>30</td>\n",
       "      <td>30</td>\n",
       "    </tr>\n",
       "    <tr>\n",
       "      <th>two</th>\n",
       "      <td>3</td>\n",
       "      <td>5</td>\n",
       "    </tr>\n",
       "    <tr>\n",
       "      <th>three</th>\n",
       "      <td>6</td>\n",
       "      <td>8</td>\n",
       "    </tr>\n",
       "  </tbody>\n",
       "</table>\n",
       "</div>"
      ],
      "text/plain": [
       "        a   c\n",
       "One    30  30\n",
       "two     3   5\n",
       "three   6   8"
      ]
     },
     "execution_count": 116,
     "metadata": {},
     "output_type": "execute_result"
    }
   ],
   "source": [
    "#this removes column b\n",
    "df1.loc[:,df1.columns != 'b']"
   ]
  },
  {
   "cell_type": "code",
   "execution_count": 96,
   "metadata": {
    "collapsed": false
   },
   "outputs": [
    {
     "data": {
      "text/plain": [
       "array([ True, False,  True], dtype=bool)"
      ]
     },
     "execution_count": 96,
     "metadata": {},
     "output_type": "execute_result"
    }
   ],
   "source": [
    "# remember the following expression is a boolean and acts as a mask\n",
    "df1.columns != 'b'"
   ]
  },
  {
   "cell_type": "code",
   "execution_count": 97,
   "metadata": {
    "collapsed": false
   },
   "outputs": [
    {
     "data": {
      "text/html": [
       "<div>\n",
       "<style>\n",
       "    .dataframe thead tr:only-child th {\n",
       "        text-align: right;\n",
       "    }\n",
       "\n",
       "    .dataframe thead th {\n",
       "        text-align: left;\n",
       "    }\n",
       "\n",
       "    .dataframe tbody tr th {\n",
       "        vertical-align: top;\n",
       "    }\n",
       "</style>\n",
       "<table border=\"1\" class=\"dataframe\">\n",
       "  <thead>\n",
       "    <tr style=\"text-align: right;\">\n",
       "      <th></th>\n",
       "      <th>a</th>\n",
       "      <th>c</th>\n",
       "    </tr>\n",
       "  </thead>\n",
       "  <tbody>\n",
       "    <tr>\n",
       "      <th>One</th>\n",
       "      <td>0</td>\n",
       "      <td>2</td>\n",
       "    </tr>\n",
       "    <tr>\n",
       "      <th>two</th>\n",
       "      <td>3</td>\n",
       "      <td>5</td>\n",
       "    </tr>\n",
       "    <tr>\n",
       "      <th>three</th>\n",
       "      <td>6</td>\n",
       "      <td>8</td>\n",
       "    </tr>\n",
       "  </tbody>\n",
       "</table>\n",
       "</div>"
      ],
      "text/plain": [
       "       a  c\n",
       "One    0  2\n",
       "two    3  5\n",
       "three  6  8"
      ]
     },
     "execution_count": 97,
     "metadata": {},
     "output_type": "execute_result"
    }
   ],
   "source": [
    "#this removes column 'b'\n",
    "df1.drop('b', axis=1)"
   ]
  },
  {
   "cell_type": "markdown",
   "metadata": {
    "collapsed": true
   },
   "source": [
    "<p><a name=\"miss\"></a></p>\n",
    "# Handling Missing Data\n",
    "\n",
    "- Missing or, equivalently, corrupted data is an unavoidable reality in processing large data sets.  There are various ways of dealing with it, depending upon the circumstances:\n",
    " - Discard it, and all related data.\n",
    " - Interpolate values from surrounding data\n",
    " - Isolate it and analyze it separately\n",
    "\n",
    "- Which approach to use is a scientific question.  Whatever approach is chosen, pandas has computational methods to carry it out.\n",
    "- Read a csv file that contains NaNs. **Note:** index_col is set to 0.  This means the first column is used as the index."
   ]
  },
  {
   "cell_type": "code",
   "execution_count": 117,
   "metadata": {
    "collapsed": false
   },
   "outputs": [
    {
     "data": {
      "text/html": [
       "<div>\n",
       "<style scoped>\n",
       "    .dataframe tbody tr th:only-of-type {\n",
       "        vertical-align: middle;\n",
       "    }\n",
       "\n",
       "    .dataframe tbody tr th {\n",
       "        vertical-align: top;\n",
       "    }\n",
       "\n",
       "    .dataframe thead th {\n",
       "        text-align: right;\n",
       "    }\n",
       "</style>\n",
       "<table border=\"1\" class=\"dataframe\">\n",
       "  <thead>\n",
       "    <tr style=\"text-align: right;\">\n",
       "      <th></th>\n",
       "      <th>one</th>\n",
       "      <th>two</th>\n",
       "      <th>three</th>\n",
       "      <th>four</th>\n",
       "    </tr>\n",
       "  </thead>\n",
       "  <tbody>\n",
       "    <tr>\n",
       "      <th>a</th>\n",
       "      <td>-1.250699</td>\n",
       "      <td>-0.573801</td>\n",
       "      <td>0.705961</td>\n",
       "      <td>-1.015682</td>\n",
       "    </tr>\n",
       "    <tr>\n",
       "      <th>b</th>\n",
       "      <td>NaN</td>\n",
       "      <td>-0.217766</td>\n",
       "      <td>0.655179</td>\n",
       "      <td>1.379276</td>\n",
       "    </tr>\n",
       "    <tr>\n",
       "      <th>c</th>\n",
       "      <td>-0.860359</td>\n",
       "      <td>-1.313747</td>\n",
       "      <td>0.676174</td>\n",
       "      <td>1.034417</td>\n",
       "    </tr>\n",
       "    <tr>\n",
       "      <th>d</th>\n",
       "      <td>NaN</td>\n",
       "      <td>NaN</td>\n",
       "      <td>NaN</td>\n",
       "      <td>NaN</td>\n",
       "    </tr>\n",
       "    <tr>\n",
       "      <th>e</th>\n",
       "      <td>0.079169</td>\n",
       "      <td>0.029138</td>\n",
       "      <td>0.239183</td>\n",
       "      <td>-0.492039</td>\n",
       "    </tr>\n",
       "    <tr>\n",
       "      <th>f</th>\n",
       "      <td>-1.149060</td>\n",
       "      <td>NaN</td>\n",
       "      <td>NaN</td>\n",
       "      <td>-0.160499</td>\n",
       "    </tr>\n",
       "  </tbody>\n",
       "</table>\n",
       "</div>"
      ],
      "text/plain": [
       "        one       two     three      four\n",
       "a -1.250699 -0.573801  0.705961 -1.015682\n",
       "b       NaN -0.217766  0.655179  1.379276\n",
       "c -0.860359 -1.313747  0.676174  1.034417\n",
       "d       NaN       NaN       NaN       NaN\n",
       "e  0.079169  0.029138  0.239183 -0.492039\n",
       "f -1.149060       NaN       NaN -0.160499"
      ]
     },
     "execution_count": 117,
     "metadata": {},
     "output_type": "execute_result"
    }
   ],
   "source": [
    "df_miss = pd.read_csv('missing.csv',index_col=0)\n",
    "df_miss"
   ]
  },
  {
   "cell_type": "markdown",
   "metadata": {
    "collapsed": true
   },
   "source": [
    "- To figure out where the missing data is, use the `isnull()` method."
   ]
  },
  {
   "cell_type": "code",
   "execution_count": 99,
   "metadata": {
    "collapsed": false
   },
   "outputs": [
    {
     "data": {
      "text/html": [
       "<div>\n",
       "<style>\n",
       "    .dataframe thead tr:only-child th {\n",
       "        text-align: right;\n",
       "    }\n",
       "\n",
       "    .dataframe thead th {\n",
       "        text-align: left;\n",
       "    }\n",
       "\n",
       "    .dataframe tbody tr th {\n",
       "        vertical-align: top;\n",
       "    }\n",
       "</style>\n",
       "<table border=\"1\" class=\"dataframe\">\n",
       "  <thead>\n",
       "    <tr style=\"text-align: right;\">\n",
       "      <th></th>\n",
       "      <th>one</th>\n",
       "      <th>two</th>\n",
       "      <th>three</th>\n",
       "      <th>four</th>\n",
       "    </tr>\n",
       "  </thead>\n",
       "  <tbody>\n",
       "    <tr>\n",
       "      <th>a</th>\n",
       "      <td>False</td>\n",
       "      <td>False</td>\n",
       "      <td>False</td>\n",
       "      <td>False</td>\n",
       "    </tr>\n",
       "    <tr>\n",
       "      <th>b</th>\n",
       "      <td>True</td>\n",
       "      <td>False</td>\n",
       "      <td>False</td>\n",
       "      <td>False</td>\n",
       "    </tr>\n",
       "    <tr>\n",
       "      <th>c</th>\n",
       "      <td>False</td>\n",
       "      <td>False</td>\n",
       "      <td>False</td>\n",
       "      <td>False</td>\n",
       "    </tr>\n",
       "    <tr>\n",
       "      <th>d</th>\n",
       "      <td>True</td>\n",
       "      <td>True</td>\n",
       "      <td>True</td>\n",
       "      <td>True</td>\n",
       "    </tr>\n",
       "    <tr>\n",
       "      <th>e</th>\n",
       "      <td>False</td>\n",
       "      <td>False</td>\n",
       "      <td>False</td>\n",
       "      <td>False</td>\n",
       "    </tr>\n",
       "    <tr>\n",
       "      <th>f</th>\n",
       "      <td>False</td>\n",
       "      <td>True</td>\n",
       "      <td>True</td>\n",
       "      <td>False</td>\n",
       "    </tr>\n",
       "  </tbody>\n",
       "</table>\n",
       "</div>"
      ],
      "text/plain": [
       "     one    two  three   four\n",
       "a  False  False  False  False\n",
       "b   True  False  False  False\n",
       "c  False  False  False  False\n",
       "d   True   True   True   True\n",
       "e  False  False  False  False\n",
       "f  False   True   True  False"
      ]
     },
     "execution_count": 99,
     "metadata": {},
     "output_type": "execute_result"
    }
   ],
   "source": [
    "df_miss.isnull()"
   ]
  },
  {
   "cell_type": "markdown",
   "metadata": {},
   "source": [
    "- How many missing values are there in the dataframe?"
   ]
  },
  {
   "cell_type": "code",
   "execution_count": 100,
   "metadata": {
    "collapsed": false
   },
   "outputs": [
    {
     "ename": "TypeError",
     "evalue": "unsupported operand type(s) for +: 'int' and 'str'",
     "output_type": "error",
     "traceback": [
      "\u001b[0;31m---------------------------------------------------------------------------\u001b[0m",
      "\u001b[0;31mTypeError\u001b[0m                                 Traceback (most recent call last)",
      "\u001b[0;32m<ipython-input-100-6b6750e1f420>\u001b[0m in \u001b[0;36m<module>\u001b[0;34m()\u001b[0m\n\u001b[0;32m----> 1\u001b[0;31m \u001b[0msum\u001b[0m\u001b[0;34m(\u001b[0m\u001b[0mdf_miss\u001b[0m\u001b[0;34m.\u001b[0m\u001b[0misnull\u001b[0m\u001b[0;34m(\u001b[0m\u001b[0;34m)\u001b[0m\u001b[0;34m)\u001b[0m \u001b[0;31m# Built-in sum doesn't work\u001b[0m\u001b[0;34m\u001b[0m\u001b[0m\n\u001b[0m",
      "\u001b[0;31mTypeError\u001b[0m: unsupported operand type(s) for +: 'int' and 'str'"
     ]
    }
   ],
   "source": [
    "sum(df_miss.isnull()) # Built-in sum doesn't work"
   ]
  },
  {
   "cell_type": "markdown",
   "metadata": {
    "collapsed": true
   },
   "source": [
    "- Summing up the boolean array reports how many missing values are in each column."
   ]
  },
  {
   "cell_type": "code",
   "execution_count": 118,
   "metadata": {
    "collapsed": false
   },
   "outputs": [
    {
     "data": {
      "text/plain": [
       "one      2\n",
       "two      2\n",
       "three    2\n",
       "four     1\n",
       "dtype: int64"
      ]
     },
     "execution_count": 118,
     "metadata": {},
     "output_type": "execute_result"
    }
   ],
   "source": [
    "np.sum(df_miss.isnull())"
   ]
  },
  {
   "cell_type": "markdown",
   "metadata": {},
   "source": [
    "- The same is possible for rows by setting the axis parameter to 1."
   ]
  },
  {
   "cell_type": "code",
   "execution_count": 102,
   "metadata": {
    "collapsed": false
   },
   "outputs": [
    {
     "data": {
      "text/plain": [
       "a    0\n",
       "b    1\n",
       "c    0\n",
       "d    4\n",
       "e    0\n",
       "f    2\n",
       "dtype: int64"
      ]
     },
     "execution_count": 102,
     "metadata": {},
     "output_type": "execute_result"
    }
   ],
   "source": [
    "np.sum(df_miss.isnull(), axis=1)"
   ]
  },
  {
   "cell_type": "markdown",
   "metadata": {},
   "source": [
    "- To isolate the rows in which there are null values, aggregate the `df.isnull()` boolean data frame along rows, using `any` with `axis=1`."
   ]
  },
  {
   "cell_type": "code",
   "execution_count": 119,
   "metadata": {
    "collapsed": false
   },
   "outputs": [
    {
     "data": {
      "text/plain": [
       "module"
      ]
     },
     "execution_count": 119,
     "metadata": {},
     "output_type": "execute_result"
    }
   ],
   "source": [
    "mask=df_miss.isnull().any(axis=1)\n",
    "mask"
   ]
  },
  {
   "cell_type": "markdown",
   "metadata": {},
   "source": [
    "- Passing the boolean Series to the first position of the `loc` method of the DataFrame selects the rows that have value equal to True:"
   ]
  },
  {
   "cell_type": "code",
   "execution_count": 120,
   "metadata": {
    "collapsed": false
   },
   "outputs": [
    {
     "data": {
      "text/html": [
       "<div>\n",
       "<style scoped>\n",
       "    .dataframe tbody tr th:only-of-type {\n",
       "        vertical-align: middle;\n",
       "    }\n",
       "\n",
       "    .dataframe tbody tr th {\n",
       "        vertical-align: top;\n",
       "    }\n",
       "\n",
       "    .dataframe thead th {\n",
       "        text-align: right;\n",
       "    }\n",
       "</style>\n",
       "<table border=\"1\" class=\"dataframe\">\n",
       "  <thead>\n",
       "    <tr style=\"text-align: right;\">\n",
       "      <th></th>\n",
       "      <th>one</th>\n",
       "      <th>two</th>\n",
       "      <th>three</th>\n",
       "      <th>four</th>\n",
       "    </tr>\n",
       "  </thead>\n",
       "  <tbody>\n",
       "    <tr>\n",
       "      <th>b</th>\n",
       "      <td>NaN</td>\n",
       "      <td>-0.217766</td>\n",
       "      <td>0.655179</td>\n",
       "      <td>1.379276</td>\n",
       "    </tr>\n",
       "    <tr>\n",
       "      <th>d</th>\n",
       "      <td>NaN</td>\n",
       "      <td>NaN</td>\n",
       "      <td>NaN</td>\n",
       "      <td>NaN</td>\n",
       "    </tr>\n",
       "    <tr>\n",
       "      <th>f</th>\n",
       "      <td>-1.14906</td>\n",
       "      <td>NaN</td>\n",
       "      <td>NaN</td>\n",
       "      <td>-0.160499</td>\n",
       "    </tr>\n",
       "  </tbody>\n",
       "</table>\n",
       "</div>"
      ],
      "text/plain": [
       "       one       two     three      four\n",
       "b      NaN -0.217766  0.655179  1.379276\n",
       "d      NaN       NaN       NaN       NaN\n",
       "f -1.14906       NaN       NaN -0.160499"
      ]
     },
     "execution_count": 120,
     "metadata": {},
     "output_type": "execute_result"
    }
   ],
   "source": [
    "df_miss.loc[mask,:]"
   ]
  },
  {
   "cell_type": "markdown",
   "metadata": {},
   "source": [
    "- Similarly, if you want to locate the rows that contains only missing values, you can use `all()`"
   ]
  },
  {
   "cell_type": "code",
   "execution_count": 124,
   "metadata": {
    "collapsed": false
   },
   "outputs": [
    {
     "data": {
      "text/plain": [
       "a    False\n",
       "b    False\n",
       "c    False\n",
       "d     True\n",
       "e    False\n",
       "f    False\n",
       "dtype: bool"
      ]
     },
     "execution_count": 124,
     "metadata": {},
     "output_type": "execute_result"
    }
   ],
   "source": [
    "mask=df_miss.isnull().all(axis=1)\n",
    "mask = pd.isnull(df_miss).all(axis=1)\n",
    "mask"
   ]
  },
  {
   "cell_type": "markdown",
   "metadata": {
    "collapsed": true
   },
   "source": [
    "**Exercise 5**\n",
    "- Handling NaNs has been shown, however, not all missing values are NaNs. Consider the example below:\n",
    "\n",
    "```\n",
    "Employee = pd.read_csv('Employee_continue.csv')\n",
    "```\n",
    "\n",
    "Print the data frame, looking for missing values by inspection. How many missing values are there? Some of the missing values might not be NaNs."
   ]
  },
  {
   "cell_type": "code",
   "execution_count": 132,
   "metadata": {
    "collapsed": false
   },
   "outputs": [
    {
     "data": {
      "text/html": [
       "<div>\n",
       "<style scoped>\n",
       "    .dataframe tbody tr th:only-of-type {\n",
       "        vertical-align: middle;\n",
       "    }\n",
       "\n",
       "    .dataframe tbody tr th {\n",
       "        vertical-align: top;\n",
       "    }\n",
       "\n",
       "    .dataframe thead th {\n",
       "        text-align: right;\n",
       "    }\n",
       "</style>\n",
       "<table border=\"1\" class=\"dataframe\">\n",
       "  <thead>\n",
       "    <tr style=\"text-align: right;\">\n",
       "      <th></th>\n",
       "      <th>Department</th>\n",
       "      <th>Education</th>\n",
       "      <th>Sex</th>\n",
       "      <th>Title</th>\n",
       "      <th>Year</th>\n",
       "      <th>Name</th>\n",
       "      <th>Salary</th>\n",
       "    </tr>\n",
       "  </thead>\n",
       "  <tbody>\n",
       "    <tr>\n",
       "      <th>0</th>\n",
       "      <td>IT</td>\n",
       "      <td>Bachelor</td>\n",
       "      <td>M</td>\n",
       "      <td>analyst</td>\n",
       "      <td>1.0</td>\n",
       "      <td>Bob</td>\n",
       "      <td>90.0</td>\n",
       "    </tr>\n",
       "    <tr>\n",
       "      <th>1</th>\n",
       "      <td>IT</td>\n",
       "      <td>Master</td>\n",
       "      <td>M</td>\n",
       "      <td>analyst</td>\n",
       "      <td>2.0</td>\n",
       "      <td>Jake</td>\n",
       "      <td>90.0</td>\n",
       "    </tr>\n",
       "    <tr>\n",
       "      <th>2</th>\n",
       "      <td>HR</td>\n",
       "      <td>Master</td>\n",
       "      <td>M</td>\n",
       "      <td>analyst</td>\n",
       "      <td>2.0</td>\n",
       "      <td>John</td>\n",
       "      <td>90.0</td>\n",
       "    </tr>\n",
       "    <tr>\n",
       "      <th>3</th>\n",
       "      <td>HR</td>\n",
       "      <td>Bachelor</td>\n",
       "      <td>F</td>\n",
       "      <td>analyst</td>\n",
       "      <td>2.0</td>\n",
       "      <td>Judy</td>\n",
       "      <td>90.0</td>\n",
       "    </tr>\n",
       "    <tr>\n",
       "      <th>4</th>\n",
       "      <td>Trade</td>\n",
       "      <td>PHD</td>\n",
       "      <td>M</td>\n",
       "      <td>associate</td>\n",
       "      <td>3.0</td>\n",
       "      <td>Sam</td>\n",
       "      <td>120.0</td>\n",
       "    </tr>\n",
       "    <tr>\n",
       "      <th>5</th>\n",
       "      <td>?</td>\n",
       "      <td>PHD</td>\n",
       "      <td>F</td>\n",
       "      <td>associate</td>\n",
       "      <td>5.0</td>\n",
       "      <td>Amy</td>\n",
       "      <td>120.0</td>\n",
       "    </tr>\n",
       "    <tr>\n",
       "      <th>6</th>\n",
       "      <td>Trade</td>\n",
       "      <td>Master</td>\n",
       "      <td>F</td>\n",
       "      <td>associate</td>\n",
       "      <td>NaN</td>\n",
       "      <td>Jennifer</td>\n",
       "      <td>120.0</td>\n",
       "    </tr>\n",
       "    <tr>\n",
       "      <th>7</th>\n",
       "      <td>HR</td>\n",
       "      <td>Master</td>\n",
       "      <td>M</td>\n",
       "      <td>VP</td>\n",
       "      <td>8.0</td>\n",
       "      <td>Peter</td>\n",
       "      <td>262.5</td>\n",
       "    </tr>\n",
       "    <tr>\n",
       "      <th>8</th>\n",
       "      <td>IT</td>\n",
       "      <td>?</td>\n",
       "      <td>F</td>\n",
       "      <td>VP</td>\n",
       "      <td>9.0</td>\n",
       "      <td>Mary</td>\n",
       "      <td>262.5</td>\n",
       "    </tr>\n",
       "  </tbody>\n",
       "</table>\n",
       "</div>"
      ],
      "text/plain": [
       "  Department Education Sex      Title  Year      Name  Salary\n",
       "0         IT  Bachelor   M    analyst   1.0       Bob    90.0\n",
       "1         IT    Master   M    analyst   2.0      Jake    90.0\n",
       "2         HR    Master   M    analyst   2.0      John    90.0\n",
       "3         HR  Bachelor   F    analyst   2.0      Judy    90.0\n",
       "4      Trade       PHD   M  associate   3.0       Sam   120.0\n",
       "5          ?       PHD   F  associate   5.0       Amy   120.0\n",
       "6      Trade    Master   F  associate   NaN  Jennifer   120.0\n",
       "7         HR    Master   M         VP   8.0     Peter   262.5\n",
       "8         IT         ?   F         VP   9.0      Mary   262.5"
      ]
     },
     "execution_count": 132,
     "metadata": {},
     "output_type": "execute_result"
    }
   ],
   "source": [
    "Employee = pd.read_csv('Employee_continue.csv')#, na_values=[np.nan,'?'])\n",
    "Employee"
   ]
  },
  {
   "cell_type": "code",
   "execution_count": 125,
   "metadata": {
    "collapsed": true
   },
   "outputs": [],
   "source": [
    "pd.read_csv?"
   ]
  },
  {
   "cell_type": "markdown",
   "metadata": {},
   "source": [
    "- See '?' in the data frame. For a small data frame like this the '?' may be replaced by `np.nan` manually. In dealing with a large data frame, it is more efficient to use the function `replace`. Use `replace` to swap '?' with `np.nan`."
   ]
  },
  {
   "cell_type": "code",
   "execution_count": 135,
   "metadata": {
    "collapsed": false
   },
   "outputs": [
    {
     "data": {
      "text/html": [
       "<div>\n",
       "<style scoped>\n",
       "    .dataframe tbody tr th:only-of-type {\n",
       "        vertical-align: middle;\n",
       "    }\n",
       "\n",
       "    .dataframe tbody tr th {\n",
       "        vertical-align: top;\n",
       "    }\n",
       "\n",
       "    .dataframe thead th {\n",
       "        text-align: right;\n",
       "    }\n",
       "</style>\n",
       "<table border=\"1\" class=\"dataframe\">\n",
       "  <thead>\n",
       "    <tr style=\"text-align: right;\">\n",
       "      <th></th>\n",
       "      <th>Department</th>\n",
       "      <th>Education</th>\n",
       "      <th>Sex</th>\n",
       "      <th>Title</th>\n",
       "      <th>Year</th>\n",
       "      <th>Name</th>\n",
       "      <th>Salary</th>\n",
       "    </tr>\n",
       "  </thead>\n",
       "  <tbody>\n",
       "    <tr>\n",
       "      <th>4</th>\n",
       "      <td>Trade</td>\n",
       "      <td>PHD</td>\n",
       "      <td>M</td>\n",
       "      <td>associate</td>\n",
       "      <td>3.0</td>\n",
       "      <td>Sam</td>\n",
       "      <td>120.0</td>\n",
       "    </tr>\n",
       "    <tr>\n",
       "      <th>5</th>\n",
       "      <td>NaN</td>\n",
       "      <td>PHD</td>\n",
       "      <td>F</td>\n",
       "      <td>associate</td>\n",
       "      <td>5.0</td>\n",
       "      <td>Amy</td>\n",
       "      <td>120.0</td>\n",
       "    </tr>\n",
       "    <tr>\n",
       "      <th>6</th>\n",
       "      <td>Trade</td>\n",
       "      <td>Master</td>\n",
       "      <td>F</td>\n",
       "      <td>associate</td>\n",
       "      <td>NaN</td>\n",
       "      <td>Jennifer</td>\n",
       "      <td>120.0</td>\n",
       "    </tr>\n",
       "    <tr>\n",
       "      <th>7</th>\n",
       "      <td>HR</td>\n",
       "      <td>Master</td>\n",
       "      <td>M</td>\n",
       "      <td>VP</td>\n",
       "      <td>8.0</td>\n",
       "      <td>Peter</td>\n",
       "      <td>262.5</td>\n",
       "    </tr>\n",
       "    <tr>\n",
       "      <th>8</th>\n",
       "      <td>IT</td>\n",
       "      <td>NaN</td>\n",
       "      <td>F</td>\n",
       "      <td>VP</td>\n",
       "      <td>9.0</td>\n",
       "      <td>Mary</td>\n",
       "      <td>262.5</td>\n",
       "    </tr>\n",
       "  </tbody>\n",
       "</table>\n",
       "</div>"
      ],
      "text/plain": [
       "  Department Education Sex      Title  Year      Name  Salary\n",
       "4      Trade       PHD   M  associate   3.0       Sam   120.0\n",
       "5        NaN       PHD   F  associate   5.0       Amy   120.0\n",
       "6      Trade    Master   F  associate   NaN  Jennifer   120.0\n",
       "7         HR    Master   M         VP   8.0     Peter   262.5\n",
       "8         IT       NaN   F         VP   9.0      Mary   262.5"
      ]
     },
     "execution_count": 135,
     "metadata": {},
     "output_type": "execute_result"
    }
   ],
   "source": [
    "#### Your code here\n",
    "Employee2 = Employee.replace(to_replace=['?',np.nan],value=np.nan)\n",
    "Employee2.tail()"
   ]
  },
  {
   "cell_type": "markdown",
   "metadata": {},
   "source": [
    "- How many missing values are there in each row? How many in each column?"
   ]
  },
  {
   "cell_type": "code",
   "execution_count": 136,
   "metadata": {
    "collapsed": false
   },
   "outputs": [
    {
     "data": {
      "text/plain": [
       "Department    1\n",
       "Education     1\n",
       "Sex           0\n",
       "Title         0\n",
       "Year          1\n",
       "Name          0\n",
       "Salary        0\n",
       "dtype: int64"
      ]
     },
     "execution_count": 136,
     "metadata": {},
     "output_type": "execute_result"
    }
   ],
   "source": [
    "#### Your code here\n",
    "Employee2.isnull().sum(axis=1)\n",
    "Employee2.isnull().sum(axis=0)"
   ]
  },
  {
   "cell_type": "markdown",
   "metadata": {},
   "source": [
    "- Print the rows with missing values."
   ]
  },
  {
   "cell_type": "code",
   "execution_count": 137,
   "metadata": {
    "collapsed": false
   },
   "outputs": [
    {
     "data": {
      "text/html": [
       "<div>\n",
       "<style scoped>\n",
       "    .dataframe tbody tr th:only-of-type {\n",
       "        vertical-align: middle;\n",
       "    }\n",
       "\n",
       "    .dataframe tbody tr th {\n",
       "        vertical-align: top;\n",
       "    }\n",
       "\n",
       "    .dataframe thead th {\n",
       "        text-align: right;\n",
       "    }\n",
       "</style>\n",
       "<table border=\"1\" class=\"dataframe\">\n",
       "  <thead>\n",
       "    <tr style=\"text-align: right;\">\n",
       "      <th></th>\n",
       "      <th>Department</th>\n",
       "      <th>Education</th>\n",
       "      <th>Sex</th>\n",
       "      <th>Title</th>\n",
       "      <th>Year</th>\n",
       "      <th>Name</th>\n",
       "      <th>Salary</th>\n",
       "    </tr>\n",
       "  </thead>\n",
       "  <tbody>\n",
       "    <tr>\n",
       "      <th>5</th>\n",
       "      <td>NaN</td>\n",
       "      <td>PHD</td>\n",
       "      <td>F</td>\n",
       "      <td>associate</td>\n",
       "      <td>5.0</td>\n",
       "      <td>Amy</td>\n",
       "      <td>120.0</td>\n",
       "    </tr>\n",
       "    <tr>\n",
       "      <th>6</th>\n",
       "      <td>Trade</td>\n",
       "      <td>Master</td>\n",
       "      <td>F</td>\n",
       "      <td>associate</td>\n",
       "      <td>NaN</td>\n",
       "      <td>Jennifer</td>\n",
       "      <td>120.0</td>\n",
       "    </tr>\n",
       "    <tr>\n",
       "      <th>8</th>\n",
       "      <td>IT</td>\n",
       "      <td>NaN</td>\n",
       "      <td>F</td>\n",
       "      <td>VP</td>\n",
       "      <td>9.0</td>\n",
       "      <td>Mary</td>\n",
       "      <td>262.5</td>\n",
       "    </tr>\n",
       "  </tbody>\n",
       "</table>\n",
       "</div>"
      ],
      "text/plain": [
       "  Department Education Sex      Title  Year      Name  Salary\n",
       "5        NaN       PHD   F  associate   5.0       Amy   120.0\n",
       "6      Trade    Master   F  associate   NaN  Jennifer   120.0\n",
       "8         IT       NaN   F         VP   9.0      Mary   262.5"
      ]
     },
     "execution_count": 137,
     "metadata": {},
     "output_type": "execute_result"
    }
   ],
   "source": [
    "#### Your code here\n",
    "missing_rows = Employee2.isnull().sum(axis=1)>0\n",
    "Employee2.loc[missing_rows]"
   ]
  },
  {
   "cell_type": "markdown",
   "metadata": {},
   "source": [
    "- Print the columns with missing values."
   ]
  },
  {
   "cell_type": "code",
   "execution_count": 110,
   "metadata": {
    "collapsed": false
   },
   "outputs": [
    {
     "data": {
      "text/html": [
       "<div>\n",
       "<style>\n",
       "    .dataframe thead tr:only-child th {\n",
       "        text-align: right;\n",
       "    }\n",
       "\n",
       "    .dataframe thead th {\n",
       "        text-align: left;\n",
       "    }\n",
       "\n",
       "    .dataframe tbody tr th {\n",
       "        vertical-align: top;\n",
       "    }\n",
       "</style>\n",
       "<table border=\"1\" class=\"dataframe\">\n",
       "  <thead>\n",
       "    <tr style=\"text-align: right;\">\n",
       "      <th></th>\n",
       "      <th>Department</th>\n",
       "      <th>Education</th>\n",
       "      <th>Year</th>\n",
       "    </tr>\n",
       "  </thead>\n",
       "  <tbody>\n",
       "    <tr>\n",
       "      <th>0</th>\n",
       "      <td>IT</td>\n",
       "      <td>Bachelor</td>\n",
       "      <td>1.0</td>\n",
       "    </tr>\n",
       "    <tr>\n",
       "      <th>1</th>\n",
       "      <td>IT</td>\n",
       "      <td>Master</td>\n",
       "      <td>2.0</td>\n",
       "    </tr>\n",
       "    <tr>\n",
       "      <th>2</th>\n",
       "      <td>HR</td>\n",
       "      <td>Master</td>\n",
       "      <td>2.0</td>\n",
       "    </tr>\n",
       "    <tr>\n",
       "      <th>3</th>\n",
       "      <td>HR</td>\n",
       "      <td>Bachelor</td>\n",
       "      <td>2.0</td>\n",
       "    </tr>\n",
       "    <tr>\n",
       "      <th>4</th>\n",
       "      <td>Trade</td>\n",
       "      <td>PHD</td>\n",
       "      <td>3.0</td>\n",
       "    </tr>\n",
       "    <tr>\n",
       "      <th>5</th>\n",
       "      <td>NaN</td>\n",
       "      <td>PHD</td>\n",
       "      <td>5.0</td>\n",
       "    </tr>\n",
       "    <tr>\n",
       "      <th>6</th>\n",
       "      <td>Trade</td>\n",
       "      <td>Master</td>\n",
       "      <td>NaN</td>\n",
       "    </tr>\n",
       "    <tr>\n",
       "      <th>7</th>\n",
       "      <td>HR</td>\n",
       "      <td>Master</td>\n",
       "      <td>8.0</td>\n",
       "    </tr>\n",
       "    <tr>\n",
       "      <th>8</th>\n",
       "      <td>IT</td>\n",
       "      <td>NaN</td>\n",
       "      <td>9.0</td>\n",
       "    </tr>\n",
       "  </tbody>\n",
       "</table>\n",
       "</div>"
      ],
      "text/plain": [
       "  Department Education  Year\n",
       "0         IT  Bachelor   1.0\n",
       "1         IT    Master   2.0\n",
       "2         HR    Master   2.0\n",
       "3         HR  Bachelor   2.0\n",
       "4      Trade       PHD   3.0\n",
       "5        NaN       PHD   5.0\n",
       "6      Trade    Master   NaN\n",
       "7         HR    Master   8.0\n",
       "8         IT       NaN   9.0"
      ]
     },
     "execution_count": 110,
     "metadata": {},
     "output_type": "execute_result"
    }
   ],
   "source": [
    "#### Your code here\n",
    "missing_columns = Employee2.isnull().sum(axis=0)>0\n",
    "Employee2.loc[:,missing_columns]"
   ]
  },
  {
   "cell_type": "markdown",
   "metadata": {},
   "source": [
    "Once all the missing values are represented by `NaN`s, Pandas provides various methods for handling them:\n",
    "\n",
    "<p><a name=\"dropna\"></a></p>\n",
    "## dropna\n",
    "- One option is to discard the rows with missing values. Below the arguments `axis=0` and `how='any'` indicate dropping *rows* with a NaN in *any* position."
   ]
  },
  {
   "cell_type": "code",
   "execution_count": 111,
   "metadata": {
    "collapsed": false
   },
   "outputs": [
    {
     "data": {
      "text/html": [
       "<div>\n",
       "<style>\n",
       "    .dataframe thead tr:only-child th {\n",
       "        text-align: right;\n",
       "    }\n",
       "\n",
       "    .dataframe thead th {\n",
       "        text-align: left;\n",
       "    }\n",
       "\n",
       "    .dataframe tbody tr th {\n",
       "        vertical-align: top;\n",
       "    }\n",
       "</style>\n",
       "<table border=\"1\" class=\"dataframe\">\n",
       "  <thead>\n",
       "    <tr style=\"text-align: right;\">\n",
       "      <th></th>\n",
       "      <th>one</th>\n",
       "      <th>two</th>\n",
       "      <th>three</th>\n",
       "      <th>four</th>\n",
       "    </tr>\n",
       "  </thead>\n",
       "  <tbody>\n",
       "    <tr>\n",
       "      <th>a</th>\n",
       "      <td>-1.250699</td>\n",
       "      <td>-0.573801</td>\n",
       "      <td>0.705961</td>\n",
       "      <td>-1.015682</td>\n",
       "    </tr>\n",
       "    <tr>\n",
       "      <th>b</th>\n",
       "      <td>NaN</td>\n",
       "      <td>-0.217766</td>\n",
       "      <td>0.655179</td>\n",
       "      <td>1.379276</td>\n",
       "    </tr>\n",
       "    <tr>\n",
       "      <th>c</th>\n",
       "      <td>-0.860359</td>\n",
       "      <td>-1.313747</td>\n",
       "      <td>0.676174</td>\n",
       "      <td>1.034417</td>\n",
       "    </tr>\n",
       "    <tr>\n",
       "      <th>d</th>\n",
       "      <td>NaN</td>\n",
       "      <td>NaN</td>\n",
       "      <td>NaN</td>\n",
       "      <td>NaN</td>\n",
       "    </tr>\n",
       "    <tr>\n",
       "      <th>e</th>\n",
       "      <td>0.079169</td>\n",
       "      <td>0.029138</td>\n",
       "      <td>0.239183</td>\n",
       "      <td>-0.492039</td>\n",
       "    </tr>\n",
       "    <tr>\n",
       "      <th>f</th>\n",
       "      <td>-1.149060</td>\n",
       "      <td>NaN</td>\n",
       "      <td>NaN</td>\n",
       "      <td>-0.160499</td>\n",
       "    </tr>\n",
       "  </tbody>\n",
       "</table>\n",
       "</div>"
      ],
      "text/plain": [
       "        one       two     three      four\n",
       "a -1.250699 -0.573801  0.705961 -1.015682\n",
       "b       NaN -0.217766  0.655179  1.379276\n",
       "c -0.860359 -1.313747  0.676174  1.034417\n",
       "d       NaN       NaN       NaN       NaN\n",
       "e  0.079169  0.029138  0.239183 -0.492039\n",
       "f -1.149060       NaN       NaN -0.160499"
      ]
     },
     "execution_count": 111,
     "metadata": {},
     "output_type": "execute_result"
    }
   ],
   "source": [
    "df_miss"
   ]
  },
  {
   "cell_type": "code",
   "execution_count": 112,
   "metadata": {
    "collapsed": false
   },
   "outputs": [],
   "source": [
    "df_miss.dropna(axis=0, how='any')\n",
    "df_miss.dropna?"
   ]
  },
  {
   "cell_type": "markdown",
   "metadata": {},
   "source": [
    "- Another option is to drop rows full of NaNs. This can be done with `how='all'`."
   ]
  },
  {
   "cell_type": "code",
   "execution_count": 113,
   "metadata": {
    "collapsed": false
   },
   "outputs": [
    {
     "data": {
      "text/html": [
       "<div>\n",
       "<style>\n",
       "    .dataframe thead tr:only-child th {\n",
       "        text-align: right;\n",
       "    }\n",
       "\n",
       "    .dataframe thead th {\n",
       "        text-align: left;\n",
       "    }\n",
       "\n",
       "    .dataframe tbody tr th {\n",
       "        vertical-align: top;\n",
       "    }\n",
       "</style>\n",
       "<table border=\"1\" class=\"dataframe\">\n",
       "  <thead>\n",
       "    <tr style=\"text-align: right;\">\n",
       "      <th></th>\n",
       "      <th>one</th>\n",
       "      <th>two</th>\n",
       "      <th>three</th>\n",
       "      <th>four</th>\n",
       "    </tr>\n",
       "  </thead>\n",
       "  <tbody>\n",
       "    <tr>\n",
       "      <th>a</th>\n",
       "      <td>-1.250699</td>\n",
       "      <td>-0.573801</td>\n",
       "      <td>0.705961</td>\n",
       "      <td>-1.015682</td>\n",
       "    </tr>\n",
       "    <tr>\n",
       "      <th>b</th>\n",
       "      <td>NaN</td>\n",
       "      <td>-0.217766</td>\n",
       "      <td>0.655179</td>\n",
       "      <td>1.379276</td>\n",
       "    </tr>\n",
       "    <tr>\n",
       "      <th>c</th>\n",
       "      <td>-0.860359</td>\n",
       "      <td>-1.313747</td>\n",
       "      <td>0.676174</td>\n",
       "      <td>1.034417</td>\n",
       "    </tr>\n",
       "    <tr>\n",
       "      <th>e</th>\n",
       "      <td>0.079169</td>\n",
       "      <td>0.029138</td>\n",
       "      <td>0.239183</td>\n",
       "      <td>-0.492039</td>\n",
       "    </tr>\n",
       "    <tr>\n",
       "      <th>f</th>\n",
       "      <td>-1.149060</td>\n",
       "      <td>NaN</td>\n",
       "      <td>NaN</td>\n",
       "      <td>-0.160499</td>\n",
       "    </tr>\n",
       "  </tbody>\n",
       "</table>\n",
       "</div>"
      ],
      "text/plain": [
       "        one       two     three      four\n",
       "a -1.250699 -0.573801  0.705961 -1.015682\n",
       "b       NaN -0.217766  0.655179  1.379276\n",
       "c -0.860359 -1.313747  0.676174  1.034417\n",
       "e  0.079169  0.029138  0.239183 -0.492039\n",
       "f -1.149060       NaN       NaN -0.160499"
      ]
     },
     "execution_count": 113,
     "metadata": {},
     "output_type": "execute_result"
    }
   ],
   "source": [
    "df_miss.dropna(axis=0, how='all')"
   ]
  },
  {
   "cell_type": "markdown",
   "metadata": {},
   "source": [
    "- Applying `dropna()` to the above data frame may be done once more. Drop a column with the argument `axis=1`."
   ]
  },
  {
   "cell_type": "code",
   "execution_count": 114,
   "metadata": {
    "collapsed": false
   },
   "outputs": [
    {
     "data": {
      "text/html": [
       "<div>\n",
       "<style>\n",
       "    .dataframe thead tr:only-child th {\n",
       "        text-align: right;\n",
       "    }\n",
       "\n",
       "    .dataframe thead th {\n",
       "        text-align: left;\n",
       "    }\n",
       "\n",
       "    .dataframe tbody tr th {\n",
       "        vertical-align: top;\n",
       "    }\n",
       "</style>\n",
       "<table border=\"1\" class=\"dataframe\">\n",
       "  <thead>\n",
       "    <tr style=\"text-align: right;\">\n",
       "      <th></th>\n",
       "      <th>four</th>\n",
       "    </tr>\n",
       "  </thead>\n",
       "  <tbody>\n",
       "    <tr>\n",
       "      <th>a</th>\n",
       "      <td>-1.015682</td>\n",
       "    </tr>\n",
       "    <tr>\n",
       "      <th>b</th>\n",
       "      <td>1.379276</td>\n",
       "    </tr>\n",
       "    <tr>\n",
       "      <th>c</th>\n",
       "      <td>1.034417</td>\n",
       "    </tr>\n",
       "    <tr>\n",
       "      <th>e</th>\n",
       "      <td>-0.492039</td>\n",
       "    </tr>\n",
       "    <tr>\n",
       "      <th>f</th>\n",
       "      <td>-0.160499</td>\n",
       "    </tr>\n",
       "  </tbody>\n",
       "</table>\n",
       "</div>"
      ],
      "text/plain": [
       "       four\n",
       "a -1.015682\n",
       "b  1.379276\n",
       "c  1.034417\n",
       "e -0.492039\n",
       "f -0.160499"
      ]
     },
     "execution_count": 114,
     "metadata": {},
     "output_type": "execute_result"
    }
   ],
   "source": [
    "df_miss.dropna(axis=0, how='all').dropna(axis=1, how='any')"
   ]
  },
  {
   "cell_type": "markdown",
   "metadata": {},
   "source": [
    "<p><a name=\"fillna\"></a></p>\n",
    "## fillna\n",
    "\n",
    "- An alternative to discarding information is to **impute** the data. \n",
    "- This can be done with the `fillna()` function with the value to be imputed as the argument."
   ]
  },
  {
   "cell_type": "code",
   "execution_count": 115,
   "metadata": {
    "collapsed": false
   },
   "outputs": [
    {
     "data": {
      "text/html": [
       "<div>\n",
       "<style>\n",
       "    .dataframe thead tr:only-child th {\n",
       "        text-align: right;\n",
       "    }\n",
       "\n",
       "    .dataframe thead th {\n",
       "        text-align: left;\n",
       "    }\n",
       "\n",
       "    .dataframe tbody tr th {\n",
       "        vertical-align: top;\n",
       "    }\n",
       "</style>\n",
       "<table border=\"1\" class=\"dataframe\">\n",
       "  <thead>\n",
       "    <tr style=\"text-align: right;\">\n",
       "      <th></th>\n",
       "      <th>one</th>\n",
       "      <th>two</th>\n",
       "      <th>three</th>\n",
       "      <th>four</th>\n",
       "    </tr>\n",
       "  </thead>\n",
       "  <tbody>\n",
       "    <tr>\n",
       "      <th>a</th>\n",
       "      <td>-1.250699</td>\n",
       "      <td>-0.573801</td>\n",
       "      <td>0.705961</td>\n",
       "      <td>-1.015682</td>\n",
       "    </tr>\n",
       "    <tr>\n",
       "      <th>b</th>\n",
       "      <td>0.000000</td>\n",
       "      <td>-0.217766</td>\n",
       "      <td>0.655179</td>\n",
       "      <td>1.379276</td>\n",
       "    </tr>\n",
       "    <tr>\n",
       "      <th>c</th>\n",
       "      <td>-0.860359</td>\n",
       "      <td>-1.313747</td>\n",
       "      <td>0.676174</td>\n",
       "      <td>1.034417</td>\n",
       "    </tr>\n",
       "    <tr>\n",
       "      <th>d</th>\n",
       "      <td>0.000000</td>\n",
       "      <td>0.000000</td>\n",
       "      <td>0.000000</td>\n",
       "      <td>0.000000</td>\n",
       "    </tr>\n",
       "    <tr>\n",
       "      <th>e</th>\n",
       "      <td>0.079169</td>\n",
       "      <td>0.029138</td>\n",
       "      <td>0.239183</td>\n",
       "      <td>-0.492039</td>\n",
       "    </tr>\n",
       "    <tr>\n",
       "      <th>f</th>\n",
       "      <td>-1.149060</td>\n",
       "      <td>0.000000</td>\n",
       "      <td>0.000000</td>\n",
       "      <td>-0.160499</td>\n",
       "    </tr>\n",
       "  </tbody>\n",
       "</table>\n",
       "</div>"
      ],
      "text/plain": [
       "        one       two     three      four\n",
       "a -1.250699 -0.573801  0.705961 -1.015682\n",
       "b  0.000000 -0.217766  0.655179  1.379276\n",
       "c -0.860359 -1.313747  0.676174  1.034417\n",
       "d  0.000000  0.000000  0.000000  0.000000\n",
       "e  0.079169  0.029138  0.239183 -0.492039\n",
       "f -1.149060  0.000000  0.000000 -0.160499"
      ]
     },
     "execution_count": 115,
     "metadata": {},
     "output_type": "execute_result"
    }
   ],
   "source": [
    "df_miss.fillna(0)"
   ]
  },
  {
   "cell_type": "markdown",
   "metadata": {},
   "source": [
    "- Another common way to impute is by the mean of the column."
   ]
  },
  {
   "cell_type": "code",
   "execution_count": 116,
   "metadata": {
    "collapsed": false
   },
   "outputs": [
    {
     "data": {
      "text/plain": [
       "a   -1.250699\n",
       "b   -0.795237\n",
       "c   -0.860359\n",
       "d   -0.795237\n",
       "e    0.079169\n",
       "f   -1.149060\n",
       "Name: one, dtype: float64"
      ]
     },
     "execution_count": 116,
     "metadata": {},
     "output_type": "execute_result"
    }
   ],
   "source": [
    "df_miss['one'].fillna(df_miss['one'].mean())"
   ]
  },
  {
   "cell_type": "markdown",
   "metadata": {},
   "source": [
    "<p><a name=\"interpolate\"></a></p>\n",
    "## Interpolate\n",
    "\n",
    "- Interpolation is the insertion of new data between preeexisting fixed points. Linear interpolation uses a linear function to create new data point.  \n",
    "- In pandas this is accomplished using `interpolate()` with the `method` parameter set to linear, `method='linear'`.  \n",
    "- This will fill in missing data points with a linear interpolation between the data points bordering the missing values."
   ]
  },
  {
   "cell_type": "code",
   "execution_count": 141,
   "metadata": {
    "collapsed": false
   },
   "outputs": [
    {
     "data": {
      "text/html": [
       "<div>\n",
       "<style scoped>\n",
       "    .dataframe tbody tr th:only-of-type {\n",
       "        vertical-align: middle;\n",
       "    }\n",
       "\n",
       "    .dataframe tbody tr th {\n",
       "        vertical-align: top;\n",
       "    }\n",
       "\n",
       "    .dataframe thead th {\n",
       "        text-align: right;\n",
       "    }\n",
       "</style>\n",
       "<table border=\"1\" class=\"dataframe\">\n",
       "  <thead>\n",
       "    <tr style=\"text-align: right;\">\n",
       "      <th></th>\n",
       "      <th>one</th>\n",
       "      <th>two</th>\n",
       "      <th>three</th>\n",
       "      <th>four</th>\n",
       "    </tr>\n",
       "  </thead>\n",
       "  <tbody>\n",
       "    <tr>\n",
       "      <th>a</th>\n",
       "      <td>-1.250699</td>\n",
       "      <td>-0.573801</td>\n",
       "      <td>0.705961</td>\n",
       "      <td>-1.015682</td>\n",
       "    </tr>\n",
       "    <tr>\n",
       "      <th>b</th>\n",
       "      <td>NaN</td>\n",
       "      <td>-0.217766</td>\n",
       "      <td>0.655179</td>\n",
       "      <td>1.379276</td>\n",
       "    </tr>\n",
       "    <tr>\n",
       "      <th>c</th>\n",
       "      <td>-0.860359</td>\n",
       "      <td>-1.313747</td>\n",
       "      <td>0.676174</td>\n",
       "      <td>1.034417</td>\n",
       "    </tr>\n",
       "    <tr>\n",
       "      <th>d</th>\n",
       "      <td>NaN</td>\n",
       "      <td>NaN</td>\n",
       "      <td>NaN</td>\n",
       "      <td>NaN</td>\n",
       "    </tr>\n",
       "    <tr>\n",
       "      <th>e</th>\n",
       "      <td>0.079169</td>\n",
       "      <td>0.029138</td>\n",
       "      <td>0.239183</td>\n",
       "      <td>-0.492039</td>\n",
       "    </tr>\n",
       "    <tr>\n",
       "      <th>f</th>\n",
       "      <td>-1.149060</td>\n",
       "      <td>NaN</td>\n",
       "      <td>NaN</td>\n",
       "      <td>-0.160499</td>\n",
       "    </tr>\n",
       "  </tbody>\n",
       "</table>\n",
       "</div>"
      ],
      "text/plain": [
       "        one       two     three      four\n",
       "a -1.250699 -0.573801  0.705961 -1.015682\n",
       "b       NaN -0.217766  0.655179  1.379276\n",
       "c -0.860359 -1.313747  0.676174  1.034417\n",
       "d       NaN       NaN       NaN       NaN\n",
       "e  0.079169  0.029138  0.239183 -0.492039\n",
       "f -1.149060       NaN       NaN -0.160499"
      ]
     },
     "execution_count": 141,
     "metadata": {},
     "output_type": "execute_result"
    }
   ],
   "source": [
    "df_miss"
   ]
  },
  {
   "cell_type": "code",
   "execution_count": 118,
   "metadata": {
    "collapsed": false
   },
   "outputs": [
    {
     "data": {
      "text/html": [
       "<div>\n",
       "<style>\n",
       "    .dataframe thead tr:only-child th {\n",
       "        text-align: right;\n",
       "    }\n",
       "\n",
       "    .dataframe thead th {\n",
       "        text-align: left;\n",
       "    }\n",
       "\n",
       "    .dataframe tbody tr th {\n",
       "        vertical-align: top;\n",
       "    }\n",
       "</style>\n",
       "<table border=\"1\" class=\"dataframe\">\n",
       "  <thead>\n",
       "    <tr style=\"text-align: right;\">\n",
       "      <th></th>\n",
       "      <th>one</th>\n",
       "      <th>two</th>\n",
       "      <th>three</th>\n",
       "      <th>four</th>\n",
       "    </tr>\n",
       "  </thead>\n",
       "  <tbody>\n",
       "    <tr>\n",
       "      <th>a</th>\n",
       "      <td>-1.250699</td>\n",
       "      <td>-0.573801</td>\n",
       "      <td>0.705961</td>\n",
       "      <td>-1.015682</td>\n",
       "    </tr>\n",
       "    <tr>\n",
       "      <th>b</th>\n",
       "      <td>-1.055529</td>\n",
       "      <td>-0.217766</td>\n",
       "      <td>0.655179</td>\n",
       "      <td>1.379276</td>\n",
       "    </tr>\n",
       "    <tr>\n",
       "      <th>c</th>\n",
       "      <td>-0.860359</td>\n",
       "      <td>-1.313747</td>\n",
       "      <td>0.676174</td>\n",
       "      <td>1.034417</td>\n",
       "    </tr>\n",
       "    <tr>\n",
       "      <th>d</th>\n",
       "      <td>-0.390595</td>\n",
       "      <td>-0.642305</td>\n",
       "      <td>0.457679</td>\n",
       "      <td>0.271189</td>\n",
       "    </tr>\n",
       "    <tr>\n",
       "      <th>e</th>\n",
       "      <td>0.079169</td>\n",
       "      <td>0.029138</td>\n",
       "      <td>0.239183</td>\n",
       "      <td>-0.492039</td>\n",
       "    </tr>\n",
       "    <tr>\n",
       "      <th>f</th>\n",
       "      <td>-1.149060</td>\n",
       "      <td>0.029138</td>\n",
       "      <td>0.239183</td>\n",
       "      <td>-0.160499</td>\n",
       "    </tr>\n",
       "  </tbody>\n",
       "</table>\n",
       "</div>"
      ],
      "text/plain": [
       "        one       two     three      four\n",
       "a -1.250699 -0.573801  0.705961 -1.015682\n",
       "b -1.055529 -0.217766  0.655179  1.379276\n",
       "c -0.860359 -1.313747  0.676174  1.034417\n",
       "d -0.390595 -0.642305  0.457679  0.271189\n",
       "e  0.079169  0.029138  0.239183 -0.492039\n",
       "f -1.149060  0.029138  0.239183 -0.160499"
      ]
     },
     "execution_count": 118,
     "metadata": {},
     "output_type": "execute_result"
    }
   ],
   "source": [
    "df_miss.interpolate(method='linear')"
   ]
  },
  {
   "cell_type": "markdown",
   "metadata": {},
   "source": [
    "- Since `df.loc['b','one']` is a NaN between `df.loc['a','one']` and `df.loc['c','one']`, the value inserted is the mean of them.\n",
    "- Note how this technique treats NaN values at the bottom of a column."
   ]
  },
  {
   "cell_type": "code",
   "execution_count": 139,
   "metadata": {
    "collapsed": false
   },
   "outputs": [
    {
     "data": {
      "text/plain": [
       "-1.055528936449"
      ]
     },
     "execution_count": 139,
     "metadata": {},
     "output_type": "execute_result"
    }
   ],
   "source": [
    "(df_miss.loc['a', 'one'] + df_miss.loc['c', 'one'])/2"
   ]
  },
  {
   "cell_type": "markdown",
   "metadata": {},
   "source": [
    "<p><a name=\"grouping\"></a></p>\n",
    "\n",
    "# Grouping and Aggregation\n",
    "\n",
    "Grouping and  aggregation are critical components of data analysis which involve:\n",
    "\n",
    "- **Splitting** data into groups based on some features.\n",
    "- **Applying** a function to each group independently.\n",
    "- **Combining** the result into data structure."
   ]
  },
  {
   "cell_type": "markdown",
   "metadata": {},
   "source": [
    "### Grouping\n",
    "\n",
    "Grouping splits a data frame into categorical groups, according to a given variable, or set of variables.   Consider the following data frame."
   ]
  },
  {
   "cell_type": "code",
   "execution_count": 142,
   "metadata": {
    "collapsed": false
   },
   "outputs": [
    {
     "data": {
      "text/html": [
       "<div>\n",
       "<style scoped>\n",
       "    .dataframe tbody tr th:only-of-type {\n",
       "        vertical-align: middle;\n",
       "    }\n",
       "\n",
       "    .dataframe tbody tr th {\n",
       "        vertical-align: top;\n",
       "    }\n",
       "\n",
       "    .dataframe thead th {\n",
       "        text-align: right;\n",
       "    }\n",
       "</style>\n",
       "<table border=\"1\" class=\"dataframe\">\n",
       "  <thead>\n",
       "    <tr style=\"text-align: right;\">\n",
       "      <th></th>\n",
       "      <th>Country</th>\n",
       "      <th>Country (de)</th>\n",
       "      <th>Country (local)</th>\n",
       "      <th>Country code</th>\n",
       "      <th>Continent</th>\n",
       "      <th>Capital</th>\n",
       "      <th>Population</th>\n",
       "      <th>Area</th>\n",
       "      <th>Coastline</th>\n",
       "      <th>Government form</th>\n",
       "      <th>Currency</th>\n",
       "      <th>Currency code</th>\n",
       "      <th>Dialing prefix</th>\n",
       "      <th>Birthrate</th>\n",
       "      <th>Deathrate</th>\n",
       "      <th>Life expectancy</th>\n",
       "      <th>Url</th>\n",
       "    </tr>\n",
       "  </thead>\n",
       "  <tbody>\n",
       "    <tr>\n",
       "      <th>0</th>\n",
       "      <td>Afghanistan</td>\n",
       "      <td>Afghanistan</td>\n",
       "      <td>Afganistan/Afqanestan</td>\n",
       "      <td>AF</td>\n",
       "      <td>Asia</td>\n",
       "      <td>Kabul</td>\n",
       "      <td>33332025</td>\n",
       "      <td>652230</td>\n",
       "      <td>0</td>\n",
       "      <td>Presidential islamic republic</td>\n",
       "      <td>Afghani</td>\n",
       "      <td>AFN</td>\n",
       "      <td>93</td>\n",
       "      <td>38.3</td>\n",
       "      <td>13.7</td>\n",
       "      <td>51.3</td>\n",
       "      <td>https://www.laenderdaten.info/Asien/Afghanista...</td>\n",
       "    </tr>\n",
       "    <tr>\n",
       "      <th>1</th>\n",
       "      <td>Egypt</td>\n",
       "      <td>Ägypten</td>\n",
       "      <td>Misr</td>\n",
       "      <td>EG</td>\n",
       "      <td>Africa</td>\n",
       "      <td>Cairo</td>\n",
       "      <td>94666993</td>\n",
       "      <td>1001450</td>\n",
       "      <td>2450</td>\n",
       "      <td>Presidential republic</td>\n",
       "      <td>Pfund</td>\n",
       "      <td>EGP</td>\n",
       "      <td>20</td>\n",
       "      <td>30.3</td>\n",
       "      <td>4.7</td>\n",
       "      <td>72.7</td>\n",
       "      <td>https://www.laenderdaten.info/Afrika/Aegypten/...</td>\n",
       "    </tr>\n",
       "    <tr>\n",
       "      <th>2</th>\n",
       "      <td>Åland Islands</td>\n",
       "      <td>Ålandinseln</td>\n",
       "      <td>Åland</td>\n",
       "      <td>AX</td>\n",
       "      <td>Europe</td>\n",
       "      <td>Mariehamn</td>\n",
       "      <td>29013</td>\n",
       "      <td>1580</td>\n",
       "      <td>0</td>\n",
       "      <td>Autonomous region of Finland</td>\n",
       "      <td>Euro</td>\n",
       "      <td>EUR</td>\n",
       "      <td>358</td>\n",
       "      <td>0.0</td>\n",
       "      <td>0.0</td>\n",
       "      <td>0.0</td>\n",
       "      <td>https://www.laenderdaten.info/Europa/Aland/ind...</td>\n",
       "    </tr>\n",
       "    <tr>\n",
       "      <th>3</th>\n",
       "      <td>Albania</td>\n",
       "      <td>Albanien</td>\n",
       "      <td>Shqipëria</td>\n",
       "      <td>AL</td>\n",
       "      <td>Europe</td>\n",
       "      <td>Tirana</td>\n",
       "      <td>3038594</td>\n",
       "      <td>28748</td>\n",
       "      <td>362</td>\n",
       "      <td>parliamentary republic</td>\n",
       "      <td>Lek</td>\n",
       "      <td>ALL</td>\n",
       "      <td>355</td>\n",
       "      <td>13.1</td>\n",
       "      <td>6.7</td>\n",
       "      <td>78.3</td>\n",
       "      <td>https://www.laenderdaten.info/Europa/Albanien/...</td>\n",
       "    </tr>\n",
       "    <tr>\n",
       "      <th>4</th>\n",
       "      <td>Algeria</td>\n",
       "      <td>Algerien</td>\n",
       "      <td>Al-Jaza’ir/Algérie</td>\n",
       "      <td>DZ</td>\n",
       "      <td>Africa</td>\n",
       "      <td>Algiers</td>\n",
       "      <td>40263711</td>\n",
       "      <td>2381741</td>\n",
       "      <td>998</td>\n",
       "      <td>Presidential republic</td>\n",
       "      <td>Dinar</td>\n",
       "      <td>DZD</td>\n",
       "      <td>213</td>\n",
       "      <td>23.0</td>\n",
       "      <td>4.3</td>\n",
       "      <td>76.8</td>\n",
       "      <td>https://www.laenderdaten.info/Afrika/Algerien/...</td>\n",
       "    </tr>\n",
       "  </tbody>\n",
       "</table>\n",
       "</div>"
      ],
      "text/plain": [
       "         Country Country (de)        Country (local) Country code Continent  \\\n",
       "0    Afghanistan  Afghanistan  Afganistan/Afqanestan           AF      Asia   \n",
       "1          Egypt      Ägypten                   Misr           EG    Africa   \n",
       "2  Åland Islands  Ålandinseln                  Åland           AX    Europe   \n",
       "3        Albania     Albanien              Shqipëria           AL    Europe   \n",
       "4        Algeria     Algerien     Al-Jaza’ir/Algérie           DZ    Africa   \n",
       "\n",
       "     Capital  Population     Area  Coastline                Government form  \\\n",
       "0      Kabul    33332025   652230          0  Presidential islamic republic   \n",
       "1      Cairo    94666993  1001450       2450          Presidential republic   \n",
       "2  Mariehamn       29013     1580          0   Autonomous region of Finland   \n",
       "3     Tirana     3038594    28748        362         parliamentary republic   \n",
       "4    Algiers    40263711  2381741        998          Presidential republic   \n",
       "\n",
       "  Currency Currency code Dialing prefix  Birthrate  Deathrate  \\\n",
       "0  Afghani           AFN             93       38.3       13.7   \n",
       "1    Pfund           EGP             20       30.3        4.7   \n",
       "2     Euro           EUR            358        0.0        0.0   \n",
       "3      Lek           ALL            355       13.1        6.7   \n",
       "4    Dinar           DZD            213       23.0        4.3   \n",
       "\n",
       "   Life expectancy                                                Url  \n",
       "0             51.3  https://www.laenderdaten.info/Asien/Afghanista...  \n",
       "1             72.7  https://www.laenderdaten.info/Afrika/Aegypten/...  \n",
       "2              0.0  https://www.laenderdaten.info/Europa/Aland/ind...  \n",
       "3             78.3  https://www.laenderdaten.info/Europa/Albanien/...  \n",
       "4             76.8  https://www.laenderdaten.info/Afrika/Algerien/...  "
      ]
     },
     "execution_count": 142,
     "metadata": {},
     "output_type": "execute_result"
    }
   ],
   "source": [
    "Country = pd.read_csv('countries.csv', delimiter=';')\n",
    "Country.head()"
   ]
  },
  {
   "cell_type": "code",
   "execution_count": 144,
   "metadata": {
    "collapsed": false,
    "scrolled": false
   },
   "outputs": [
    {
     "data": {
      "text/html": [
       "<div>\n",
       "<style scoped>\n",
       "    .dataframe tbody tr th:only-of-type {\n",
       "        vertical-align: middle;\n",
       "    }\n",
       "\n",
       "    .dataframe tbody tr th {\n",
       "        vertical-align: top;\n",
       "    }\n",
       "\n",
       "    .dataframe thead th {\n",
       "        text-align: right;\n",
       "    }\n",
       "</style>\n",
       "<table border=\"1\" class=\"dataframe\">\n",
       "  <thead>\n",
       "    <tr style=\"text-align: right;\">\n",
       "      <th></th>\n",
       "      <th>country</th>\n",
       "      <th>continent</th>\n",
       "      <th>population</th>\n",
       "      <th>area</th>\n",
       "      <th>coastline</th>\n",
       "      <th>currency</th>\n",
       "      <th>birthrate</th>\n",
       "      <th>deathrate</th>\n",
       "      <th>life expectancy</th>\n",
       "      <th>coastal</th>\n",
       "    </tr>\n",
       "  </thead>\n",
       "  <tbody>\n",
       "    <tr>\n",
       "      <th>0</th>\n",
       "      <td>Afghanistan</td>\n",
       "      <td>Asia</td>\n",
       "      <td>33332025</td>\n",
       "      <td>652230</td>\n",
       "      <td>0</td>\n",
       "      <td>Afghani</td>\n",
       "      <td>38.3</td>\n",
       "      <td>13.7</td>\n",
       "      <td>51.3</td>\n",
       "      <td>False</td>\n",
       "    </tr>\n",
       "    <tr>\n",
       "      <th>1</th>\n",
       "      <td>Egypt</td>\n",
       "      <td>Africa</td>\n",
       "      <td>94666993</td>\n",
       "      <td>1001450</td>\n",
       "      <td>2450</td>\n",
       "      <td>Pfund</td>\n",
       "      <td>30.3</td>\n",
       "      <td>4.7</td>\n",
       "      <td>72.7</td>\n",
       "      <td>True</td>\n",
       "    </tr>\n",
       "    <tr>\n",
       "      <th>4</th>\n",
       "      <td>Algeria</td>\n",
       "      <td>Africa</td>\n",
       "      <td>40263711</td>\n",
       "      <td>2381741</td>\n",
       "      <td>998</td>\n",
       "      <td>Dinar</td>\n",
       "      <td>23.0</td>\n",
       "      <td>4.3</td>\n",
       "      <td>76.8</td>\n",
       "      <td>True</td>\n",
       "    </tr>\n",
       "    <tr>\n",
       "      <th>7</th>\n",
       "      <td>Angola</td>\n",
       "      <td>Africa</td>\n",
       "      <td>20172332</td>\n",
       "      <td>1246700</td>\n",
       "      <td>1600</td>\n",
       "      <td>Kwanza</td>\n",
       "      <td>38.6</td>\n",
       "      <td>11.3</td>\n",
       "      <td>56.0</td>\n",
       "      <td>True</td>\n",
       "    </tr>\n",
       "    <tr>\n",
       "      <th>12</th>\n",
       "      <td>Argentina</td>\n",
       "      <td>South America</td>\n",
       "      <td>43886748</td>\n",
       "      <td>2780400</td>\n",
       "      <td>4989</td>\n",
       "      <td>Peso</td>\n",
       "      <td>17.0</td>\n",
       "      <td>7.5</td>\n",
       "      <td>77.1</td>\n",
       "      <td>True</td>\n",
       "    </tr>\n",
       "    <tr>\n",
       "      <th>16</th>\n",
       "      <td>Ethiopia</td>\n",
       "      <td>Africa</td>\n",
       "      <td>102374044</td>\n",
       "      <td>1104300</td>\n",
       "      <td>0</td>\n",
       "      <td>Birr</td>\n",
       "      <td>36.9</td>\n",
       "      <td>7.9</td>\n",
       "      <td>62.2</td>\n",
       "      <td>False</td>\n",
       "    </tr>\n",
       "    <tr>\n",
       "      <th>17</th>\n",
       "      <td>Australia</td>\n",
       "      <td>Australia</td>\n",
       "      <td>22992654</td>\n",
       "      <td>7741220</td>\n",
       "      <td>25760</td>\n",
       "      <td>Dollar</td>\n",
       "      <td>12.1</td>\n",
       "      <td>7.2</td>\n",
       "      <td>82.2</td>\n",
       "      <td>True</td>\n",
       "    </tr>\n",
       "    <tr>\n",
       "      <th>20</th>\n",
       "      <td>Bangladesh</td>\n",
       "      <td>Asia</td>\n",
       "      <td>156186882</td>\n",
       "      <td>143998</td>\n",
       "      <td>580</td>\n",
       "      <td>Taka</td>\n",
       "      <td>19.0</td>\n",
       "      <td>5.3</td>\n",
       "      <td>73.2</td>\n",
       "      <td>True</td>\n",
       "    </tr>\n",
       "    <tr>\n",
       "      <th>32</th>\n",
       "      <td>Brazil</td>\n",
       "      <td>South America</td>\n",
       "      <td>205823665</td>\n",
       "      <td>8514877</td>\n",
       "      <td>7491</td>\n",
       "      <td>Real</td>\n",
       "      <td>14.3</td>\n",
       "      <td>6.6</td>\n",
       "      <td>73.8</td>\n",
       "      <td>True</td>\n",
       "    </tr>\n",
       "    <tr>\n",
       "      <th>39</th>\n",
       "      <td>China</td>\n",
       "      <td>Asia</td>\n",
       "      <td>1373541278</td>\n",
       "      <td>9596960</td>\n",
       "      <td>14500</td>\n",
       "      <td>Yuan</td>\n",
       "      <td>12.4</td>\n",
       "      <td>7.7</td>\n",
       "      <td>75.5</td>\n",
       "      <td>True</td>\n",
       "    </tr>\n",
       "    <tr>\n",
       "      <th>44</th>\n",
       "      <td>Democratic Republic of the Congo</td>\n",
       "      <td>Africa</td>\n",
       "      <td>81331050</td>\n",
       "      <td>2344858</td>\n",
       "      <td>37</td>\n",
       "      <td>Franc</td>\n",
       "      <td>34.2</td>\n",
       "      <td>9.9</td>\n",
       "      <td>57.3</td>\n",
       "      <td>True</td>\n",
       "    </tr>\n",
       "    <tr>\n",
       "      <th>45</th>\n",
       "      <td>Germany</td>\n",
       "      <td>Europe</td>\n",
       "      <td>80722792</td>\n",
       "      <td>357022</td>\n",
       "      <td>2389</td>\n",
       "      <td>Euro</td>\n",
       "      <td>8.5</td>\n",
       "      <td>11.6</td>\n",
       "      <td>80.7</td>\n",
       "      <td>True</td>\n",
       "    </tr>\n",
       "    <tr>\n",
       "      <th>51</th>\n",
       "      <td>Ivory Coast</td>\n",
       "      <td>Africa</td>\n",
       "      <td>23740424</td>\n",
       "      <td>322463</td>\n",
       "      <td>515</td>\n",
       "      <td>Franc</td>\n",
       "      <td>28.2</td>\n",
       "      <td>9.5</td>\n",
       "      <td>58.7</td>\n",
       "      <td>True</td>\n",
       "    </tr>\n",
       "    <tr>\n",
       "      <th>58</th>\n",
       "      <td>France</td>\n",
       "      <td>Europe</td>\n",
       "      <td>66836154</td>\n",
       "      <td>643801</td>\n",
       "      <td>3427</td>\n",
       "      <td>Euro</td>\n",
       "      <td>12.3</td>\n",
       "      <td>9.3</td>\n",
       "      <td>81.8</td>\n",
       "      <td>True</td>\n",
       "    </tr>\n",
       "    <tr>\n",
       "      <th>65</th>\n",
       "      <td>Ghana</td>\n",
       "      <td>Africa</td>\n",
       "      <td>26908262</td>\n",
       "      <td>238533</td>\n",
       "      <td>539</td>\n",
       "      <td>Ghana Cedi</td>\n",
       "      <td>30.8</td>\n",
       "      <td>7.1</td>\n",
       "      <td>66.6</td>\n",
       "      <td>True</td>\n",
       "    </tr>\n",
       "    <tr>\n",
       "      <th>81</th>\n",
       "      <td>India</td>\n",
       "      <td>Asia</td>\n",
       "      <td>1266883598</td>\n",
       "      <td>3287263</td>\n",
       "      <td>7000</td>\n",
       "      <td>Rupie</td>\n",
       "      <td>19.3</td>\n",
       "      <td>7.3</td>\n",
       "      <td>68.5</td>\n",
       "      <td>True</td>\n",
       "    </tr>\n",
       "    <tr>\n",
       "      <th>82</th>\n",
       "      <td>Indonesia</td>\n",
       "      <td>Asia</td>\n",
       "      <td>258316051</td>\n",
       "      <td>1904569</td>\n",
       "      <td>54716</td>\n",
       "      <td>Rupiah</td>\n",
       "      <td>16.4</td>\n",
       "      <td>6.4</td>\n",
       "      <td>72.7</td>\n",
       "      <td>True</td>\n",
       "    </tr>\n",
       "    <tr>\n",
       "      <th>84</th>\n",
       "      <td>Iraq</td>\n",
       "      <td>Asia</td>\n",
       "      <td>38146025</td>\n",
       "      <td>438317</td>\n",
       "      <td>58</td>\n",
       "      <td>Dinar</td>\n",
       "      <td>30.9</td>\n",
       "      <td>3.8</td>\n",
       "      <td>74.9</td>\n",
       "      <td>True</td>\n",
       "    </tr>\n",
       "    <tr>\n",
       "      <th>85</th>\n",
       "      <td>Iran</td>\n",
       "      <td>Asia</td>\n",
       "      <td>82801633</td>\n",
       "      <td>1648195</td>\n",
       "      <td>2440</td>\n",
       "      <td>Rial</td>\n",
       "      <td>17.8</td>\n",
       "      <td>5.9</td>\n",
       "      <td>71.4</td>\n",
       "      <td>True</td>\n",
       "    </tr>\n",
       "    <tr>\n",
       "      <th>89</th>\n",
       "      <td>Italy</td>\n",
       "      <td>Europe</td>\n",
       "      <td>62007540</td>\n",
       "      <td>301340</td>\n",
       "      <td>7600</td>\n",
       "      <td>Euro</td>\n",
       "      <td>8.7</td>\n",
       "      <td>10.3</td>\n",
       "      <td>82.2</td>\n",
       "      <td>True</td>\n",
       "    </tr>\n",
       "    <tr>\n",
       "      <th>91</th>\n",
       "      <td>Japan</td>\n",
       "      <td>Asia</td>\n",
       "      <td>126702133</td>\n",
       "      <td>377915</td>\n",
       "      <td>29751</td>\n",
       "      <td>Yen</td>\n",
       "      <td>7.8</td>\n",
       "      <td>9.6</td>\n",
       "      <td>85.0</td>\n",
       "      <td>True</td>\n",
       "    </tr>\n",
       "    <tr>\n",
       "      <th>92</th>\n",
       "      <td>Yemen</td>\n",
       "      <td>Asia</td>\n",
       "      <td>27392779</td>\n",
       "      <td>527968</td>\n",
       "      <td>1906</td>\n",
       "      <td>Rial</td>\n",
       "      <td>29.2</td>\n",
       "      <td>6.1</td>\n",
       "      <td>65.5</td>\n",
       "      <td>True</td>\n",
       "    </tr>\n",
       "    <tr>\n",
       "      <th>99</th>\n",
       "      <td>Cameroon</td>\n",
       "      <td>Africa</td>\n",
       "      <td>24360803</td>\n",
       "      <td>475440</td>\n",
       "      <td>402</td>\n",
       "      <td>Franc</td>\n",
       "      <td>35.8</td>\n",
       "      <td>9.8</td>\n",
       "      <td>58.5</td>\n",
       "      <td>True</td>\n",
       "    </tr>\n",
       "    <tr>\n",
       "      <th>100</th>\n",
       "      <td>Canada</td>\n",
       "      <td>North America</td>\n",
       "      <td>35362905</td>\n",
       "      <td>9984670</td>\n",
       "      <td>202080</td>\n",
       "      <td>Dollar</td>\n",
       "      <td>10.3</td>\n",
       "      <td>8.5</td>\n",
       "      <td>81.9</td>\n",
       "      <td>True</td>\n",
       "    </tr>\n",
       "    <tr>\n",
       "      <th>104</th>\n",
       "      <td>Kenya</td>\n",
       "      <td>Africa</td>\n",
       "      <td>46790758</td>\n",
       "      <td>580367</td>\n",
       "      <td>536</td>\n",
       "      <td>Schilling</td>\n",
       "      <td>25.1</td>\n",
       "      <td>6.8</td>\n",
       "      <td>64.0</td>\n",
       "      <td>True</td>\n",
       "    </tr>\n",
       "    <tr>\n",
       "      <th>108</th>\n",
       "      <td>Colombia</td>\n",
       "      <td>South America</td>\n",
       "      <td>47220856</td>\n",
       "      <td>1138910</td>\n",
       "      <td>3208</td>\n",
       "      <td>Peso</td>\n",
       "      <td>16.3</td>\n",
       "      <td>5.4</td>\n",
       "      <td>75.7</td>\n",
       "      <td>True</td>\n",
       "    </tr>\n",
       "    <tr>\n",
       "      <th>125</th>\n",
       "      <td>Madagascar</td>\n",
       "      <td>Africa</td>\n",
       "      <td>24430325</td>\n",
       "      <td>587041</td>\n",
       "      <td>4828</td>\n",
       "      <td>Ariary</td>\n",
       "      <td>32.1</td>\n",
       "      <td>6.7</td>\n",
       "      <td>65.9</td>\n",
       "      <td>True</td>\n",
       "    </tr>\n",
       "    <tr>\n",
       "      <th>127</th>\n",
       "      <td>Malaysia</td>\n",
       "      <td>Asia</td>\n",
       "      <td>30949962</td>\n",
       "      <td>329847</td>\n",
       "      <td>4675</td>\n",
       "      <td>Ringgit</td>\n",
       "      <td>19.4</td>\n",
       "      <td>5.1</td>\n",
       "      <td>75.0</td>\n",
       "      <td>True</td>\n",
       "    </tr>\n",
       "    <tr>\n",
       "      <th>131</th>\n",
       "      <td>Morocco</td>\n",
       "      <td>Africa</td>\n",
       "      <td>33655786</td>\n",
       "      <td>446550</td>\n",
       "      <td>1835</td>\n",
       "      <td>Dirham</td>\n",
       "      <td>18.0</td>\n",
       "      <td>4.8</td>\n",
       "      <td>76.9</td>\n",
       "      <td>True</td>\n",
       "    </tr>\n",
       "    <tr>\n",
       "      <th>138</th>\n",
       "      <td>Mexico</td>\n",
       "      <td>North America</td>\n",
       "      <td>123166749</td>\n",
       "      <td>1964375</td>\n",
       "      <td>9330</td>\n",
       "      <td>Peso</td>\n",
       "      <td>18.5</td>\n",
       "      <td>5.3</td>\n",
       "      <td>75.9</td>\n",
       "      <td>True</td>\n",
       "    </tr>\n",
       "    <tr>\n",
       "      <th>145</th>\n",
       "      <td>Mozambique</td>\n",
       "      <td>Africa</td>\n",
       "      <td>25930150</td>\n",
       "      <td>799380</td>\n",
       "      <td>2470</td>\n",
       "      <td>Metical</td>\n",
       "      <td>38.3</td>\n",
       "      <td>11.9</td>\n",
       "      <td>53.3</td>\n",
       "      <td>True</td>\n",
       "    </tr>\n",
       "    <tr>\n",
       "      <th>146</th>\n",
       "      <td>Burma</td>\n",
       "      <td>Asia</td>\n",
       "      <td>56890418</td>\n",
       "      <td>676578</td>\n",
       "      <td>1930</td>\n",
       "      <td>Kyat</td>\n",
       "      <td>18.2</td>\n",
       "      <td>7.9</td>\n",
       "      <td>66.6</td>\n",
       "      <td>True</td>\n",
       "    </tr>\n",
       "    <tr>\n",
       "      <th>149</th>\n",
       "      <td>Nepal</td>\n",
       "      <td>Asia</td>\n",
       "      <td>29033914</td>\n",
       "      <td>147181</td>\n",
       "      <td>0</td>\n",
       "      <td>Rupie</td>\n",
       "      <td>19.9</td>\n",
       "      <td>5.7</td>\n",
       "      <td>70.7</td>\n",
       "      <td>False</td>\n",
       "    </tr>\n",
       "    <tr>\n",
       "      <th>156</th>\n",
       "      <td>Nigeria</td>\n",
       "      <td>Africa</td>\n",
       "      <td>186053386</td>\n",
       "      <td>923768</td>\n",
       "      <td>853</td>\n",
       "      <td>Naira</td>\n",
       "      <td>37.3</td>\n",
       "      <td>12.7</td>\n",
       "      <td>53.4</td>\n",
       "      <td>True</td>\n",
       "    </tr>\n",
       "    <tr>\n",
       "      <th>158</th>\n",
       "      <td>North Korea</td>\n",
       "      <td>Asia</td>\n",
       "      <td>25115311</td>\n",
       "      <td>120538</td>\n",
       "      <td>2495</td>\n",
       "      <td>Won</td>\n",
       "      <td>14.6</td>\n",
       "      <td>9.3</td>\n",
       "      <td>70.4</td>\n",
       "      <td>True</td>\n",
       "    </tr>\n",
       "    <tr>\n",
       "      <th>165</th>\n",
       "      <td>Pakistan</td>\n",
       "      <td>Asia</td>\n",
       "      <td>201995540</td>\n",
       "      <td>796095</td>\n",
       "      <td>1046</td>\n",
       "      <td>Rupie</td>\n",
       "      <td>22.3</td>\n",
       "      <td>6.4</td>\n",
       "      <td>67.7</td>\n",
       "      <td>True</td>\n",
       "    </tr>\n",
       "    <tr>\n",
       "      <th>171</th>\n",
       "      <td>Peru</td>\n",
       "      <td>South America</td>\n",
       "      <td>30741062</td>\n",
       "      <td>1285216</td>\n",
       "      <td>2414</td>\n",
       "      <td>Nuevo Sol</td>\n",
       "      <td>18.0</td>\n",
       "      <td>6.0</td>\n",
       "      <td>73.7</td>\n",
       "      <td>True</td>\n",
       "    </tr>\n",
       "    <tr>\n",
       "      <th>172</th>\n",
       "      <td>Philippines</td>\n",
       "      <td>Asia</td>\n",
       "      <td>102624209</td>\n",
       "      <td>300000</td>\n",
       "      <td>36289</td>\n",
       "      <td>Peso</td>\n",
       "      <td>24.0</td>\n",
       "      <td>6.1</td>\n",
       "      <td>69.2</td>\n",
       "      <td>True</td>\n",
       "    </tr>\n",
       "    <tr>\n",
       "      <th>174</th>\n",
       "      <td>Poland</td>\n",
       "      <td>Europe</td>\n",
       "      <td>38523261</td>\n",
       "      <td>312685</td>\n",
       "      <td>440</td>\n",
       "      <td>Zloty</td>\n",
       "      <td>9.6</td>\n",
       "      <td>10.3</td>\n",
       "      <td>77.6</td>\n",
       "      <td>True</td>\n",
       "    </tr>\n",
       "    <tr>\n",
       "      <th>179</th>\n",
       "      <td>Romania</td>\n",
       "      <td>Europe</td>\n",
       "      <td>21599736</td>\n",
       "      <td>238391</td>\n",
       "      <td>225</td>\n",
       "      <td>Leu</td>\n",
       "      <td>9.0</td>\n",
       "      <td>11.9</td>\n",
       "      <td>75.1</td>\n",
       "      <td>True</td>\n",
       "    </tr>\n",
       "    <tr>\n",
       "      <th>180</th>\n",
       "      <td>Russia</td>\n",
       "      <td>Europe</td>\n",
       "      <td>142355415</td>\n",
       "      <td>17098242</td>\n",
       "      <td>37653</td>\n",
       "      <td>Rubel</td>\n",
       "      <td>11.3</td>\n",
       "      <td>13.6</td>\n",
       "      <td>70.8</td>\n",
       "      <td>True</td>\n",
       "    </tr>\n",
       "    <tr>\n",
       "      <th>187</th>\n",
       "      <td>Saudi Arabia</td>\n",
       "      <td>Asia</td>\n",
       "      <td>28160273</td>\n",
       "      <td>2149690</td>\n",
       "      <td>2640</td>\n",
       "      <td>Riyal</td>\n",
       "      <td>18.4</td>\n",
       "      <td>3.3</td>\n",
       "      <td>75.3</td>\n",
       "      <td>True</td>\n",
       "    </tr>\n",
       "    <tr>\n",
       "      <th>200</th>\n",
       "      <td>Spain</td>\n",
       "      <td>Europe</td>\n",
       "      <td>48563476</td>\n",
       "      <td>505370</td>\n",
       "      <td>4964</td>\n",
       "      <td>Euro</td>\n",
       "      <td>9.4</td>\n",
       "      <td>9.1</td>\n",
       "      <td>81.7</td>\n",
       "      <td>True</td>\n",
       "    </tr>\n",
       "    <tr>\n",
       "      <th>201</th>\n",
       "      <td>Sri Lanka</td>\n",
       "      <td>Asia</td>\n",
       "      <td>22235000</td>\n",
       "      <td>65610</td>\n",
       "      <td>1340</td>\n",
       "      <td>Rupie</td>\n",
       "      <td>15.5</td>\n",
       "      <td>6.2</td>\n",
       "      <td>76.8</td>\n",
       "      <td>True</td>\n",
       "    </tr>\n",
       "    <tr>\n",
       "      <th>207</th>\n",
       "      <td>South Africa</td>\n",
       "      <td>Africa</td>\n",
       "      <td>54300704</td>\n",
       "      <td>1219090</td>\n",
       "      <td>2798</td>\n",
       "      <td>Rand</td>\n",
       "      <td>20.5</td>\n",
       "      <td>9.6</td>\n",
       "      <td>63.1</td>\n",
       "      <td>True</td>\n",
       "    </tr>\n",
       "    <tr>\n",
       "      <th>208</th>\n",
       "      <td>Sudan</td>\n",
       "      <td>Africa</td>\n",
       "      <td>36729501</td>\n",
       "      <td>1861484</td>\n",
       "      <td>853</td>\n",
       "      <td>Pfund</td>\n",
       "      <td>28.5</td>\n",
       "      <td>7.5</td>\n",
       "      <td>64.1</td>\n",
       "      <td>True</td>\n",
       "    </tr>\n",
       "    <tr>\n",
       "      <th>210</th>\n",
       "      <td>South Korea</td>\n",
       "      <td>Asia</td>\n",
       "      <td>50924172</td>\n",
       "      <td>99720</td>\n",
       "      <td>2413</td>\n",
       "      <td>Won</td>\n",
       "      <td>8.4</td>\n",
       "      <td>5.8</td>\n",
       "      <td>82.4</td>\n",
       "      <td>True</td>\n",
       "    </tr>\n",
       "    <tr>\n",
       "      <th>217</th>\n",
       "      <td>Taiwan</td>\n",
       "      <td>Asia</td>\n",
       "      <td>23464787</td>\n",
       "      <td>35980</td>\n",
       "      <td>1566</td>\n",
       "      <td>Dollar</td>\n",
       "      <td>8.4</td>\n",
       "      <td>7.3</td>\n",
       "      <td>80.1</td>\n",
       "      <td>True</td>\n",
       "    </tr>\n",
       "    <tr>\n",
       "      <th>218</th>\n",
       "      <td>Tanzania</td>\n",
       "      <td>Africa</td>\n",
       "      <td>52482726</td>\n",
       "      <td>947300</td>\n",
       "      <td>1424</td>\n",
       "      <td>Schilling</td>\n",
       "      <td>36.0</td>\n",
       "      <td>7.8</td>\n",
       "      <td>62.2</td>\n",
       "      <td>True</td>\n",
       "    </tr>\n",
       "    <tr>\n",
       "      <th>219</th>\n",
       "      <td>Thailand</td>\n",
       "      <td>Asia</td>\n",
       "      <td>68200824</td>\n",
       "      <td>513120</td>\n",
       "      <td>3219</td>\n",
       "      <td>Baht</td>\n",
       "      <td>11.1</td>\n",
       "      <td>7.9</td>\n",
       "      <td>74.7</td>\n",
       "      <td>True</td>\n",
       "    </tr>\n",
       "    <tr>\n",
       "      <th>227</th>\n",
       "      <td>Turkey</td>\n",
       "      <td>Asia</td>\n",
       "      <td>80274604</td>\n",
       "      <td>783562</td>\n",
       "      <td>7200</td>\n",
       "      <td>Lira</td>\n",
       "      <td>16.0</td>\n",
       "      <td>5.9</td>\n",
       "      <td>74.8</td>\n",
       "      <td>True</td>\n",
       "    </tr>\n",
       "    <tr>\n",
       "      <th>231</th>\n",
       "      <td>Uganda</td>\n",
       "      <td>Africa</td>\n",
       "      <td>38319241</td>\n",
       "      <td>241038</td>\n",
       "      <td>0</td>\n",
       "      <td>Schilling</td>\n",
       "      <td>43.4</td>\n",
       "      <td>10.4</td>\n",
       "      <td>55.4</td>\n",
       "      <td>False</td>\n",
       "    </tr>\n",
       "    <tr>\n",
       "      <th>232</th>\n",
       "      <td>Ukraine</td>\n",
       "      <td>Europe</td>\n",
       "      <td>44209733</td>\n",
       "      <td>603550</td>\n",
       "      <td>2782</td>\n",
       "      <td>Hrywnja</td>\n",
       "      <td>10.5</td>\n",
       "      <td>14.4</td>\n",
       "      <td>71.8</td>\n",
       "      <td>True</td>\n",
       "    </tr>\n",
       "    <tr>\n",
       "      <th>235</th>\n",
       "      <td>Uzbekistan</td>\n",
       "      <td>Asia</td>\n",
       "      <td>29473614</td>\n",
       "      <td>447400</td>\n",
       "      <td>0</td>\n",
       "      <td>So'm</td>\n",
       "      <td>16.9</td>\n",
       "      <td>5.3</td>\n",
       "      <td>73.8</td>\n",
       "      <td>False</td>\n",
       "    </tr>\n",
       "    <tr>\n",
       "      <th>238</th>\n",
       "      <td>Venezuela</td>\n",
       "      <td>South America</td>\n",
       "      <td>30912302</td>\n",
       "      <td>912050</td>\n",
       "      <td>2800</td>\n",
       "      <td>Bolívar Fuerte</td>\n",
       "      <td>19.2</td>\n",
       "      <td>5.2</td>\n",
       "      <td>75.8</td>\n",
       "      <td>True</td>\n",
       "    </tr>\n",
       "    <tr>\n",
       "      <th>240</th>\n",
       "      <td>United States</td>\n",
       "      <td>North America</td>\n",
       "      <td>323995528</td>\n",
       "      <td>9826675</td>\n",
       "      <td>19924</td>\n",
       "      <td>Dollar</td>\n",
       "      <td>12.5</td>\n",
       "      <td>8.2</td>\n",
       "      <td>79.8</td>\n",
       "      <td>True</td>\n",
       "    </tr>\n",
       "    <tr>\n",
       "      <th>241</th>\n",
       "      <td>United Kingdom</td>\n",
       "      <td>Europe</td>\n",
       "      <td>64430428</td>\n",
       "      <td>243610</td>\n",
       "      <td>12429</td>\n",
       "      <td>Pfund</td>\n",
       "      <td>12.1</td>\n",
       "      <td>9.4</td>\n",
       "      <td>80.7</td>\n",
       "      <td>True</td>\n",
       "    </tr>\n",
       "    <tr>\n",
       "      <th>242</th>\n",
       "      <td>Vietnam</td>\n",
       "      <td>Asia</td>\n",
       "      <td>95261021</td>\n",
       "      <td>331210</td>\n",
       "      <td>3444</td>\n",
       "      <td>Dong</td>\n",
       "      <td>15.7</td>\n",
       "      <td>5.9</td>\n",
       "      <td>73.4</td>\n",
       "      <td>True</td>\n",
       "    </tr>\n",
       "  </tbody>\n",
       "</table>\n",
       "</div>"
      ],
      "text/plain": [
       "                              country      continent  population      area  \\\n",
       "0                         Afghanistan           Asia    33332025    652230   \n",
       "1                               Egypt         Africa    94666993   1001450   \n",
       "4                             Algeria         Africa    40263711   2381741   \n",
       "7                              Angola         Africa    20172332   1246700   \n",
       "12                          Argentina  South America    43886748   2780400   \n",
       "16                           Ethiopia         Africa   102374044   1104300   \n",
       "17                          Australia      Australia    22992654   7741220   \n",
       "20                         Bangladesh           Asia   156186882    143998   \n",
       "32                             Brazil  South America   205823665   8514877   \n",
       "39                              China           Asia  1373541278   9596960   \n",
       "44   Democratic Republic of the Congo         Africa    81331050   2344858   \n",
       "45                            Germany         Europe    80722792    357022   \n",
       "51                        Ivory Coast         Africa    23740424    322463   \n",
       "58                             France         Europe    66836154    643801   \n",
       "65                              Ghana         Africa    26908262    238533   \n",
       "81                              India           Asia  1266883598   3287263   \n",
       "82                          Indonesia           Asia   258316051   1904569   \n",
       "84                               Iraq           Asia    38146025    438317   \n",
       "85                               Iran           Asia    82801633   1648195   \n",
       "89                              Italy         Europe    62007540    301340   \n",
       "91                              Japan           Asia   126702133    377915   \n",
       "92                              Yemen           Asia    27392779    527968   \n",
       "99                           Cameroon         Africa    24360803    475440   \n",
       "100                            Canada  North America    35362905   9984670   \n",
       "104                             Kenya         Africa    46790758    580367   \n",
       "108                          Colombia  South America    47220856   1138910   \n",
       "125                        Madagascar         Africa    24430325    587041   \n",
       "127                          Malaysia           Asia    30949962    329847   \n",
       "131                           Morocco         Africa    33655786    446550   \n",
       "138                            Mexico  North America   123166749   1964375   \n",
       "145                        Mozambique         Africa    25930150    799380   \n",
       "146                             Burma           Asia    56890418    676578   \n",
       "149                             Nepal           Asia    29033914    147181   \n",
       "156                           Nigeria         Africa   186053386    923768   \n",
       "158                       North Korea           Asia    25115311    120538   \n",
       "165                          Pakistan           Asia   201995540    796095   \n",
       "171                              Peru  South America    30741062   1285216   \n",
       "172                       Philippines           Asia   102624209    300000   \n",
       "174                            Poland         Europe    38523261    312685   \n",
       "179                           Romania         Europe    21599736    238391   \n",
       "180                            Russia         Europe   142355415  17098242   \n",
       "187                      Saudi Arabia           Asia    28160273   2149690   \n",
       "200                             Spain         Europe    48563476    505370   \n",
       "201                         Sri Lanka           Asia    22235000     65610   \n",
       "207                      South Africa         Africa    54300704   1219090   \n",
       "208                             Sudan         Africa    36729501   1861484   \n",
       "210                       South Korea           Asia    50924172     99720   \n",
       "217                            Taiwan           Asia    23464787     35980   \n",
       "218                          Tanzania         Africa    52482726    947300   \n",
       "219                          Thailand           Asia    68200824    513120   \n",
       "227                            Turkey           Asia    80274604    783562   \n",
       "231                            Uganda         Africa    38319241    241038   \n",
       "232                           Ukraine         Europe    44209733    603550   \n",
       "235                        Uzbekistan           Asia    29473614    447400   \n",
       "238                         Venezuela  South America    30912302    912050   \n",
       "240                     United States  North America   323995528   9826675   \n",
       "241                    United Kingdom         Europe    64430428    243610   \n",
       "242                           Vietnam           Asia    95261021    331210   \n",
       "\n",
       "     coastline        currency  birthrate  deathrate  life expectancy  coastal  \n",
       "0            0         Afghani       38.3       13.7             51.3    False  \n",
       "1         2450           Pfund       30.3        4.7             72.7     True  \n",
       "4          998           Dinar       23.0        4.3             76.8     True  \n",
       "7         1600          Kwanza       38.6       11.3             56.0     True  \n",
       "12        4989            Peso       17.0        7.5             77.1     True  \n",
       "16           0            Birr       36.9        7.9             62.2    False  \n",
       "17       25760          Dollar       12.1        7.2             82.2     True  \n",
       "20         580            Taka       19.0        5.3             73.2     True  \n",
       "32        7491            Real       14.3        6.6             73.8     True  \n",
       "39       14500            Yuan       12.4        7.7             75.5     True  \n",
       "44          37           Franc       34.2        9.9             57.3     True  \n",
       "45        2389            Euro        8.5       11.6             80.7     True  \n",
       "51         515           Franc       28.2        9.5             58.7     True  \n",
       "58        3427            Euro       12.3        9.3             81.8     True  \n",
       "65         539      Ghana Cedi       30.8        7.1             66.6     True  \n",
       "81        7000           Rupie       19.3        7.3             68.5     True  \n",
       "82       54716          Rupiah       16.4        6.4             72.7     True  \n",
       "84          58           Dinar       30.9        3.8             74.9     True  \n",
       "85        2440            Rial       17.8        5.9             71.4     True  \n",
       "89        7600            Euro        8.7       10.3             82.2     True  \n",
       "91       29751             Yen        7.8        9.6             85.0     True  \n",
       "92        1906            Rial       29.2        6.1             65.5     True  \n",
       "99         402           Franc       35.8        9.8             58.5     True  \n",
       "100     202080          Dollar       10.3        8.5             81.9     True  \n",
       "104        536       Schilling       25.1        6.8             64.0     True  \n",
       "108       3208            Peso       16.3        5.4             75.7     True  \n",
       "125       4828          Ariary       32.1        6.7             65.9     True  \n",
       "127       4675         Ringgit       19.4        5.1             75.0     True  \n",
       "131       1835          Dirham       18.0        4.8             76.9     True  \n",
       "138       9330            Peso       18.5        5.3             75.9     True  \n",
       "145       2470         Metical       38.3       11.9             53.3     True  \n",
       "146       1930            Kyat       18.2        7.9             66.6     True  \n",
       "149          0           Rupie       19.9        5.7             70.7    False  \n",
       "156        853           Naira       37.3       12.7             53.4     True  \n",
       "158       2495             Won       14.6        9.3             70.4     True  \n",
       "165       1046           Rupie       22.3        6.4             67.7     True  \n",
       "171       2414       Nuevo Sol       18.0        6.0             73.7     True  \n",
       "172      36289            Peso       24.0        6.1             69.2     True  \n",
       "174        440           Zloty        9.6       10.3             77.6     True  \n",
       "179        225             Leu        9.0       11.9             75.1     True  \n",
       "180      37653           Rubel       11.3       13.6             70.8     True  \n",
       "187       2640           Riyal       18.4        3.3             75.3     True  \n",
       "200       4964            Euro        9.4        9.1             81.7     True  \n",
       "201       1340           Rupie       15.5        6.2             76.8     True  \n",
       "207       2798            Rand       20.5        9.6             63.1     True  \n",
       "208        853           Pfund       28.5        7.5             64.1     True  \n",
       "210       2413             Won        8.4        5.8             82.4     True  \n",
       "217       1566          Dollar        8.4        7.3             80.1     True  \n",
       "218       1424       Schilling       36.0        7.8             62.2     True  \n",
       "219       3219            Baht       11.1        7.9             74.7     True  \n",
       "227       7200            Lira       16.0        5.9             74.8     True  \n",
       "231          0       Schilling       43.4       10.4             55.4    False  \n",
       "232       2782         Hrywnja       10.5       14.4             71.8     True  \n",
       "235          0            So'm       16.9        5.3             73.8    False  \n",
       "238       2800  Bolívar Fuerte       19.2        5.2             75.8     True  \n",
       "240      19924          Dollar       12.5        8.2             79.8     True  \n",
       "241      12429           Pfund       12.1        9.4             80.7     True  \n",
       "242       3444            Dong       15.7        5.9             73.4     True  "
      ]
     },
     "execution_count": 144,
     "metadata": {},
     "output_type": "execute_result"
    }
   ],
   "source": [
    "#choose the desires columns\n",
    "Country=Country[['Country','Continent','Population','Area','Coastline',\n",
    "                'Currency','Birthrate','Deathrate','Life expectancy']]\n",
    "#change the column names to lowercase\n",
    "Country.columns = Country.columns.str.lower()\n",
    "#drop columns with missing values (Antarctica)\n",
    "Country=Country.dropna(axis=0, how='any')\n",
    "#limit to countries with populations over 20 million\n",
    "Country=Country[Country['population']>20e6]\n",
    "#add a boolean valued column that is true for countries with coastlines\n",
    "Country['coastal']=Country['coastline']!=0\n",
    "Country"
   ]
  },
  {
   "cell_type": "markdown",
   "metadata": {},
   "source": [
    "- This will calculate the mean population."
   ]
  },
  {
   "cell_type": "code",
   "execution_count": 145,
   "metadata": {
    "collapsed": false
   },
   "outputs": [
    {
     "data": {
      "text/plain": [
       "112995987.12068966"
      ]
     },
     "execution_count": 145,
     "metadata": {},
     "output_type": "execute_result"
    }
   ],
   "source": [
    "Country['population'].mean()"
   ]
  },
  {
   "cell_type": "markdown",
   "metadata": {},
   "source": [
    "- This will calculate the sum of all populations in Asia."
   ]
  },
  {
   "cell_type": "code",
   "execution_count": 123,
   "metadata": {
    "collapsed": false
   },
   "outputs": [
    {
     "data": {
      "text/plain": [
       "4207906053"
      ]
     },
     "execution_count": 123,
     "metadata": {},
     "output_type": "execute_result"
    }
   ],
   "source": [
    "Country[Country['continent']=='Asia']['population'].sum()"
   ]
  },
  {
   "cell_type": "markdown",
   "metadata": {},
   "source": [
    "- This will return the number of land-locked countries in the data frame."
   ]
  },
  {
   "cell_type": "code",
   "execution_count": 124,
   "metadata": {
    "collapsed": false
   },
   "outputs": [
    {
     "data": {
      "text/plain": [
       "5"
      ]
     },
     "execution_count": 124,
     "metadata": {},
     "output_type": "execute_result"
    }
   ],
   "source": [
    "Country[Country['coastal']==False].country.count()"
   ]
  },
  {
   "cell_type": "markdown",
   "metadata": {},
   "source": [
    "- To group the countries by continent, do the following:"
   ]
  },
  {
   "cell_type": "code",
   "execution_count": 147,
   "metadata": {
    "collapsed": false
   },
   "outputs": [
    {
     "data": {
      "text/plain": [
       "['corr',\n",
       " 'corrwith',\n",
       " 'count',\n",
       " 'country',\n",
       " 'cov',\n",
       " 'cumcount',\n",
       " 'cummax',\n",
       " 'cummin',\n",
       " 'cumprod',\n",
       " 'cumsum',\n",
       " 'currency',\n",
       " 'deathrate',\n",
       " 'describe',\n",
       " 'diff',\n",
       " 'dtypes',\n",
       " 'expanding',\n",
       " 'ffill',\n",
       " 'fillna',\n",
       " 'filter',\n",
       " 'first',\n",
       " 'get_group',\n",
       " 'groups',\n",
       " 'head',\n",
       " 'hist',\n",
       " 'idxmax',\n",
       " 'idxmin',\n",
       " 'indices',\n",
       " 'last',\n",
       " 'mad',\n",
       " 'max']"
      ]
     },
     "execution_count": 147,
     "metadata": {},
     "output_type": "execute_result"
    }
   ],
   "source": [
    "group = Country.groupby('continent')\n",
    "dir(group)[-60:-30]"
   ]
  },
  {
   "cell_type": "markdown",
   "metadata": {},
   "source": [
    "- `group` is assigned the value returned by the `groupby` function, whose type is:"
   ]
  },
  {
   "cell_type": "code",
   "execution_count": 126,
   "metadata": {
    "collapsed": false
   },
   "outputs": [
    {
     "name": "stdout",
     "output_type": "stream",
     "text": [
      "<class 'pandas.core.groupby.DataFrameGroupBy'>\n"
     ]
    }
   ],
   "source": [
    "print(type(group))"
   ]
  },
  {
   "cell_type": "markdown",
   "metadata": {},
   "source": [
    "- The `DataFrameGroupBy` object is an `iterable`. Iterate over the object and print the contents, as follows:"
   ]
  },
  {
   "cell_type": "code",
   "execution_count": 127,
   "metadata": {
    "collapsed": false
   },
   "outputs": [
    {
     "name": "stdout",
     "output_type": "stream",
     "text": [
      "('Africa',                               country continent  population     area  \\\n",
      "1                               Egypt    Africa    94666993  1001450   \n",
      "4                             Algeria    Africa    40263711  2381741   \n",
      "7                              Angola    Africa    20172332  1246700   \n",
      "16                           Ethiopia    Africa   102374044  1104300   \n",
      "44   Democratic Republic of the Congo    Africa    81331050  2344858   \n",
      "51                        Ivory Coast    Africa    23740424   322463   \n",
      "65                              Ghana    Africa    26908262   238533   \n",
      "99                           Cameroon    Africa    24360803   475440   \n",
      "104                             Kenya    Africa    46790758   580367   \n",
      "125                        Madagascar    Africa    24430325   587041   \n",
      "131                           Morocco    Africa    33655786   446550   \n",
      "145                        Mozambique    Africa    25930150   799380   \n",
      "156                           Nigeria    Africa   186053386   923768   \n",
      "207                      South Africa    Africa    54300704  1219090   \n",
      "208                             Sudan    Africa    36729501  1861484   \n",
      "218                          Tanzania    Africa    52482726   947300   \n",
      "231                            Uganda    Africa    38319241   241038   \n",
      "\n",
      "     coastline    currency  birthrate  deathrate  life expectancy  coastal  \n",
      "1         2450       Pfund       30.3        4.7             72.7     True  \n",
      "4          998       Dinar       23.0        4.3             76.8     True  \n",
      "7         1600      Kwanza       38.6       11.3             56.0     True  \n",
      "16           0        Birr       36.9        7.9             62.2    False  \n",
      "44          37       Franc       34.2        9.9             57.3     True  \n",
      "51         515       Franc       28.2        9.5             58.7     True  \n",
      "65         539  Ghana Cedi       30.8        7.1             66.6     True  \n",
      "99         402       Franc       35.8        9.8             58.5     True  \n",
      "104        536   Schilling       25.1        6.8             64.0     True  \n",
      "125       4828      Ariary       32.1        6.7             65.9     True  \n",
      "131       1835      Dirham       18.0        4.8             76.9     True  \n",
      "145       2470     Metical       38.3       11.9             53.3     True  \n",
      "156        853       Naira       37.3       12.7             53.4     True  \n",
      "207       2798        Rand       20.5        9.6             63.1     True  \n",
      "208        853       Pfund       28.5        7.5             64.1     True  \n",
      "218       1424   Schilling       36.0        7.8             62.2     True  \n",
      "231          0   Schilling       43.4       10.4             55.4    False  )\n",
      "('Asia',           country continent  population     area  coastline currency  \\\n",
      "0     Afghanistan      Asia    33332025   652230          0  Afghani   \n",
      "20     Bangladesh      Asia   156186882   143998        580     Taka   \n",
      "39          China      Asia  1373541278  9596960      14500     Yuan   \n",
      "81          India      Asia  1266883598  3287263       7000    Rupie   \n",
      "82      Indonesia      Asia   258316051  1904569      54716   Rupiah   \n",
      "84           Iraq      Asia    38146025   438317         58    Dinar   \n",
      "85           Iran      Asia    82801633  1648195       2440     Rial   \n",
      "91          Japan      Asia   126702133   377915      29751      Yen   \n",
      "92          Yemen      Asia    27392779   527968       1906     Rial   \n",
      "127      Malaysia      Asia    30949962   329847       4675  Ringgit   \n",
      "146         Burma      Asia    56890418   676578       1930     Kyat   \n",
      "149         Nepal      Asia    29033914   147181          0    Rupie   \n",
      "158   North Korea      Asia    25115311   120538       2495      Won   \n",
      "165      Pakistan      Asia   201995540   796095       1046    Rupie   \n",
      "172   Philippines      Asia   102624209   300000      36289     Peso   \n",
      "187  Saudi Arabia      Asia    28160273  2149690       2640    Riyal   \n",
      "201     Sri Lanka      Asia    22235000    65610       1340    Rupie   \n",
      "210   South Korea      Asia    50924172    99720       2413      Won   \n",
      "217        Taiwan      Asia    23464787    35980       1566   Dollar   \n",
      "219      Thailand      Asia    68200824   513120       3219     Baht   \n",
      "227        Turkey      Asia    80274604   783562       7200     Lira   \n",
      "235    Uzbekistan      Asia    29473614   447400          0     So'm   \n",
      "242       Vietnam      Asia    95261021   331210       3444     Dong   \n",
      "\n",
      "     birthrate  deathrate  life expectancy  coastal  \n",
      "0         38.3       13.7             51.3    False  \n",
      "20        19.0        5.3             73.2     True  \n",
      "39        12.4        7.7             75.5     True  \n",
      "81        19.3        7.3             68.5     True  \n",
      "82        16.4        6.4             72.7     True  \n",
      "84        30.9        3.8             74.9     True  \n",
      "85        17.8        5.9             71.4     True  \n",
      "91         7.8        9.6             85.0     True  \n",
      "92        29.2        6.1             65.5     True  \n",
      "127       19.4        5.1             75.0     True  \n",
      "146       18.2        7.9             66.6     True  \n",
      "149       19.9        5.7             70.7    False  \n",
      "158       14.6        9.3             70.4     True  \n",
      "165       22.3        6.4             67.7     True  \n",
      "172       24.0        6.1             69.2     True  \n",
      "187       18.4        3.3             75.3     True  \n",
      "201       15.5        6.2             76.8     True  \n",
      "210        8.4        5.8             82.4     True  \n",
      "217        8.4        7.3             80.1     True  \n",
      "219       11.1        7.9             74.7     True  \n",
      "227       16.0        5.9             74.8     True  \n",
      "235       16.9        5.3             73.8    False  \n",
      "242       15.7        5.9             73.4     True  )\n",
      "('Australia',       country  continent  population     area  coastline currency  birthrate  \\\n",
      "17  Australia  Australia    22992654  7741220      25760   Dollar       12.1   \n",
      "\n",
      "    deathrate  life expectancy  coastal  \n",
      "17        7.2             82.2     True  )\n",
      "('Europe',             country continent  population      area  coastline currency  \\\n",
      "45          Germany    Europe    80722792    357022       2389     Euro   \n",
      "58           France    Europe    66836154    643801       3427     Euro   \n",
      "89            Italy    Europe    62007540    301340       7600     Euro   \n",
      "174          Poland    Europe    38523261    312685        440    Zloty   \n",
      "179         Romania    Europe    21599736    238391        225      Leu   \n",
      "180          Russia    Europe   142355415  17098242      37653    Rubel   \n",
      "200           Spain    Europe    48563476    505370       4964     Euro   \n",
      "232         Ukraine    Europe    44209733    603550       2782  Hrywnja   \n",
      "241  United Kingdom    Europe    64430428    243610      12429    Pfund   \n",
      "\n",
      "     birthrate  deathrate  life expectancy  coastal  \n",
      "45         8.5       11.6             80.7     True  \n",
      "58        12.3        9.3             81.8     True  \n",
      "89         8.7       10.3             82.2     True  \n",
      "174        9.6       10.3             77.6     True  \n",
      "179        9.0       11.9             75.1     True  \n",
      "180       11.3       13.6             70.8     True  \n",
      "200        9.4        9.1             81.7     True  \n",
      "232       10.5       14.4             71.8     True  \n",
      "241       12.1        9.4             80.7     True  )\n",
      "('North America',            country      continent  population     area  coastline currency  \\\n",
      "100         Canada  North America    35362905  9984670     202080   Dollar   \n",
      "138         Mexico  North America   123166749  1964375       9330     Peso   \n",
      "240  United States  North America   323995528  9826675      19924   Dollar   \n",
      "\n",
      "     birthrate  deathrate  life expectancy  coastal  \n",
      "100       10.3        8.5             81.9     True  \n",
      "138       18.5        5.3             75.9     True  \n",
      "240       12.5        8.2             79.8     True  )\n",
      "('South America',        country      continent  population     area  coastline        currency  \\\n",
      "12   Argentina  South America    43886748  2780400       4989            Peso   \n",
      "32      Brazil  South America   205823665  8514877       7491            Real   \n",
      "108   Colombia  South America    47220856  1138910       3208            Peso   \n",
      "171       Peru  South America    30741062  1285216       2414       Nuevo Sol   \n",
      "238  Venezuela  South America    30912302   912050       2800  Bolívar Fuerte   \n",
      "\n",
      "     birthrate  deathrate  life expectancy  coastal  \n",
      "12        17.0        7.5             77.1     True  \n",
      "32        14.3        6.6             73.8     True  \n",
      "108       16.3        5.4             75.7     True  \n",
      "171       18.0        6.0             73.7     True  \n",
      "238       19.2        5.2             75.8     True  )\n"
     ]
    }
   ],
   "source": [
    "for item in group:\n",
    "    print(item)"
   ]
  },
  {
   "cell_type": "markdown",
   "metadata": {},
   "source": [
    "- Each `item` we print is a two element `tuple`. The first element is the grouping.  \n",
    "- The second element is a data frame for that grouping. There is an alternative way of iterating through the groupby object, as follows:"
   ]
  },
  {
   "cell_type": "code",
   "execution_count": 128,
   "metadata": {
    "collapsed": false
   },
   "outputs": [
    {
     "name": "stdout",
     "output_type": "stream",
     "text": [
      "Africa\n",
      "----------------------------------------------------------------------\n",
      "                              country continent  population     area  \\\n",
      "1                               Egypt    Africa    94666993  1001450   \n",
      "4                             Algeria    Africa    40263711  2381741   \n",
      "7                              Angola    Africa    20172332  1246700   \n",
      "16                           Ethiopia    Africa   102374044  1104300   \n",
      "44   Democratic Republic of the Congo    Africa    81331050  2344858   \n",
      "51                        Ivory Coast    Africa    23740424   322463   \n",
      "65                              Ghana    Africa    26908262   238533   \n",
      "99                           Cameroon    Africa    24360803   475440   \n",
      "104                             Kenya    Africa    46790758   580367   \n",
      "125                        Madagascar    Africa    24430325   587041   \n",
      "131                           Morocco    Africa    33655786   446550   \n",
      "145                        Mozambique    Africa    25930150   799380   \n",
      "156                           Nigeria    Africa   186053386   923768   \n",
      "207                      South Africa    Africa    54300704  1219090   \n",
      "208                             Sudan    Africa    36729501  1861484   \n",
      "218                          Tanzania    Africa    52482726   947300   \n",
      "231                            Uganda    Africa    38319241   241038   \n",
      "\n",
      "     coastline    currency  birthrate  deathrate  life expectancy  coastal  \n",
      "1         2450       Pfund       30.3        4.7             72.7     True  \n",
      "4          998       Dinar       23.0        4.3             76.8     True  \n",
      "7         1600      Kwanza       38.6       11.3             56.0     True  \n",
      "16           0        Birr       36.9        7.9             62.2    False  \n",
      "44          37       Franc       34.2        9.9             57.3     True  \n",
      "51         515       Franc       28.2        9.5             58.7     True  \n",
      "65         539  Ghana Cedi       30.8        7.1             66.6     True  \n",
      "99         402       Franc       35.8        9.8             58.5     True  \n",
      "104        536   Schilling       25.1        6.8             64.0     True  \n",
      "125       4828      Ariary       32.1        6.7             65.9     True  \n",
      "131       1835      Dirham       18.0        4.8             76.9     True  \n",
      "145       2470     Metical       38.3       11.9             53.3     True  \n",
      "156        853       Naira       37.3       12.7             53.4     True  \n",
      "207       2798        Rand       20.5        9.6             63.1     True  \n",
      "208        853       Pfund       28.5        7.5             64.1     True  \n",
      "218       1424   Schilling       36.0        7.8             62.2     True  \n",
      "231          0   Schilling       43.4       10.4             55.4    False  \n",
      "\n",
      "\n",
      "Asia\n",
      "----------------------------------------------------------------------\n",
      "          country continent  population     area  coastline currency  \\\n",
      "0     Afghanistan      Asia    33332025   652230          0  Afghani   \n",
      "20     Bangladesh      Asia   156186882   143998        580     Taka   \n",
      "39          China      Asia  1373541278  9596960      14500     Yuan   \n",
      "81          India      Asia  1266883598  3287263       7000    Rupie   \n",
      "82      Indonesia      Asia   258316051  1904569      54716   Rupiah   \n",
      "84           Iraq      Asia    38146025   438317         58    Dinar   \n",
      "85           Iran      Asia    82801633  1648195       2440     Rial   \n",
      "91          Japan      Asia   126702133   377915      29751      Yen   \n",
      "92          Yemen      Asia    27392779   527968       1906     Rial   \n",
      "127      Malaysia      Asia    30949962   329847       4675  Ringgit   \n",
      "146         Burma      Asia    56890418   676578       1930     Kyat   \n",
      "149         Nepal      Asia    29033914   147181          0    Rupie   \n",
      "158   North Korea      Asia    25115311   120538       2495      Won   \n",
      "165      Pakistan      Asia   201995540   796095       1046    Rupie   \n",
      "172   Philippines      Asia   102624209   300000      36289     Peso   \n",
      "187  Saudi Arabia      Asia    28160273  2149690       2640    Riyal   \n",
      "201     Sri Lanka      Asia    22235000    65610       1340    Rupie   \n",
      "210   South Korea      Asia    50924172    99720       2413      Won   \n",
      "217        Taiwan      Asia    23464787    35980       1566   Dollar   \n",
      "219      Thailand      Asia    68200824   513120       3219     Baht   \n",
      "227        Turkey      Asia    80274604   783562       7200     Lira   \n",
      "235    Uzbekistan      Asia    29473614   447400          0     So'm   \n",
      "242       Vietnam      Asia    95261021   331210       3444     Dong   \n",
      "\n",
      "     birthrate  deathrate  life expectancy  coastal  \n",
      "0         38.3       13.7             51.3    False  \n",
      "20        19.0        5.3             73.2     True  \n",
      "39        12.4        7.7             75.5     True  \n",
      "81        19.3        7.3             68.5     True  \n",
      "82        16.4        6.4             72.7     True  \n",
      "84        30.9        3.8             74.9     True  \n",
      "85        17.8        5.9             71.4     True  \n",
      "91         7.8        9.6             85.0     True  \n",
      "92        29.2        6.1             65.5     True  \n",
      "127       19.4        5.1             75.0     True  \n",
      "146       18.2        7.9             66.6     True  \n",
      "149       19.9        5.7             70.7    False  \n",
      "158       14.6        9.3             70.4     True  \n",
      "165       22.3        6.4             67.7     True  \n",
      "172       24.0        6.1             69.2     True  \n",
      "187       18.4        3.3             75.3     True  \n",
      "201       15.5        6.2             76.8     True  \n",
      "210        8.4        5.8             82.4     True  \n",
      "217        8.4        7.3             80.1     True  \n",
      "219       11.1        7.9             74.7     True  \n",
      "227       16.0        5.9             74.8     True  \n",
      "235       16.9        5.3             73.8    False  \n",
      "242       15.7        5.9             73.4     True  \n",
      "\n",
      "\n",
      "Australia\n",
      "----------------------------------------------------------------------\n",
      "      country  continent  population     area  coastline currency  birthrate  \\\n",
      "17  Australia  Australia    22992654  7741220      25760   Dollar       12.1   \n",
      "\n",
      "    deathrate  life expectancy  coastal  \n",
      "17        7.2             82.2     True  \n",
      "\n",
      "\n",
      "Europe\n",
      "----------------------------------------------------------------------\n",
      "            country continent  population      area  coastline currency  \\\n",
      "45          Germany    Europe    80722792    357022       2389     Euro   \n",
      "58           France    Europe    66836154    643801       3427     Euro   \n",
      "89            Italy    Europe    62007540    301340       7600     Euro   \n",
      "174          Poland    Europe    38523261    312685        440    Zloty   \n",
      "179         Romania    Europe    21599736    238391        225      Leu   \n",
      "180          Russia    Europe   142355415  17098242      37653    Rubel   \n",
      "200           Spain    Europe    48563476    505370       4964     Euro   \n",
      "232         Ukraine    Europe    44209733    603550       2782  Hrywnja   \n",
      "241  United Kingdom    Europe    64430428    243610      12429    Pfund   \n",
      "\n",
      "     birthrate  deathrate  life expectancy  coastal  \n",
      "45         8.5       11.6             80.7     True  \n",
      "58        12.3        9.3             81.8     True  \n",
      "89         8.7       10.3             82.2     True  \n",
      "174        9.6       10.3             77.6     True  \n",
      "179        9.0       11.9             75.1     True  \n",
      "180       11.3       13.6             70.8     True  \n",
      "200        9.4        9.1             81.7     True  \n",
      "232       10.5       14.4             71.8     True  \n",
      "241       12.1        9.4             80.7     True  \n",
      "\n",
      "\n",
      "North America\n",
      "----------------------------------------------------------------------\n",
      "           country      continent  population     area  coastline currency  \\\n",
      "100         Canada  North America    35362905  9984670     202080   Dollar   \n",
      "138         Mexico  North America   123166749  1964375       9330     Peso   \n",
      "240  United States  North America   323995528  9826675      19924   Dollar   \n",
      "\n",
      "     birthrate  deathrate  life expectancy  coastal  \n",
      "100       10.3        8.5             81.9     True  \n",
      "138       18.5        5.3             75.9     True  \n",
      "240       12.5        8.2             79.8     True  \n",
      "\n",
      "\n",
      "South America\n",
      "----------------------------------------------------------------------\n",
      "       country      continent  population     area  coastline        currency  \\\n",
      "12   Argentina  South America    43886748  2780400       4989            Peso   \n",
      "32      Brazil  South America   205823665  8514877       7491            Real   \n",
      "108   Colombia  South America    47220856  1138910       3208            Peso   \n",
      "171       Peru  South America    30741062  1285216       2414       Nuevo Sol   \n",
      "238  Venezuela  South America    30912302   912050       2800  Bolívar Fuerte   \n",
      "\n",
      "     birthrate  deathrate  life expectancy  coastal  \n",
      "12        17.0        7.5             77.1     True  \n",
      "32        14.3        6.6             73.8     True  \n",
      "108       16.3        5.4             75.7     True  \n",
      "171       18.0        6.0             73.7     True  \n",
      "238       19.2        5.2             75.8     True  \n",
      "\n",
      "\n"
     ]
    }
   ],
   "source": [
    "for key, values in group:\n",
    "    print(key) #this indicates the grouping\n",
    "    print('-'*70)\n",
    "    print(values) #this is a dataframe for that \n",
    "    print('\\n')"
   ]
  },
  {
   "cell_type": "markdown",
   "metadata": {},
   "source": [
    "- This is a great way to print and inspect a `DataFrameGroupBy` object. Above was an example of **splitting**.\n",
    "- The size function includes the number of elements in each grouping."
   ]
  },
  {
   "cell_type": "code",
   "execution_count": 146,
   "metadata": {
    "collapsed": false
   },
   "outputs": [
    {
     "ename": "NameError",
     "evalue": "name 'group' is not defined",
     "output_type": "error",
     "traceback": [
      "\u001b[0;31m---------------------------------------------------------------------------\u001b[0m",
      "\u001b[0;31mNameError\u001b[0m                                 Traceback (most recent call last)",
      "\u001b[0;32m<ipython-input-146-1de1625995a5>\u001b[0m in \u001b[0;36m<module>\u001b[0;34m()\u001b[0m\n\u001b[0;32m----> 1\u001b[0;31m \u001b[0mgroup\u001b[0m\u001b[0;34m.\u001b[0m\u001b[0msize\u001b[0m\u001b[0;34m(\u001b[0m\u001b[0;34m)\u001b[0m\u001b[0;34m\u001b[0m\u001b[0m\n\u001b[0m",
      "\u001b[0;31mNameError\u001b[0m: name 'group' is not defined"
     ]
    }
   ],
   "source": [
    "group.size()"
   ]
  },
  {
   "cell_type": "markdown",
   "metadata": {},
   "source": [
    "- The following will return a data frame with the mean values for every coulumn in every grouping."
   ]
  },
  {
   "cell_type": "code",
   "execution_count": 130,
   "metadata": {
    "collapsed": false
   },
   "outputs": [
    {
     "data": {
      "text/html": [
       "<div>\n",
       "<style>\n",
       "    .dataframe thead tr:only-child th {\n",
       "        text-align: right;\n",
       "    }\n",
       "\n",
       "    .dataframe thead th {\n",
       "        text-align: left;\n",
       "    }\n",
       "\n",
       "    .dataframe tbody tr th {\n",
       "        vertical-align: top;\n",
       "    }\n",
       "</style>\n",
       "<table border=\"1\" class=\"dataframe\">\n",
       "  <thead>\n",
       "    <tr style=\"text-align: right;\">\n",
       "      <th></th>\n",
       "      <th>population</th>\n",
       "      <th>area</th>\n",
       "      <th>coastline</th>\n",
       "      <th>birthrate</th>\n",
       "      <th>deathrate</th>\n",
       "      <th>life expectancy</th>\n",
       "      <th>coastal</th>\n",
       "    </tr>\n",
       "    <tr>\n",
       "      <th>continent</th>\n",
       "      <th></th>\n",
       "      <th></th>\n",
       "      <th></th>\n",
       "      <th></th>\n",
       "      <th></th>\n",
       "      <th></th>\n",
       "      <th></th>\n",
       "    </tr>\n",
       "  </thead>\n",
       "  <tbody>\n",
       "    <tr>\n",
       "      <th>Africa</th>\n",
       "      <td>5.367707e+07</td>\n",
       "      <td>9.836178e+05</td>\n",
       "      <td>1302.235294</td>\n",
       "      <td>31.588235</td>\n",
       "      <td>8.394118</td>\n",
       "      <td>62.770588</td>\n",
       "      <td>0.882353</td>\n",
       "    </tr>\n",
       "    <tr>\n",
       "      <th>Asia</th>\n",
       "      <td>1.829524e+08</td>\n",
       "      <td>1.103215e+06</td>\n",
       "      <td>7791.652174</td>\n",
       "      <td>18.256522</td>\n",
       "      <td>6.691304</td>\n",
       "      <td>72.560870</td>\n",
       "      <td>0.869565</td>\n",
       "    </tr>\n",
       "    <tr>\n",
       "      <th>Australia</th>\n",
       "      <td>2.299265e+07</td>\n",
       "      <td>7.741220e+06</td>\n",
       "      <td>25760.000000</td>\n",
       "      <td>12.100000</td>\n",
       "      <td>7.200000</td>\n",
       "      <td>82.200000</td>\n",
       "      <td>1.000000</td>\n",
       "    </tr>\n",
       "    <tr>\n",
       "      <th>Europe</th>\n",
       "      <td>6.324984e+07</td>\n",
       "      <td>2.256001e+06</td>\n",
       "      <td>7989.888889</td>\n",
       "      <td>10.155556</td>\n",
       "      <td>11.100000</td>\n",
       "      <td>78.044444</td>\n",
       "      <td>1.000000</td>\n",
       "    </tr>\n",
       "    <tr>\n",
       "      <th>North America</th>\n",
       "      <td>1.608417e+08</td>\n",
       "      <td>7.258573e+06</td>\n",
       "      <td>77111.333333</td>\n",
       "      <td>13.766667</td>\n",
       "      <td>7.333333</td>\n",
       "      <td>79.200000</td>\n",
       "      <td>1.000000</td>\n",
       "    </tr>\n",
       "    <tr>\n",
       "      <th>South America</th>\n",
       "      <td>7.171693e+07</td>\n",
       "      <td>2.926291e+06</td>\n",
       "      <td>4180.400000</td>\n",
       "      <td>16.960000</td>\n",
       "      <td>6.140000</td>\n",
       "      <td>75.220000</td>\n",
       "      <td>1.000000</td>\n",
       "    </tr>\n",
       "  </tbody>\n",
       "</table>\n",
       "</div>"
      ],
      "text/plain": [
       "                 population          area     coastline  birthrate  deathrate  \\\n",
       "continent                                                                       \n",
       "Africa         5.367707e+07  9.836178e+05   1302.235294  31.588235   8.394118   \n",
       "Asia           1.829524e+08  1.103215e+06   7791.652174  18.256522   6.691304   \n",
       "Australia      2.299265e+07  7.741220e+06  25760.000000  12.100000   7.200000   \n",
       "Europe         6.324984e+07  2.256001e+06   7989.888889  10.155556  11.100000   \n",
       "North America  1.608417e+08  7.258573e+06  77111.333333  13.766667   7.333333   \n",
       "South America  7.171693e+07  2.926291e+06   4180.400000  16.960000   6.140000   \n",
       "\n",
       "               life expectancy   coastal  \n",
       "continent                                 \n",
       "Africa               62.770588  0.882353  \n",
       "Asia                 72.560870  0.869565  \n",
       "Australia            82.200000  1.000000  \n",
       "Europe               78.044444  1.000000  \n",
       "North America        79.200000  1.000000  \n",
       "South America        75.220000  1.000000  "
      ]
     },
     "execution_count": 130,
     "metadata": {},
     "output_type": "execute_result"
    }
   ],
   "source": [
    "group.mean()"
   ]
  },
  {
   "cell_type": "markdown",
   "metadata": {},
   "source": [
    "- If you just want the mean of one specific column."
   ]
  },
  {
   "cell_type": "code",
   "execution_count": 149,
   "metadata": {
    "collapsed": false
   },
   "outputs": [],
   "source": [
    "group.birthrate.mean()\n",
    "# group[['birthrate']].mean() # This returns a data frame\n",
    "group.birthrate?"
   ]
  },
  {
   "cell_type": "markdown",
   "metadata": {},
   "source": [
    "### Aggregration"
   ]
  },
  {
   "cell_type": "markdown",
   "metadata": {},
   "source": [
    "- The data frame can be grouped by multiple keys:"
   ]
  },
  {
   "cell_type": "code",
   "execution_count": 150,
   "metadata": {
    "collapsed": true
   },
   "outputs": [],
   "source": [
    "group2 = Country.groupby(['continent', 'currency'])"
   ]
  },
  {
   "cell_type": "code",
   "execution_count": 133,
   "metadata": {
    "collapsed": false
   },
   "outputs": [
    {
     "name": "stdout",
     "output_type": "stream",
     "text": [
      "('Africa', 'Ariary')\n",
      "----------------------------------------------------------------------\n",
      "        country continent  population    area  coastline currency  birthrate  \\\n",
      "125  Madagascar    Africa    24430325  587041       4828   Ariary       32.1   \n",
      "\n",
      "     deathrate  life expectancy  coastal  \n",
      "125        6.7             65.9     True  \n",
      "\n",
      "\n",
      "('Africa', 'Birr')\n",
      "----------------------------------------------------------------------\n",
      "     country continent  population     area  coastline currency  birthrate  \\\n",
      "16  Ethiopia    Africa   102374044  1104300          0     Birr       36.9   \n",
      "\n",
      "    deathrate  life expectancy  coastal  \n",
      "16        7.9             62.2    False  \n",
      "\n",
      "\n",
      "('Africa', 'Dinar')\n",
      "----------------------------------------------------------------------\n",
      "   country continent  population     area  coastline currency  birthrate  \\\n",
      "4  Algeria    Africa    40263711  2381741        998    Dinar       23.0   \n",
      "\n",
      "   deathrate  life expectancy  coastal  \n",
      "4        4.3             76.8     True  \n",
      "\n",
      "\n",
      "('Africa', 'Dirham')\n",
      "----------------------------------------------------------------------\n",
      "     country continent  population    area  coastline currency  birthrate  \\\n",
      "131  Morocco    Africa    33655786  446550       1835   Dirham       18.0   \n",
      "\n",
      "     deathrate  life expectancy  coastal  \n",
      "131        4.8             76.9     True  \n",
      "\n",
      "\n",
      "('Africa', 'Franc')\n",
      "----------------------------------------------------------------------\n",
      "                             country continent  population     area  \\\n",
      "44  Democratic Republic of the Congo    Africa    81331050  2344858   \n",
      "51                       Ivory Coast    Africa    23740424   322463   \n",
      "99                          Cameroon    Africa    24360803   475440   \n",
      "\n",
      "    coastline currency  birthrate  deathrate  life expectancy  coastal  \n",
      "44         37    Franc       34.2        9.9             57.3     True  \n",
      "51        515    Franc       28.2        9.5             58.7     True  \n",
      "99        402    Franc       35.8        9.8             58.5     True  \n",
      "\n",
      "\n",
      "('Africa', 'Ghana Cedi')\n",
      "----------------------------------------------------------------------\n",
      "   country continent  population    area  coastline    currency  birthrate  \\\n",
      "65   Ghana    Africa    26908262  238533        539  Ghana Cedi       30.8   \n",
      "\n",
      "    deathrate  life expectancy  coastal  \n",
      "65        7.1             66.6     True  \n",
      "\n",
      "\n",
      "('Africa', 'Kwanza')\n",
      "----------------------------------------------------------------------\n",
      "  country continent  population     area  coastline currency  birthrate  \\\n",
      "7  Angola    Africa    20172332  1246700       1600   Kwanza       38.6   \n",
      "\n",
      "   deathrate  life expectancy  coastal  \n",
      "7       11.3             56.0     True  \n",
      "\n",
      "\n",
      "('Africa', 'Metical')\n",
      "----------------------------------------------------------------------\n",
      "        country continent  population    area  coastline currency  birthrate  \\\n",
      "145  Mozambique    Africa    25930150  799380       2470  Metical       38.3   \n",
      "\n",
      "     deathrate  life expectancy  coastal  \n",
      "145       11.9             53.3     True  \n",
      "\n",
      "\n",
      "('Africa', 'Naira')\n",
      "----------------------------------------------------------------------\n",
      "     country continent  population    area  coastline currency  birthrate  \\\n",
      "156  Nigeria    Africa   186053386  923768        853    Naira       37.3   \n",
      "\n",
      "     deathrate  life expectancy  coastal  \n",
      "156       12.7             53.4     True  \n",
      "\n",
      "\n",
      "('Africa', 'Pfund')\n",
      "----------------------------------------------------------------------\n",
      "    country continent  population     area  coastline currency  birthrate  \\\n",
      "1     Egypt    Africa    94666993  1001450       2450    Pfund       30.3   \n",
      "208   Sudan    Africa    36729501  1861484        853    Pfund       28.5   \n",
      "\n",
      "     deathrate  life expectancy  coastal  \n",
      "1          4.7             72.7     True  \n",
      "208        7.5             64.1     True  \n",
      "\n",
      "\n",
      "('Africa', 'Rand')\n",
      "----------------------------------------------------------------------\n",
      "          country continent  population     area  coastline currency  \\\n",
      "207  South Africa    Africa    54300704  1219090       2798     Rand   \n",
      "\n",
      "     birthrate  deathrate  life expectancy  coastal  \n",
      "207       20.5        9.6             63.1     True  \n",
      "\n",
      "\n",
      "('Africa', 'Schilling')\n",
      "----------------------------------------------------------------------\n",
      "      country continent  population    area  coastline   currency  birthrate  \\\n",
      "104     Kenya    Africa    46790758  580367        536  Schilling       25.1   \n",
      "218  Tanzania    Africa    52482726  947300       1424  Schilling       36.0   \n",
      "231    Uganda    Africa    38319241  241038          0  Schilling       43.4   \n",
      "\n",
      "     deathrate  life expectancy  coastal  \n",
      "104        6.8             64.0     True  \n",
      "218        7.8             62.2     True  \n",
      "231       10.4             55.4    False  \n",
      "\n",
      "\n",
      "('Asia', 'Afghani')\n",
      "----------------------------------------------------------------------\n",
      "       country continent  population    area  coastline currency  birthrate  \\\n",
      "0  Afghanistan      Asia    33332025  652230          0  Afghani       38.3   \n",
      "\n",
      "   deathrate  life expectancy  coastal  \n",
      "0       13.7             51.3    False  \n",
      "\n",
      "\n",
      "('Asia', 'Baht')\n",
      "----------------------------------------------------------------------\n",
      "      country continent  population    area  coastline currency  birthrate  \\\n",
      "219  Thailand      Asia    68200824  513120       3219     Baht       11.1   \n",
      "\n",
      "     deathrate  life expectancy  coastal  \n",
      "219        7.9             74.7     True  \n",
      "\n",
      "\n",
      "('Asia', 'Dinar')\n",
      "----------------------------------------------------------------------\n",
      "   country continent  population    area  coastline currency  birthrate  \\\n",
      "84    Iraq      Asia    38146025  438317         58    Dinar       30.9   \n",
      "\n",
      "    deathrate  life expectancy  coastal  \n",
      "84        3.8             74.9     True  \n",
      "\n",
      "\n",
      "('Asia', 'Dollar')\n",
      "----------------------------------------------------------------------\n",
      "    country continent  population   area  coastline currency  birthrate  \\\n",
      "217  Taiwan      Asia    23464787  35980       1566   Dollar        8.4   \n",
      "\n",
      "     deathrate  life expectancy  coastal  \n",
      "217        7.3             80.1     True  \n",
      "\n",
      "\n",
      "('Asia', 'Dong')\n",
      "----------------------------------------------------------------------\n",
      "     country continent  population    area  coastline currency  birthrate  \\\n",
      "242  Vietnam      Asia    95261021  331210       3444     Dong       15.7   \n",
      "\n",
      "     deathrate  life expectancy  coastal  \n",
      "242        5.9             73.4     True  \n",
      "\n",
      "\n",
      "('Asia', 'Kyat')\n",
      "----------------------------------------------------------------------\n",
      "    country continent  population    area  coastline currency  birthrate  \\\n",
      "146   Burma      Asia    56890418  676578       1930     Kyat       18.2   \n",
      "\n",
      "     deathrate  life expectancy  coastal  \n",
      "146        7.9             66.6     True  \n",
      "\n",
      "\n",
      "('Asia', 'Lira')\n",
      "----------------------------------------------------------------------\n",
      "    country continent  population    area  coastline currency  birthrate  \\\n",
      "227  Turkey      Asia    80274604  783562       7200     Lira       16.0   \n",
      "\n",
      "     deathrate  life expectancy  coastal  \n",
      "227        5.9             74.8     True  \n",
      "\n",
      "\n",
      "('Asia', 'Peso')\n",
      "----------------------------------------------------------------------\n",
      "         country continent  population    area  coastline currency  birthrate  \\\n",
      "172  Philippines      Asia   102624209  300000      36289     Peso       24.0   \n",
      "\n",
      "     deathrate  life expectancy  coastal  \n",
      "172        6.1             69.2     True  \n",
      "\n",
      "\n",
      "('Asia', 'Rial')\n",
      "----------------------------------------------------------------------\n",
      "   country continent  population     area  coastline currency  birthrate  \\\n",
      "85    Iran      Asia    82801633  1648195       2440     Rial       17.8   \n",
      "92   Yemen      Asia    27392779   527968       1906     Rial       29.2   \n",
      "\n",
      "    deathrate  life expectancy  coastal  \n",
      "85        5.9             71.4     True  \n",
      "92        6.1             65.5     True  \n",
      "\n",
      "\n",
      "('Asia', 'Ringgit')\n",
      "----------------------------------------------------------------------\n",
      "      country continent  population    area  coastline currency  birthrate  \\\n",
      "127  Malaysia      Asia    30949962  329847       4675  Ringgit       19.4   \n",
      "\n",
      "     deathrate  life expectancy  coastal  \n",
      "127        5.1             75.0     True  \n",
      "\n",
      "\n",
      "('Asia', 'Riyal')\n",
      "----------------------------------------------------------------------\n",
      "          country continent  population     area  coastline currency  \\\n",
      "187  Saudi Arabia      Asia    28160273  2149690       2640    Riyal   \n",
      "\n",
      "     birthrate  deathrate  life expectancy  coastal  \n",
      "187       18.4        3.3             75.3     True  \n",
      "\n",
      "\n",
      "('Asia', 'Rupiah')\n",
      "----------------------------------------------------------------------\n",
      "      country continent  population     area  coastline currency  birthrate  \\\n",
      "82  Indonesia      Asia   258316051  1904569      54716   Rupiah       16.4   \n",
      "\n",
      "    deathrate  life expectancy  coastal  \n",
      "82        6.4             72.7     True  \n",
      "\n",
      "\n",
      "('Asia', 'Rupie')\n",
      "----------------------------------------------------------------------\n",
      "       country continent  population     area  coastline currency  birthrate  \\\n",
      "81       India      Asia  1266883598  3287263       7000    Rupie       19.3   \n",
      "149      Nepal      Asia    29033914   147181          0    Rupie       19.9   \n",
      "165   Pakistan      Asia   201995540   796095       1046    Rupie       22.3   \n",
      "201  Sri Lanka      Asia    22235000    65610       1340    Rupie       15.5   \n",
      "\n",
      "     deathrate  life expectancy  coastal  \n",
      "81         7.3             68.5     True  \n",
      "149        5.7             70.7    False  \n",
      "165        6.4             67.7     True  \n",
      "201        6.2             76.8     True  \n",
      "\n",
      "\n",
      "('Asia', \"So'm\")\n",
      "----------------------------------------------------------------------\n",
      "        country continent  population    area  coastline currency  birthrate  \\\n",
      "235  Uzbekistan      Asia    29473614  447400          0     So'm       16.9   \n",
      "\n",
      "     deathrate  life expectancy  coastal  \n",
      "235        5.3             73.8    False  \n",
      "\n",
      "\n",
      "('Asia', 'Taka')\n",
      "----------------------------------------------------------------------\n",
      "       country continent  population    area  coastline currency  birthrate  \\\n",
      "20  Bangladesh      Asia   156186882  143998        580     Taka       19.0   \n",
      "\n",
      "    deathrate  life expectancy  coastal  \n",
      "20        5.3             73.2     True  \n",
      "\n",
      "\n",
      "('Asia', 'Won')\n",
      "----------------------------------------------------------------------\n",
      "         country continent  population    area  coastline currency  birthrate  \\\n",
      "158  North Korea      Asia    25115311  120538       2495      Won       14.6   \n",
      "210  South Korea      Asia    50924172   99720       2413      Won        8.4   \n",
      "\n",
      "     deathrate  life expectancy  coastal  \n",
      "158        9.3             70.4     True  \n",
      "210        5.8             82.4     True  \n",
      "\n",
      "\n",
      "('Asia', 'Yen')\n",
      "----------------------------------------------------------------------\n",
      "   country continent  population    area  coastline currency  birthrate  \\\n",
      "91   Japan      Asia   126702133  377915      29751      Yen        7.8   \n",
      "\n",
      "    deathrate  life expectancy  coastal  \n",
      "91        9.6             85.0     True  \n",
      "\n",
      "\n",
      "('Asia', 'Yuan')\n",
      "----------------------------------------------------------------------\n",
      "   country continent  population     area  coastline currency  birthrate  \\\n",
      "39   China      Asia  1373541278  9596960      14500     Yuan       12.4   \n",
      "\n",
      "    deathrate  life expectancy  coastal  \n",
      "39        7.7             75.5     True  \n",
      "\n",
      "\n",
      "('Australia', 'Dollar')\n",
      "----------------------------------------------------------------------\n",
      "      country  continent  population     area  coastline currency  birthrate  \\\n",
      "17  Australia  Australia    22992654  7741220      25760   Dollar       12.1   \n",
      "\n",
      "    deathrate  life expectancy  coastal  \n",
      "17        7.2             82.2     True  \n",
      "\n",
      "\n",
      "('Europe', 'Euro')\n",
      "----------------------------------------------------------------------\n",
      "     country continent  population    area  coastline currency  birthrate  \\\n",
      "45   Germany    Europe    80722792  357022       2389     Euro        8.5   \n",
      "58    France    Europe    66836154  643801       3427     Euro       12.3   \n",
      "89     Italy    Europe    62007540  301340       7600     Euro        8.7   \n",
      "200    Spain    Europe    48563476  505370       4964     Euro        9.4   \n",
      "\n",
      "     deathrate  life expectancy  coastal  \n",
      "45        11.6             80.7     True  \n",
      "58         9.3             81.8     True  \n",
      "89        10.3             82.2     True  \n",
      "200        9.1             81.7     True  \n",
      "\n",
      "\n",
      "('Europe', 'Hrywnja')\n",
      "----------------------------------------------------------------------\n",
      "     country continent  population    area  coastline currency  birthrate  \\\n",
      "232  Ukraine    Europe    44209733  603550       2782  Hrywnja       10.5   \n",
      "\n",
      "     deathrate  life expectancy  coastal  \n",
      "232       14.4             71.8     True  \n",
      "\n",
      "\n",
      "('Europe', 'Leu')\n",
      "----------------------------------------------------------------------\n",
      "     country continent  population    area  coastline currency  birthrate  \\\n",
      "179  Romania    Europe    21599736  238391        225      Leu        9.0   \n",
      "\n",
      "     deathrate  life expectancy  coastal  \n",
      "179       11.9             75.1     True  \n",
      "\n",
      "\n",
      "('Europe', 'Pfund')\n",
      "----------------------------------------------------------------------\n",
      "            country continent  population    area  coastline currency  \\\n",
      "241  United Kingdom    Europe    64430428  243610      12429    Pfund   \n",
      "\n",
      "     birthrate  deathrate  life expectancy  coastal  \n",
      "241       12.1        9.4             80.7     True  \n",
      "\n",
      "\n",
      "('Europe', 'Rubel')\n",
      "----------------------------------------------------------------------\n",
      "    country continent  population      area  coastline currency  birthrate  \\\n",
      "180  Russia    Europe   142355415  17098242      37653    Rubel       11.3   \n",
      "\n",
      "     deathrate  life expectancy  coastal  \n",
      "180       13.6             70.8     True  \n",
      "\n",
      "\n",
      "('Europe', 'Zloty')\n",
      "----------------------------------------------------------------------\n",
      "    country continent  population    area  coastline currency  birthrate  \\\n",
      "174  Poland    Europe    38523261  312685        440    Zloty        9.6   \n",
      "\n",
      "     deathrate  life expectancy  coastal  \n",
      "174       10.3             77.6     True  \n",
      "\n",
      "\n",
      "('North America', 'Dollar')\n",
      "----------------------------------------------------------------------\n",
      "           country      continent  population     area  coastline currency  \\\n",
      "100         Canada  North America    35362905  9984670     202080   Dollar   \n",
      "240  United States  North America   323995528  9826675      19924   Dollar   \n",
      "\n",
      "     birthrate  deathrate  life expectancy  coastal  \n",
      "100       10.3        8.5             81.9     True  \n",
      "240       12.5        8.2             79.8     True  \n",
      "\n",
      "\n",
      "('North America', 'Peso')\n",
      "----------------------------------------------------------------------\n",
      "    country      continent  population     area  coastline currency  \\\n",
      "138  Mexico  North America   123166749  1964375       9330     Peso   \n",
      "\n",
      "     birthrate  deathrate  life expectancy  coastal  \n",
      "138       18.5        5.3             75.9     True  \n",
      "\n",
      "\n",
      "('South America', 'Bolívar Fuerte')\n",
      "----------------------------------------------------------------------\n",
      "       country      continent  population    area  coastline        currency  \\\n",
      "238  Venezuela  South America    30912302  912050       2800  Bolívar Fuerte   \n",
      "\n",
      "     birthrate  deathrate  life expectancy  coastal  \n",
      "238       19.2        5.2             75.8     True  \n",
      "\n",
      "\n",
      "('South America', 'Nuevo Sol')\n",
      "----------------------------------------------------------------------\n",
      "    country      continent  population     area  coastline   currency  \\\n",
      "171    Peru  South America    30741062  1285216       2414  Nuevo Sol   \n",
      "\n",
      "     birthrate  deathrate  life expectancy  coastal  \n",
      "171       18.0        6.0             73.7     True  \n",
      "\n",
      "\n",
      "('South America', 'Peso')\n",
      "----------------------------------------------------------------------\n",
      "       country      continent  population     area  coastline currency  \\\n",
      "12   Argentina  South America    43886748  2780400       4989     Peso   \n",
      "108   Colombia  South America    47220856  1138910       3208     Peso   \n",
      "\n",
      "     birthrate  deathrate  life expectancy  coastal  \n",
      "12        17.0        7.5             77.1     True  \n",
      "108       16.3        5.4             75.7     True  \n",
      "\n",
      "\n",
      "('South America', 'Real')\n",
      "----------------------------------------------------------------------\n",
      "   country      continent  population     area  coastline currency  birthrate  \\\n",
      "32  Brazil  South America   205823665  8514877       7491     Real       14.3   \n",
      "\n",
      "    deathrate  life expectancy  coastal  \n",
      "32        6.6             73.8     True  \n",
      "\n",
      "\n"
     ]
    }
   ],
   "source": [
    "for key, values in group2:\n",
    "    print(key)\n",
    "    print('-'*70)\n",
    "    print(values)\n",
    "    print('\\n')"
   ]
  },
  {
   "cell_type": "code",
   "execution_count": 134,
   "metadata": {
    "collapsed": false
   },
   "outputs": [
    {
     "data": {
      "text/html": [
       "<div>\n",
       "<style>\n",
       "    .dataframe thead tr:only-child th {\n",
       "        text-align: right;\n",
       "    }\n",
       "\n",
       "    .dataframe thead th {\n",
       "        text-align: left;\n",
       "    }\n",
       "\n",
       "    .dataframe tbody tr th {\n",
       "        vertical-align: top;\n",
       "    }\n",
       "</style>\n",
       "<table border=\"1\" class=\"dataframe\">\n",
       "  <thead>\n",
       "    <tr style=\"text-align: right;\">\n",
       "      <th></th>\n",
       "      <th></th>\n",
       "      <th>population</th>\n",
       "      <th>area</th>\n",
       "      <th>coastline</th>\n",
       "      <th>birthrate</th>\n",
       "      <th>deathrate</th>\n",
       "      <th>life expectancy</th>\n",
       "      <th>coastal</th>\n",
       "    </tr>\n",
       "    <tr>\n",
       "      <th>continent</th>\n",
       "      <th>currency</th>\n",
       "      <th></th>\n",
       "      <th></th>\n",
       "      <th></th>\n",
       "      <th></th>\n",
       "      <th></th>\n",
       "      <th></th>\n",
       "      <th></th>\n",
       "    </tr>\n",
       "  </thead>\n",
       "  <tbody>\n",
       "    <tr>\n",
       "      <th rowspan=\"12\" valign=\"top\">Africa</th>\n",
       "      <th>Ariary</th>\n",
       "      <td>2.443032e+07</td>\n",
       "      <td>5.870410e+05</td>\n",
       "      <td>4828.000000</td>\n",
       "      <td>32.100000</td>\n",
       "      <td>6.700000</td>\n",
       "      <td>65.900000</td>\n",
       "      <td>1.000000</td>\n",
       "    </tr>\n",
       "    <tr>\n",
       "      <th>Birr</th>\n",
       "      <td>1.023740e+08</td>\n",
       "      <td>1.104300e+06</td>\n",
       "      <td>0.000000</td>\n",
       "      <td>36.900000</td>\n",
       "      <td>7.900000</td>\n",
       "      <td>62.200000</td>\n",
       "      <td>0.000000</td>\n",
       "    </tr>\n",
       "    <tr>\n",
       "      <th>Dinar</th>\n",
       "      <td>4.026371e+07</td>\n",
       "      <td>2.381741e+06</td>\n",
       "      <td>998.000000</td>\n",
       "      <td>23.000000</td>\n",
       "      <td>4.300000</td>\n",
       "      <td>76.800000</td>\n",
       "      <td>1.000000</td>\n",
       "    </tr>\n",
       "    <tr>\n",
       "      <th>Dirham</th>\n",
       "      <td>3.365579e+07</td>\n",
       "      <td>4.465500e+05</td>\n",
       "      <td>1835.000000</td>\n",
       "      <td>18.000000</td>\n",
       "      <td>4.800000</td>\n",
       "      <td>76.900000</td>\n",
       "      <td>1.000000</td>\n",
       "    </tr>\n",
       "    <tr>\n",
       "      <th>Franc</th>\n",
       "      <td>4.314409e+07</td>\n",
       "      <td>1.047587e+06</td>\n",
       "      <td>318.000000</td>\n",
       "      <td>32.733333</td>\n",
       "      <td>9.733333</td>\n",
       "      <td>58.166667</td>\n",
       "      <td>1.000000</td>\n",
       "    </tr>\n",
       "    <tr>\n",
       "      <th>Ghana Cedi</th>\n",
       "      <td>2.690826e+07</td>\n",
       "      <td>2.385330e+05</td>\n",
       "      <td>539.000000</td>\n",
       "      <td>30.800000</td>\n",
       "      <td>7.100000</td>\n",
       "      <td>66.600000</td>\n",
       "      <td>1.000000</td>\n",
       "    </tr>\n",
       "    <tr>\n",
       "      <th>Kwanza</th>\n",
       "      <td>2.017233e+07</td>\n",
       "      <td>1.246700e+06</td>\n",
       "      <td>1600.000000</td>\n",
       "      <td>38.600000</td>\n",
       "      <td>11.300000</td>\n",
       "      <td>56.000000</td>\n",
       "      <td>1.000000</td>\n",
       "    </tr>\n",
       "    <tr>\n",
       "      <th>Metical</th>\n",
       "      <td>2.593015e+07</td>\n",
       "      <td>7.993800e+05</td>\n",
       "      <td>2470.000000</td>\n",
       "      <td>38.300000</td>\n",
       "      <td>11.900000</td>\n",
       "      <td>53.300000</td>\n",
       "      <td>1.000000</td>\n",
       "    </tr>\n",
       "    <tr>\n",
       "      <th>Naira</th>\n",
       "      <td>1.860534e+08</td>\n",
       "      <td>9.237680e+05</td>\n",
       "      <td>853.000000</td>\n",
       "      <td>37.300000</td>\n",
       "      <td>12.700000</td>\n",
       "      <td>53.400000</td>\n",
       "      <td>1.000000</td>\n",
       "    </tr>\n",
       "    <tr>\n",
       "      <th>Pfund</th>\n",
       "      <td>6.569825e+07</td>\n",
       "      <td>1.431467e+06</td>\n",
       "      <td>1651.500000</td>\n",
       "      <td>29.400000</td>\n",
       "      <td>6.100000</td>\n",
       "      <td>68.400000</td>\n",
       "      <td>1.000000</td>\n",
       "    </tr>\n",
       "    <tr>\n",
       "      <th>Rand</th>\n",
       "      <td>5.430070e+07</td>\n",
       "      <td>1.219090e+06</td>\n",
       "      <td>2798.000000</td>\n",
       "      <td>20.500000</td>\n",
       "      <td>9.600000</td>\n",
       "      <td>63.100000</td>\n",
       "      <td>1.000000</td>\n",
       "    </tr>\n",
       "    <tr>\n",
       "      <th>Schilling</th>\n",
       "      <td>4.586424e+07</td>\n",
       "      <td>5.895683e+05</td>\n",
       "      <td>653.333333</td>\n",
       "      <td>34.833333</td>\n",
       "      <td>8.333333</td>\n",
       "      <td>60.533333</td>\n",
       "      <td>0.666667</td>\n",
       "    </tr>\n",
       "    <tr>\n",
       "      <th rowspan=\"18\" valign=\"top\">Asia</th>\n",
       "      <th>Afghani</th>\n",
       "      <td>3.333202e+07</td>\n",
       "      <td>6.522300e+05</td>\n",
       "      <td>0.000000</td>\n",
       "      <td>38.300000</td>\n",
       "      <td>13.700000</td>\n",
       "      <td>51.300000</td>\n",
       "      <td>0.000000</td>\n",
       "    </tr>\n",
       "    <tr>\n",
       "      <th>Baht</th>\n",
       "      <td>6.820082e+07</td>\n",
       "      <td>5.131200e+05</td>\n",
       "      <td>3219.000000</td>\n",
       "      <td>11.100000</td>\n",
       "      <td>7.900000</td>\n",
       "      <td>74.700000</td>\n",
       "      <td>1.000000</td>\n",
       "    </tr>\n",
       "    <tr>\n",
       "      <th>Dinar</th>\n",
       "      <td>3.814602e+07</td>\n",
       "      <td>4.383170e+05</td>\n",
       "      <td>58.000000</td>\n",
       "      <td>30.900000</td>\n",
       "      <td>3.800000</td>\n",
       "      <td>74.900000</td>\n",
       "      <td>1.000000</td>\n",
       "    </tr>\n",
       "    <tr>\n",
       "      <th>Dollar</th>\n",
       "      <td>2.346479e+07</td>\n",
       "      <td>3.598000e+04</td>\n",
       "      <td>1566.000000</td>\n",
       "      <td>8.400000</td>\n",
       "      <td>7.300000</td>\n",
       "      <td>80.100000</td>\n",
       "      <td>1.000000</td>\n",
       "    </tr>\n",
       "    <tr>\n",
       "      <th>Dong</th>\n",
       "      <td>9.526102e+07</td>\n",
       "      <td>3.312100e+05</td>\n",
       "      <td>3444.000000</td>\n",
       "      <td>15.700000</td>\n",
       "      <td>5.900000</td>\n",
       "      <td>73.400000</td>\n",
       "      <td>1.000000</td>\n",
       "    </tr>\n",
       "    <tr>\n",
       "      <th>Kyat</th>\n",
       "      <td>5.689042e+07</td>\n",
       "      <td>6.765780e+05</td>\n",
       "      <td>1930.000000</td>\n",
       "      <td>18.200000</td>\n",
       "      <td>7.900000</td>\n",
       "      <td>66.600000</td>\n",
       "      <td>1.000000</td>\n",
       "    </tr>\n",
       "    <tr>\n",
       "      <th>Lira</th>\n",
       "      <td>8.027460e+07</td>\n",
       "      <td>7.835620e+05</td>\n",
       "      <td>7200.000000</td>\n",
       "      <td>16.000000</td>\n",
       "      <td>5.900000</td>\n",
       "      <td>74.800000</td>\n",
       "      <td>1.000000</td>\n",
       "    </tr>\n",
       "    <tr>\n",
       "      <th>Peso</th>\n",
       "      <td>1.026242e+08</td>\n",
       "      <td>3.000000e+05</td>\n",
       "      <td>36289.000000</td>\n",
       "      <td>24.000000</td>\n",
       "      <td>6.100000</td>\n",
       "      <td>69.200000</td>\n",
       "      <td>1.000000</td>\n",
       "    </tr>\n",
       "    <tr>\n",
       "      <th>Rial</th>\n",
       "      <td>5.509721e+07</td>\n",
       "      <td>1.088082e+06</td>\n",
       "      <td>2173.000000</td>\n",
       "      <td>23.500000</td>\n",
       "      <td>6.000000</td>\n",
       "      <td>68.450000</td>\n",
       "      <td>1.000000</td>\n",
       "    </tr>\n",
       "    <tr>\n",
       "      <th>Ringgit</th>\n",
       "      <td>3.094996e+07</td>\n",
       "      <td>3.298470e+05</td>\n",
       "      <td>4675.000000</td>\n",
       "      <td>19.400000</td>\n",
       "      <td>5.100000</td>\n",
       "      <td>75.000000</td>\n",
       "      <td>1.000000</td>\n",
       "    </tr>\n",
       "    <tr>\n",
       "      <th>Riyal</th>\n",
       "      <td>2.816027e+07</td>\n",
       "      <td>2.149690e+06</td>\n",
       "      <td>2640.000000</td>\n",
       "      <td>18.400000</td>\n",
       "      <td>3.300000</td>\n",
       "      <td>75.300000</td>\n",
       "      <td>1.000000</td>\n",
       "    </tr>\n",
       "    <tr>\n",
       "      <th>Rupiah</th>\n",
       "      <td>2.583161e+08</td>\n",
       "      <td>1.904569e+06</td>\n",
       "      <td>54716.000000</td>\n",
       "      <td>16.400000</td>\n",
       "      <td>6.400000</td>\n",
       "      <td>72.700000</td>\n",
       "      <td>1.000000</td>\n",
       "    </tr>\n",
       "    <tr>\n",
       "      <th>Rupie</th>\n",
       "      <td>3.800370e+08</td>\n",
       "      <td>1.074037e+06</td>\n",
       "      <td>2346.500000</td>\n",
       "      <td>19.250000</td>\n",
       "      <td>6.400000</td>\n",
       "      <td>70.925000</td>\n",
       "      <td>0.750000</td>\n",
       "    </tr>\n",
       "    <tr>\n",
       "      <th>So'm</th>\n",
       "      <td>2.947361e+07</td>\n",
       "      <td>4.474000e+05</td>\n",
       "      <td>0.000000</td>\n",
       "      <td>16.900000</td>\n",
       "      <td>5.300000</td>\n",
       "      <td>73.800000</td>\n",
       "      <td>0.000000</td>\n",
       "    </tr>\n",
       "    <tr>\n",
       "      <th>Taka</th>\n",
       "      <td>1.561869e+08</td>\n",
       "      <td>1.439980e+05</td>\n",
       "      <td>580.000000</td>\n",
       "      <td>19.000000</td>\n",
       "      <td>5.300000</td>\n",
       "      <td>73.200000</td>\n",
       "      <td>1.000000</td>\n",
       "    </tr>\n",
       "    <tr>\n",
       "      <th>Won</th>\n",
       "      <td>3.801974e+07</td>\n",
       "      <td>1.101290e+05</td>\n",
       "      <td>2454.000000</td>\n",
       "      <td>11.500000</td>\n",
       "      <td>7.550000</td>\n",
       "      <td>76.400000</td>\n",
       "      <td>1.000000</td>\n",
       "    </tr>\n",
       "    <tr>\n",
       "      <th>Yen</th>\n",
       "      <td>1.267021e+08</td>\n",
       "      <td>3.779150e+05</td>\n",
       "      <td>29751.000000</td>\n",
       "      <td>7.800000</td>\n",
       "      <td>9.600000</td>\n",
       "      <td>85.000000</td>\n",
       "      <td>1.000000</td>\n",
       "    </tr>\n",
       "    <tr>\n",
       "      <th>Yuan</th>\n",
       "      <td>1.373541e+09</td>\n",
       "      <td>9.596960e+06</td>\n",
       "      <td>14500.000000</td>\n",
       "      <td>12.400000</td>\n",
       "      <td>7.700000</td>\n",
       "      <td>75.500000</td>\n",
       "      <td>1.000000</td>\n",
       "    </tr>\n",
       "    <tr>\n",
       "      <th>Australia</th>\n",
       "      <th>Dollar</th>\n",
       "      <td>2.299265e+07</td>\n",
       "      <td>7.741220e+06</td>\n",
       "      <td>25760.000000</td>\n",
       "      <td>12.100000</td>\n",
       "      <td>7.200000</td>\n",
       "      <td>82.200000</td>\n",
       "      <td>1.000000</td>\n",
       "    </tr>\n",
       "    <tr>\n",
       "      <th rowspan=\"6\" valign=\"top\">Europe</th>\n",
       "      <th>Euro</th>\n",
       "      <td>6.453249e+07</td>\n",
       "      <td>4.518832e+05</td>\n",
       "      <td>4595.000000</td>\n",
       "      <td>9.725000</td>\n",
       "      <td>10.075000</td>\n",
       "      <td>81.600000</td>\n",
       "      <td>1.000000</td>\n",
       "    </tr>\n",
       "    <tr>\n",
       "      <th>Hrywnja</th>\n",
       "      <td>4.420973e+07</td>\n",
       "      <td>6.035500e+05</td>\n",
       "      <td>2782.000000</td>\n",
       "      <td>10.500000</td>\n",
       "      <td>14.400000</td>\n",
       "      <td>71.800000</td>\n",
       "      <td>1.000000</td>\n",
       "    </tr>\n",
       "    <tr>\n",
       "      <th>Leu</th>\n",
       "      <td>2.159974e+07</td>\n",
       "      <td>2.383910e+05</td>\n",
       "      <td>225.000000</td>\n",
       "      <td>9.000000</td>\n",
       "      <td>11.900000</td>\n",
       "      <td>75.100000</td>\n",
       "      <td>1.000000</td>\n",
       "    </tr>\n",
       "    <tr>\n",
       "      <th>Pfund</th>\n",
       "      <td>6.443043e+07</td>\n",
       "      <td>2.436100e+05</td>\n",
       "      <td>12429.000000</td>\n",
       "      <td>12.100000</td>\n",
       "      <td>9.400000</td>\n",
       "      <td>80.700000</td>\n",
       "      <td>1.000000</td>\n",
       "    </tr>\n",
       "    <tr>\n",
       "      <th>Rubel</th>\n",
       "      <td>1.423554e+08</td>\n",
       "      <td>1.709824e+07</td>\n",
       "      <td>37653.000000</td>\n",
       "      <td>11.300000</td>\n",
       "      <td>13.600000</td>\n",
       "      <td>70.800000</td>\n",
       "      <td>1.000000</td>\n",
       "    </tr>\n",
       "    <tr>\n",
       "      <th>Zloty</th>\n",
       "      <td>3.852326e+07</td>\n",
       "      <td>3.126850e+05</td>\n",
       "      <td>440.000000</td>\n",
       "      <td>9.600000</td>\n",
       "      <td>10.300000</td>\n",
       "      <td>77.600000</td>\n",
       "      <td>1.000000</td>\n",
       "    </tr>\n",
       "    <tr>\n",
       "      <th rowspan=\"2\" valign=\"top\">North America</th>\n",
       "      <th>Dollar</th>\n",
       "      <td>1.796792e+08</td>\n",
       "      <td>9.905672e+06</td>\n",
       "      <td>111002.000000</td>\n",
       "      <td>11.400000</td>\n",
       "      <td>8.350000</td>\n",
       "      <td>80.850000</td>\n",
       "      <td>1.000000</td>\n",
       "    </tr>\n",
       "    <tr>\n",
       "      <th>Peso</th>\n",
       "      <td>1.231667e+08</td>\n",
       "      <td>1.964375e+06</td>\n",
       "      <td>9330.000000</td>\n",
       "      <td>18.500000</td>\n",
       "      <td>5.300000</td>\n",
       "      <td>75.900000</td>\n",
       "      <td>1.000000</td>\n",
       "    </tr>\n",
       "    <tr>\n",
       "      <th rowspan=\"4\" valign=\"top\">South America</th>\n",
       "      <th>Bolívar Fuerte</th>\n",
       "      <td>3.091230e+07</td>\n",
       "      <td>9.120500e+05</td>\n",
       "      <td>2800.000000</td>\n",
       "      <td>19.200000</td>\n",
       "      <td>5.200000</td>\n",
       "      <td>75.800000</td>\n",
       "      <td>1.000000</td>\n",
       "    </tr>\n",
       "    <tr>\n",
       "      <th>Nuevo Sol</th>\n",
       "      <td>3.074106e+07</td>\n",
       "      <td>1.285216e+06</td>\n",
       "      <td>2414.000000</td>\n",
       "      <td>18.000000</td>\n",
       "      <td>6.000000</td>\n",
       "      <td>73.700000</td>\n",
       "      <td>1.000000</td>\n",
       "    </tr>\n",
       "    <tr>\n",
       "      <th>Peso</th>\n",
       "      <td>4.555380e+07</td>\n",
       "      <td>1.959655e+06</td>\n",
       "      <td>4098.500000</td>\n",
       "      <td>16.650000</td>\n",
       "      <td>6.450000</td>\n",
       "      <td>76.400000</td>\n",
       "      <td>1.000000</td>\n",
       "    </tr>\n",
       "    <tr>\n",
       "      <th>Real</th>\n",
       "      <td>2.058237e+08</td>\n",
       "      <td>8.514877e+06</td>\n",
       "      <td>7491.000000</td>\n",
       "      <td>14.300000</td>\n",
       "      <td>6.600000</td>\n",
       "      <td>73.800000</td>\n",
       "      <td>1.000000</td>\n",
       "    </tr>\n",
       "  </tbody>\n",
       "</table>\n",
       "</div>"
      ],
      "text/plain": [
       "                                population          area      coastline  \\\n",
       "continent     currency                                                    \n",
       "Africa        Ariary          2.443032e+07  5.870410e+05    4828.000000   \n",
       "              Birr            1.023740e+08  1.104300e+06       0.000000   \n",
       "              Dinar           4.026371e+07  2.381741e+06     998.000000   \n",
       "              Dirham          3.365579e+07  4.465500e+05    1835.000000   \n",
       "              Franc           4.314409e+07  1.047587e+06     318.000000   \n",
       "              Ghana Cedi      2.690826e+07  2.385330e+05     539.000000   \n",
       "              Kwanza          2.017233e+07  1.246700e+06    1600.000000   \n",
       "              Metical         2.593015e+07  7.993800e+05    2470.000000   \n",
       "              Naira           1.860534e+08  9.237680e+05     853.000000   \n",
       "              Pfund           6.569825e+07  1.431467e+06    1651.500000   \n",
       "              Rand            5.430070e+07  1.219090e+06    2798.000000   \n",
       "              Schilling       4.586424e+07  5.895683e+05     653.333333   \n",
       "Asia          Afghani         3.333202e+07  6.522300e+05       0.000000   \n",
       "              Baht            6.820082e+07  5.131200e+05    3219.000000   \n",
       "              Dinar           3.814602e+07  4.383170e+05      58.000000   \n",
       "              Dollar          2.346479e+07  3.598000e+04    1566.000000   \n",
       "              Dong            9.526102e+07  3.312100e+05    3444.000000   \n",
       "              Kyat            5.689042e+07  6.765780e+05    1930.000000   \n",
       "              Lira            8.027460e+07  7.835620e+05    7200.000000   \n",
       "              Peso            1.026242e+08  3.000000e+05   36289.000000   \n",
       "              Rial            5.509721e+07  1.088082e+06    2173.000000   \n",
       "              Ringgit         3.094996e+07  3.298470e+05    4675.000000   \n",
       "              Riyal           2.816027e+07  2.149690e+06    2640.000000   \n",
       "              Rupiah          2.583161e+08  1.904569e+06   54716.000000   \n",
       "              Rupie           3.800370e+08  1.074037e+06    2346.500000   \n",
       "              So'm            2.947361e+07  4.474000e+05       0.000000   \n",
       "              Taka            1.561869e+08  1.439980e+05     580.000000   \n",
       "              Won             3.801974e+07  1.101290e+05    2454.000000   \n",
       "              Yen             1.267021e+08  3.779150e+05   29751.000000   \n",
       "              Yuan            1.373541e+09  9.596960e+06   14500.000000   \n",
       "Australia     Dollar          2.299265e+07  7.741220e+06   25760.000000   \n",
       "Europe        Euro            6.453249e+07  4.518832e+05    4595.000000   \n",
       "              Hrywnja         4.420973e+07  6.035500e+05    2782.000000   \n",
       "              Leu             2.159974e+07  2.383910e+05     225.000000   \n",
       "              Pfund           6.443043e+07  2.436100e+05   12429.000000   \n",
       "              Rubel           1.423554e+08  1.709824e+07   37653.000000   \n",
       "              Zloty           3.852326e+07  3.126850e+05     440.000000   \n",
       "North America Dollar          1.796792e+08  9.905672e+06  111002.000000   \n",
       "              Peso            1.231667e+08  1.964375e+06    9330.000000   \n",
       "South America Bolívar Fuerte  3.091230e+07  9.120500e+05    2800.000000   \n",
       "              Nuevo Sol       3.074106e+07  1.285216e+06    2414.000000   \n",
       "              Peso            4.555380e+07  1.959655e+06    4098.500000   \n",
       "              Real            2.058237e+08  8.514877e+06    7491.000000   \n",
       "\n",
       "                              birthrate  deathrate  life expectancy   coastal  \n",
       "continent     currency                                                         \n",
       "Africa        Ariary          32.100000   6.700000        65.900000  1.000000  \n",
       "              Birr            36.900000   7.900000        62.200000  0.000000  \n",
       "              Dinar           23.000000   4.300000        76.800000  1.000000  \n",
       "              Dirham          18.000000   4.800000        76.900000  1.000000  \n",
       "              Franc           32.733333   9.733333        58.166667  1.000000  \n",
       "              Ghana Cedi      30.800000   7.100000        66.600000  1.000000  \n",
       "              Kwanza          38.600000  11.300000        56.000000  1.000000  \n",
       "              Metical         38.300000  11.900000        53.300000  1.000000  \n",
       "              Naira           37.300000  12.700000        53.400000  1.000000  \n",
       "              Pfund           29.400000   6.100000        68.400000  1.000000  \n",
       "              Rand            20.500000   9.600000        63.100000  1.000000  \n",
       "              Schilling       34.833333   8.333333        60.533333  0.666667  \n",
       "Asia          Afghani         38.300000  13.700000        51.300000  0.000000  \n",
       "              Baht            11.100000   7.900000        74.700000  1.000000  \n",
       "              Dinar           30.900000   3.800000        74.900000  1.000000  \n",
       "              Dollar           8.400000   7.300000        80.100000  1.000000  \n",
       "              Dong            15.700000   5.900000        73.400000  1.000000  \n",
       "              Kyat            18.200000   7.900000        66.600000  1.000000  \n",
       "              Lira            16.000000   5.900000        74.800000  1.000000  \n",
       "              Peso            24.000000   6.100000        69.200000  1.000000  \n",
       "              Rial            23.500000   6.000000        68.450000  1.000000  \n",
       "              Ringgit         19.400000   5.100000        75.000000  1.000000  \n",
       "              Riyal           18.400000   3.300000        75.300000  1.000000  \n",
       "              Rupiah          16.400000   6.400000        72.700000  1.000000  \n",
       "              Rupie           19.250000   6.400000        70.925000  0.750000  \n",
       "              So'm            16.900000   5.300000        73.800000  0.000000  \n",
       "              Taka            19.000000   5.300000        73.200000  1.000000  \n",
       "              Won             11.500000   7.550000        76.400000  1.000000  \n",
       "              Yen              7.800000   9.600000        85.000000  1.000000  \n",
       "              Yuan            12.400000   7.700000        75.500000  1.000000  \n",
       "Australia     Dollar          12.100000   7.200000        82.200000  1.000000  \n",
       "Europe        Euro             9.725000  10.075000        81.600000  1.000000  \n",
       "              Hrywnja         10.500000  14.400000        71.800000  1.000000  \n",
       "              Leu              9.000000  11.900000        75.100000  1.000000  \n",
       "              Pfund           12.100000   9.400000        80.700000  1.000000  \n",
       "              Rubel           11.300000  13.600000        70.800000  1.000000  \n",
       "              Zloty            9.600000  10.300000        77.600000  1.000000  \n",
       "North America Dollar          11.400000   8.350000        80.850000  1.000000  \n",
       "              Peso            18.500000   5.300000        75.900000  1.000000  \n",
       "South America Bolívar Fuerte  19.200000   5.200000        75.800000  1.000000  \n",
       "              Nuevo Sol       18.000000   6.000000        73.700000  1.000000  \n",
       "              Peso            16.650000   6.450000        76.400000  1.000000  \n",
       "              Real            14.300000   6.600000        73.800000  1.000000  "
      ]
     },
     "execution_count": 134,
     "metadata": {},
     "output_type": "execute_result"
    }
   ],
   "source": [
    "group2.mean()"
   ]
  },
  {
   "cell_type": "markdown",
   "metadata": {},
   "source": [
    "- Apply multiple functions to each group with the method `agg()`:"
   ]
  },
  {
   "cell_type": "code",
   "execution_count": 135,
   "metadata": {
    "collapsed": false
   },
   "outputs": [
    {
     "data": {
      "text/html": [
       "<div>\n",
       "<style>\n",
       "    .dataframe thead tr:only-child th {\n",
       "        text-align: right;\n",
       "    }\n",
       "\n",
       "    .dataframe thead th {\n",
       "        text-align: left;\n",
       "    }\n",
       "\n",
       "    .dataframe tbody tr th {\n",
       "        vertical-align: top;\n",
       "    }\n",
       "</style>\n",
       "<table border=\"1\" class=\"dataframe\">\n",
       "  <thead>\n",
       "    <tr>\n",
       "      <th></th>\n",
       "      <th colspan=\"6\" halign=\"left\">population</th>\n",
       "      <th colspan=\"4\" halign=\"left\">area</th>\n",
       "      <th>...</th>\n",
       "      <th colspan=\"4\" halign=\"left\">life expectancy</th>\n",
       "      <th colspan=\"6\" halign=\"left\">coastal</th>\n",
       "    </tr>\n",
       "    <tr>\n",
       "      <th></th>\n",
       "      <th>count</th>\n",
       "      <th>sum</th>\n",
       "      <th>min</th>\n",
       "      <th>max</th>\n",
       "      <th>mean</th>\n",
       "      <th>std</th>\n",
       "      <th>count</th>\n",
       "      <th>sum</th>\n",
       "      <th>min</th>\n",
       "      <th>max</th>\n",
       "      <th>...</th>\n",
       "      <th>min</th>\n",
       "      <th>max</th>\n",
       "      <th>mean</th>\n",
       "      <th>std</th>\n",
       "      <th>count</th>\n",
       "      <th>sum</th>\n",
       "      <th>min</th>\n",
       "      <th>max</th>\n",
       "      <th>mean</th>\n",
       "      <th>std</th>\n",
       "    </tr>\n",
       "    <tr>\n",
       "      <th>continent</th>\n",
       "      <th></th>\n",
       "      <th></th>\n",
       "      <th></th>\n",
       "      <th></th>\n",
       "      <th></th>\n",
       "      <th></th>\n",
       "      <th></th>\n",
       "      <th></th>\n",
       "      <th></th>\n",
       "      <th></th>\n",
       "      <th></th>\n",
       "      <th></th>\n",
       "      <th></th>\n",
       "      <th></th>\n",
       "      <th></th>\n",
       "      <th></th>\n",
       "      <th></th>\n",
       "      <th></th>\n",
       "      <th></th>\n",
       "      <th></th>\n",
       "      <th></th>\n",
       "    </tr>\n",
       "  </thead>\n",
       "  <tbody>\n",
       "    <tr>\n",
       "      <th>Africa</th>\n",
       "      <td>17</td>\n",
       "      <td>912510196</td>\n",
       "      <td>20172332</td>\n",
       "      <td>186053386</td>\n",
       "      <td>5.367707e+07</td>\n",
       "      <td>4.236223e+07</td>\n",
       "      <td>17</td>\n",
       "      <td>16721503</td>\n",
       "      <td>238533</td>\n",
       "      <td>2381741</td>\n",
       "      <td>...</td>\n",
       "      <td>53.3</td>\n",
       "      <td>76.9</td>\n",
       "      <td>62.770588</td>\n",
       "      <td>7.356780</td>\n",
       "      <td>17</td>\n",
       "      <td>15.0</td>\n",
       "      <td>False</td>\n",
       "      <td>True</td>\n",
       "      <td>0.882353</td>\n",
       "      <td>0.332106</td>\n",
       "    </tr>\n",
       "    <tr>\n",
       "      <th>Asia</th>\n",
       "      <td>23</td>\n",
       "      <td>4207906053</td>\n",
       "      <td>22235000</td>\n",
       "      <td>1373541278</td>\n",
       "      <td>1.829524e+08</td>\n",
       "      <td>3.644163e+08</td>\n",
       "      <td>23</td>\n",
       "      <td>25373946</td>\n",
       "      <td>35980</td>\n",
       "      <td>9596960</td>\n",
       "      <td>...</td>\n",
       "      <td>51.3</td>\n",
       "      <td>85.0</td>\n",
       "      <td>72.560870</td>\n",
       "      <td>6.621160</td>\n",
       "      <td>23</td>\n",
       "      <td>20.0</td>\n",
       "      <td>False</td>\n",
       "      <td>True</td>\n",
       "      <td>0.869565</td>\n",
       "      <td>0.344350</td>\n",
       "    </tr>\n",
       "    <tr>\n",
       "      <th>Australia</th>\n",
       "      <td>1</td>\n",
       "      <td>22992654</td>\n",
       "      <td>22992654</td>\n",
       "      <td>22992654</td>\n",
       "      <td>2.299265e+07</td>\n",
       "      <td>NaN</td>\n",
       "      <td>1</td>\n",
       "      <td>7741220</td>\n",
       "      <td>7741220</td>\n",
       "      <td>7741220</td>\n",
       "      <td>...</td>\n",
       "      <td>82.2</td>\n",
       "      <td>82.2</td>\n",
       "      <td>82.200000</td>\n",
       "      <td>NaN</td>\n",
       "      <td>1</td>\n",
       "      <td>1.0</td>\n",
       "      <td>True</td>\n",
       "      <td>True</td>\n",
       "      <td>1.000000</td>\n",
       "      <td>NaN</td>\n",
       "    </tr>\n",
       "    <tr>\n",
       "      <th>Europe</th>\n",
       "      <td>9</td>\n",
       "      <td>569248535</td>\n",
       "      <td>21599736</td>\n",
       "      <td>142355415</td>\n",
       "      <td>6.324984e+07</td>\n",
       "      <td>3.446582e+07</td>\n",
       "      <td>9</td>\n",
       "      <td>20304011</td>\n",
       "      <td>238391</td>\n",
       "      <td>17098242</td>\n",
       "      <td>...</td>\n",
       "      <td>70.8</td>\n",
       "      <td>82.2</td>\n",
       "      <td>78.044444</td>\n",
       "      <td>4.460693</td>\n",
       "      <td>9</td>\n",
       "      <td>9.0</td>\n",
       "      <td>True</td>\n",
       "      <td>True</td>\n",
       "      <td>1.000000</td>\n",
       "      <td>0.000000</td>\n",
       "    </tr>\n",
       "    <tr>\n",
       "      <th>North America</th>\n",
       "      <td>3</td>\n",
       "      <td>482525182</td>\n",
       "      <td>35362905</td>\n",
       "      <td>323995528</td>\n",
       "      <td>1.608417e+08</td>\n",
       "      <td>1.479586e+08</td>\n",
       "      <td>3</td>\n",
       "      <td>21775720</td>\n",
       "      <td>1964375</td>\n",
       "      <td>9984670</td>\n",
       "      <td>...</td>\n",
       "      <td>75.9</td>\n",
       "      <td>81.9</td>\n",
       "      <td>79.200000</td>\n",
       "      <td>3.044667</td>\n",
       "      <td>3</td>\n",
       "      <td>3.0</td>\n",
       "      <td>True</td>\n",
       "      <td>True</td>\n",
       "      <td>1.000000</td>\n",
       "      <td>0.000000</td>\n",
       "    </tr>\n",
       "    <tr>\n",
       "      <th>South America</th>\n",
       "      <td>5</td>\n",
       "      <td>358584633</td>\n",
       "      <td>30741062</td>\n",
       "      <td>205823665</td>\n",
       "      <td>7.171693e+07</td>\n",
       "      <td>7.533796e+07</td>\n",
       "      <td>5</td>\n",
       "      <td>14631453</td>\n",
       "      <td>912050</td>\n",
       "      <td>8514877</td>\n",
       "      <td>...</td>\n",
       "      <td>73.7</td>\n",
       "      <td>77.1</td>\n",
       "      <td>75.220000</td>\n",
       "      <td>1.451551</td>\n",
       "      <td>5</td>\n",
       "      <td>5.0</td>\n",
       "      <td>True</td>\n",
       "      <td>True</td>\n",
       "      <td>1.000000</td>\n",
       "      <td>0.000000</td>\n",
       "    </tr>\n",
       "  </tbody>\n",
       "</table>\n",
       "<p>6 rows × 42 columns</p>\n",
       "</div>"
      ],
      "text/plain": [
       "              population                                                  \\\n",
       "                   count         sum       min         max          mean   \n",
       "continent                                                                  \n",
       "Africa                17   912510196  20172332   186053386  5.367707e+07   \n",
       "Asia                  23  4207906053  22235000  1373541278  1.829524e+08   \n",
       "Australia              1    22992654  22992654    22992654  2.299265e+07   \n",
       "Europe                 9   569248535  21599736   142355415  6.324984e+07   \n",
       "North America          3   482525182  35362905   323995528  1.608417e+08   \n",
       "South America          5   358584633  30741062   205823665  7.171693e+07   \n",
       "\n",
       "                             area                                 ...     \\\n",
       "                        std count       sum      min       max    ...      \n",
       "continent                                                         ...      \n",
       "Africa         4.236223e+07    17  16721503   238533   2381741    ...      \n",
       "Asia           3.644163e+08    23  25373946    35980   9596960    ...      \n",
       "Australia               NaN     1   7741220  7741220   7741220    ...      \n",
       "Europe         3.446582e+07     9  20304011   238391  17098242    ...      \n",
       "North America  1.479586e+08     3  21775720  1964375   9984670    ...      \n",
       "South America  7.533796e+07     5  14631453   912050   8514877    ...      \n",
       "\n",
       "              life expectancy                            coastal               \\\n",
       "                          min   max       mean       std   count   sum    min   \n",
       "continent                                                                       \n",
       "Africa                   53.3  76.9  62.770588  7.356780      17  15.0  False   \n",
       "Asia                     51.3  85.0  72.560870  6.621160      23  20.0  False   \n",
       "Australia                82.2  82.2  82.200000       NaN       1   1.0   True   \n",
       "Europe                   70.8  82.2  78.044444  4.460693       9   9.0   True   \n",
       "North America            75.9  81.9  79.200000  3.044667       3   3.0   True   \n",
       "South America            73.7  77.1  75.220000  1.451551       5   5.0   True   \n",
       "\n",
       "                                         \n",
       "                max      mean       std  \n",
       "continent                                \n",
       "Africa         True  0.882353  0.332106  \n",
       "Asia           True  0.869565  0.344350  \n",
       "Australia      True  1.000000       NaN  \n",
       "Europe         True  1.000000  0.000000  \n",
       "North America  True  1.000000  0.000000  \n",
       "South America  True  1.000000  0.000000  \n",
       "\n",
       "[6 rows x 42 columns]"
      ]
     },
     "execution_count": 135,
     "metadata": {},
     "output_type": "execute_result"
    }
   ],
   "source": [
    "group.agg(['count', 'sum', 'min', 'max', 'mean', 'std'])"
   ]
  },
  {
   "cell_type": "markdown",
   "metadata": {},
   "source": [
    "- To look at a single column of the aggregate analysis, use the column indexing:"
   ]
  },
  {
   "cell_type": "code",
   "execution_count": 136,
   "metadata": {
    "collapsed": false
   },
   "outputs": [
    {
     "data": {
      "text/html": [
       "<div>\n",
       "<style>\n",
       "    .dataframe thead tr:only-child th {\n",
       "        text-align: right;\n",
       "    }\n",
       "\n",
       "    .dataframe thead th {\n",
       "        text-align: left;\n",
       "    }\n",
       "\n",
       "    .dataframe tbody tr th {\n",
       "        vertical-align: top;\n",
       "    }\n",
       "</style>\n",
       "<table border=\"1\" class=\"dataframe\">\n",
       "  <thead>\n",
       "    <tr style=\"text-align: right;\">\n",
       "      <th></th>\n",
       "      <th>count</th>\n",
       "      <th>sum</th>\n",
       "      <th>min</th>\n",
       "      <th>max</th>\n",
       "      <th>mean</th>\n",
       "      <th>std</th>\n",
       "    </tr>\n",
       "    <tr>\n",
       "      <th>continent</th>\n",
       "      <th></th>\n",
       "      <th></th>\n",
       "      <th></th>\n",
       "      <th></th>\n",
       "      <th></th>\n",
       "      <th></th>\n",
       "    </tr>\n",
       "  </thead>\n",
       "  <tbody>\n",
       "    <tr>\n",
       "      <th>Africa</th>\n",
       "      <td>17</td>\n",
       "      <td>537.0</td>\n",
       "      <td>18.0</td>\n",
       "      <td>43.4</td>\n",
       "      <td>31.588235</td>\n",
       "      <td>7.007129</td>\n",
       "    </tr>\n",
       "    <tr>\n",
       "      <th>Asia</th>\n",
       "      <td>23</td>\n",
       "      <td>419.9</td>\n",
       "      <td>7.8</td>\n",
       "      <td>38.3</td>\n",
       "      <td>18.256522</td>\n",
       "      <td>7.272665</td>\n",
       "    </tr>\n",
       "    <tr>\n",
       "      <th>Australia</th>\n",
       "      <td>1</td>\n",
       "      <td>12.1</td>\n",
       "      <td>12.1</td>\n",
       "      <td>12.1</td>\n",
       "      <td>12.100000</td>\n",
       "      <td>NaN</td>\n",
       "    </tr>\n",
       "    <tr>\n",
       "      <th>Europe</th>\n",
       "      <td>9</td>\n",
       "      <td>91.4</td>\n",
       "      <td>8.5</td>\n",
       "      <td>12.3</td>\n",
       "      <td>10.155556</td>\n",
       "      <td>1.452680</td>\n",
       "    </tr>\n",
       "    <tr>\n",
       "      <th>North America</th>\n",
       "      <td>3</td>\n",
       "      <td>41.3</td>\n",
       "      <td>10.3</td>\n",
       "      <td>18.5</td>\n",
       "      <td>13.766667</td>\n",
       "      <td>4.244212</td>\n",
       "    </tr>\n",
       "    <tr>\n",
       "      <th>South America</th>\n",
       "      <td>5</td>\n",
       "      <td>84.8</td>\n",
       "      <td>14.3</td>\n",
       "      <td>19.2</td>\n",
       "      <td>16.960000</td>\n",
       "      <td>1.844722</td>\n",
       "    </tr>\n",
       "  </tbody>\n",
       "</table>\n",
       "</div>"
      ],
      "text/plain": [
       "               count    sum   min   max       mean       std\n",
       "continent                                                   \n",
       "Africa            17  537.0  18.0  43.4  31.588235  7.007129\n",
       "Asia              23  419.9   7.8  38.3  18.256522  7.272665\n",
       "Australia          1   12.1  12.1  12.1  12.100000       NaN\n",
       "Europe             9   91.4   8.5  12.3  10.155556  1.452680\n",
       "North America      3   41.3  10.3  18.5  13.766667  4.244212\n",
       "South America      5   84.8  14.3  19.2  16.960000  1.844722"
      ]
     },
     "execution_count": 136,
     "metadata": {},
     "output_type": "execute_result"
    }
   ],
   "source": [
    "group.agg(['count', 'sum', 'min', 'max', 'mean', 'std'])['birthrate']"
   ]
  },
  {
   "cell_type": "markdown",
   "metadata": {},
   "source": [
    "- The column std is missing a value above because Australia only has one row in the data frame.\n",
    "- Also note that `sum` is an inappropriate function to apply to birthrate where it would be applicable to population."
   ]
  },
  {
   "cell_type": "markdown",
   "metadata": {},
   "source": [
    "- Different aggregating functions can be applied to different columns. This can be done with a dictionary."
   ]
  },
  {
   "cell_type": "code",
   "execution_count": 137,
   "metadata": {
    "collapsed": false
   },
   "outputs": [
    {
     "data": {
      "text/html": [
       "<div>\n",
       "<style>\n",
       "    .dataframe thead tr:only-child th {\n",
       "        text-align: right;\n",
       "    }\n",
       "\n",
       "    .dataframe thead th {\n",
       "        text-align: left;\n",
       "    }\n",
       "\n",
       "    .dataframe tbody tr th {\n",
       "        vertical-align: top;\n",
       "    }\n",
       "</style>\n",
       "<table border=\"1\" class=\"dataframe\">\n",
       "  <thead>\n",
       "    <tr>\n",
       "      <th></th>\n",
       "      <th>country</th>\n",
       "      <th colspan=\"5\" halign=\"left\">population</th>\n",
       "      <th colspan=\"4\" halign=\"left\">area</th>\n",
       "      <th>...</th>\n",
       "      <th colspan=\"3\" halign=\"left\">deathrate</th>\n",
       "      <th colspan=\"3\" halign=\"left\">coastline</th>\n",
       "      <th colspan=\"4\" halign=\"left\">birthrate</th>\n",
       "    </tr>\n",
       "    <tr>\n",
       "      <th></th>\n",
       "      <th>count</th>\n",
       "      <th>sum</th>\n",
       "      <th>min</th>\n",
       "      <th>max</th>\n",
       "      <th>mean</th>\n",
       "      <th>std</th>\n",
       "      <th>sum</th>\n",
       "      <th>min</th>\n",
       "      <th>max</th>\n",
       "      <th>mean</th>\n",
       "      <th>...</th>\n",
       "      <th>max</th>\n",
       "      <th>mean</th>\n",
       "      <th>std</th>\n",
       "      <th>sum</th>\n",
       "      <th>min</th>\n",
       "      <th>max</th>\n",
       "      <th>min</th>\n",
       "      <th>max</th>\n",
       "      <th>mean</th>\n",
       "      <th>std</th>\n",
       "    </tr>\n",
       "    <tr>\n",
       "      <th>continent</th>\n",
       "      <th></th>\n",
       "      <th></th>\n",
       "      <th></th>\n",
       "      <th></th>\n",
       "      <th></th>\n",
       "      <th></th>\n",
       "      <th></th>\n",
       "      <th></th>\n",
       "      <th></th>\n",
       "      <th></th>\n",
       "      <th></th>\n",
       "      <th></th>\n",
       "      <th></th>\n",
       "      <th></th>\n",
       "      <th></th>\n",
       "      <th></th>\n",
       "      <th></th>\n",
       "      <th></th>\n",
       "      <th></th>\n",
       "      <th></th>\n",
       "      <th></th>\n",
       "    </tr>\n",
       "  </thead>\n",
       "  <tbody>\n",
       "    <tr>\n",
       "      <th>Africa</th>\n",
       "      <td>17</td>\n",
       "      <td>912510196</td>\n",
       "      <td>20172332</td>\n",
       "      <td>186053386</td>\n",
       "      <td>5.367707e+07</td>\n",
       "      <td>4.236223e+07</td>\n",
       "      <td>16721503</td>\n",
       "      <td>238533</td>\n",
       "      <td>2381741</td>\n",
       "      <td>9.836178e+05</td>\n",
       "      <td>...</td>\n",
       "      <td>12.7</td>\n",
       "      <td>8.394118</td>\n",
       "      <td>2.525240</td>\n",
       "      <td>22138</td>\n",
       "      <td>0</td>\n",
       "      <td>4828</td>\n",
       "      <td>18.0</td>\n",
       "      <td>43.4</td>\n",
       "      <td>31.588235</td>\n",
       "      <td>7.007129</td>\n",
       "    </tr>\n",
       "    <tr>\n",
       "      <th>Asia</th>\n",
       "      <td>23</td>\n",
       "      <td>4207906053</td>\n",
       "      <td>22235000</td>\n",
       "      <td>1373541278</td>\n",
       "      <td>1.829524e+08</td>\n",
       "      <td>3.644163e+08</td>\n",
       "      <td>25373946</td>\n",
       "      <td>35980</td>\n",
       "      <td>9596960</td>\n",
       "      <td>1.103215e+06</td>\n",
       "      <td>...</td>\n",
       "      <td>13.7</td>\n",
       "      <td>6.691304</td>\n",
       "      <td>2.133054</td>\n",
       "      <td>179208</td>\n",
       "      <td>0</td>\n",
       "      <td>54716</td>\n",
       "      <td>7.8</td>\n",
       "      <td>38.3</td>\n",
       "      <td>18.256522</td>\n",
       "      <td>7.272665</td>\n",
       "    </tr>\n",
       "    <tr>\n",
       "      <th>Australia</th>\n",
       "      <td>1</td>\n",
       "      <td>22992654</td>\n",
       "      <td>22992654</td>\n",
       "      <td>22992654</td>\n",
       "      <td>2.299265e+07</td>\n",
       "      <td>NaN</td>\n",
       "      <td>7741220</td>\n",
       "      <td>7741220</td>\n",
       "      <td>7741220</td>\n",
       "      <td>7.741220e+06</td>\n",
       "      <td>...</td>\n",
       "      <td>7.2</td>\n",
       "      <td>7.200000</td>\n",
       "      <td>NaN</td>\n",
       "      <td>25760</td>\n",
       "      <td>25760</td>\n",
       "      <td>25760</td>\n",
       "      <td>12.1</td>\n",
       "      <td>12.1</td>\n",
       "      <td>12.100000</td>\n",
       "      <td>NaN</td>\n",
       "    </tr>\n",
       "    <tr>\n",
       "      <th>Europe</th>\n",
       "      <td>9</td>\n",
       "      <td>569248535</td>\n",
       "      <td>21599736</td>\n",
       "      <td>142355415</td>\n",
       "      <td>6.324984e+07</td>\n",
       "      <td>3.446582e+07</td>\n",
       "      <td>20304011</td>\n",
       "      <td>238391</td>\n",
       "      <td>17098242</td>\n",
       "      <td>2.256001e+06</td>\n",
       "      <td>...</td>\n",
       "      <td>14.4</td>\n",
       "      <td>11.100000</td>\n",
       "      <td>1.918333</td>\n",
       "      <td>71909</td>\n",
       "      <td>225</td>\n",
       "      <td>37653</td>\n",
       "      <td>8.5</td>\n",
       "      <td>12.3</td>\n",
       "      <td>10.155556</td>\n",
       "      <td>1.452680</td>\n",
       "    </tr>\n",
       "    <tr>\n",
       "      <th>North America</th>\n",
       "      <td>3</td>\n",
       "      <td>482525182</td>\n",
       "      <td>35362905</td>\n",
       "      <td>323995528</td>\n",
       "      <td>1.608417e+08</td>\n",
       "      <td>1.479586e+08</td>\n",
       "      <td>21775720</td>\n",
       "      <td>1964375</td>\n",
       "      <td>9984670</td>\n",
       "      <td>7.258573e+06</td>\n",
       "      <td>...</td>\n",
       "      <td>8.5</td>\n",
       "      <td>7.333333</td>\n",
       "      <td>1.767295</td>\n",
       "      <td>231334</td>\n",
       "      <td>9330</td>\n",
       "      <td>202080</td>\n",
       "      <td>10.3</td>\n",
       "      <td>18.5</td>\n",
       "      <td>13.766667</td>\n",
       "      <td>4.244212</td>\n",
       "    </tr>\n",
       "    <tr>\n",
       "      <th>South America</th>\n",
       "      <td>5</td>\n",
       "      <td>358584633</td>\n",
       "      <td>30741062</td>\n",
       "      <td>205823665</td>\n",
       "      <td>7.171693e+07</td>\n",
       "      <td>7.533796e+07</td>\n",
       "      <td>14631453</td>\n",
       "      <td>912050</td>\n",
       "      <td>8514877</td>\n",
       "      <td>2.926291e+06</td>\n",
       "      <td>...</td>\n",
       "      <td>7.5</td>\n",
       "      <td>6.140000</td>\n",
       "      <td>0.937017</td>\n",
       "      <td>20902</td>\n",
       "      <td>2414</td>\n",
       "      <td>7491</td>\n",
       "      <td>14.3</td>\n",
       "      <td>19.2</td>\n",
       "      <td>16.960000</td>\n",
       "      <td>1.844722</td>\n",
       "    </tr>\n",
       "  </tbody>\n",
       "</table>\n",
       "<p>6 rows × 25 columns</p>\n",
       "</div>"
      ],
      "text/plain": [
       "              country  population                                      \\\n",
       "                count         sum       min         max          mean   \n",
       "continent                                                               \n",
       "Africa             17   912510196  20172332   186053386  5.367707e+07   \n",
       "Asia               23  4207906053  22235000  1373541278  1.829524e+08   \n",
       "Australia           1    22992654  22992654    22992654  2.299265e+07   \n",
       "Europe              9   569248535  21599736   142355415  6.324984e+07   \n",
       "North America       3   482525182  35362905   323995528  1.608417e+08   \n",
       "South America       5   358584633  30741062   205823665  7.171693e+07   \n",
       "\n",
       "                                 area                                   \\\n",
       "                        std       sum      min       max          mean   \n",
       "continent                                                                \n",
       "Africa         4.236223e+07  16721503   238533   2381741  9.836178e+05   \n",
       "Asia           3.644163e+08  25373946    35980   9596960  1.103215e+06   \n",
       "Australia               NaN   7741220  7741220   7741220  7.741220e+06   \n",
       "Europe         3.446582e+07  20304011   238391  17098242  2.256001e+06   \n",
       "North America  1.479586e+08  21775720  1964375   9984670  7.258573e+06   \n",
       "South America  7.533796e+07  14631453   912050   8514877  2.926291e+06   \n",
       "\n",
       "                 ...    deathrate                      coastline         \\\n",
       "                 ...          max       mean       std       sum    min   \n",
       "continent        ...                                                      \n",
       "Africa           ...         12.7   8.394118  2.525240     22138      0   \n",
       "Asia             ...         13.7   6.691304  2.133054    179208      0   \n",
       "Australia        ...          7.2   7.200000       NaN     25760  25760   \n",
       "Europe           ...         14.4  11.100000  1.918333     71909    225   \n",
       "North America    ...          8.5   7.333333  1.767295    231334   9330   \n",
       "South America    ...          7.5   6.140000  0.937017     20902   2414   \n",
       "\n",
       "                      birthrate                             \n",
       "                  max       min   max       mean       std  \n",
       "continent                                                   \n",
       "Africa           4828      18.0  43.4  31.588235  7.007129  \n",
       "Asia            54716       7.8  38.3  18.256522  7.272665  \n",
       "Australia       25760      12.1  12.1  12.100000       NaN  \n",
       "Europe          37653       8.5  12.3  10.155556  1.452680  \n",
       "North America  202080      10.3  18.5  13.766667  4.244212  \n",
       "South America    7491      14.3  19.2  16.960000  1.844722  \n",
       "\n",
       "[6 rows x 25 columns]"
      ]
     },
     "execution_count": 137,
     "metadata": {},
     "output_type": "execute_result"
    }
   ],
   "source": [
    "colFun = {'country':['count'],\n",
    "          'population': ['sum','min', 'max','mean','std'], \n",
    "          'area': ['sum','min', 'max','mean'],\n",
    "          'coastline':['sum','min', 'max'],\n",
    "          'birthrate':['min', 'max','mean','std'],\n",
    "          'deathrate':['min', 'max','mean','std'],\n",
    "          'life expectancy':['min', 'max','mean','std']}\n",
    "analysis=group.agg(colFun)\n",
    "analysis"
   ]
  },
  {
   "cell_type": "markdown",
   "metadata": {},
   "source": [
    "- Custom aggregation functions may also be applied. In the previous examples, aggregation functions are applied to each **column** in a data frame. \n",
    "- Keep this in mind when defining a custom function. For example, build a function that computes the mean after removing maxima (truncated mean)."
   ]
  },
  {
   "cell_type": "code",
   "execution_count": 138,
   "metadata": {
    "collapsed": true
   },
   "outputs": [],
   "source": [
    "def trunc_mean(x):    # x has to be a 'vector' (1d array or pandas Series)\n",
    "    sec=x[x!=x.max()]\n",
    "    if sec.shape[0]!=0:\n",
    "        return np.mean(sec)"
   ]
  },
  {
   "cell_type": "code",
   "execution_count": 139,
   "metadata": {
    "collapsed": false,
    "scrolled": true
   },
   "outputs": [
    {
     "data": {
      "text/html": [
       "<div>\n",
       "<style>\n",
       "    .dataframe thead tr:only-child th {\n",
       "        text-align: right;\n",
       "    }\n",
       "\n",
       "    .dataframe thead th {\n",
       "        text-align: left;\n",
       "    }\n",
       "\n",
       "    .dataframe tbody tr th {\n",
       "        vertical-align: top;\n",
       "    }\n",
       "</style>\n",
       "<table border=\"1\" class=\"dataframe\">\n",
       "  <thead>\n",
       "    <tr style=\"text-align: right;\">\n",
       "      <th></th>\n",
       "      <th>population</th>\n",
       "      <th>area</th>\n",
       "      <th>coastline</th>\n",
       "      <th>birthrate</th>\n",
       "      <th>deathrate</th>\n",
       "      <th>life expectancy</th>\n",
       "      <th>coastal</th>\n",
       "    </tr>\n",
       "    <tr>\n",
       "      <th>continent</th>\n",
       "      <th></th>\n",
       "      <th></th>\n",
       "      <th></th>\n",
       "      <th></th>\n",
       "      <th></th>\n",
       "      <th></th>\n",
       "      <th></th>\n",
       "    </tr>\n",
       "  </thead>\n",
       "  <tbody>\n",
       "    <tr>\n",
       "      <th>Africa</th>\n",
       "      <td>4.540355e+07</td>\n",
       "      <td>8.962351e+05</td>\n",
       "      <td>1081.875000</td>\n",
       "      <td>30.850000</td>\n",
       "      <td>8.125000</td>\n",
       "      <td>61.887500</td>\n",
       "      <td>0.0</td>\n",
       "    </tr>\n",
       "    <tr>\n",
       "      <th>Asia</th>\n",
       "      <td>1.288348e+08</td>\n",
       "      <td>7.171357e+05</td>\n",
       "      <td>5658.727273</td>\n",
       "      <td>17.345455</td>\n",
       "      <td>6.372727</td>\n",
       "      <td>71.995455</td>\n",
       "      <td>0.0</td>\n",
       "    </tr>\n",
       "    <tr>\n",
       "      <th>Europe</th>\n",
       "      <td>5.336164e+07</td>\n",
       "      <td>4.007211e+05</td>\n",
       "      <td>4282.000000</td>\n",
       "      <td>9.887500</td>\n",
       "      <td>10.687500</td>\n",
       "      <td>77.525000</td>\n",
       "      <td>NaN</td>\n",
       "    </tr>\n",
       "    <tr>\n",
       "      <th>North America</th>\n",
       "      <td>7.926483e+07</td>\n",
       "      <td>5.895525e+06</td>\n",
       "      <td>14627.000000</td>\n",
       "      <td>11.400000</td>\n",
       "      <td>6.750000</td>\n",
       "      <td>77.850000</td>\n",
       "      <td>NaN</td>\n",
       "    </tr>\n",
       "    <tr>\n",
       "      <th>South America</th>\n",
       "      <td>3.819024e+07</td>\n",
       "      <td>1.529144e+06</td>\n",
       "      <td>3352.750000</td>\n",
       "      <td>16.400000</td>\n",
       "      <td>5.800000</td>\n",
       "      <td>74.750000</td>\n",
       "      <td>NaN</td>\n",
       "    </tr>\n",
       "  </tbody>\n",
       "</table>\n",
       "</div>"
      ],
      "text/plain": [
       "                 population          area     coastline  birthrate  deathrate  \\\n",
       "continent                                                                       \n",
       "Africa         4.540355e+07  8.962351e+05   1081.875000  30.850000   8.125000   \n",
       "Asia           1.288348e+08  7.171357e+05   5658.727273  17.345455   6.372727   \n",
       "Europe         5.336164e+07  4.007211e+05   4282.000000   9.887500  10.687500   \n",
       "North America  7.926483e+07  5.895525e+06  14627.000000  11.400000   6.750000   \n",
       "South America  3.819024e+07  1.529144e+06   3352.750000  16.400000   5.800000   \n",
       "\n",
       "               life expectancy  coastal  \n",
       "continent                                \n",
       "Africa               61.887500      0.0  \n",
       "Asia                 71.995455      0.0  \n",
       "Europe               77.525000      NaN  \n",
       "North America        77.850000      NaN  \n",
       "South America        74.750000      NaN  "
      ]
     },
     "execution_count": 139,
     "metadata": {},
     "output_type": "execute_result"
    }
   ],
   "source": [
    "Country[Country['country']!='Australia' ].groupby('continent').agg(trunc_mean)"
   ]
  },
  {
   "cell_type": "markdown",
   "metadata": {},
   "source": [
    "**Exercise 6**\n",
    "\n",
    "Using the data frame Country:\n",
    "\n",
    "- Find the minimum and maximum of the 'life expectancy' for costal and landlocked countries.\n",
    "- How many coastal and landlocked countries are in each continent? Determine the mean deathrate for coastal and landlocked countries in each continent.\n",
    "- Create a new column measuring population density.  Determine the mean population density of all the countries.  Create a new column 'dense' that is True for countries with higher than average density and False for lower than average density.\n",
    "- For each category of 'dense' compute the mean birthrate and the difference between the maximal birthrate and the minimal birthrate."
   ]
  },
  {
   "cell_type": "code",
   "execution_count": 140,
   "metadata": {
    "collapsed": false
   },
   "outputs": [
    {
     "name": "stdout",
     "output_type": "stream",
     "text": [
      "        life expectancy      \n",
      "                    min   max\n",
      "coastal                      \n",
      "False              51.3  73.8\n",
      "True               53.3  85.0\n",
      "                       country  population  area  coastline  currency  \\\n",
      "coastal continent                                                       \n",
      "False   Africa               2           2     2          2         2   \n",
      "        Asia                 3           3     3          3         3   \n",
      "True    Africa              15          15    15         15        15   \n",
      "        Asia                20          20    20         20        20   \n",
      "        Australia            1           1     1          1         1   \n",
      "        Europe               9           9     9          9         9   \n",
      "        North America        3           3     3          3         3   \n",
      "        South America        5           5     5          5         5   \n",
      "\n",
      "                       birthrate  deathrate  life expectancy  \n",
      "coastal continent                                             \n",
      "False   Africa                 2          2                2  \n",
      "        Asia                   3          3                3  \n",
      "True    Africa                15         15               15  \n",
      "        Asia                  20         20               20  \n",
      "        Australia              1          1                1  \n",
      "        Europe                 9          9                9  \n",
      "        North America          3          3                3  \n",
      "        South America          5          5                5  \n"
     ]
    },
    {
     "data": {
      "text/html": [
       "<div>\n",
       "<style>\n",
       "    .dataframe thead tr:only-child th {\n",
       "        text-align: right;\n",
       "    }\n",
       "\n",
       "    .dataframe thead th {\n",
       "        text-align: left;\n",
       "    }\n",
       "\n",
       "    .dataframe tbody tr th {\n",
       "        vertical-align: top;\n",
       "    }\n",
       "</style>\n",
       "<table border=\"1\" class=\"dataframe\">\n",
       "  <thead>\n",
       "    <tr>\n",
       "      <th></th>\n",
       "      <th colspan=\"2\" halign=\"left\">birthrate</th>\n",
       "    </tr>\n",
       "    <tr>\n",
       "      <th></th>\n",
       "      <th>mean</th>\n",
       "      <th>&lt;lambda&gt;</th>\n",
       "    </tr>\n",
       "    <tr>\n",
       "      <th>dense</th>\n",
       "      <th></th>\n",
       "      <th></th>\n",
       "    </tr>\n",
       "  </thead>\n",
       "  <tbody>\n",
       "    <tr>\n",
       "      <th>False</th>\n",
       "      <td>21.687805</td>\n",
       "      <td>29.6</td>\n",
       "    </tr>\n",
       "    <tr>\n",
       "      <th>True</th>\n",
       "      <td>17.488235</td>\n",
       "      <td>35.6</td>\n",
       "    </tr>\n",
       "  </tbody>\n",
       "</table>\n",
       "</div>"
      ],
      "text/plain": [
       "       birthrate         \n",
       "            mean <lambda>\n",
       "dense                    \n",
       "False  21.687805     29.6\n",
       "True   17.488235     35.6"
      ]
     },
     "execution_count": 140,
     "metadata": {},
     "output_type": "execute_result"
    }
   ],
   "source": [
    "#### Your code here\n",
    "print(Country.groupby('coastal')[['life expectancy']].agg(['min','max']))\n",
    "print(Country.groupby(['coastal','continent']).count())\n",
    "Country['density']=Country.population/Country.area\n",
    "mean_density = Country['density'].mean()\n",
    "Country['dense'] = Country.density > mean_density\n",
    "diff_ = lambda t:max(t)-min(t) \n",
    "Country.groupby('dense')[['birthrate']].agg(['mean',diff_])"
   ]
  },
  {
   "cell_type": "markdown",
   "metadata": {},
   "source": [
    "<p><a name=\"time\"></a></p>\n",
    "# Time Series"
   ]
  },
  {
   "cell_type": "markdown",
   "metadata": {},
   "source": [
    "We will use the NYSE data from [Kaggle](https://www.kaggle.com/dgawlik/nyse) to illustrate how to use the time series data structure in pandas.\n",
    "\n",
    "There are two time series related csv files:\n",
    "- prices.csv: raw, as-is daily prices. Most of data spans from 2010 to the end 2016, for companies new on stock market date range is shorter. There have been approx. 140 stock splits in that time, this set doesn't account for that.\n",
    "- prices-split-adjusted.csv: same as prices, but there have been added adjustments for splits."
   ]
  },
  {
   "cell_type": "code",
   "execution_count": 162,
   "metadata": {
    "collapsed": true
   },
   "outputs": [],
   "source": [
    "url_adjusted = 'https://graderdata.s3.amazonaws.com/prices-split-adjusted.csv'\n",
    "\n",
    "### Your code here\n",
    "split_adjusted_price = pd.read_csv(url_adjusted)"
   ]
  },
  {
   "cell_type": "code",
   "execution_count": 163,
   "metadata": {
    "collapsed": false
   },
   "outputs": [
    {
     "data": {
      "text/html": [
       "<div>\n",
       "<style scoped>\n",
       "    .dataframe tbody tr th:only-of-type {\n",
       "        vertical-align: middle;\n",
       "    }\n",
       "\n",
       "    .dataframe tbody tr th {\n",
       "        vertical-align: top;\n",
       "    }\n",
       "\n",
       "    .dataframe thead th {\n",
       "        text-align: right;\n",
       "    }\n",
       "</style>\n",
       "<table border=\"1\" class=\"dataframe\">\n",
       "  <thead>\n",
       "    <tr style=\"text-align: right;\">\n",
       "      <th></th>\n",
       "      <th>date</th>\n",
       "      <th>symbol</th>\n",
       "      <th>open</th>\n",
       "      <th>close</th>\n",
       "      <th>low</th>\n",
       "      <th>high</th>\n",
       "      <th>volume</th>\n",
       "    </tr>\n",
       "  </thead>\n",
       "  <tbody>\n",
       "    <tr>\n",
       "      <th>0</th>\n",
       "      <td>2016-01-05</td>\n",
       "      <td>WLTW</td>\n",
       "      <td>123.430000</td>\n",
       "      <td>125.839996</td>\n",
       "      <td>122.309998</td>\n",
       "      <td>126.250000</td>\n",
       "      <td>2163600.0</td>\n",
       "    </tr>\n",
       "    <tr>\n",
       "      <th>1</th>\n",
       "      <td>2016-01-06</td>\n",
       "      <td>WLTW</td>\n",
       "      <td>125.239998</td>\n",
       "      <td>119.980003</td>\n",
       "      <td>119.940002</td>\n",
       "      <td>125.540001</td>\n",
       "      <td>2386400.0</td>\n",
       "    </tr>\n",
       "    <tr>\n",
       "      <th>2</th>\n",
       "      <td>2016-01-07</td>\n",
       "      <td>WLTW</td>\n",
       "      <td>116.379997</td>\n",
       "      <td>114.949997</td>\n",
       "      <td>114.930000</td>\n",
       "      <td>119.739998</td>\n",
       "      <td>2489500.0</td>\n",
       "    </tr>\n",
       "    <tr>\n",
       "      <th>3</th>\n",
       "      <td>2016-01-08</td>\n",
       "      <td>WLTW</td>\n",
       "      <td>115.480003</td>\n",
       "      <td>116.620003</td>\n",
       "      <td>113.500000</td>\n",
       "      <td>117.440002</td>\n",
       "      <td>2006300.0</td>\n",
       "    </tr>\n",
       "    <tr>\n",
       "      <th>4</th>\n",
       "      <td>2016-01-11</td>\n",
       "      <td>WLTW</td>\n",
       "      <td>117.010002</td>\n",
       "      <td>114.970001</td>\n",
       "      <td>114.089996</td>\n",
       "      <td>117.330002</td>\n",
       "      <td>1408600.0</td>\n",
       "    </tr>\n",
       "  </tbody>\n",
       "</table>\n",
       "</div>"
      ],
      "text/plain": [
       "         date symbol        open       close         low        high  \\\n",
       "0  2016-01-05   WLTW  123.430000  125.839996  122.309998  126.250000   \n",
       "1  2016-01-06   WLTW  125.239998  119.980003  119.940002  125.540001   \n",
       "2  2016-01-07   WLTW  116.379997  114.949997  114.930000  119.739998   \n",
       "3  2016-01-08   WLTW  115.480003  116.620003  113.500000  117.440002   \n",
       "4  2016-01-11   WLTW  117.010002  114.970001  114.089996  117.330002   \n",
       "\n",
       "      volume  \n",
       "0  2163600.0  \n",
       "1  2386400.0  \n",
       "2  2489500.0  \n",
       "3  2006300.0  \n",
       "4  1408600.0  "
      ]
     },
     "execution_count": 163,
     "metadata": {},
     "output_type": "execute_result"
    }
   ],
   "source": [
    "split_adjusted_price.head()"
   ]
  },
  {
   "cell_type": "markdown",
   "metadata": {},
   "source": [
    "- The date column contains timestamps so we can use it as the index of our dataframe."
   ]
  },
  {
   "cell_type": "code",
   "execution_count": 172,
   "metadata": {
    "collapsed": false
   },
   "outputs": [],
   "source": [
    "split_adjusted_price['date'] = pd.to_datetime(split_adjusted_price['date'])\n",
    "split_adjusted_price.date#.dtype\n",
    "split_adjusted_price = split_adjusted_price.set_index('date')"
   ]
  },
  {
   "cell_type": "code",
   "execution_count": 155,
   "metadata": {
    "collapsed": false
   },
   "outputs": [
    {
     "data": {
      "text/html": [
       "<div>\n",
       "<style scoped>\n",
       "    .dataframe tbody tr th:only-of-type {\n",
       "        vertical-align: middle;\n",
       "    }\n",
       "\n",
       "    .dataframe tbody tr th {\n",
       "        vertical-align: top;\n",
       "    }\n",
       "\n",
       "    .dataframe thead th {\n",
       "        text-align: right;\n",
       "    }\n",
       "</style>\n",
       "<table border=\"1\" class=\"dataframe\">\n",
       "  <thead>\n",
       "    <tr style=\"text-align: right;\">\n",
       "      <th></th>\n",
       "      <th>symbol</th>\n",
       "      <th>open</th>\n",
       "      <th>close</th>\n",
       "      <th>low</th>\n",
       "      <th>high</th>\n",
       "      <th>volume</th>\n",
       "    </tr>\n",
       "    <tr>\n",
       "      <th>date</th>\n",
       "      <th></th>\n",
       "      <th></th>\n",
       "      <th></th>\n",
       "      <th></th>\n",
       "      <th></th>\n",
       "      <th></th>\n",
       "    </tr>\n",
       "  </thead>\n",
       "  <tbody>\n",
       "    <tr>\n",
       "      <th>2016-01-05</th>\n",
       "      <td>WLTW</td>\n",
       "      <td>123.430000</td>\n",
       "      <td>125.839996</td>\n",
       "      <td>122.309998</td>\n",
       "      <td>126.250000</td>\n",
       "      <td>2163600.0</td>\n",
       "    </tr>\n",
       "    <tr>\n",
       "      <th>2016-01-06</th>\n",
       "      <td>WLTW</td>\n",
       "      <td>125.239998</td>\n",
       "      <td>119.980003</td>\n",
       "      <td>119.940002</td>\n",
       "      <td>125.540001</td>\n",
       "      <td>2386400.0</td>\n",
       "    </tr>\n",
       "    <tr>\n",
       "      <th>2016-01-07</th>\n",
       "      <td>WLTW</td>\n",
       "      <td>116.379997</td>\n",
       "      <td>114.949997</td>\n",
       "      <td>114.930000</td>\n",
       "      <td>119.739998</td>\n",
       "      <td>2489500.0</td>\n",
       "    </tr>\n",
       "    <tr>\n",
       "      <th>2016-01-08</th>\n",
       "      <td>WLTW</td>\n",
       "      <td>115.480003</td>\n",
       "      <td>116.620003</td>\n",
       "      <td>113.500000</td>\n",
       "      <td>117.440002</td>\n",
       "      <td>2006300.0</td>\n",
       "    </tr>\n",
       "    <tr>\n",
       "      <th>2016-01-11</th>\n",
       "      <td>WLTW</td>\n",
       "      <td>117.010002</td>\n",
       "      <td>114.970001</td>\n",
       "      <td>114.089996</td>\n",
       "      <td>117.330002</td>\n",
       "      <td>1408600.0</td>\n",
       "    </tr>\n",
       "  </tbody>\n",
       "</table>\n",
       "</div>"
      ],
      "text/plain": [
       "           symbol        open       close         low        high     volume\n",
       "date                                                                        \n",
       "2016-01-05   WLTW  123.430000  125.839996  122.309998  126.250000  2163600.0\n",
       "2016-01-06   WLTW  125.239998  119.980003  119.940002  125.540001  2386400.0\n",
       "2016-01-07   WLTW  116.379997  114.949997  114.930000  119.739998  2489500.0\n",
       "2016-01-08   WLTW  115.480003  116.620003  113.500000  117.440002  2006300.0\n",
       "2016-01-11   WLTW  117.010002  114.970001  114.089996  117.330002  1408600.0"
      ]
     },
     "execution_count": 155,
     "metadata": {},
     "output_type": "execute_result"
    }
   ],
   "source": [
    "split_adjusted_price.head()"
   ]
  },
  {
   "cell_type": "markdown",
   "metadata": {},
   "source": [
    "- Once it becomes datetime data type, we can extract the month, date, year or even the weekday easily."
   ]
  },
  {
   "cell_type": "code",
   "execution_count": 174,
   "metadata": {
    "collapsed": false
   },
   "outputs": [
    {
     "data": {
      "text/plain": [
       "pandas.core.indexes.datetimes.DatetimeIndex"
      ]
     },
     "execution_count": 174,
     "metadata": {},
     "output_type": "execute_result"
    }
   ],
   "source": [
    "split_adjusted_price.index.__class__"
   ]
  },
  {
   "cell_type": "code",
   "execution_count": 157,
   "metadata": {
    "collapsed": false
   },
   "outputs": [
    {
     "data": {
      "text/plain": [
       "Int64Index([ 1,  1,  1,  1,  1,  1,  1,  1,  1,  1,\n",
       "            ...\n",
       "            12, 12, 12, 12, 12, 12, 12, 12, 12, 12],\n",
       "           dtype='int64', name='date', length=851264)"
      ]
     },
     "execution_count": 157,
     "metadata": {},
     "output_type": "execute_result"
    }
   ],
   "source": [
    "split_adjusted_price.index.month"
   ]
  },
  {
   "cell_type": "code",
   "execution_count": 158,
   "metadata": {
    "collapsed": false
   },
   "outputs": [
    {
     "data": {
      "text/plain": [
       "Int64Index([1, 2, 3, 4, 0, 1, 2, 3, 4, 1,\n",
       "            ...\n",
       "            4, 4, 4, 4, 4, 4, 4, 4, 4, 4],\n",
       "           dtype='int64', name='date', length=851264)"
      ]
     },
     "execution_count": 158,
     "metadata": {},
     "output_type": "execute_result"
    }
   ],
   "source": [
    "split_adjusted_price.index.dayofweek"
   ]
  },
  {
   "cell_type": "markdown",
   "metadata": {},
   "source": [
    "- You can also extract the observations within any time range."
   ]
  },
  {
   "cell_type": "code",
   "execution_count": 159,
   "metadata": {
    "collapsed": false
   },
   "outputs": [
    {
     "data": {
      "text/html": [
       "<div>\n",
       "<style scoped>\n",
       "    .dataframe tbody tr th:only-of-type {\n",
       "        vertical-align: middle;\n",
       "    }\n",
       "\n",
       "    .dataframe tbody tr th {\n",
       "        vertical-align: top;\n",
       "    }\n",
       "\n",
       "    .dataframe thead th {\n",
       "        text-align: right;\n",
       "    }\n",
       "</style>\n",
       "<table border=\"1\" class=\"dataframe\">\n",
       "  <thead>\n",
       "    <tr style=\"text-align: right;\">\n",
       "      <th></th>\n",
       "      <th>symbol</th>\n",
       "      <th>open</th>\n",
       "      <th>close</th>\n",
       "      <th>low</th>\n",
       "      <th>high</th>\n",
       "      <th>volume</th>\n",
       "    </tr>\n",
       "    <tr>\n",
       "      <th>date</th>\n",
       "      <th></th>\n",
       "      <th></th>\n",
       "      <th></th>\n",
       "      <th></th>\n",
       "      <th></th>\n",
       "      <th></th>\n",
       "    </tr>\n",
       "  </thead>\n",
       "  <tbody>\n",
       "    <tr>\n",
       "      <th>2016-05-02</th>\n",
       "      <td>WLTW</td>\n",
       "      <td>125.440002</td>\n",
       "      <td>125.959999</td>\n",
       "      <td>124.800003</td>\n",
       "      <td>126.739998</td>\n",
       "      <td>734700.0</td>\n",
       "    </tr>\n",
       "    <tr>\n",
       "      <th>2016-05-03</th>\n",
       "      <td>WLTW</td>\n",
       "      <td>124.559998</td>\n",
       "      <td>126.269997</td>\n",
       "      <td>123.660004</td>\n",
       "      <td>126.430000</td>\n",
       "      <td>1304800.0</td>\n",
       "    </tr>\n",
       "    <tr>\n",
       "      <th>2016-05-04</th>\n",
       "      <td>WLTW</td>\n",
       "      <td>125.389999</td>\n",
       "      <td>126.559998</td>\n",
       "      <td>124.970001</td>\n",
       "      <td>126.779999</td>\n",
       "      <td>1597300.0</td>\n",
       "    </tr>\n",
       "    <tr>\n",
       "      <th>2016-05-05</th>\n",
       "      <td>WLTW</td>\n",
       "      <td>126.660004</td>\n",
       "      <td>127.660004</td>\n",
       "      <td>126.199997</td>\n",
       "      <td>127.790001</td>\n",
       "      <td>1917500.0</td>\n",
       "    </tr>\n",
       "    <tr>\n",
       "      <th>2016-05-06</th>\n",
       "      <td>WLTW</td>\n",
       "      <td>127.360001</td>\n",
       "      <td>121.559998</td>\n",
       "      <td>121.239998</td>\n",
       "      <td>127.360001</td>\n",
       "      <td>3221500.0</td>\n",
       "    </tr>\n",
       "    <tr>\n",
       "      <th>2016-05-09</th>\n",
       "      <td>WLTW</td>\n",
       "      <td>122.279999</td>\n",
       "      <td>123.440002</td>\n",
       "      <td>121.199997</td>\n",
       "      <td>123.639999</td>\n",
       "      <td>919800.0</td>\n",
       "    </tr>\n",
       "    <tr>\n",
       "      <th>2016-05-10</th>\n",
       "      <td>WLTW</td>\n",
       "      <td>123.889999</td>\n",
       "      <td>125.510002</td>\n",
       "      <td>122.809998</td>\n",
       "      <td>125.989998</td>\n",
       "      <td>1991600.0</td>\n",
       "    </tr>\n",
       "    <tr>\n",
       "      <th>2016-05-11</th>\n",
       "      <td>WLTW</td>\n",
       "      <td>125.699997</td>\n",
       "      <td>124.209999</td>\n",
       "      <td>124.070000</td>\n",
       "      <td>125.940002</td>\n",
       "      <td>594800.0</td>\n",
       "    </tr>\n",
       "    <tr>\n",
       "      <th>2016-05-12</th>\n",
       "      <td>WLTW</td>\n",
       "      <td>124.440002</td>\n",
       "      <td>123.889999</td>\n",
       "      <td>122.010002</td>\n",
       "      <td>124.570000</td>\n",
       "      <td>475800.0</td>\n",
       "    </tr>\n",
       "    <tr>\n",
       "      <th>2016-05-13</th>\n",
       "      <td>WLTW</td>\n",
       "      <td>123.910004</td>\n",
       "      <td>122.970001</td>\n",
       "      <td>122.750000</td>\n",
       "      <td>126.269997</td>\n",
       "      <td>715100.0</td>\n",
       "    </tr>\n",
       "    <tr>\n",
       "      <th>2016-05-16</th>\n",
       "      <td>WLTW</td>\n",
       "      <td>123.120003</td>\n",
       "      <td>123.910004</td>\n",
       "      <td>122.870003</td>\n",
       "      <td>124.610001</td>\n",
       "      <td>528500.0</td>\n",
       "    </tr>\n",
       "    <tr>\n",
       "      <th>2016-05-17</th>\n",
       "      <td>WLTW</td>\n",
       "      <td>123.400002</td>\n",
       "      <td>123.410004</td>\n",
       "      <td>121.139999</td>\n",
       "      <td>124.169998</td>\n",
       "      <td>580000.0</td>\n",
       "    </tr>\n",
       "    <tr>\n",
       "      <th>2016-05-18</th>\n",
       "      <td>WLTW</td>\n",
       "      <td>123.220001</td>\n",
       "      <td>125.269997</td>\n",
       "      <td>122.519997</td>\n",
       "      <td>125.400002</td>\n",
       "      <td>629700.0</td>\n",
       "    </tr>\n",
       "    <tr>\n",
       "      <th>2016-05-19</th>\n",
       "      <td>WLTW</td>\n",
       "      <td>124.519997</td>\n",
       "      <td>125.120003</td>\n",
       "      <td>122.690002</td>\n",
       "      <td>125.470001</td>\n",
       "      <td>598200.0</td>\n",
       "    </tr>\n",
       "    <tr>\n",
       "      <th>2016-05-20</th>\n",
       "      <td>WLTW</td>\n",
       "      <td>125.150002</td>\n",
       "      <td>125.570000</td>\n",
       "      <td>123.900002</td>\n",
       "      <td>125.769997</td>\n",
       "      <td>816700.0</td>\n",
       "    </tr>\n",
       "    <tr>\n",
       "      <th>2016-05-23</th>\n",
       "      <td>WLTW</td>\n",
       "      <td>125.480003</td>\n",
       "      <td>125.949997</td>\n",
       "      <td>124.760002</td>\n",
       "      <td>126.230003</td>\n",
       "      <td>640800.0</td>\n",
       "    </tr>\n",
       "    <tr>\n",
       "      <th>2016-05-24</th>\n",
       "      <td>WLTW</td>\n",
       "      <td>126.129997</td>\n",
       "      <td>126.620003</td>\n",
       "      <td>125.169998</td>\n",
       "      <td>127.080002</td>\n",
       "      <td>761100.0</td>\n",
       "    </tr>\n",
       "    <tr>\n",
       "      <th>2016-05-25</th>\n",
       "      <td>WLTW</td>\n",
       "      <td>127.080002</td>\n",
       "      <td>126.459999</td>\n",
       "      <td>125.940002</td>\n",
       "      <td>128.059998</td>\n",
       "      <td>462100.0</td>\n",
       "    </tr>\n",
       "    <tr>\n",
       "      <th>2016-05-26</th>\n",
       "      <td>WLTW</td>\n",
       "      <td>126.360001</td>\n",
       "      <td>126.610001</td>\n",
       "      <td>125.419998</td>\n",
       "      <td>126.980003</td>\n",
       "      <td>627000.0</td>\n",
       "    </tr>\n",
       "    <tr>\n",
       "      <th>2016-05-27</th>\n",
       "      <td>WLTW</td>\n",
       "      <td>126.510002</td>\n",
       "      <td>127.910004</td>\n",
       "      <td>126.120003</td>\n",
       "      <td>127.989998</td>\n",
       "      <td>722500.0</td>\n",
       "    </tr>\n",
       "    <tr>\n",
       "      <th>2016-05-31</th>\n",
       "      <td>WLTW</td>\n",
       "      <td>128.500000</td>\n",
       "      <td>128.020004</td>\n",
       "      <td>127.190002</td>\n",
       "      <td>128.690002</td>\n",
       "      <td>1384200.0</td>\n",
       "    </tr>\n",
       "    <tr>\n",
       "      <th>2016-05-02</th>\n",
       "      <td>A</td>\n",
       "      <td>41.200001</td>\n",
       "      <td>41.709999</td>\n",
       "      <td>41.130001</td>\n",
       "      <td>41.750000</td>\n",
       "      <td>1285300.0</td>\n",
       "    </tr>\n",
       "    <tr>\n",
       "      <th>2016-05-02</th>\n",
       "      <td>AAL</td>\n",
       "      <td>34.990002</td>\n",
       "      <td>34.430000</td>\n",
       "      <td>34.400002</td>\n",
       "      <td>35.169998</td>\n",
       "      <td>8829800.0</td>\n",
       "    </tr>\n",
       "    <tr>\n",
       "      <th>2016-05-02</th>\n",
       "      <td>AAP</td>\n",
       "      <td>156.339996</td>\n",
       "      <td>155.460007</td>\n",
       "      <td>152.690002</td>\n",
       "      <td>156.759995</td>\n",
       "      <td>861600.0</td>\n",
       "    </tr>\n",
       "    <tr>\n",
       "      <th>2016-05-02</th>\n",
       "      <td>AAPL</td>\n",
       "      <td>93.970001</td>\n",
       "      <td>93.639999</td>\n",
       "      <td>92.400002</td>\n",
       "      <td>94.080002</td>\n",
       "      <td>48160100.0</td>\n",
       "    </tr>\n",
       "    <tr>\n",
       "      <th>2016-05-02</th>\n",
       "      <td>ABBV</td>\n",
       "      <td>60.790001</td>\n",
       "      <td>61.439999</td>\n",
       "      <td>60.700001</td>\n",
       "      <td>62.000000</td>\n",
       "      <td>9512000.0</td>\n",
       "    </tr>\n",
       "    <tr>\n",
       "      <th>2016-05-02</th>\n",
       "      <td>ABC</td>\n",
       "      <td>85.190002</td>\n",
       "      <td>85.230003</td>\n",
       "      <td>84.510002</td>\n",
       "      <td>85.370003</td>\n",
       "      <td>1621400.0</td>\n",
       "    </tr>\n",
       "    <tr>\n",
       "      <th>2016-05-02</th>\n",
       "      <td>ABT</td>\n",
       "      <td>38.849998</td>\n",
       "      <td>38.849998</td>\n",
       "      <td>38.419998</td>\n",
       "      <td>39.119999</td>\n",
       "      <td>21292300.0</td>\n",
       "    </tr>\n",
       "    <tr>\n",
       "      <th>2016-05-02</th>\n",
       "      <td>ACN</td>\n",
       "      <td>112.900002</td>\n",
       "      <td>114.400002</td>\n",
       "      <td>112.309998</td>\n",
       "      <td>114.699997</td>\n",
       "      <td>2293900.0</td>\n",
       "    </tr>\n",
       "    <tr>\n",
       "      <th>2016-05-02</th>\n",
       "      <td>ADBE</td>\n",
       "      <td>94.290001</td>\n",
       "      <td>94.900002</td>\n",
       "      <td>93.809998</td>\n",
       "      <td>94.989998</td>\n",
       "      <td>2330600.0</td>\n",
       "    </tr>\n",
       "    <tr>\n",
       "      <th>...</th>\n",
       "      <td>...</td>\n",
       "      <td>...</td>\n",
       "      <td>...</td>\n",
       "      <td>...</td>\n",
       "      <td>...</td>\n",
       "      <td>...</td>\n",
       "    </tr>\n",
       "    <tr>\n",
       "      <th>2016-05-31</th>\n",
       "      <td>VZ</td>\n",
       "      <td>50.880001</td>\n",
       "      <td>50.900002</td>\n",
       "      <td>50.590000</td>\n",
       "      <td>51.160000</td>\n",
       "      <td>15834500.0</td>\n",
       "    </tr>\n",
       "    <tr>\n",
       "      <th>2016-05-31</th>\n",
       "      <td>WAT</td>\n",
       "      <td>137.720001</td>\n",
       "      <td>137.550003</td>\n",
       "      <td>136.649994</td>\n",
       "      <td>138.270004</td>\n",
       "      <td>708000.0</td>\n",
       "    </tr>\n",
       "    <tr>\n",
       "      <th>2016-05-31</th>\n",
       "      <td>WBA</td>\n",
       "      <td>76.940002</td>\n",
       "      <td>77.400002</td>\n",
       "      <td>76.650002</td>\n",
       "      <td>77.589996</td>\n",
       "      <td>5007500.0</td>\n",
       "    </tr>\n",
       "    <tr>\n",
       "      <th>2016-05-31</th>\n",
       "      <td>WDC</td>\n",
       "      <td>45.529999</td>\n",
       "      <td>46.540001</td>\n",
       "      <td>44.889999</td>\n",
       "      <td>46.549999</td>\n",
       "      <td>7898300.0</td>\n",
       "    </tr>\n",
       "    <tr>\n",
       "      <th>2016-05-31</th>\n",
       "      <td>WEC</td>\n",
       "      <td>59.540001</td>\n",
       "      <td>60.139999</td>\n",
       "      <td>59.529999</td>\n",
       "      <td>60.330002</td>\n",
       "      <td>2866500.0</td>\n",
       "    </tr>\n",
       "    <tr>\n",
       "      <th>2016-05-31</th>\n",
       "      <td>WFC</td>\n",
       "      <td>51.020000</td>\n",
       "      <td>50.720001</td>\n",
       "      <td>50.490002</td>\n",
       "      <td>51.189999</td>\n",
       "      <td>19725000.0</td>\n",
       "    </tr>\n",
       "    <tr>\n",
       "      <th>2016-05-31</th>\n",
       "      <td>WFM</td>\n",
       "      <td>31.959999</td>\n",
       "      <td>32.349998</td>\n",
       "      <td>31.820000</td>\n",
       "      <td>32.380001</td>\n",
       "      <td>6300000.0</td>\n",
       "    </tr>\n",
       "    <tr>\n",
       "      <th>2016-05-31</th>\n",
       "      <td>WHR</td>\n",
       "      <td>174.809998</td>\n",
       "      <td>174.619995</td>\n",
       "      <td>173.179993</td>\n",
       "      <td>174.940002</td>\n",
       "      <td>772600.0</td>\n",
       "    </tr>\n",
       "    <tr>\n",
       "      <th>2016-05-31</th>\n",
       "      <td>WM</td>\n",
       "      <td>61.340000</td>\n",
       "      <td>60.950001</td>\n",
       "      <td>60.599998</td>\n",
       "      <td>61.630001</td>\n",
       "      <td>3144100.0</td>\n",
       "    </tr>\n",
       "    <tr>\n",
       "      <th>2016-05-31</th>\n",
       "      <td>WMB</td>\n",
       "      <td>21.660000</td>\n",
       "      <td>22.160000</td>\n",
       "      <td>21.660000</td>\n",
       "      <td>23.000000</td>\n",
       "      <td>10498400.0</td>\n",
       "    </tr>\n",
       "    <tr>\n",
       "      <th>2016-05-31</th>\n",
       "      <td>WMT</td>\n",
       "      <td>70.580002</td>\n",
       "      <td>70.779999</td>\n",
       "      <td>70.480003</td>\n",
       "      <td>71.000000</td>\n",
       "      <td>8390200.0</td>\n",
       "    </tr>\n",
       "    <tr>\n",
       "      <th>2016-05-31</th>\n",
       "      <td>WRK</td>\n",
       "      <td>40.080002</td>\n",
       "      <td>39.610001</td>\n",
       "      <td>39.340000</td>\n",
       "      <td>40.110001</td>\n",
       "      <td>1516100.0</td>\n",
       "    </tr>\n",
       "    <tr>\n",
       "      <th>2016-05-31</th>\n",
       "      <td>WU</td>\n",
       "      <td>19.490000</td>\n",
       "      <td>19.450001</td>\n",
       "      <td>19.200001</td>\n",
       "      <td>19.510000</td>\n",
       "      <td>6046000.0</td>\n",
       "    </tr>\n",
       "    <tr>\n",
       "      <th>2016-05-31</th>\n",
       "      <td>WY</td>\n",
       "      <td>31.559999</td>\n",
       "      <td>31.500000</td>\n",
       "      <td>31.379999</td>\n",
       "      <td>31.719999</td>\n",
       "      <td>6074300.0</td>\n",
       "    </tr>\n",
       "    <tr>\n",
       "      <th>2016-05-31</th>\n",
       "      <td>WYN</td>\n",
       "      <td>67.500000</td>\n",
       "      <td>67.389999</td>\n",
       "      <td>67.059998</td>\n",
       "      <td>67.680000</td>\n",
       "      <td>1217600.0</td>\n",
       "    </tr>\n",
       "    <tr>\n",
       "      <th>2016-05-31</th>\n",
       "      <td>WYNN</td>\n",
       "      <td>96.400002</td>\n",
       "      <td>96.180000</td>\n",
       "      <td>95.699997</td>\n",
       "      <td>97.699997</td>\n",
       "      <td>2139100.0</td>\n",
       "    </tr>\n",
       "    <tr>\n",
       "      <th>2016-05-31</th>\n",
       "      <td>XEC</td>\n",
       "      <td>118.550003</td>\n",
       "      <td>116.279999</td>\n",
       "      <td>115.699997</td>\n",
       "      <td>119.199997</td>\n",
       "      <td>1187400.0</td>\n",
       "    </tr>\n",
       "    <tr>\n",
       "      <th>2016-05-31</th>\n",
       "      <td>XEL</td>\n",
       "      <td>40.910000</td>\n",
       "      <td>41.369999</td>\n",
       "      <td>40.750000</td>\n",
       "      <td>41.410000</td>\n",
       "      <td>4784400.0</td>\n",
       "    </tr>\n",
       "    <tr>\n",
       "      <th>2016-05-31</th>\n",
       "      <td>XL</td>\n",
       "      <td>34.549999</td>\n",
       "      <td>34.349998</td>\n",
       "      <td>34.169998</td>\n",
       "      <td>34.700001</td>\n",
       "      <td>3626200.0</td>\n",
       "    </tr>\n",
       "    <tr>\n",
       "      <th>2016-05-31</th>\n",
       "      <td>XLNX</td>\n",
       "      <td>47.450001</td>\n",
       "      <td>47.389999</td>\n",
       "      <td>46.860001</td>\n",
       "      <td>47.450001</td>\n",
       "      <td>2316400.0</td>\n",
       "    </tr>\n",
       "    <tr>\n",
       "      <th>2016-05-31</th>\n",
       "      <td>XOM</td>\n",
       "      <td>90.000000</td>\n",
       "      <td>89.019997</td>\n",
       "      <td>88.730003</td>\n",
       "      <td>90.199997</td>\n",
       "      <td>13178800.0</td>\n",
       "    </tr>\n",
       "    <tr>\n",
       "      <th>2016-05-31</th>\n",
       "      <td>XRAY</td>\n",
       "      <td>62.689999</td>\n",
       "      <td>62.160000</td>\n",
       "      <td>61.849998</td>\n",
       "      <td>62.689999</td>\n",
       "      <td>1670900.0</td>\n",
       "    </tr>\n",
       "    <tr>\n",
       "      <th>2016-05-31</th>\n",
       "      <td>XRX</td>\n",
       "      <td>9.850000</td>\n",
       "      <td>9.970000</td>\n",
       "      <td>9.820000</td>\n",
       "      <td>9.970000</td>\n",
       "      <td>11718300.0</td>\n",
       "    </tr>\n",
       "    <tr>\n",
       "      <th>2016-05-31</th>\n",
       "      <td>XYL</td>\n",
       "      <td>44.700001</td>\n",
       "      <td>44.660000</td>\n",
       "      <td>44.400002</td>\n",
       "      <td>44.799999</td>\n",
       "      <td>1256400.0</td>\n",
       "    </tr>\n",
       "    <tr>\n",
       "      <th>2016-05-31</th>\n",
       "      <td>YHOO</td>\n",
       "      <td>37.730000</td>\n",
       "      <td>37.939999</td>\n",
       "      <td>37.500000</td>\n",
       "      <td>38.080002</td>\n",
       "      <td>12873600.0</td>\n",
       "    </tr>\n",
       "    <tr>\n",
       "      <th>2016-05-31</th>\n",
       "      <td>YUM</td>\n",
       "      <td>59.130124</td>\n",
       "      <td>59.015100</td>\n",
       "      <td>58.842561</td>\n",
       "      <td>59.381742</td>\n",
       "      <td>6090400.0</td>\n",
       "    </tr>\n",
       "    <tr>\n",
       "      <th>2016-05-31</th>\n",
       "      <td>ZBH</td>\n",
       "      <td>122.910004</td>\n",
       "      <td>122.110001</td>\n",
       "      <td>121.269997</td>\n",
       "      <td>123.000000</td>\n",
       "      <td>2028900.0</td>\n",
       "    </tr>\n",
       "    <tr>\n",
       "      <th>2016-05-31</th>\n",
       "      <td>ZION</td>\n",
       "      <td>28.389999</td>\n",
       "      <td>28.020000</td>\n",
       "      <td>27.920000</td>\n",
       "      <td>28.480000</td>\n",
       "      <td>2272600.0</td>\n",
       "    </tr>\n",
       "    <tr>\n",
       "      <th>2016-05-31</th>\n",
       "      <td>ZTS</td>\n",
       "      <td>47.419998</td>\n",
       "      <td>47.419998</td>\n",
       "      <td>47.110001</td>\n",
       "      <td>47.709999</td>\n",
       "      <td>2804200.0</td>\n",
       "    </tr>\n",
       "    <tr>\n",
       "      <th>2016-05-31</th>\n",
       "      <td>AIV</td>\n",
       "      <td>42.869999</td>\n",
       "      <td>42.650002</td>\n",
       "      <td>42.380001</td>\n",
       "      <td>42.970001</td>\n",
       "      <td>1214200.0</td>\n",
       "    </tr>\n",
       "  </tbody>\n",
       "</table>\n",
       "<p>10500 rows × 6 columns</p>\n",
       "</div>"
      ],
      "text/plain": [
       "           symbol        open       close         low        high      volume\n",
       "date                                                                         \n",
       "2016-05-02   WLTW  125.440002  125.959999  124.800003  126.739998    734700.0\n",
       "2016-05-03   WLTW  124.559998  126.269997  123.660004  126.430000   1304800.0\n",
       "2016-05-04   WLTW  125.389999  126.559998  124.970001  126.779999   1597300.0\n",
       "2016-05-05   WLTW  126.660004  127.660004  126.199997  127.790001   1917500.0\n",
       "2016-05-06   WLTW  127.360001  121.559998  121.239998  127.360001   3221500.0\n",
       "2016-05-09   WLTW  122.279999  123.440002  121.199997  123.639999    919800.0\n",
       "2016-05-10   WLTW  123.889999  125.510002  122.809998  125.989998   1991600.0\n",
       "2016-05-11   WLTW  125.699997  124.209999  124.070000  125.940002    594800.0\n",
       "2016-05-12   WLTW  124.440002  123.889999  122.010002  124.570000    475800.0\n",
       "2016-05-13   WLTW  123.910004  122.970001  122.750000  126.269997    715100.0\n",
       "2016-05-16   WLTW  123.120003  123.910004  122.870003  124.610001    528500.0\n",
       "2016-05-17   WLTW  123.400002  123.410004  121.139999  124.169998    580000.0\n",
       "2016-05-18   WLTW  123.220001  125.269997  122.519997  125.400002    629700.0\n",
       "2016-05-19   WLTW  124.519997  125.120003  122.690002  125.470001    598200.0\n",
       "2016-05-20   WLTW  125.150002  125.570000  123.900002  125.769997    816700.0\n",
       "2016-05-23   WLTW  125.480003  125.949997  124.760002  126.230003    640800.0\n",
       "2016-05-24   WLTW  126.129997  126.620003  125.169998  127.080002    761100.0\n",
       "2016-05-25   WLTW  127.080002  126.459999  125.940002  128.059998    462100.0\n",
       "2016-05-26   WLTW  126.360001  126.610001  125.419998  126.980003    627000.0\n",
       "2016-05-27   WLTW  126.510002  127.910004  126.120003  127.989998    722500.0\n",
       "2016-05-31   WLTW  128.500000  128.020004  127.190002  128.690002   1384200.0\n",
       "2016-05-02      A   41.200001   41.709999   41.130001   41.750000   1285300.0\n",
       "2016-05-02    AAL   34.990002   34.430000   34.400002   35.169998   8829800.0\n",
       "2016-05-02    AAP  156.339996  155.460007  152.690002  156.759995    861600.0\n",
       "2016-05-02   AAPL   93.970001   93.639999   92.400002   94.080002  48160100.0\n",
       "2016-05-02   ABBV   60.790001   61.439999   60.700001   62.000000   9512000.0\n",
       "2016-05-02    ABC   85.190002   85.230003   84.510002   85.370003   1621400.0\n",
       "2016-05-02    ABT   38.849998   38.849998   38.419998   39.119999  21292300.0\n",
       "2016-05-02    ACN  112.900002  114.400002  112.309998  114.699997   2293900.0\n",
       "2016-05-02   ADBE   94.290001   94.900002   93.809998   94.989998   2330600.0\n",
       "...           ...         ...         ...         ...         ...         ...\n",
       "2016-05-31     VZ   50.880001   50.900002   50.590000   51.160000  15834500.0\n",
       "2016-05-31    WAT  137.720001  137.550003  136.649994  138.270004    708000.0\n",
       "2016-05-31    WBA   76.940002   77.400002   76.650002   77.589996   5007500.0\n",
       "2016-05-31    WDC   45.529999   46.540001   44.889999   46.549999   7898300.0\n",
       "2016-05-31    WEC   59.540001   60.139999   59.529999   60.330002   2866500.0\n",
       "2016-05-31    WFC   51.020000   50.720001   50.490002   51.189999  19725000.0\n",
       "2016-05-31    WFM   31.959999   32.349998   31.820000   32.380001   6300000.0\n",
       "2016-05-31    WHR  174.809998  174.619995  173.179993  174.940002    772600.0\n",
       "2016-05-31     WM   61.340000   60.950001   60.599998   61.630001   3144100.0\n",
       "2016-05-31    WMB   21.660000   22.160000   21.660000   23.000000  10498400.0\n",
       "2016-05-31    WMT   70.580002   70.779999   70.480003   71.000000   8390200.0\n",
       "2016-05-31    WRK   40.080002   39.610001   39.340000   40.110001   1516100.0\n",
       "2016-05-31     WU   19.490000   19.450001   19.200001   19.510000   6046000.0\n",
       "2016-05-31     WY   31.559999   31.500000   31.379999   31.719999   6074300.0\n",
       "2016-05-31    WYN   67.500000   67.389999   67.059998   67.680000   1217600.0\n",
       "2016-05-31   WYNN   96.400002   96.180000   95.699997   97.699997   2139100.0\n",
       "2016-05-31    XEC  118.550003  116.279999  115.699997  119.199997   1187400.0\n",
       "2016-05-31    XEL   40.910000   41.369999   40.750000   41.410000   4784400.0\n",
       "2016-05-31     XL   34.549999   34.349998   34.169998   34.700001   3626200.0\n",
       "2016-05-31   XLNX   47.450001   47.389999   46.860001   47.450001   2316400.0\n",
       "2016-05-31    XOM   90.000000   89.019997   88.730003   90.199997  13178800.0\n",
       "2016-05-31   XRAY   62.689999   62.160000   61.849998   62.689999   1670900.0\n",
       "2016-05-31    XRX    9.850000    9.970000    9.820000    9.970000  11718300.0\n",
       "2016-05-31    XYL   44.700001   44.660000   44.400002   44.799999   1256400.0\n",
       "2016-05-31   YHOO   37.730000   37.939999   37.500000   38.080002  12873600.0\n",
       "2016-05-31    YUM   59.130124   59.015100   58.842561   59.381742   6090400.0\n",
       "2016-05-31    ZBH  122.910004  122.110001  121.269997  123.000000   2028900.0\n",
       "2016-05-31   ZION   28.389999   28.020000   27.920000   28.480000   2272600.0\n",
       "2016-05-31    ZTS   47.419998   47.419998   47.110001   47.709999   2804200.0\n",
       "2016-05-31    AIV   42.869999   42.650002   42.380001   42.970001   1214200.0\n",
       "\n",
       "[10500 rows x 6 columns]"
      ]
     },
     "execution_count": 159,
     "metadata": {},
     "output_type": "execute_result"
    }
   ],
   "source": [
    "# View all observations that occured in May 2016\n",
    "split_adjusted_price.loc['5/2016']"
   ]
  },
  {
   "cell_type": "code",
   "execution_count": 149,
   "metadata": {
    "collapsed": false
   },
   "outputs": [
    {
     "data": {
      "text/html": [
       "<div>\n",
       "<style>\n",
       "    .dataframe thead tr:only-child th {\n",
       "        text-align: right;\n",
       "    }\n",
       "\n",
       "    .dataframe thead th {\n",
       "        text-align: left;\n",
       "    }\n",
       "\n",
       "    .dataframe tbody tr th {\n",
       "        vertical-align: top;\n",
       "    }\n",
       "</style>\n",
       "<table border=\"1\" class=\"dataframe\">\n",
       "  <thead>\n",
       "    <tr style=\"text-align: right;\">\n",
       "      <th></th>\n",
       "      <th>symbol</th>\n",
       "      <th>open</th>\n",
       "      <th>close</th>\n",
       "      <th>low</th>\n",
       "      <th>high</th>\n",
       "      <th>volume</th>\n",
       "    </tr>\n",
       "    <tr>\n",
       "      <th>date</th>\n",
       "      <th></th>\n",
       "      <th></th>\n",
       "      <th></th>\n",
       "      <th></th>\n",
       "      <th></th>\n",
       "      <th></th>\n",
       "    </tr>\n",
       "  </thead>\n",
       "  <tbody>\n",
       "    <tr>\n",
       "      <th>2016-05-03</th>\n",
       "      <td>WLTW</td>\n",
       "      <td>124.559998</td>\n",
       "      <td>126.269997</td>\n",
       "      <td>123.660004</td>\n",
       "      <td>126.430000</td>\n",
       "      <td>1304800.0</td>\n",
       "    </tr>\n",
       "    <tr>\n",
       "      <th>2016-05-04</th>\n",
       "      <td>WLTW</td>\n",
       "      <td>125.389999</td>\n",
       "      <td>126.559998</td>\n",
       "      <td>124.970001</td>\n",
       "      <td>126.779999</td>\n",
       "      <td>1597300.0</td>\n",
       "    </tr>\n",
       "    <tr>\n",
       "      <th>2016-05-03</th>\n",
       "      <td>A</td>\n",
       "      <td>41.320000</td>\n",
       "      <td>41.240002</td>\n",
       "      <td>40.910000</td>\n",
       "      <td>41.490002</td>\n",
       "      <td>1334000.0</td>\n",
       "    </tr>\n",
       "    <tr>\n",
       "      <th>2016-05-03</th>\n",
       "      <td>AAL</td>\n",
       "      <td>34.759998</td>\n",
       "      <td>34.580002</td>\n",
       "      <td>33.849998</td>\n",
       "      <td>34.770000</td>\n",
       "      <td>10674200.0</td>\n",
       "    </tr>\n",
       "    <tr>\n",
       "      <th>2016-05-03</th>\n",
       "      <td>AAP</td>\n",
       "      <td>155.229996</td>\n",
       "      <td>156.009995</td>\n",
       "      <td>153.910004</td>\n",
       "      <td>156.970001</td>\n",
       "      <td>529400.0</td>\n",
       "    </tr>\n",
       "    <tr>\n",
       "      <th>2016-05-03</th>\n",
       "      <td>AAPL</td>\n",
       "      <td>94.199997</td>\n",
       "      <td>95.180000</td>\n",
       "      <td>93.680000</td>\n",
       "      <td>95.739998</td>\n",
       "      <td>56831300.0</td>\n",
       "    </tr>\n",
       "    <tr>\n",
       "      <th>2016-05-03</th>\n",
       "      <td>ABBV</td>\n",
       "      <td>60.990002</td>\n",
       "      <td>61.770000</td>\n",
       "      <td>60.720001</td>\n",
       "      <td>62.090000</td>\n",
       "      <td>9316600.0</td>\n",
       "    </tr>\n",
       "    <tr>\n",
       "      <th>2016-05-03</th>\n",
       "      <td>ABC</td>\n",
       "      <td>84.930000</td>\n",
       "      <td>85.480003</td>\n",
       "      <td>84.430000</td>\n",
       "      <td>86.070000</td>\n",
       "      <td>1949000.0</td>\n",
       "    </tr>\n",
       "    <tr>\n",
       "      <th>2016-05-03</th>\n",
       "      <td>ABT</td>\n",
       "      <td>38.799999</td>\n",
       "      <td>38.549999</td>\n",
       "      <td>38.209999</td>\n",
       "      <td>38.830002</td>\n",
       "      <td>17871200.0</td>\n",
       "    </tr>\n",
       "    <tr>\n",
       "      <th>2016-05-03</th>\n",
       "      <td>ACN</td>\n",
       "      <td>113.480003</td>\n",
       "      <td>113.300003</td>\n",
       "      <td>112.250000</td>\n",
       "      <td>113.879997</td>\n",
       "      <td>2031600.0</td>\n",
       "    </tr>\n",
       "    <tr>\n",
       "      <th>2016-05-03</th>\n",
       "      <td>ADBE</td>\n",
       "      <td>94.070000</td>\n",
       "      <td>93.660004</td>\n",
       "      <td>93.089996</td>\n",
       "      <td>94.389999</td>\n",
       "      <td>1811400.0</td>\n",
       "    </tr>\n",
       "    <tr>\n",
       "      <th>2016-05-03</th>\n",
       "      <td>ADI</td>\n",
       "      <td>56.330002</td>\n",
       "      <td>56.230000</td>\n",
       "      <td>56.080002</td>\n",
       "      <td>56.720001</td>\n",
       "      <td>1646600.0</td>\n",
       "    </tr>\n",
       "    <tr>\n",
       "      <th>2016-05-03</th>\n",
       "      <td>ADM</td>\n",
       "      <td>39.950001</td>\n",
       "      <td>39.099998</td>\n",
       "      <td>39.029999</td>\n",
       "      <td>40.650002</td>\n",
       "      <td>5116900.0</td>\n",
       "    </tr>\n",
       "    <tr>\n",
       "      <th>2016-05-03</th>\n",
       "      <td>ADP</td>\n",
       "      <td>89.190002</td>\n",
       "      <td>88.809998</td>\n",
       "      <td>87.849998</td>\n",
       "      <td>89.489998</td>\n",
       "      <td>3248000.0</td>\n",
       "    </tr>\n",
       "    <tr>\n",
       "      <th>2016-05-03</th>\n",
       "      <td>ADS</td>\n",
       "      <td>201.809998</td>\n",
       "      <td>201.100006</td>\n",
       "      <td>200.419998</td>\n",
       "      <td>202.300003</td>\n",
       "      <td>783900.0</td>\n",
       "    </tr>\n",
       "    <tr>\n",
       "      <th>2016-05-03</th>\n",
       "      <td>ADSK</td>\n",
       "      <td>60.869999</td>\n",
       "      <td>60.340000</td>\n",
       "      <td>59.700001</td>\n",
       "      <td>61.200001</td>\n",
       "      <td>1802400.0</td>\n",
       "    </tr>\n",
       "    <tr>\n",
       "      <th>2016-05-03</th>\n",
       "      <td>AEE</td>\n",
       "      <td>48.189999</td>\n",
       "      <td>48.549999</td>\n",
       "      <td>48.189999</td>\n",
       "      <td>48.750000</td>\n",
       "      <td>1589800.0</td>\n",
       "    </tr>\n",
       "    <tr>\n",
       "      <th>2016-05-03</th>\n",
       "      <td>AEP</td>\n",
       "      <td>64.320000</td>\n",
       "      <td>64.500000</td>\n",
       "      <td>64.070000</td>\n",
       "      <td>64.699997</td>\n",
       "      <td>4461300.0</td>\n",
       "    </tr>\n",
       "    <tr>\n",
       "      <th>2016-05-03</th>\n",
       "      <td>AES</td>\n",
       "      <td>11.200000</td>\n",
       "      <td>11.130000</td>\n",
       "      <td>10.950000</td>\n",
       "      <td>11.240000</td>\n",
       "      <td>4572100.0</td>\n",
       "    </tr>\n",
       "    <tr>\n",
       "      <th>2016-05-03</th>\n",
       "      <td>AET</td>\n",
       "      <td>113.459999</td>\n",
       "      <td>114.070000</td>\n",
       "      <td>113.300003</td>\n",
       "      <td>114.930000</td>\n",
       "      <td>1777600.0</td>\n",
       "    </tr>\n",
       "    <tr>\n",
       "      <th>2016-05-03</th>\n",
       "      <td>AFL</td>\n",
       "      <td>68.769997</td>\n",
       "      <td>68.970001</td>\n",
       "      <td>68.260002</td>\n",
       "      <td>69.040001</td>\n",
       "      <td>2845600.0</td>\n",
       "    </tr>\n",
       "    <tr>\n",
       "      <th>2016-05-03</th>\n",
       "      <td>AGN</td>\n",
       "      <td>217.589996</td>\n",
       "      <td>214.820007</td>\n",
       "      <td>214.000000</td>\n",
       "      <td>217.710007</td>\n",
       "      <td>3593300.0</td>\n",
       "    </tr>\n",
       "    <tr>\n",
       "      <th>2016-05-03</th>\n",
       "      <td>AIG</td>\n",
       "      <td>55.060001</td>\n",
       "      <td>55.939999</td>\n",
       "      <td>54.959999</td>\n",
       "      <td>56.060001</td>\n",
       "      <td>11985000.0</td>\n",
       "    </tr>\n",
       "    <tr>\n",
       "      <th>2016-05-03</th>\n",
       "      <td>AIZ</td>\n",
       "      <td>85.639999</td>\n",
       "      <td>86.230003</td>\n",
       "      <td>85.379997</td>\n",
       "      <td>86.589996</td>\n",
       "      <td>723500.0</td>\n",
       "    </tr>\n",
       "    <tr>\n",
       "      <th>2016-05-03</th>\n",
       "      <td>AJG</td>\n",
       "      <td>46.470001</td>\n",
       "      <td>46.389999</td>\n",
       "      <td>46.119999</td>\n",
       "      <td>46.709999</td>\n",
       "      <td>1030600.0</td>\n",
       "    </tr>\n",
       "    <tr>\n",
       "      <th>2016-05-03</th>\n",
       "      <td>AKAM</td>\n",
       "      <td>50.820000</td>\n",
       "      <td>49.910000</td>\n",
       "      <td>49.639999</td>\n",
       "      <td>50.939999</td>\n",
       "      <td>1979100.0</td>\n",
       "    </tr>\n",
       "    <tr>\n",
       "      <th>2016-05-03</th>\n",
       "      <td>ALB</td>\n",
       "      <td>67.559998</td>\n",
       "      <td>67.330002</td>\n",
       "      <td>66.830002</td>\n",
       "      <td>68.089996</td>\n",
       "      <td>871900.0</td>\n",
       "    </tr>\n",
       "    <tr>\n",
       "      <th>2016-05-03</th>\n",
       "      <td>ALK</td>\n",
       "      <td>70.500000</td>\n",
       "      <td>70.410004</td>\n",
       "      <td>69.599998</td>\n",
       "      <td>70.900002</td>\n",
       "      <td>1408800.0</td>\n",
       "    </tr>\n",
       "    <tr>\n",
       "      <th>2016-05-03</th>\n",
       "      <td>ALL</td>\n",
       "      <td>64.800003</td>\n",
       "      <td>65.410004</td>\n",
       "      <td>64.669998</td>\n",
       "      <td>65.589996</td>\n",
       "      <td>1861100.0</td>\n",
       "    </tr>\n",
       "    <tr>\n",
       "      <th>2016-05-03</th>\n",
       "      <td>ALLE</td>\n",
       "      <td>66.300003</td>\n",
       "      <td>65.690002</td>\n",
       "      <td>65.400002</td>\n",
       "      <td>66.440002</td>\n",
       "      <td>822800.0</td>\n",
       "    </tr>\n",
       "    <tr>\n",
       "      <th>...</th>\n",
       "      <td>...</td>\n",
       "      <td>...</td>\n",
       "      <td>...</td>\n",
       "      <td>...</td>\n",
       "      <td>...</td>\n",
       "      <td>...</td>\n",
       "    </tr>\n",
       "    <tr>\n",
       "      <th>2016-05-04</th>\n",
       "      <td>VZ</td>\n",
       "      <td>50.480000</td>\n",
       "      <td>50.840000</td>\n",
       "      <td>50.200001</td>\n",
       "      <td>50.990002</td>\n",
       "      <td>9033800.0</td>\n",
       "    </tr>\n",
       "    <tr>\n",
       "      <th>2016-05-04</th>\n",
       "      <td>WAT</td>\n",
       "      <td>130.410004</td>\n",
       "      <td>130.729996</td>\n",
       "      <td>129.690002</td>\n",
       "      <td>131.270004</td>\n",
       "      <td>421100.0</td>\n",
       "    </tr>\n",
       "    <tr>\n",
       "      <th>2016-05-04</th>\n",
       "      <td>WBA</td>\n",
       "      <td>81.040001</td>\n",
       "      <td>81.489998</td>\n",
       "      <td>80.839996</td>\n",
       "      <td>81.720001</td>\n",
       "      <td>3480700.0</td>\n",
       "    </tr>\n",
       "    <tr>\n",
       "      <th>2016-05-04</th>\n",
       "      <td>WDC</td>\n",
       "      <td>39.310001</td>\n",
       "      <td>39.599998</td>\n",
       "      <td>38.419998</td>\n",
       "      <td>39.880001</td>\n",
       "      <td>10122300.0</td>\n",
       "    </tr>\n",
       "    <tr>\n",
       "      <th>2016-05-04</th>\n",
       "      <td>WEC</td>\n",
       "      <td>58.919998</td>\n",
       "      <td>60.099998</td>\n",
       "      <td>58.919998</td>\n",
       "      <td>60.509998</td>\n",
       "      <td>2269600.0</td>\n",
       "    </tr>\n",
       "    <tr>\n",
       "      <th>2016-05-04</th>\n",
       "      <td>WFC</td>\n",
       "      <td>49.060001</td>\n",
       "      <td>48.939999</td>\n",
       "      <td>48.680000</td>\n",
       "      <td>49.270000</td>\n",
       "      <td>22402500.0</td>\n",
       "    </tr>\n",
       "    <tr>\n",
       "      <th>2016-05-04</th>\n",
       "      <td>WFM</td>\n",
       "      <td>28.520000</td>\n",
       "      <td>28.510000</td>\n",
       "      <td>28.180000</td>\n",
       "      <td>28.750000</td>\n",
       "      <td>12498100.0</td>\n",
       "    </tr>\n",
       "    <tr>\n",
       "      <th>2016-05-04</th>\n",
       "      <td>WHR</td>\n",
       "      <td>175.440002</td>\n",
       "      <td>175.179993</td>\n",
       "      <td>174.009995</td>\n",
       "      <td>178.059998</td>\n",
       "      <td>960000.0</td>\n",
       "    </tr>\n",
       "    <tr>\n",
       "      <th>2016-05-04</th>\n",
       "      <td>WM</td>\n",
       "      <td>59.840000</td>\n",
       "      <td>60.410000</td>\n",
       "      <td>59.439999</td>\n",
       "      <td>60.459999</td>\n",
       "      <td>2219700.0</td>\n",
       "    </tr>\n",
       "    <tr>\n",
       "      <th>2016-05-04</th>\n",
       "      <td>WMB</td>\n",
       "      <td>19.110001</td>\n",
       "      <td>19.240000</td>\n",
       "      <td>18.350000</td>\n",
       "      <td>19.430000</td>\n",
       "      <td>9709200.0</td>\n",
       "    </tr>\n",
       "    <tr>\n",
       "      <th>2016-05-04</th>\n",
       "      <td>WMT</td>\n",
       "      <td>66.849998</td>\n",
       "      <td>67.190002</td>\n",
       "      <td>66.440002</td>\n",
       "      <td>67.489998</td>\n",
       "      <td>6029500.0</td>\n",
       "    </tr>\n",
       "    <tr>\n",
       "      <th>2016-05-04</th>\n",
       "      <td>WRK</td>\n",
       "      <td>39.570000</td>\n",
       "      <td>38.959999</td>\n",
       "      <td>38.340000</td>\n",
       "      <td>39.570000</td>\n",
       "      <td>2309900.0</td>\n",
       "    </tr>\n",
       "    <tr>\n",
       "      <th>2016-05-04</th>\n",
       "      <td>WU</td>\n",
       "      <td>19.730000</td>\n",
       "      <td>19.010000</td>\n",
       "      <td>18.860001</td>\n",
       "      <td>19.969999</td>\n",
       "      <td>8927400.0</td>\n",
       "    </tr>\n",
       "    <tr>\n",
       "      <th>2016-05-04</th>\n",
       "      <td>WY</td>\n",
       "      <td>31.400000</td>\n",
       "      <td>31.440001</td>\n",
       "      <td>31.309999</td>\n",
       "      <td>31.670000</td>\n",
       "      <td>5208900.0</td>\n",
       "    </tr>\n",
       "    <tr>\n",
       "      <th>2016-05-04</th>\n",
       "      <td>WYN</td>\n",
       "      <td>70.430000</td>\n",
       "      <td>69.949997</td>\n",
       "      <td>69.699997</td>\n",
       "      <td>70.940002</td>\n",
       "      <td>1175400.0</td>\n",
       "    </tr>\n",
       "    <tr>\n",
       "      <th>2016-05-04</th>\n",
       "      <td>WYNN</td>\n",
       "      <td>92.379997</td>\n",
       "      <td>91.230003</td>\n",
       "      <td>90.120003</td>\n",
       "      <td>93.470001</td>\n",
       "      <td>3308200.0</td>\n",
       "    </tr>\n",
       "    <tr>\n",
       "      <th>2016-05-04</th>\n",
       "      <td>XEC</td>\n",
       "      <td>105.930000</td>\n",
       "      <td>106.150002</td>\n",
       "      <td>102.910004</td>\n",
       "      <td>107.010002</td>\n",
       "      <td>1754900.0</td>\n",
       "    </tr>\n",
       "    <tr>\n",
       "      <th>2016-05-04</th>\n",
       "      <td>XEL</td>\n",
       "      <td>40.450001</td>\n",
       "      <td>41.009998</td>\n",
       "      <td>40.450001</td>\n",
       "      <td>41.270000</td>\n",
       "      <td>3372100.0</td>\n",
       "    </tr>\n",
       "    <tr>\n",
       "      <th>2016-05-04</th>\n",
       "      <td>XL</td>\n",
       "      <td>32.240002</td>\n",
       "      <td>32.400002</td>\n",
       "      <td>32.130001</td>\n",
       "      <td>32.770000</td>\n",
       "      <td>5817100.0</td>\n",
       "    </tr>\n",
       "    <tr>\n",
       "      <th>2016-05-04</th>\n",
       "      <td>XLNX</td>\n",
       "      <td>43.340000</td>\n",
       "      <td>42.980000</td>\n",
       "      <td>42.840000</td>\n",
       "      <td>43.709999</td>\n",
       "      <td>3431700.0</td>\n",
       "    </tr>\n",
       "    <tr>\n",
       "      <th>2016-05-04</th>\n",
       "      <td>XOM</td>\n",
       "      <td>88.300003</td>\n",
       "      <td>87.940002</td>\n",
       "      <td>87.599998</td>\n",
       "      <td>88.739998</td>\n",
       "      <td>10601100.0</td>\n",
       "    </tr>\n",
       "    <tr>\n",
       "      <th>2016-05-04</th>\n",
       "      <td>XRAY</td>\n",
       "      <td>59.660000</td>\n",
       "      <td>59.869999</td>\n",
       "      <td>59.259998</td>\n",
       "      <td>60.029999</td>\n",
       "      <td>1059900.0</td>\n",
       "    </tr>\n",
       "    <tr>\n",
       "      <th>2016-05-04</th>\n",
       "      <td>XRX</td>\n",
       "      <td>9.440000</td>\n",
       "      <td>9.450000</td>\n",
       "      <td>9.400000</td>\n",
       "      <td>9.540000</td>\n",
       "      <td>9664000.0</td>\n",
       "    </tr>\n",
       "    <tr>\n",
       "      <th>2016-05-04</th>\n",
       "      <td>XYL</td>\n",
       "      <td>41.759998</td>\n",
       "      <td>41.250000</td>\n",
       "      <td>40.950001</td>\n",
       "      <td>41.759998</td>\n",
       "      <td>1424900.0</td>\n",
       "    </tr>\n",
       "    <tr>\n",
       "      <th>2016-05-04</th>\n",
       "      <td>YHOO</td>\n",
       "      <td>35.810001</td>\n",
       "      <td>36.000000</td>\n",
       "      <td>35.740002</td>\n",
       "      <td>36.090000</td>\n",
       "      <td>9668700.0</td>\n",
       "    </tr>\n",
       "    <tr>\n",
       "      <th>2016-05-04</th>\n",
       "      <td>YUM</td>\n",
       "      <td>56.973401</td>\n",
       "      <td>57.979871</td>\n",
       "      <td>56.937456</td>\n",
       "      <td>58.094896</td>\n",
       "      <td>3604100.0</td>\n",
       "    </tr>\n",
       "    <tr>\n",
       "      <th>2016-05-04</th>\n",
       "      <td>ZBH</td>\n",
       "      <td>114.459999</td>\n",
       "      <td>114.690002</td>\n",
       "      <td>113.739998</td>\n",
       "      <td>114.980003</td>\n",
       "      <td>1315400.0</td>\n",
       "    </tr>\n",
       "    <tr>\n",
       "      <th>2016-05-04</th>\n",
       "      <td>ZION</td>\n",
       "      <td>26.610001</td>\n",
       "      <td>25.930000</td>\n",
       "      <td>25.549999</td>\n",
       "      <td>26.889999</td>\n",
       "      <td>4993400.0</td>\n",
       "    </tr>\n",
       "    <tr>\n",
       "      <th>2016-05-04</th>\n",
       "      <td>ZTS</td>\n",
       "      <td>47.910000</td>\n",
       "      <td>47.049999</td>\n",
       "      <td>46.049999</td>\n",
       "      <td>48.040001</td>\n",
       "      <td>5430400.0</td>\n",
       "    </tr>\n",
       "    <tr>\n",
       "      <th>2016-05-04</th>\n",
       "      <td>AIV</td>\n",
       "      <td>41.130001</td>\n",
       "      <td>42.169998</td>\n",
       "      <td>40.540001</td>\n",
       "      <td>42.250000</td>\n",
       "      <td>969400.0</td>\n",
       "    </tr>\n",
       "  </tbody>\n",
       "</table>\n",
       "<p>1000 rows × 6 columns</p>\n",
       "</div>"
      ],
      "text/plain": [
       "           symbol        open       close         low        high      volume\n",
       "date                                                                         \n",
       "2016-05-03   WLTW  124.559998  126.269997  123.660004  126.430000   1304800.0\n",
       "2016-05-04   WLTW  125.389999  126.559998  124.970001  126.779999   1597300.0\n",
       "2016-05-03      A   41.320000   41.240002   40.910000   41.490002   1334000.0\n",
       "2016-05-03    AAL   34.759998   34.580002   33.849998   34.770000  10674200.0\n",
       "2016-05-03    AAP  155.229996  156.009995  153.910004  156.970001    529400.0\n",
       "2016-05-03   AAPL   94.199997   95.180000   93.680000   95.739998  56831300.0\n",
       "2016-05-03   ABBV   60.990002   61.770000   60.720001   62.090000   9316600.0\n",
       "2016-05-03    ABC   84.930000   85.480003   84.430000   86.070000   1949000.0\n",
       "2016-05-03    ABT   38.799999   38.549999   38.209999   38.830002  17871200.0\n",
       "2016-05-03    ACN  113.480003  113.300003  112.250000  113.879997   2031600.0\n",
       "2016-05-03   ADBE   94.070000   93.660004   93.089996   94.389999   1811400.0\n",
       "2016-05-03    ADI   56.330002   56.230000   56.080002   56.720001   1646600.0\n",
       "2016-05-03    ADM   39.950001   39.099998   39.029999   40.650002   5116900.0\n",
       "2016-05-03    ADP   89.190002   88.809998   87.849998   89.489998   3248000.0\n",
       "2016-05-03    ADS  201.809998  201.100006  200.419998  202.300003    783900.0\n",
       "2016-05-03   ADSK   60.869999   60.340000   59.700001   61.200001   1802400.0\n",
       "2016-05-03    AEE   48.189999   48.549999   48.189999   48.750000   1589800.0\n",
       "2016-05-03    AEP   64.320000   64.500000   64.070000   64.699997   4461300.0\n",
       "2016-05-03    AES   11.200000   11.130000   10.950000   11.240000   4572100.0\n",
       "2016-05-03    AET  113.459999  114.070000  113.300003  114.930000   1777600.0\n",
       "2016-05-03    AFL   68.769997   68.970001   68.260002   69.040001   2845600.0\n",
       "2016-05-03    AGN  217.589996  214.820007  214.000000  217.710007   3593300.0\n",
       "2016-05-03    AIG   55.060001   55.939999   54.959999   56.060001  11985000.0\n",
       "2016-05-03    AIZ   85.639999   86.230003   85.379997   86.589996    723500.0\n",
       "2016-05-03    AJG   46.470001   46.389999   46.119999   46.709999   1030600.0\n",
       "2016-05-03   AKAM   50.820000   49.910000   49.639999   50.939999   1979100.0\n",
       "2016-05-03    ALB   67.559998   67.330002   66.830002   68.089996    871900.0\n",
       "2016-05-03    ALK   70.500000   70.410004   69.599998   70.900002   1408800.0\n",
       "2016-05-03    ALL   64.800003   65.410004   64.669998   65.589996   1861100.0\n",
       "2016-05-03   ALLE   66.300003   65.690002   65.400002   66.440002    822800.0\n",
       "...           ...         ...         ...         ...         ...         ...\n",
       "2016-05-04     VZ   50.480000   50.840000   50.200001   50.990002   9033800.0\n",
       "2016-05-04    WAT  130.410004  130.729996  129.690002  131.270004    421100.0\n",
       "2016-05-04    WBA   81.040001   81.489998   80.839996   81.720001   3480700.0\n",
       "2016-05-04    WDC   39.310001   39.599998   38.419998   39.880001  10122300.0\n",
       "2016-05-04    WEC   58.919998   60.099998   58.919998   60.509998   2269600.0\n",
       "2016-05-04    WFC   49.060001   48.939999   48.680000   49.270000  22402500.0\n",
       "2016-05-04    WFM   28.520000   28.510000   28.180000   28.750000  12498100.0\n",
       "2016-05-04    WHR  175.440002  175.179993  174.009995  178.059998    960000.0\n",
       "2016-05-04     WM   59.840000   60.410000   59.439999   60.459999   2219700.0\n",
       "2016-05-04    WMB   19.110001   19.240000   18.350000   19.430000   9709200.0\n",
       "2016-05-04    WMT   66.849998   67.190002   66.440002   67.489998   6029500.0\n",
       "2016-05-04    WRK   39.570000   38.959999   38.340000   39.570000   2309900.0\n",
       "2016-05-04     WU   19.730000   19.010000   18.860001   19.969999   8927400.0\n",
       "2016-05-04     WY   31.400000   31.440001   31.309999   31.670000   5208900.0\n",
       "2016-05-04    WYN   70.430000   69.949997   69.699997   70.940002   1175400.0\n",
       "2016-05-04   WYNN   92.379997   91.230003   90.120003   93.470001   3308200.0\n",
       "2016-05-04    XEC  105.930000  106.150002  102.910004  107.010002   1754900.0\n",
       "2016-05-04    XEL   40.450001   41.009998   40.450001   41.270000   3372100.0\n",
       "2016-05-04     XL   32.240002   32.400002   32.130001   32.770000   5817100.0\n",
       "2016-05-04   XLNX   43.340000   42.980000   42.840000   43.709999   3431700.0\n",
       "2016-05-04    XOM   88.300003   87.940002   87.599998   88.739998  10601100.0\n",
       "2016-05-04   XRAY   59.660000   59.869999   59.259998   60.029999   1059900.0\n",
       "2016-05-04    XRX    9.440000    9.450000    9.400000    9.540000   9664000.0\n",
       "2016-05-04    XYL   41.759998   41.250000   40.950001   41.759998   1424900.0\n",
       "2016-05-04   YHOO   35.810001   36.000000   35.740002   36.090000   9668700.0\n",
       "2016-05-04    YUM   56.973401   57.979871   56.937456   58.094896   3604100.0\n",
       "2016-05-04    ZBH  114.459999  114.690002  113.739998  114.980003   1315400.0\n",
       "2016-05-04   ZION   26.610001   25.930000   25.549999   26.889999   4993400.0\n",
       "2016-05-04    ZTS   47.910000   47.049999   46.049999   48.040001   5430400.0\n",
       "2016-05-04    AIV   41.130001   42.169998   40.540001   42.250000    969400.0\n",
       "\n",
       "[1000 rows x 6 columns]"
      ]
     },
     "execution_count": 149,
     "metadata": {},
     "output_type": "execute_result"
    }
   ],
   "source": [
    "# Observations between May 3rd and May 4th\n",
    "split_adjusted_price['5/3/2016':'5/4/2016']"
   ]
  },
  {
   "cell_type": "markdown",
   "metadata": {},
   "source": [
    "- Once you have the dataframe has a datetime index, you can easily plot the time series graph across different columns.\n",
    "- i.e the closing price of Apple Inc"
   ]
  },
  {
   "cell_type": "code",
   "execution_count": 186,
   "metadata": {
    "collapsed": false
   },
   "outputs": [
    {
     "ename": "SyntaxError",
     "evalue": "invalid syntax (<ipython-input-186-272e1671f6f5>, line 4)",
     "output_type": "error",
     "traceback": [
      "\u001b[0;36m  File \u001b[0;32m\"<ipython-input-186-272e1671f6f5>\"\u001b[0;36m, line \u001b[0;32m4\u001b[0m\n\u001b[0;31m    split_adjusted_price.symbol.where? #(lambda t:t=='AAPL').dropna()\u001b[0m\n\u001b[0m                                     ^\u001b[0m\n\u001b[0;31mSyntaxError\u001b[0m\u001b[0;31m:\u001b[0m invalid syntax\n"
     ]
    }
   ],
   "source": [
    "#%matplotlib inline\n",
    "#split_adjusted_price[split_adjusted_price['symbol'] == 'AAPL'].close.plot()\n",
    "#split_adjusted_price.groupby('symbol').get_group('AAPL')\n",
    "split_adjusted_price.symbol.where #(lambda t:t=='AAPL').dropna()"
   ]
  },
  {
   "cell_type": "code",
   "execution_count": null,
   "metadata": {
    "collapsed": true
   },
   "outputs": [],
   "source": [
    "split_adjusted_price.groupby('symbol').get_group"
   ]
  },
  {
   "cell_type": "markdown",
   "metadata": {},
   "source": [
    "<p><a name=\"sol\"></a></p>\n",
    "# Soluitons"
   ]
  },
  {
   "cell_type": "markdown",
   "metadata": {},
   "source": [
    "**Exercise 1**"
   ]
  },
  {
   "cell_type": "code",
   "execution_count": 151,
   "metadata": {
    "collapsed": false
   },
   "outputs": [
    {
     "data": {
      "text/html": [
       "<div>\n",
       "<style>\n",
       "    .dataframe thead tr:only-child th {\n",
       "        text-align: right;\n",
       "    }\n",
       "\n",
       "    .dataframe thead th {\n",
       "        text-align: left;\n",
       "    }\n",
       "\n",
       "    .dataframe tbody tr th {\n",
       "        vertical-align: top;\n",
       "    }\n",
       "</style>\n",
       "<table border=\"1\" class=\"dataframe\">\n",
       "  <thead>\n",
       "    <tr style=\"text-align: right;\">\n",
       "      <th></th>\n",
       "      <th>pop</th>\n",
       "      <th>area</th>\n",
       "      <th>density</th>\n",
       "    </tr>\n",
       "    <tr>\n",
       "      <th>boro</th>\n",
       "      <th></th>\n",
       "      <th></th>\n",
       "      <th></th>\n",
       "    </tr>\n",
       "  </thead>\n",
       "  <tbody>\n",
       "    <tr>\n",
       "      <th>Bronx</th>\n",
       "      <td>1.39</td>\n",
       "      <td>42</td>\n",
       "      <td>0.033095</td>\n",
       "    </tr>\n",
       "    <tr>\n",
       "      <th>Manhattan</th>\n",
       "      <td>1.59</td>\n",
       "      <td>23</td>\n",
       "      <td>0.069130</td>\n",
       "    </tr>\n",
       "    <tr>\n",
       "      <th>Brooklyn</th>\n",
       "      <td>2.47</td>\n",
       "      <td>71</td>\n",
       "      <td>0.034789</td>\n",
       "    </tr>\n",
       "    <tr>\n",
       "      <th>Staten Island</th>\n",
       "      <td>0.44</td>\n",
       "      <td>59</td>\n",
       "      <td>0.007458</td>\n",
       "    </tr>\n",
       "    <tr>\n",
       "      <th>Queens</th>\n",
       "      <td>2.23</td>\n",
       "      <td>109</td>\n",
       "      <td>0.020459</td>\n",
       "    </tr>\n",
       "  </tbody>\n",
       "</table>\n",
       "</div>"
      ],
      "text/plain": [
       "                pop  area   density\n",
       "boro                               \n",
       "Bronx          1.39    42  0.033095\n",
       "Manhattan      1.59    23  0.069130\n",
       "Brooklyn       2.47    71  0.034789\n",
       "Staten Island  0.44    59  0.007458\n",
       "Queens         2.23   109  0.020459"
      ]
     },
     "execution_count": 151,
     "metadata": {},
     "output_type": "execute_result"
    }
   ],
   "source": [
    "NYC=pd.DataFrame([['Bronx',1.39,42],\n",
    "                ['Manhattan',1.59,23],\n",
    "                ['Brooklyn',2.47,71],\n",
    "                ['Staten Island',0.44,59],\n",
    "                ['Queens',2.23,109]],columns=['boro','pop','area'])\n",
    "\n",
    "NYC['density']=NYC['pop']/NYC['area']\n",
    "NYC=NYC.set_index('boro')\n",
    "NYC"
   ]
  },
  {
   "cell_type": "markdown",
   "metadata": {},
   "source": [
    "**Exercise 3**"
   ]
  },
  {
   "cell_type": "code",
   "execution_count": 152,
   "metadata": {
    "collapsed": false
   },
   "outputs": [
    {
     "data": {
      "text/html": [
       "<div>\n",
       "<style>\n",
       "    .dataframe thead tr:only-child th {\n",
       "        text-align: right;\n",
       "    }\n",
       "\n",
       "    .dataframe thead th {\n",
       "        text-align: left;\n",
       "    }\n",
       "\n",
       "    .dataframe tbody tr th {\n",
       "        vertical-align: top;\n",
       "    }\n",
       "</style>\n",
       "<table border=\"1\" class=\"dataframe\">\n",
       "  <thead>\n",
       "    <tr style=\"text-align: right;\">\n",
       "      <th></th>\n",
       "      <th>pop</th>\n",
       "      <th>area</th>\n",
       "      <th>density</th>\n",
       "      <th>geography</th>\n",
       "      <th>high_point</th>\n",
       "      <th>inception</th>\n",
       "    </tr>\n",
       "  </thead>\n",
       "  <tbody>\n",
       "    <tr>\n",
       "      <th>Bronx</th>\n",
       "      <td>1.39</td>\n",
       "      <td>42</td>\n",
       "      <td>0.033095</td>\n",
       "      <td>on mainland</td>\n",
       "      <td>Chapel Farm</td>\n",
       "      <td>1898</td>\n",
       "    </tr>\n",
       "    <tr>\n",
       "      <th>Brooklyn</th>\n",
       "      <td>2.47</td>\n",
       "      <td>71</td>\n",
       "      <td>0.034789</td>\n",
       "      <td>on island</td>\n",
       "      <td>Battle Hill</td>\n",
       "      <td>1634</td>\n",
       "    </tr>\n",
       "    <tr>\n",
       "      <th>Manhattan</th>\n",
       "      <td>1.59</td>\n",
       "      <td>23</td>\n",
       "      <td>0.069130</td>\n",
       "      <td>is an island</td>\n",
       "      <td>Bennett Park</td>\n",
       "      <td>1624</td>\n",
       "    </tr>\n",
       "    <tr>\n",
       "      <th>Queens</th>\n",
       "      <td>2.23</td>\n",
       "      <td>109</td>\n",
       "      <td>0.020459</td>\n",
       "      <td>on island</td>\n",
       "      <td>North Glen Oaks</td>\n",
       "      <td>1683</td>\n",
       "    </tr>\n",
       "    <tr>\n",
       "      <th>Staten Island</th>\n",
       "      <td>0.44</td>\n",
       "      <td>59</td>\n",
       "      <td>0.007458</td>\n",
       "      <td>is an island</td>\n",
       "      <td>Todt Hill</td>\n",
       "      <td>1683</td>\n",
       "    </tr>\n",
       "  </tbody>\n",
       "</table>\n",
       "</div>"
      ],
      "text/plain": [
       "                pop  area   density     geography       high_point inception\n",
       "Bronx          1.39    42  0.033095   on mainland      Chapel Farm      1898\n",
       "Brooklyn       2.47    71  0.034789     on island      Battle Hill      1634\n",
       "Manhattan      1.59    23  0.069130  is an island     Bennett Park      1624\n",
       "Queens         2.23   109  0.020459     on island  North Glen Oaks      1683\n",
       "Staten Island  0.44    59  0.007458  is an island        Todt Hill      1683"
      ]
     },
     "execution_count": 152,
     "metadata": {},
     "output_type": "execute_result"
    }
   ],
   "source": [
    "NYC3=pd.concat([NYC, new_features], axis = 1)\n",
    "NYC3"
   ]
  },
  {
   "cell_type": "markdown",
   "metadata": {},
   "source": [
    "**Exercise 4**"
   ]
  },
  {
   "cell_type": "code",
   "execution_count": 153,
   "metadata": {
    "collapsed": true
   },
   "outputs": [],
   "source": [
    "NYC4=pd.merge(NYC3.reset_index(),Elevations,left_on='high_point',right_on='location').set_index('index')\n",
    "NYC4.columns=NYC4.columns.str.replace('elevation','peak_elevation')\n",
    "NYC4=NYC4.sort_values('peak_elevation',ascending=False)"
   ]
  },
  {
   "cell_type": "markdown",
   "metadata": {},
   "source": [
    "**Exercise 5**"
   ]
  },
  {
   "cell_type": "code",
   "execution_count": 154,
   "metadata": {
    "collapsed": false
   },
   "outputs": [
    {
     "data": {
      "text/html": [
       "<div>\n",
       "<style>\n",
       "    .dataframe thead tr:only-child th {\n",
       "        text-align: right;\n",
       "    }\n",
       "\n",
       "    .dataframe thead th {\n",
       "        text-align: left;\n",
       "    }\n",
       "\n",
       "    .dataframe tbody tr th {\n",
       "        vertical-align: top;\n",
       "    }\n",
       "</style>\n",
       "<table border=\"1\" class=\"dataframe\">\n",
       "  <thead>\n",
       "    <tr style=\"text-align: right;\">\n",
       "      <th></th>\n",
       "      <th>Department</th>\n",
       "      <th>Education</th>\n",
       "      <th>Year</th>\n",
       "    </tr>\n",
       "  </thead>\n",
       "  <tbody>\n",
       "    <tr>\n",
       "      <th>0</th>\n",
       "      <td>IT</td>\n",
       "      <td>Bachelor</td>\n",
       "      <td>1.0</td>\n",
       "    </tr>\n",
       "    <tr>\n",
       "      <th>1</th>\n",
       "      <td>IT</td>\n",
       "      <td>Master</td>\n",
       "      <td>2.0</td>\n",
       "    </tr>\n",
       "    <tr>\n",
       "      <th>2</th>\n",
       "      <td>HR</td>\n",
       "      <td>Master</td>\n",
       "      <td>2.0</td>\n",
       "    </tr>\n",
       "    <tr>\n",
       "      <th>3</th>\n",
       "      <td>HR</td>\n",
       "      <td>Bachelor</td>\n",
       "      <td>2.0</td>\n",
       "    </tr>\n",
       "    <tr>\n",
       "      <th>4</th>\n",
       "      <td>Trade</td>\n",
       "      <td>PHD</td>\n",
       "      <td>3.0</td>\n",
       "    </tr>\n",
       "    <tr>\n",
       "      <th>5</th>\n",
       "      <td>NaN</td>\n",
       "      <td>PHD</td>\n",
       "      <td>5.0</td>\n",
       "    </tr>\n",
       "    <tr>\n",
       "      <th>6</th>\n",
       "      <td>Trade</td>\n",
       "      <td>Master</td>\n",
       "      <td>NaN</td>\n",
       "    </tr>\n",
       "    <tr>\n",
       "      <th>7</th>\n",
       "      <td>HR</td>\n",
       "      <td>Master</td>\n",
       "      <td>8.0</td>\n",
       "    </tr>\n",
       "    <tr>\n",
       "      <th>8</th>\n",
       "      <td>IT</td>\n",
       "      <td>NaN</td>\n",
       "      <td>9.0</td>\n",
       "    </tr>\n",
       "  </tbody>\n",
       "</table>\n",
       "</div>"
      ],
      "text/plain": [
       "  Department Education  Year\n",
       "0         IT  Bachelor   1.0\n",
       "1         IT    Master   2.0\n",
       "2         HR    Master   2.0\n",
       "3         HR  Bachelor   2.0\n",
       "4      Trade       PHD   3.0\n",
       "5        NaN       PHD   5.0\n",
       "6      Trade    Master   NaN\n",
       "7         HR    Master   8.0\n",
       "8         IT       NaN   9.0"
      ]
     },
     "execution_count": 154,
     "metadata": {},
     "output_type": "execute_result"
    }
   ],
   "source": [
    "Employee=Employee.replace('?',np.nan)\n",
    "Employee\n",
    "np.sum(Employee.isnull(), axis=1)\n",
    "np.sum(Employee.isnull(), axis=0)\n",
    "Employee.loc[Employee.isnull().any(axis=1),:]\n",
    "Employee.loc[:,Employee.isnull().any(axis=0) ]"
   ]
  },
  {
   "cell_type": "markdown",
   "metadata": {},
   "source": [
    "**Exercise 6**"
   ]
  },
  {
   "cell_type": "code",
   "execution_count": 155,
   "metadata": {
    "collapsed": false
   },
   "outputs": [
    {
     "data": {
      "text/html": [
       "<div>\n",
       "<style>\n",
       "    .dataframe thead tr:only-child th {\n",
       "        text-align: right;\n",
       "    }\n",
       "\n",
       "    .dataframe thead th {\n",
       "        text-align: left;\n",
       "    }\n",
       "\n",
       "    .dataframe tbody tr th {\n",
       "        vertical-align: top;\n",
       "    }\n",
       "</style>\n",
       "<table border=\"1\" class=\"dataframe\">\n",
       "  <thead>\n",
       "    <tr>\n",
       "      <th></th>\n",
       "      <th colspan=\"2\" halign=\"left\">birthrate</th>\n",
       "    </tr>\n",
       "    <tr>\n",
       "      <th></th>\n",
       "      <th>mean</th>\n",
       "      <th>diff_</th>\n",
       "    </tr>\n",
       "    <tr>\n",
       "      <th>dense</th>\n",
       "      <th></th>\n",
       "      <th></th>\n",
       "    </tr>\n",
       "  </thead>\n",
       "  <tbody>\n",
       "    <tr>\n",
       "      <th>False</th>\n",
       "      <td>21.687805</td>\n",
       "      <td>29.6</td>\n",
       "    </tr>\n",
       "    <tr>\n",
       "      <th>True</th>\n",
       "      <td>17.488235</td>\n",
       "      <td>35.6</td>\n",
       "    </tr>\n",
       "  </tbody>\n",
       "</table>\n",
       "</div>"
      ],
      "text/plain": [
       "       birthrate      \n",
       "            mean diff_\n",
       "dense                 \n",
       "False  21.687805  29.6\n",
       "True   17.488235  35.6"
      ]
     },
     "execution_count": 155,
     "metadata": {},
     "output_type": "execute_result"
    }
   ],
   "source": [
    "Country.groupby('coastal').agg({'life expectancy':['min','max']})\n",
    "Country.groupby(['continent','coastal']).agg({'deathrate':['count','mean']})\n",
    "Country['density']=Country['population']/Country['area']\n",
    "Country['dense']=Country['density']>Country['density'].mean()\n",
    "def diff_(x):\n",
    "    return max(x)-min(x)\n",
    "Country.groupby('dense').agg({'birthrate':['mean',diff_]})"
   ]
  },
  {
   "cell_type": "code",
   "execution_count": null,
   "metadata": {
    "collapsed": true
   },
   "outputs": [],
   "source": []
  }
 ],
 "metadata": {
  "anaconda-cloud": {},
  "kernelspec": {
   "display_name": "Python 3",
   "language": "python",
   "name": "python3"
  },
  "language_info": {
   "codemirror_mode": {
    "name": "ipython",
    "version": 3
   },
   "file_extension": ".py",
   "mimetype": "text/x-python",
   "name": "python",
   "nbconvert_exporter": "python",
   "pygments_lexer": "ipython3",
   "version": "3.5.1"
  }
 },
 "nbformat": 4,
 "nbformat_minor": 1
}
