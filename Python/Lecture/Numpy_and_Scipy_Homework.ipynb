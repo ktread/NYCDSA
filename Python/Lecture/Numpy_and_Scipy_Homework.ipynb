{
 "cells": [
  {
   "cell_type": "markdown",
   "metadata": {},
   "source": [
    "# Homework"
   ]
  },
  {
   "cell_type": "markdown",
   "metadata": {},
   "source": [
    "### Problem 1\n",
    "- Write a function `dot_product` to calculate the dot product of two 1 by n arrays. For example:\n",
    "```\n",
    "a = array([1, 2, 3, 4])\n",
    "b = array([2, 3, 4, 5])\n",
    "dot_product(a,b) = 40\n",
    "```"
   ]
  },
  {
   "cell_type": "code",
   "execution_count": 3,
   "metadata": {},
   "outputs": [],
   "source": [
    "#### Your code here\n",
    "import numpy as np\n",
    "import scipy \n",
    "\n",
    "a = np.array([1, 2, 3, 4])\n",
    "b = np.array([2, 3, 4, 5])\n",
    "\n",
    "def dot_product(a,b):\n",
    "    if len(a)==len(b):\n",
    "        return a.dot(b)\n",
    "    else:\n",
    "        raise Exception(\"Arrays must be of equal length.\")\n",
    "    "
   ]
  },
  {
   "cell_type": "code",
   "execution_count": 4,
   "metadata": {},
   "outputs": [
    {
     "name": "stdout",
     "output_type": "stream",
     "text": [
      "65\n"
     ]
    }
   ],
   "source": [
    "#### Test\n",
    "\n",
    "import numpy as np\n",
    "a = np.array([1,2,3,4,5])\n",
    "b = np.array([2,3,4,5,5])\n",
    "print(dot_product(a, b))\n"
   ]
  },
  {
   "cell_type": "markdown",
   "metadata": {},
   "source": [
    "- Given a 1 by n array `a`, write a function `odd(a)` to return a new array containing elements whose index is an odd number.\n",
    "\n",
    "```\n",
    "a = np.array([1, 3, 4, 2, 5, 3, 8, 1])\n",
    "odd(a) = array([3, 2, 3, 1])\n",
    "```"
   ]
  },
  {
   "cell_type": "code",
   "execution_count": 66,
   "metadata": {},
   "outputs": [],
   "source": [
    "\n",
    "\n",
    "    "
   ]
  },
  {
   "cell_type": "code",
   "execution_count": 84,
   "metadata": {},
   "outputs": [
    {
     "data": {
      "text/plain": [
       "array([3, 2, 3, 1])"
      ]
     },
     "execution_count": 84,
     "metadata": {},
     "output_type": "execute_result"
    }
   ],
   "source": [
    "\n",
    "#### Test\n",
    "a = np.array([1, 3, 4, 2, 5, 3, 8, 1])\n",
    "b = a[1::2]\n",
    "b"
   ]
  },
  {
   "cell_type": "markdown",
   "metadata": {
    "internals": {
     "slide_type": "subslide"
    },
    "slideshow": {
     "slide_type": "slide"
    }
   },
   "source": [
    "### Problem 2\n",
    "Construct the following arrays without listing all the elements. For example, you should use **np.ones(3)** to generate a array *array([1, 1, 1])* instead of **np.array([1, 1, 1])**."
   ]
  },
  {
   "cell_type": "markdown",
   "metadata": {
    "internals": {},
    "slideshow": {
     "slide_type": "-"
    }
   },
   "source": [
    "(1) Construct an array of **float** ranging from 0-10."
   ]
  },
  {
   "cell_type": "code",
   "execution_count": 49,
   "metadata": {
    "internals": {},
    "slideshow": {
     "slide_type": "-"
    }
   },
   "outputs": [
    {
     "data": {
      "text/plain": [
       "array([ 0.,  1.,  2.,  3.,  4.,  5.,  6.,  7.,  8.,  9., 10.])"
      ]
     },
     "execution_count": 49,
     "metadata": {},
     "output_type": "execute_result"
    }
   ],
   "source": [
    "import numpy as np\n",
    "x = np.arange(11.0)\n",
    "x\n",
    "\n",
    "#### Your code here"
   ]
  },
  {
   "cell_type": "markdown",
   "metadata": {
    "internals": {},
    "slideshow": {
     "slide_type": "-"
    }
   },
   "source": [
    "(2) Create an array containing 7 evenly spaced numbers between 0 and 23."
   ]
  },
  {
   "cell_type": "code",
   "execution_count": 59,
   "metadata": {
    "internals": {},
    "slideshow": {
     "slide_type": "-"
    }
   },
   "outputs": [
    {
     "data": {
      "text/plain": [
       "array([ 0. ,  3.3,  6.6,  9.9, 13.2, 16.5, 19.8])"
      ]
     },
     "execution_count": 59,
     "metadata": {},
     "output_type": "execute_result"
    }
   ],
   "source": [
    "#### Your code here\n",
    "x = np.arange(11.0)\n",
    "y = np.arange(0,23,3.3)\n",
    "y"
   ]
  },
  {
   "cell_type": "markdown",
   "metadata": {
    "internals": {},
    "slideshow": {
     "slide_type": "-"
    }
   },
   "source": [
    "(3) Create a 3x3 matrix with values ranging from 0 to 8."
   ]
  },
  {
   "cell_type": "code",
   "execution_count": 4,
   "metadata": {
    "internals": {},
    "slideshow": {
     "slide_type": "-"
    }
   },
   "outputs": [
    {
     "name": "stdout",
     "output_type": "stream",
     "text": [
      "[ 0.          3.83333333  7.66666667 11.5        15.33333333 19.16666667\n",
      " 23.        ]\n"
     ]
    }
   ],
   "source": [
    "#### Your code here\n",
    "import numpy as np\n",
    "print(np.linspace(0,23,7))\n"
   ]
  },
  {
   "cell_type": "markdown",
   "metadata": {
    "internals": {},
    "slideshow": {
     "slide_type": "-"
    }
   },
   "source": [
    "(4) Create a 5x5 matrix with row values ranging from 0 to 4.\n",
    "\n",
    "$$\\left[\n",
    "\\begin{array}{cc}\n",
    "0 & 1 & 2 & 3 & 4 \\\\\n",
    "0 & 1 & 2 & 3 & 4 \\\\\n",
    "0 & 1 & 2 & 3 & 4 \\\\\n",
    "0 & 1 & 2 & 3 & 4 \\\\\n",
    "0 & 1 & 2 & 3 & 4 \n",
    "\\end{array}\n",
    "\\right]$$"
   ]
  },
  {
   "cell_type": "code",
   "execution_count": 86,
   "metadata": {
    "internals": {
     "slide_helper": "subslide_end"
    },
    "slide_helper": "slide_end",
    "slideshow": {
     "slide_type": "-"
    }
   },
   "outputs": [
    {
     "name": "stdout",
     "output_type": "stream",
     "text": [
      "[[0. 1. 2. 3. 4.]\n",
      " [0. 1. 2. 3. 4.]\n",
      " [0. 1. 2. 3. 4.]\n",
      " [0. 1. 2. 3. 4.]\n",
      " [0. 1. 2. 3. 4.]]\n"
     ]
    }
   ],
   "source": [
    "#### Your code here\n",
    "x = np.arange(11.0)\n",
    "y = np.arange(0,23,3.3)\n",
    "z = np.arange(0,9).reshape(3,3)\n",
    "\n",
    "a = np.ones((25)).reshape(5,5)\n",
    "b = np.arange(0,5)\n",
    "\n",
    "print(a*b)\n"
   ]
  },
  {
   "cell_type": "markdown",
   "metadata": {
    "internals": {
     "slide_type": "subslide"
    },
    "slideshow": {
     "slide_type": "slide"
    }
   },
   "source": [
    "(5) A magic square is a matrix all of whose row sums, column sums and the sums of the two diagonals are the same. (One diagonal of a matrix goes from the top left to the bottom right, the other diagonal goes from top right to bottom left.)\n",
    "\n",
    "Further more, a $n \\times n$ magic matrix is constructed by $(1, 2, 3 ... n^2)$. For example, here is a $3\\times 3$ magic array:\n",
    "$$\\left[\n",
    "\\begin{array}{cc}\n",
    "8 & 1 & 6 \\\\\n",
    "3 & 5 & 7 \\\\\n",
    "4 & 9 & 2\n",
    "\\end{array}\n",
    "\\right]$$\n",
    "\n",
    "Each number can only be used once.\n",
    "\n",
    "Write a function to check whether a matrix is a magic matrix. You should check these three properties:\n",
    "\n",
    "1. Is it a square matrix?\n",
    "2. Is it constructed by $(1, 2, 3, ... n^2)$?\n",
    "3. Are the sums of rows, columns and diags the same? (Hint: the function **np.diag** may be useful)\n"
   ]
  },
  {
   "cell_type": "code",
   "execution_count": 429,
   "metadata": {
    "internals": {},
    "slideshow": {
     "slide_type": "-"
    }
   },
   "outputs": [],
   "source": [
    "### Your code here  \n",
    "def isMagic(square):\n",
    "    shape = square.shape\n",
    "    if shape[0]==shape[1]:\n",
    "        sorted_square = np.sort(square, axis = None)\n",
    "        sorted_test   = np.arange(1,((shape[0])**2)+1)\n",
    "        if np.array_equal(sorted_square,sorted_test) and sum(np.diag(np.fliplr(square)))== sum(np.diag(square)) and \\\n",
    "        sum(np.diag(square)) == np.sum(square[0]):\n",
    "            for n in range(shape[0]):\n",
    "                if np.sum(square[n], axis=0) != np.sum(square[n]):\n",
    "                    return 'Not Magic!'\n",
    "            return 'Magic!'\n",
    "        else:\n",
    "            return 'Not Magic!'\n",
    "    else:\n",
    "        return 'Not Magic!'\n",
    "\n"
   ]
  },
  {
   "cell_type": "markdown",
   "metadata": {
    "internals": {},
    "slideshow": {
     "slide_type": "-"
    }
   },
   "source": [
    "Here are some tests:"
   ]
  },
  {
   "cell_type": "code",
   "execution_count": 431,
   "metadata": {
    "internals": {},
    "slideshow": {
     "slide_type": "-"
    }
   },
   "outputs": [
    {
     "data": {
      "text/plain": [
       "'Not Magic!'"
      ]
     },
     "execution_count": 431,
     "metadata": {},
     "output_type": "execute_result"
    }
   ],
   "source": [
    "test1 = np.array([[0, 1], \n",
    "                  [1, 0]])\n",
    "isMagic(test1) # False"
   ]
  },
  {
   "cell_type": "code",
   "execution_count": 430,
   "metadata": {
    "internals": {},
    "slideshow": {
     "slide_type": "-"
    }
   },
   "outputs": [
    {
     "data": {
      "text/plain": [
       "'Magic!'"
      ]
     },
     "execution_count": 430,
     "metadata": {},
     "output_type": "execute_result"
    }
   ],
   "source": [
    "test2 = np.array([[8, 1, 6],\n",
    "                  [3, 5, 7],\n",
    "                  [4, 9, 2]])\n",
    "isMagic(test2) # True"
   ]
  },
  {
   "cell_type": "code",
   "execution_count": 432,
   "metadata": {},
   "outputs": [
    {
     "data": {
      "text/plain": [
       "'Not Magic!'"
      ]
     },
     "execution_count": 432,
     "metadata": {},
     "output_type": "execute_result"
    }
   ],
   "source": [
    "test3 = np.array([[2, 6, 7],\n",
    "                  [4, 8, 3],\n",
    "                  [9, 1, 5]])\n",
    "\n",
    "\n",
    "isMagic(test3) # False"
   ]
  },
  {
   "cell_type": "code",
   "execution_count": null,
   "metadata": {},
   "outputs": [],
   "source": []
  },
  {
   "cell_type": "code",
   "execution_count": 418,
   "metadata": {
    "internals": {},
    "slideshow": {
     "slide_type": "-"
    }
   },
   "outputs": [
    {
     "data": {
      "text/plain": [
       "'Magic!'"
      ]
     },
     "execution_count": 418,
     "metadata": {},
     "output_type": "execute_result"
    }
   ],
   "source": [
    "test4 = np.array([[16, 2, 3, 13],\n",
    "                  [5, 11, 10, 8],\n",
    "                  [9,  7, 6, 12],\n",
    "                  [4, 14, 15, 1]]) \n",
    "isMagic(test4) # True"
   ]
  },
  {
   "cell_type": "code",
   "execution_count": 419,
   "metadata": {
    "internals": {},
    "slideshow": {
     "slide_type": "-"
    }
   },
   "outputs": [
    {
     "data": {
      "text/plain": [
       "'Magic!'"
      ]
     },
     "execution_count": 419,
     "metadata": {},
     "output_type": "execute_result"
    }
   ],
   "source": [
    "test5 = np.array([[17, 24,  1,  8, 15],\n",
    "                  [23,  5,  7, 14, 16],\n",
    "                  [4,   6, 13, 20, 22],\n",
    "                  [10, 12, 19, 21,  3],\n",
    "                  [11, 18, 25, 2,   9]]) \n",
    "isMagic(test5) # True"
   ]
  },
  {
   "cell_type": "code",
   "execution_count": 420,
   "metadata": {
    "internals": {
     "slide_helper": "subslide_end"
    },
    "slide_helper": "slide_end",
    "slideshow": {
     "slide_type": "-"
    }
   },
   "outputs": [
    {
     "data": {
      "text/plain": [
       "'Magic!'"
      ]
     },
     "execution_count": 420,
     "metadata": {},
     "output_type": "execute_result"
    }
   ],
   "source": [
    "test6 = np.array([[35, 1, 6, 26, 19, 24],\n",
    "                  [3, 32, 7, 21, 23, 25],\n",
    "                  [31, 9, 2, 22, 27, 20],\n",
    "                  [8, 28, 33, 17, 10,15],\n",
    "                  [30, 5, 34, 12, 14,16],\n",
    "                  [4, 36, 29, 13, 18,11]])\n",
    "#np.sort(test6, axis = None).reshape(test6.shape)\n",
    "isMagic(test6) # True"
   ]
  },
  {
   "cell_type": "markdown",
   "metadata": {},
   "source": [
    "### Problem 3\n",
    "\n",
    "\n",
    "We discuss random sampling in the class, which helps when exact solution is hard to obtain. For example, we know that the area of a circle is $\\pi \\times r^2 \\text{, where } r \\text{ is the radius of the circle. }$ But we don't know how to approximate the number $\\pi$.\n",
    "\n",
    "Monte Carlo simulation can help.\n",
    "\n",
    "<img src=https://s3.amazonaws.com/nycdsabt01/monte_carlo.png width=330/>\n",
    "\n",
    "- Use `np.random.uniform` function to generate 2000 two dimensional samples. `uniform` indicates that the likelihood for any number from **-1 to 1** occurs is uniform. The shape of your sample should look like below (of course the actual numbers can be different)\n",
    "```\n",
    "array([[-0.53277773, -0.93122476],\n",
    "        [ 0.16017788, -0.74177143],\n",
    "        [ 0.37248292,  0.36734988],\n",
    "        ..., \n",
    "        [ 0.5314644 , -0.50411338],\n",
    "        [ 0.12208452,  0.6242463 ],\n",
    "        [ 0.74767075, -0.56486567]])\n",
    "```\n",
    "Therefore all the samples fall in the $[-1, 1] \\times [-1, 1] \\text{ box.}$"
   ]
  },
  {
   "cell_type": "code",
   "execution_count": 8,
   "metadata": {},
   "outputs": [
    {
     "data": {
      "text/plain": [
       "(2000, 2)"
      ]
     },
     "execution_count": 8,
     "metadata": {},
     "output_type": "execute_result"
    }
   ],
   "source": [
    "import numpy as np\n",
    "import math\n",
    "rand = np.random.uniform(-1,1,4000).reshape(2000,2)\n",
    "#area = rand.reshape(2000,2)\n",
    "rand.shape"
   ]
  },
  {
   "cell_type": "code",
   "execution_count": null,
   "metadata": {},
   "outputs": [],
   "source": []
  },
  {
   "cell_type": "code",
   "execution_count": null,
   "metadata": {},
   "outputs": [],
   "source": []
  },
  {
   "cell_type": "markdown",
   "metadata": {},
   "source": [
    "- The probability of points being in the circle is the ratio between the area of the circle and the area of the $[-1, 1] \\times [-1, 1] \\text{ box.}$ More precisely,\n",
    "\n",
    "$$\\text{Probability} \\big( \\text{points falling in the circle} \\big) = \\frac{\\text{area of the circle}}{\\text{area of the rectangle}} = \\frac{\\pi}{4},$$\n",
    "\n",
    "From the sample you generate in the last problem, estimate the probability of falling in the circle, then approximate $\\pi$."
   ]
  },
  {
   "cell_type": "code",
   "execution_count": 290,
   "metadata": {},
   "outputs": [
    {
     "data": {
      "text/plain": [
       "0.7853981633974483"
      ]
     },
     "execution_count": 290,
     "metadata": {},
     "output_type": "execute_result"
    }
   ],
   "source": [
    "(math.pi/4)"
   ]
  },
  {
   "cell_type": "code",
   "execution_count": 355,
   "metadata": {},
   "outputs": [],
   "source": [
    "import numpy as np\n",
    "import math\n",
    "rand = np.random.uniform(-1,1,4000)\n",
    "area = rand.reshape(2000,2)\n",
    "circ = 0\n",
    "\n",
    "\n",
    "\n",
    "for n in area:\n",
    "    if (n[0]**2)+(n[1]**2) <= 1:\n",
    "        circ = circ +1        \n",
    "prob = (circ/2000)\n",
    "piie = prob*4\n",
    "piie\n",
    "\n",
    "\n",
    "#probability = np.mean(pts[:,0]**2 + pts[:,1]**2 <=1)\n",
    "#probability*4 \n"
   ]
  },
  {
   "cell_type": "code",
   "execution_count": 356,
   "metadata": {},
   "outputs": [
    {
     "data": {
      "text/plain": [
       "3.152"
      ]
     },
     "execution_count": 356,
     "metadata": {},
     "output_type": "execute_result"
    }
   ],
   "source": [
    "\n",
    "piie"
   ]
  }
 ],
 "metadata": {
  "anaconda-cloud": {},
  "kernelspec": {
   "display_name": "Python 3",
   "language": "python",
   "name": "python3"
  },
  "language_info": {
   "codemirror_mode": {
    "name": "ipython",
    "version": 3
   },
   "file_extension": ".py",
   "mimetype": "text/x-python",
   "name": "python",
   "nbconvert_exporter": "python",
   "pygments_lexer": "ipython3",
   "version": "3.7.3"
  },
  "widgets": {
   "state": {},
   "version": "1.1.2"
  }
 },
 "nbformat": 4,
 "nbformat_minor": 1
}
