{
 "cells": [
  {
   "cell_type": "markdown",
   "metadata": {},
   "source": [
    "<p><a name=\"sections\"></a></p>\n",
    "\n",
    "\n",
    "# Sections\n",
    "- <a href=\"#bitwise\">Bitwise Operator</a><br>\n",
    "- <a href=\"#yield\">Yield Statement</a><br>\n",
    "- <a href=\"#functions\">More on defining functions</a><br>\n",
    "- <a href=\"#class\">Classes</a><br>\n",
    " - <a href=\"#attri\">Attributes and Methods</a><br>\n",
    " - <a href=\"#special\">Special Name Method</a><br>\n",
    " - <a href=\"#inherence\">Inherence</a><br>\n",
    "- <a href=\"#sol\">Solutions</a><br>\n"
   ]
  },
  {
   "cell_type": "markdown",
   "metadata": {},
   "source": [
    "<p><a name=\"bitwise\"></a></p>\n",
    "# Bitwise Operator\n",
    "\n",
    "- We use ‘&’ and ‘|’ operators to combine different true or false conditions in other programming languages, say R.\n",
    "- Does Python have similar operator?\n",
    "- The answer is YES! But they are called bitwise operators instead.\n",
    "- If we are comparing two boolean values, it works just as we expected."
   ]
  },
  {
   "cell_type": "code",
   "execution_count": null,
   "metadata": {
    "collapsed": true
   },
   "outputs": [],
   "source": [
    "True & False"
   ]
  },
  {
   "cell_type": "code",
   "execution_count": null,
   "metadata": {
    "collapsed": true
   },
   "outputs": [],
   "source": [
    "True | False"
   ]
  },
  {
   "cell_type": "code",
   "execution_count": null,
   "metadata": {
    "collapsed": true
   },
   "outputs": [],
   "source": [
    "(True & False) | True"
   ]
  },
  {
   "cell_type": "markdown",
   "metadata": {},
   "source": [
    "To understand bitwise comparison, we need to get a basic understanding of [binary representations of numbers](https://www.bottomupcs.com/chapter01.xhtml)."
   ]
  },
  {
   "cell_type": "code",
   "execution_count": null,
   "metadata": {
    "collapsed": true
   },
   "outputs": [],
   "source": [
    "bin(10)"
   ]
  },
  {
   "cell_type": "code",
   "execution_count": null,
   "metadata": {
    "collapsed": true
   },
   "outputs": [],
   "source": [
    "bin(12)"
   ]
  },
  {
   "cell_type": "markdown",
   "metadata": {},
   "source": [
    "- Here, `0b` stands for binary representation and `1010` is the binary values of decimal 10.\n",
    "- When we use the bitwise operators to compare two numbers, actually it is comparing each bit of the binary representation.\n",
    "\n",
    "                \n",
    "                1  0  1  0\n",
    "                &  &  &  &\n",
    "                1  1  0  0\n",
    "                -----------\n",
    "                1  0  0  0\n",
    "                "
   ]
  },
  {
   "cell_type": "code",
   "execution_count": null,
   "metadata": {
    "collapsed": true
   },
   "outputs": [],
   "source": [
    "10 & 12"
   ]
  },
  {
   "cell_type": "markdown",
   "metadata": {},
   "source": [
    "A commonly used example is to check whether an integer is even. It is the same as `10 % 2` but more efficient"
   ]
  },
  {
   "cell_type": "code",
   "execution_count": null,
   "metadata": {
    "collapsed": true
   },
   "outputs": [],
   "source": [
    "10 & 1"
   ]
  },
  {
   "cell_type": "markdown",
   "metadata": {},
   "source": [
    "Check all the available bitwise operators in Python [here](https://wiki.python.org/moin/BitwiseOperators)."
   ]
  },
  {
   "cell_type": "markdown",
   "metadata": {},
   "source": [
    "<p><a name=\"yield\"></a></p>\n",
    "# Yield Statement"
   ]
  },
  {
   "cell_type": "markdown",
   "metadata": {},
   "source": [
    "- The **yield** statement is similar to return, however, it won’t return the whole result (say a very large list) at the end of the function but a generator instead.\n",
    "\n",
    "- What is generator?  Each generator has a next method that you can iterate through in a for loop. "
   ]
  },
  {
   "cell_type": "code",
   "execution_count": null,
   "metadata": {
    "collapsed": true
   },
   "outputs": [],
   "source": [
    "def ret(L):\n",
    "    res = list(map(lambda x: x ** 2, L))\n",
    "    return res"
   ]
  },
  {
   "cell_type": "code",
   "execution_count": null,
   "metadata": {
    "collapsed": true
   },
   "outputs": [],
   "source": [
    "ret([1,2,3])"
   ]
  },
  {
   "cell_type": "markdown",
   "metadata": {},
   "source": [
    "What if we use the yield statement?"
   ]
  },
  {
   "cell_type": "code",
   "execution_count": null,
   "metadata": {
    "collapsed": true
   },
   "outputs": [],
   "source": [
    "def gen(L):\n",
    "    for i in L:\n",
    "        yield i ** 2"
   ]
  },
  {
   "cell_type": "code",
   "execution_count": null,
   "metadata": {
    "collapsed": true
   },
   "outputs": [],
   "source": [
    "gen([1,2,3])"
   ]
  },
  {
   "cell_type": "markdown",
   "metadata": {},
   "source": [
    "- It tells me that the result of this function is a generator instead of a list as we saw on the previous code cell. So how can we check the actual result?\n",
    "\n",
    "- There are two ways to do it. \n",
    " - The first one is to use a for loop to iterate through each element by keep calling the next() method from the generator. You won’t be able to see Python calling the next() explicitly, but it is what’s going on behind the scene."
   ]
  },
  {
   "cell_type": "code",
   "execution_count": null,
   "metadata": {
    "collapsed": true
   },
   "outputs": [],
   "source": [
    "a = gen([1,2,3])\n",
    "for i in a:\n",
    "    print(i)"
   ]
  },
  {
   "cell_type": "markdown",
   "metadata": {},
   "source": [
    "- The second one is explicitly convert it to a list by calling the list() function."
   ]
  },
  {
   "cell_type": "code",
   "execution_count": null,
   "metadata": {
    "collapsed": true
   },
   "outputs": [],
   "source": [
    "a = gen([1,2,3])\n",
    "list(a)"
   ]
  },
  {
   "cell_type": "markdown",
   "metadata": {},
   "source": [
    "The generator object can only be iterated once and the variable itself will be removed by Python [garbage collection](https://pymotw.com/2/gc/) at some point."
   ]
  },
  {
   "cell_type": "code",
   "execution_count": null,
   "metadata": {
    "collapsed": true
   },
   "outputs": [],
   "source": [
    "a = gen([1,2,3])\n",
    "print(next(a))\n",
    "print(next(a))\n",
    "print(next(a))\n",
    "print(next(a))"
   ]
  },
  {
   "cell_type": "markdown",
   "metadata": {},
   "source": [
    "Another way to create a generator is similar to list comprehension but use parentheses instead."
   ]
  },
  {
   "cell_type": "code",
   "execution_count": null,
   "metadata": {
    "collapsed": true
   },
   "outputs": [],
   "source": [
    "import math\n",
    "generator = (math.sqrt(x) for x in [1, 4, 9, 16])"
   ]
  },
  {
   "cell_type": "code",
   "execution_count": null,
   "metadata": {
    "collapsed": true
   },
   "outputs": [],
   "source": [
    "generator"
   ]
  },
  {
   "cell_type": "markdown",
   "metadata": {},
   "source": [
    "- Once you get the idea of yield statement and what generators is, check out the [itertools](https://docs.python.org/3/library/itertools.html) package. \n",
    "\n",
    "- Feel the beauty of “lazy functional programming language”."
   ]
  },
  {
   "cell_type": "markdown",
   "metadata": {},
   "source": [
    "<p><a name=\"functions\"></a></p>\n",
    "# More on defining functions"
   ]
  },
  {
   "cell_type": "markdown",
   "metadata": {},
   "source": [
    "- The most useful form is to specify a default value for one or more arguments. \n",
    "- This creates a function that can be called with fewer arguments than it is defined to allow. For example:"
   ]
  },
  {
   "cell_type": "code",
   "execution_count": null,
   "metadata": {
    "collapsed": true
   },
   "outputs": [],
   "source": [
    "def ask_ok(prompt, retries=4, complaint='Yes or no, please!'):\n",
    "    while True:\n",
    "        ok = input(prompt)   # In Python 2, it is called raw_input()\n",
    "        if ok in ['y', 'ye', 'yes']:\n",
    "            return True\n",
    "        if ok in ['n', 'no', 'nop', 'nope']:\n",
    "            return False\n",
    "        retries = retries - 1\n",
    "        if retries < 0:\n",
    "            raise IOError('Not a good user.')\n",
    "        print(complaint)"
   ]
  },
  {
   "cell_type": "markdown",
   "metadata": {},
   "source": [
    "- `input()` will open an interactive window that waiting for user input.\n",
    "\n",
    "- This function can be called in several ways:\n",
    " - giving only the mandatory argument: ask_ok('Do you really want to quit?')\n",
    " - giving one of the optional arguments: ask_ok('OK to overwrite the file?', 2)\n",
    " - or even giving all arguments: ask_ok('OK to overwrite the file?', 2, 'Come on, only yes or no!')\n",
    "- Since we didn't specify the name of these arugments, they will be assigned according to their positional order. "
   ]
  },
  {
   "cell_type": "code",
   "execution_count": null,
   "metadata": {
    "collapsed": true
   },
   "outputs": [],
   "source": [
    "ask_ok('Do you really want to quit?')"
   ]
  },
  {
   "cell_type": "markdown",
   "metadata": {},
   "source": [
    "**Note** It is invalid in Python to put keyword argument in front of positional argument."
   ]
  },
  {
   "cell_type": "code",
   "execution_count": null,
   "metadata": {
    "collapsed": true
   },
   "outputs": [],
   "source": [
    "ask_ok('OK to overwrite the file?', retries=2, 'Come on, only yes or no!')"
   ]
  },
  {
   "cell_type": "markdown",
   "metadata": {},
   "source": [
    "**Important warning:** \n",
    "- The default value is evaluated only once. This makes a difference when the default is a mutable object such as a list, dictionary.\n",
    "- For example, the following function accumulates the arguments passed to it on subsequent calls:"
   ]
  },
  {
   "cell_type": "code",
   "execution_count": null,
   "metadata": {
    "collapsed": true
   },
   "outputs": [],
   "source": [
    "def f(a, L=[]):\n",
    "    L.append(a)\n",
    "    return L\n",
    "\n",
    "print(f(1))\n",
    "print(f(2))\n",
    "print(f(3))"
   ]
  },
  {
   "cell_type": "markdown",
   "metadata": {},
   "source": [
    "If you don’t want the default to be shared between subsequent calls, you can write the function like this instead:"
   ]
  },
  {
   "cell_type": "code",
   "execution_count": null,
   "metadata": {
    "collapsed": true
   },
   "outputs": [],
   "source": [
    "def f(a, L=None):\n",
    "    if L is None:\n",
    "        L = []\n",
    "    L.append(a)\n",
    "    return L"
   ]
  },
  {
   "cell_type": "markdown",
   "metadata": {},
   "source": [
    "Arguments with default values have to be defined after non-default arguments."
   ]
  },
  {
   "cell_type": "code",
   "execution_count": null,
   "metadata": {
    "collapsed": true,
    "scrolled": true
   },
   "outputs": [],
   "source": [
    "def f(L=None, a):\n",
    "    pass"
   ]
  },
  {
   "cell_type": "markdown",
   "metadata": {},
   "source": [
    "- Sometimes your function has a number of input parameters but you don't want to specify all of them at the definition. \n",
    "- Then you can use `args` (tuple of arguments) and `kwargs` (keyword arguments) when you define the function."
   ]
  },
  {
   "cell_type": "code",
   "execution_count": null,
   "metadata": {
    "collapsed": true
   },
   "outputs": [],
   "source": [
    "def register_student(name, *args, **kwargs):\n",
    "    print(\"-- The student's name is \", name)\n",
    "    print(\"-\" * 40)\n",
    "    print(type(args))\n",
    "    for arg in args:\n",
    "        print(arg)\n",
    "    print(\"-\" * 40)\n",
    "    print(type(kwargs))\n",
    "    keys = sorted(kwargs.keys())\n",
    "    for kw in keys:\n",
    "        print(kw, \":\", kwargs[kw])"
   ]
  },
  {
   "cell_type": "code",
   "execution_count": null,
   "metadata": {
    "collapsed": true
   },
   "outputs": [],
   "source": [
    "register_student(\"Charles\", \"Summer\", \"2016\", sex=\"M\", degree=\"master\")"
   ]
  },
  {
   "cell_type": "markdown",
   "metadata": {},
   "source": [
    "- The reverse situation occurs when the arguments are already in a list or tuple but need to be unpacked for a function call requiring separate positional arguments. \n",
    "- For instance, the built-in `range()` function expects separate start and stop arguments. \n",
    "- If they are not available separately, write the function call with the `*` operator to unpack the arguments out of a list or tuple:"
   ]
  },
  {
   "cell_type": "code",
   "execution_count": null,
   "metadata": {
    "collapsed": true
   },
   "outputs": [],
   "source": [
    "list(range(3, 6)) # normal call with separate arguments"
   ]
  },
  {
   "cell_type": "code",
   "execution_count": null,
   "metadata": {
    "collapsed": true
   },
   "outputs": [],
   "source": [
    "args = [3, 6, 2]\n",
    "list(range(*args)) # call with arguments unpacked from a list"
   ]
  },
  {
   "cell_type": "markdown",
   "metadata": {},
   "source": [
    "We can also use the `*` operator to construct a list of tuples from a nested list by calling the zip function."
   ]
  },
  {
   "cell_type": "code",
   "execution_count": null,
   "metadata": {
    "collapsed": true
   },
   "outputs": [],
   "source": [
    "nested_list = [[1,2,3], [4,5,6], [7,8,9]]\n",
    "list(zip(*nested_list))"
   ]
  },
  {
   "cell_type": "markdown",
   "metadata": {},
   "source": [
    "It does the same thing as the following code by expanding the nested list."
   ]
  },
  {
   "cell_type": "code",
   "execution_count": null,
   "metadata": {
    "collapsed": true
   },
   "outputs": [],
   "source": [
    "list(zip([1,2,3], [4,5,6], [7,8,9]))"
   ]
  },
  {
   "cell_type": "markdown",
   "metadata": {},
   "source": [
    "In the same fashion, dictionaries can deliver keyword arguments with the `**` operator:"
   ]
  },
  {
   "cell_type": "code",
   "execution_count": null,
   "metadata": {
    "collapsed": true
   },
   "outputs": [],
   "source": [
    "arguments = [\"Summer\", \"2016\"]\n",
    "keywords = {'sex':'M', 'degree':\"Master\"}"
   ]
  },
  {
   "cell_type": "code",
   "execution_count": null,
   "metadata": {
    "collapsed": true
   },
   "outputs": [],
   "source": [
    "register_student(\"Charles\", *arguments, **keywords)"
   ]
  },
  {
   "cell_type": "markdown",
   "metadata": {},
   "source": [
    "<p><a name=\"class\"></a></p>\n",
    "# Classes\n",
    "\n",
    "- Classes are a method of organizing code. The idea is common to virtually all programming languages designed in the past thirty years, including Java, C++, JavaScript, Scala, etc.\n",
    "- Classes are closely tied to objects.  A class is a syntactic construct that acts as a template for objects.\n",
    " - We first write a class.\n",
    " - Then we create objects according to the template provided by that class.  These are called “objects” or “instances” of the class.\n",
    "- Understanding what classes are, when to use them, and how to use them can be useful. In the process, we'll learn the meaning of the term Object-Oriented Programming.\n",
    "\n",
    "**Objects**\n",
    "- “Everything is an object”\n",
    "- In Python, every value - integer, string, list, tuple even a function - is an object.\n",
    "- By defining classes, you can in effect define your own type of data.  You can even define infix operators (like +) in your class.\n",
    "- You can find the class of which an object is an instance by using the type function:"
   ]
  },
  {
   "cell_type": "code",
   "execution_count": null,
   "metadata": {
    "collapsed": true
   },
   "outputs": [],
   "source": [
    "s = set([1,2,3])\n",
    "type(s)"
   ]
  },
  {
   "cell_type": "code",
   "execution_count": null,
   "metadata": {
    "collapsed": true
   },
   "outputs": [],
   "source": [
    "type(3)"
   ]
  },
  {
   "cell_type": "code",
   "execution_count": null,
   "metadata": {
    "collapsed": true
   },
   "outputs": [],
   "source": [
    "type({1:2})"
   ]
  },
  {
   "cell_type": "markdown",
   "metadata": {},
   "source": [
    "- An object is a collection of values together with functions that can access those values.\n",
    " - The values have names, and are called attributes.\n",
    " - The functions are called methods.\n",
    "- Together, the values represent some object and the methods are the operations you can perform on those objects. For example:\n",
    " - a Library object would be represented by two lists: all the books it has, and the ones that are checked out.  The methods would include check_out_book(book) and return_book(book).\n",
    " - a Car object would be represented by the the brand, model, color and year. The method would include accelerate, brake, turn left/right and back up.\n",
    " "
   ]
  },
  {
   "cell_type": "markdown",
   "metadata": {},
   "source": [
    "<p><a name=\"attri\"></a></p>\n",
    "## Attributes and Methods\n",
    "\n",
    "- We’ll go into details in a bit, but here is the syntax to define a simple class:\n",
    "\n",
    "```\n",
    "class Classname(object):\n",
    "    def __init__(self):\n",
    "        initialize representation by assigning to variables\n",
    "\n",
    "    def methodname(self, ...args...):\n",
    "        define method; \n",
    "        change representation or return value or both; \n",
    "        use self.var to refer to variable var defined in init.\n",
    "```\n",
    "\n",
    "- In `__init__`, we assign the desired representation to one or more variables, so we just have to decide what their names will be.\n",
    "\n",
    "- Once we have this class, we can create instances of it:\n",
    "\n",
    "```\n",
    "newobj = Classname()\n",
    "```\n",
    "\n",
    "- We invoke methods using object notation:\n",
    "\n",
    "```\n",
    "newobj.methodname(...args...)\n",
    "```\n",
    "- Note that even though we defined the method using ordinary function definition syntax, we must call it using object syntax.  That is just because it is defined inside a class."
   ]
  },
  {
   "cell_type": "markdown",
   "metadata": {},
   "source": [
    "- We’re now going to go into more detail.  As our example, we’ll define a class Vector representing vectors in an n-dimensional space.\n",
    "- We will start out with simple operations:  initialize a vector with a list of numbers; calculate the length of the vector in Euclidean space.\n",
    "```\n",
    "vec_1 = Vector([1,2,3])\n",
    "vec_1.length() ---> 3.74165738677\n",
    "```\n",
    "\n",
    "- After that we will introduce ways to print elements, add two vectors, and other operations.\n",
    "\n",
    "Here is how to initialize an object with an argument:"
   ]
  },
  {
   "cell_type": "code",
   "execution_count": null,
   "metadata": {
    "collapsed": true
   },
   "outputs": [],
   "source": [
    "class Vector(object):\n",
    "    def __init__(self, list_):\n",
    "        self.coords = list_"
   ]
  },
  {
   "cell_type": "markdown",
   "metadata": {},
   "source": [
    "- `__init__()` always takes at least one argument, `self`, that refers to the object being created.  Variables of the form `self.name` constitute the attributes of the object, i.e. its representation. In this case, the representation is a list, self.coords.\n",
    "\n",
    "- When creating an instance of the class `Vector`, the `__init__()` method is invoked. It initializes the coords attribute of that instance. "
   ]
  },
  {
   "cell_type": "markdown",
   "metadata": {},
   "source": [
    "We can add methods to classes. For example, if we want to calculate the length of a vector, we can add:"
   ]
  },
  {
   "cell_type": "code",
   "execution_count": null,
   "metadata": {
    "collapsed": true
   },
   "outputs": [],
   "source": [
    "class Vector(object):\n",
    "    def __init__(self, list_):\n",
    "        self.coords = list_\n",
    "\n",
    "    def length(self):\n",
    "        return sum([x**2 for x in self.coords])**.5"
   ]
  },
  {
   "cell_type": "markdown",
   "metadata": {},
   "source": [
    "- When `length()` is invoked as “`v.length()`”, the instance `v` becomes the parameter self.  Then self.coords is used to refer to the coords attribute of the instance.\n",
    "- As noted earlier, we can create an instance of `Vector` and access its method using dot notation.  We can also look at its attribute:"
   ]
  },
  {
   "cell_type": "code",
   "execution_count": null,
   "metadata": {
    "collapsed": true
   },
   "outputs": [],
   "source": [
    "vec_1 = Vector([1,2,3])\n",
    "print(vec_1.coords)\n",
    "print(vec_1.length())"
   ]
  },
  {
   "cell_type": "markdown",
   "metadata": {},
   "source": [
    "- Whenever we assign or retrieve any object attribute like `coords`, as show above, Python searches it in the object's `__dict__` dictionary.\n",
    "- Therefore, `vec1.coords` internally becomes `vec1.__dict__['coords']`"
   ]
  },
  {
   "cell_type": "code",
   "execution_count": null,
   "metadata": {
    "collapsed": true
   },
   "outputs": [],
   "source": [
    "vec_1.__dict__"
   ]
  },
  {
   "cell_type": "markdown",
   "metadata": {},
   "source": [
    "- People from C++ or Java background might argue that where is the [encapsulation](https://stackoverflow.com/a/23032098)?! \n",
    "- The basic idea of encapsulation is hide unnecessary attributes from the user by making it private.\n",
    "- However, in Python, there is an attribute naming convention to denote private attributes by prefixing the attribute with one or two underscores, e.g:\n",
    "\n",
    "```python\n",
    "self._coords\n",
    "self.__coords\n",
    "```\n",
    "\n",
    "- A single underscore indicates to the user of a class that an attribute should be considered private to the class, and should not be accessed directly.\n",
    "\n",
    "- A double underscore indicates the same, however, Python will mangle the attribute name somewhat to attempt to hide it."
   ]
  },
  {
   "cell_type": "code",
   "execution_count": null,
   "metadata": {
    "collapsed": true
   },
   "outputs": [],
   "source": [
    "class Vector(object):\n",
    "    def __init__(self, list_):\n",
    "        self._coords = list_\n",
    "        self.__coords = list_\n",
    "\n",
    "    def length(self):\n",
    "        return sum([x**2 for x in self.__coords])**.5"
   ]
  },
  {
   "cell_type": "code",
   "execution_count": null,
   "metadata": {
    "collapsed": true
   },
   "outputs": [],
   "source": [
    "# You can't call coords attribute directly anymore.\n",
    "vec_1 = Vector([1,2,3])\n",
    "print(vec_1.coords)"
   ]
  },
  {
   "cell_type": "markdown",
   "metadata": {},
   "source": [
    "- Though we are calling them private attribute, but you can still access them outside the class, with a different syntax. There is no real private variable/method in Python because [\"We're all consenting adults here.\"](https://mail.python.org/pipermail/tutor/2003-October/025932.html) \n",
    "- The underscore here is basically telling the user to \"use at your own risk\"."
   ]
  },
  {
   "cell_type": "code",
   "execution_count": null,
   "metadata": {
    "collapsed": true
   },
   "outputs": [],
   "source": [
    "# Call the attribute with one underscore\n",
    "print(vec_1._coords)"
   ]
  },
  {
   "cell_type": "code",
   "execution_count": null,
   "metadata": {
    "collapsed": true
   },
   "outputs": [],
   "source": [
    "# Call the attribute with two underscores\n",
    "print(vec_1._Vector__coords)"
   ]
  },
  {
   "cell_type": "markdown",
   "metadata": {},
   "source": [
    "**Aside** Underscores in Python\n",
    "\n",
    "- Single Lone Underscore (_)\n",
    " - In Jupter Notebook or Python Interpreter: The _ name points to the result of the last executed statement in an interactive interpreter session.\n",
    "  - As a name: This will allow the next person reading your code to know that, by convention, a certain name is assigned but not intended to be used. For instance, you may not be interested in the actual value of a loop counter:"
   ]
  },
  {
   "cell_type": "code",
   "execution_count": null,
   "metadata": {
    "collapsed": true
   },
   "outputs": [],
   "source": [
    "42"
   ]
  },
  {
   "cell_type": "code",
   "execution_count": null,
   "metadata": {
    "collapsed": true
   },
   "outputs": [],
   "source": [
    "_"
   ]
  },
  {
   "cell_type": "code",
   "execution_count": null,
   "metadata": {
    "collapsed": true
   },
   "outputs": [],
   "source": [
    "n = 42\n",
    "for _ in range(n):\n",
    "    # Do something\n",
    "    pass"
   ]
  },
  {
   "cell_type": "code",
   "execution_count": null,
   "metadata": {
    "collapsed": true
   },
   "outputs": [],
   "source": [
    "def func(x,y):\n",
    "    return x**2 + y**2, x, y\n",
    "\n",
    "result, _, _,  = func(2,3)\n",
    "print(result)"
   ]
  },
  {
   "cell_type": "markdown",
   "metadata": {},
   "source": [
    "<p><a name=\"special\"></a></p>\n",
    "## Special Name Method\n",
    "\n",
    "- In Python, a class can implement certain operations that are invoked by special syntax (such as arithmetic operations or subscripting) by defining methods with special names.\n",
    "- For example, the `__str__()` method is called by the `str()` built-in function and by the print statement to compute the string representation of an object.  E.g. add this method to `Vector`:"
   ]
  },
  {
   "cell_type": "code",
   "execution_count": null,
   "metadata": {
    "collapsed": true
   },
   "outputs": [],
   "source": [
    "class Vector(object):\n",
    "    def __init__(self, lis):\n",
    "        self.coords = lis\n",
    "\n",
    "\n",
    "    def length(self):\n",
    "        return sum([x**2 for x in self.coords])**.5\n",
    "    \n",
    "    def __str__(self):\n",
    "        return 'Vector' + str(self.coords)\n",
    "    \n",
    "# Then we print the Vector object:\n",
    "vec_1 = Vector([1,2,3])\n",
    "print(vec_1)"
   ]
  },
  {
   "cell_type": "markdown",
   "metadata": {},
   "source": [
    "**Emulating numeric types **\n",
    "\n",
    "- For list objects, ‘+’ means to concatenate two lists.  For the Vector class we just created, we may want to do vector addition by using the expression u + v, where u and v are instances of Vector.\n",
    "- In python we can implement the `__add__()` method:"
   ]
  },
  {
   "cell_type": "code",
   "execution_count": null,
   "metadata": {
    "collapsed": true
   },
   "outputs": [],
   "source": [
    "class Vector(object):\n",
    "    def __init__(self, lis):\n",
    "        self.coords = lis\n",
    "\n",
    "    def length(self):\n",
    "        return sum([x**2 for x in self.coords])**.5\n",
    "    \n",
    "    def __str__(self):\n",
    "        return 'Vector' + str(self.coords)\n",
    "    \n",
    "    def __add__(self, other):\n",
    "        return Vector(list(map(lambda x, y: x+y, self.coords, other.coords)))"
   ]
  },
  {
   "cell_type": "markdown",
   "metadata": {},
   "source": [
    "- Note that this method returns a new Vector object.  It is very common for non-mutating operations to return new objects in this way.\n",
    "\n",
    "- When we add two vector objects with ‘`+`’, `__add__()` is called:"
   ]
  },
  {
   "cell_type": "code",
   "execution_count": null,
   "metadata": {
    "collapsed": true
   },
   "outputs": [],
   "source": [
    "u = Vector([1,2,3])\n",
    "v = Vector([4,5,6])\n",
    "w = u + v    # Python actually runs u.__add__(v)\n",
    "print(w)"
   ]
  },
  {
   "cell_type": "markdown",
   "metadata": {},
   "source": [
    "** Exercise 1**\n",
    "\n",
    "- Now our Vector class looks like this:\n",
    "\n",
    "```\n",
    "class Vector(object):\n",
    "    def __init__(self, lis):\n",
    "        self.coords = lis\n",
    "\n",
    "    def length(self):\n",
    "        return sum([x**2 for x in self.coords])**.5\n",
    "\n",
    "    def __add__(self, other):\n",
    "        return Vector(map(lambda x, y: x+y,\n",
    "                          self.coords, other.coords))\n",
    "\n",
    "    def __str__(self):\n",
    "        return 'Vector'+str(self.coords)\n",
    "\n",
    "```\n",
    "\n",
    "- Add two more methods to the class:\n",
    "`__eq__(vec)`: returns `True` if this vector equals `vec`.\n",
    " - `u == v` calls `u.__eq__(v)`.\n",
    "- `__mul__(vec)`: returns the dot product of this vector and `vec`. The dot product is defined by: (`x`, `y`, …) `*` (`x’`, `y’`, …) = `xx’ + yy’ +` … \n",
    " - `u * v` calls `u.__mul__(v)`\n",
    " \n",
    "- Then evaluate the following expressions ( equality and $cos(\\theta)$):\n",
    "\n",
    "```\n",
    "u = Vector([1,1,0])\n",
    "v = Vector([0,1,1])\n",
    "print(u == v)                      \n",
    "print((u*v) / (u.length()*v.length()))\n",
    "```"
   ]
  },
  {
   "cell_type": "code",
   "execution_count": null,
   "metadata": {
    "collapsed": true
   },
   "outputs": [],
   "source": [
    "#### Your code here\n",
    "\n",
    "class Vector(object):\n",
    "    def __init__(self, lis):\n",
    "        self.coords = lis\n",
    "\n",
    "    def length(self):\n",
    "        return sum([x**2 for x in self.coords])**.5\n",
    "\n",
    "    def __add__(self, other):\n",
    "        return Vector(list(map(lambda x, y: x+y, self.coords, other.coords)))\n",
    "\n",
    "    def __str__(self):\n",
    "        return 'Vector'+str(self.coords)\n",
    "    \n",
    "    def __eq__(self, other):\n",
    "        pass\n",
    "    \n",
    "    def __mul__(self, other):\n",
    "        pass"
   ]
  },
  {
   "cell_type": "markdown",
   "metadata": {},
   "source": [
    "<p><a name=\"inherence\"></a></p>\n",
    "## Inheritance\n",
    "\n",
    "- Inheritance is another important feature of object-oriented programming.\n",
    "- With inheritance, a class can be a “child” of another class, and inherit the attributes and methods of the class.\n",
    " - The “parent” is called the superclass or base class.\n",
    " - The “child” is the subclass or derived class.\n",
    "- Every class has a superclass; this is the name given in parentheses in the class definition:\n",
    "```\n",
    "class Vector(object):\n",
    "```\n",
    "- In Python, you should use object as the base class if you don’t want to inherit from any other class. \n",
    "\n",
    "- To illustrate, we’ll start with a class called Book, representing a generic book, with a name and an author.  Its only operation is `__str__`."
   ]
  },
  {
   "cell_type": "code",
   "execution_count": null,
   "metadata": {
    "collapsed": true
   },
   "outputs": [],
   "source": [
    "class Book(object):\n",
    "    def __init__(self, name, author = None):\n",
    "        self.name = name\n",
    "        self.author = author\n",
    "    \n",
    "    def __str__(self):\n",
    "        return '<%s> by %s' % (self.name, self.author)"
   ]
  },
  {
   "cell_type": "markdown",
   "metadata": {},
   "source": [
    "- We can use inheritance to create subclasses representing specific types of books, e.g. paper books, ebooks.\n",
    "\n",
    "- We’ll create a subclass for e-books.  Note that every class has to have an `__init__` function."
   ]
  },
  {
   "cell_type": "code",
   "execution_count": null,
   "metadata": {
    "collapsed": true
   },
   "outputs": [],
   "source": [
    "class EBook(Book):\n",
    "    def __init__(self, name, author = None):\n",
    "        Book.__init__(self, name, author)"
   ]
  },
  {
   "cell_type": "markdown",
   "metadata": {},
   "source": [
    "- Several things to point out here:\n",
    "`EBook` is a subclass of Book, as shown in the first line.\n",
    "\n",
    "- `__init__` has the same arguments as Book’s `__init__`.  (We’ll add specialized methods soon.)\n",
    "- EBook inherits the attributes of Book.  It calls `Book.__init__` to initialize them.\n",
    "\n",
    "`EBook` inherits the attributes and methods of `Book`.  From the definition above, `EBook` and `Book` do exactly the same things."
   ]
  },
  {
   "cell_type": "code",
   "execution_count": null,
   "metadata": {
    "collapsed": true
   },
   "outputs": [],
   "source": [
    "book_1 = Book('The little SAS book', 'Lora D. Delwiche')\n",
    "ebook_1 = EBook('R CookBook', 'Paul Teetor')\n",
    "print(book_1)\n",
    "print(ebook_1)        # inherited method from Book"
   ]
  },
  {
   "cell_type": "markdown",
   "metadata": {},
   "source": [
    "**Class Inheritance is a relationship**\n",
    "- The key point about inheritance is this:  A subclass can be used wherever its superclass could be used.  That’s because the subclass has all the methods of the superclass, so any client using the superclass can also use the subclass.\n",
    "- We say that an EBook “is a” Book, or, more generally, any object of a subclass is also an object of the superclass.  The way to think about inheritance is that derived classes define specialized instances of the base class.\n",
    "- There are several operations designed to let you understand the types of objects and the subclass relationships:\n",
    " - `type`:  This will give the actual type of an object."
   ]
  },
  {
   "cell_type": "code",
   "execution_count": null,
   "metadata": {
    "collapsed": true
   },
   "outputs": [],
   "source": [
    "type(book_1)"
   ]
  },
  {
   "cell_type": "code",
   "execution_count": null,
   "metadata": {
    "collapsed": true
   },
   "outputs": [],
   "source": [
    "type(ebook_1)"
   ]
  },
  {
   "cell_type": "markdown",
   "metadata": {},
   "source": [
    "- `issubclass`:  Check the relationship between two classes:"
   ]
  },
  {
   "cell_type": "code",
   "execution_count": null,
   "metadata": {
    "collapsed": true
   },
   "outputs": [],
   "source": [
    "issubclass(EBook, Book)"
   ]
  },
  {
   "cell_type": "code",
   "execution_count": null,
   "metadata": {
    "collapsed": true
   },
   "outputs": [],
   "source": [
    "issubclass(Book, EBook)"
   ]
  },
  {
   "cell_type": "markdown",
   "metadata": {},
   "source": [
    "- `isinstance`:  Checks if an object is an object of a class or of any of its subclasses."
   ]
  },
  {
   "cell_type": "code",
   "execution_count": null,
   "metadata": {
    "collapsed": true
   },
   "outputs": [],
   "source": [
    "print(isinstance(ebook_1, Book))"
   ]
  },
  {
   "cell_type": "code",
   "execution_count": null,
   "metadata": {
    "collapsed": true
   },
   "outputs": [],
   "source": [
    "print(isinstance(ebook_1, EBook))"
   ]
  },
  {
   "cell_type": "code",
   "execution_count": null,
   "metadata": {
    "collapsed": true
   },
   "outputs": [],
   "source": [
    "print(isinstance(book_1, Book))"
   ]
  },
  {
   "cell_type": "code",
   "execution_count": null,
   "metadata": {
    "collapsed": true
   },
   "outputs": [],
   "source": [
    "print(isinstance(book_1, EBook))"
   ]
  },
  {
   "cell_type": "markdown",
   "metadata": {},
   "source": [
    "- The first line above is the most interesting: `ebook_1` is considered an instance of Book even though it is actually an EBook object.\n",
    "\n",
    "- Note that subclasses can have subclasses. `isinstance(object, class)` will return true as long as object is in any descendant of class.\n",
    "\n",
    "- Derived classes can have their own attributes.  We can add a new attribute - format, which can be ‘pdf’, ‘kindle’, etc. - to EBook:"
   ]
  },
  {
   "cell_type": "code",
   "execution_count": null,
   "metadata": {
    "collapsed": true
   },
   "outputs": [],
   "source": [
    "class EBook(Book):\n",
    "    def __init__(self, name, fmt, author = None):\n",
    "        Book.__init__(self, name, author)\n",
    "        self.fmt = fmt\n",
    "\n",
    "    def get_fmt(self):\n",
    "        return self.fmt\n",
    "\n",
    "\n",
    "ebook_2 = EBook('R CookBook', 'pdf', 'Paul Teetor')\n",
    "print(ebook_2.get_fmt())"
   ]
  },
  {
   "cell_type": "markdown",
   "metadata": {},
   "source": [
    "- Book class already provides an `__str__()` method, but if we want EBook to do something different - say, to print the format as well we can rewrite the `__str__()` method. \n",
    "- This is called **method overriding**."
   ]
  },
  {
   "cell_type": "code",
   "execution_count": null,
   "metadata": {
    "collapsed": true
   },
   "outputs": [],
   "source": [
    "class EBook(Book):\n",
    "    def __init__(self, name, fmt, author = None):\n",
    "        Book.__init__(self, name, author)\n",
    "        self.fmt = fmt\n",
    "        \n",
    "    def __str__(self):      # override __str__() method\n",
    "        return Book.__str__(self) + ', format: '+ self.fmt"
   ]
  },
  {
   "cell_type": "markdown",
   "metadata": {},
   "source": [
    "When we call `__str__()`, it invokes the method from EBook:"
   ]
  },
  {
   "cell_type": "code",
   "execution_count": null,
   "metadata": {
    "collapsed": true
   },
   "outputs": [],
   "source": [
    "ebook_3 = EBook('R CookBook', 'pdf', 'Paul Teetor')\n",
    "print(ebook_3)"
   ]
  },
  {
   "cell_type": "markdown",
   "metadata": {},
   "source": [
    "Objects can be changed (mutated) simply by assigning to their attributes.  Here we allow for the title of a book to be changed:"
   ]
  },
  {
   "cell_type": "code",
   "execution_count": null,
   "metadata": {
    "collapsed": true
   },
   "outputs": [],
   "source": [
    "class Book(object):\n",
    "    def __init__(self, name, author = None):\n",
    "        self.name = name\n",
    "        self.author = author\n",
    "    def __str__(self):\n",
    "        return '<%s> by %s' %(self.name, self.author)\n",
    "    def rename(self, newname):\n",
    "        self.name = newname\n",
    "\n",
    "book_1 = Book('The little SAS book', 'Lora D. Delwiche')\n",
    "print(\"The name of book_1 is originally %s\" % book_1)\n",
    "book_1.rename('The SAS book')\n",
    "print(\"The name of book_1 is now %s\" % book_1)"
   ]
  },
  {
   "cell_type": "markdown",
   "metadata": {},
   "source": [
    "**Exercise 2**\n",
    "\n",
    "- Add a new attribute and two methods to EBook:\n",
    "  - size is the number of bytes in the EBook.  This should be added to `__init__` as an argument with default 0, and should be included in the string representation.\n",
    "  - `get_size()` returns the size.\n",
    "  - `compress()` divides the size in half.\n"
   ]
  },
  {
   "cell_type": "code",
   "execution_count": null,
   "metadata": {
    "collapsed": true
   },
   "outputs": [],
   "source": [
    "#### Your code here\n",
    "class EBook(Book):\n",
    "    def __init__(self, name, fmt, author = None):\n",
    "        Book.__init__(self, name, author)\n",
    "        self.fmt = fmt\n",
    "        \n",
    "    def __str__(self):      # override __str__() method\n",
    "        return Book.__str__(self) + ', format: '+ self.fmt\n",
    "    \n",
    "    def get_size(self):\n",
    "        pass\n",
    "    \n",
    "    def compress(self):\n",
    "        pass"
   ]
  },
  {
   "cell_type": "markdown",
   "metadata": {},
   "source": [
    "<p><a name=\"method\"></a></p>\n",
    "# Class Method vs Static Method"
   ]
  },
  {
   "cell_type": "markdown",
   "metadata": {},
   "source": [
    "Let's assume an example of a class, dealing with date information "
   ]
  },
  {
   "cell_type": "code",
   "execution_count": null,
   "metadata": {
    "collapsed": true
   },
   "outputs": [],
   "source": [
    "class Date(object):\n",
    "\n",
    "    def __init__(self, day=0, month=0, year=0):\n",
    "        self.day = day\n",
    "        self.month = month\n",
    "        self.year = year"
   ]
  },
  {
   "cell_type": "markdown",
   "metadata": {},
   "source": [
    "- This class obviously could be used to store information about certain dates (without timezone information; let's assume all dates are presented in UTC).\n",
    "\n",
    "- Here we have `__init__`, a typical initializer of Python class instances, which receives arguments as a typical instancemethod, having the first **non-optional** argument (self) that holds reference to a newly created instance."
   ]
  },
  {
   "cell_type": "markdown",
   "metadata": {},
   "source": [
    "## Class Method\n",
    "\n",
    "- We have some tasks that can be nicely done using classmethods.\n",
    "\n",
    "- Let's assume that we want to create a lot of Date class instances having date information coming from outer source encoded as a string of next format ('dd-mm-yyyy'). We have to do that in different places of our source code in project.\n",
    "\n",
    "- So what we must do here is:\n",
    " - Parse a string to receive day, month and year as three integer variables or a 3-item tuple consisting of that variable.\n",
    " - Instantiate Date by passing those values to initialization call."
   ]
  },
  {
   "cell_type": "code",
   "execution_count": null,
   "metadata": {
    "collapsed": true
   },
   "outputs": [],
   "source": [
    "string_date = '23-08-1990'\n",
    "day, month, year = map(int, string_date.split('-'))\n",
    "date1 = Date(day, month, year)"
   ]
  },
  {
   "cell_type": "code",
   "execution_count": null,
   "metadata": {
    "collapsed": true
   },
   "outputs": [],
   "source": [
    "date1.day"
   ]
  },
  {
   "cell_type": "markdown",
   "metadata": {},
   "source": [
    "For this purpose, C++ has such feature as overloading, but Python lacks that feature - so here's when classmethod applies. Lets create another \"constructor\"."
   ]
  },
  {
   "cell_type": "code",
   "execution_count": null,
   "metadata": {
    "collapsed": true
   },
   "outputs": [],
   "source": [
    "class Date(object):\n",
    "\n",
    "    def __init__(self, day=0, month=0, year=0):\n",
    "        self.day = day\n",
    "        self.month = month\n",
    "        self.year = year\n",
    "        \n",
    "    \n",
    "    @classmethod\n",
    "    def from_string(cls, date_as_string):\n",
    "        '''\n",
    "        This function takes a string as input and returns a Date object.\n",
    "        The input string needs to follow the format of 'dd-mm-yyyy'\n",
    "        '''\n",
    "        day, month, year = list(map(int, date_as_string.split('-')))\n",
    "        date1 = cls(day, month, year)\n",
    "        return date1\n",
    "        \n",
    "# usage\n",
    "date2 = Date.from_string('23-08-1990')"
   ]
  },
  {
   "cell_type": "markdown",
   "metadata": {},
   "source": [
    "Let's look more carefully at the above implementation, and review what advantages we have here:\n",
    "\n",
    "- We've implemented date string parsing in one place and it's reusable now.\n",
    "- @classmethod is a special syntax sugar called [decorator](https://realpython.com/blog/python/primer-on-python-decorators/) in Python. \n",
    "- Decorator takes a function as an input and returns the modified function as the output. i.e. convert the `from_string` function to a class method.\n",
    "- cls is an object that holds **class itself**, not an instance of the class. It's pretty cool because if we inherit our Date class, all children will have from_string defined also."
   ]
  },
  {
   "cell_type": "markdown",
   "metadata": {},
   "source": [
    "## Static method\n",
    "\n",
    "- What about staticmethod? It's pretty similar to classmethod but doesn't take any obligatory parameters.\n",
    "\n",
    "- Let's look at the next use case.\n",
    "\n",
    " - We have a date string that we want to validate somehow. This task is also logically bound to Date class we've used so far, but still doesn't require instantiation of it.\n",
    "\n",
    "- Here is where staticmethod can be useful. Let's look at the next piece of code:"
   ]
  },
  {
   "cell_type": "code",
   "execution_count": null,
   "metadata": {
    "collapsed": true
   },
   "outputs": [],
   "source": [
    "class Date(object):\n",
    "    \n",
    "    def __init__(self, day=0, month=0, year=0):\n",
    "        self.day = day\n",
    "        self.month = month\n",
    "        self.year = year\n",
    "        \n",
    "    @classmethod\n",
    "    def from_string(cls, date_as_string):\n",
    "        '''\n",
    "        This function takes a string as input and returns a Date object.\n",
    "        The input string needs to follow the format of 'dd-mm-yyyy'\n",
    "        '''\n",
    "        day, month, year = list(map(int, date_as_string.split('-')))\n",
    "        date1 = cls(day, month, year)\n",
    "        return date1\n",
    "    \n",
    "    @staticmethod\n",
    "    def is_date_valid(date_as_string):\n",
    "        '''\n",
    "        This function will check whether the input date is valid or not.\n",
    "        The input string needs to follow the format of 'dd-mm-yyyy'\n",
    "        A valid date needs to have dd <=32 month <=12 and year <= 3999\n",
    "        '''\n",
    "        day, month, year = list(map(int, date_as_string.split('-')))\n",
    "        return day <= 31 and month <= 12 and year <= 3999\n",
    "\n",
    "# usage:\n",
    "Date.is_date_valid('08-34-1990')"
   ]
  },
  {
   "cell_type": "markdown",
   "metadata": {},
   "source": [
    "So, as we can see from usage of staticmethod, we don't have any access to what the class is- it's basically just a function, called syntactically like a method, but without access to the object and it's internals (fields and another methods), while classmethod does."
   ]
  },
  {
   "cell_type": "markdown",
   "metadata": {
    "collapsed": true
   },
   "source": [
    "<p><a name=\"sol\"></a></p>\n",
    "# Solutions"
   ]
  },
  {
   "cell_type": "markdown",
   "metadata": {},
   "source": [
    "**Exercise 1**"
   ]
  },
  {
   "cell_type": "code",
   "execution_count": null,
   "metadata": {
    "collapsed": true
   },
   "outputs": [],
   "source": [
    "class Vector(object):\n",
    "    def __init__(self, lis):\n",
    "        self.coords = lis\n",
    "\n",
    "    def length(self):\n",
    "        return sum([x**2 for x in self.coords])**.5\n",
    "\n",
    "    def __add__(self, other):\n",
    "        return Vector(map(lambda x, y: x+y, self.coords, other.coords))\n",
    "\n",
    "    def __str__(self):\n",
    "        return 'Vector'+str(self.coords)\n",
    "    \n",
    "    def __eq__(self, other):\n",
    "        return self.coords == other.coords\n",
    "    \n",
    "    def __mul__(self, other):\n",
    "        return sum([x * y for x, y in zip(self.coords, other.coords)])"
   ]
  },
  {
   "cell_type": "markdown",
   "metadata": {},
   "source": [
    "**Exercise 2**"
   ]
  },
  {
   "cell_type": "code",
   "execution_count": null,
   "metadata": {
    "collapsed": true
   },
   "outputs": [],
   "source": [
    "class EBook(Book):\n",
    "    def __init__(self, name, fmt, size=0, author = None):\n",
    "        Book.__init__(self, name, author)\n",
    "        self.fmt = fmt\n",
    "        self.size = size\n",
    "        \n",
    "    def __str__(self):      # override __str__() method\n",
    "        return Book.__str__(self) + ', format: '+ self.fmt + ' and the size is ' + str(self.size)\n",
    "    \n",
    "    def get_size(self):\n",
    "        return self.size\n",
    "    \n",
    "    def compress(self):\n",
    "        self.size /= 2"
   ]
  },
  {
   "cell_type": "code",
   "execution_count": null,
   "metadata": {
    "collapsed": true
   },
   "outputs": [],
   "source": []
  }
 ],
 "metadata": {
  "anaconda-cloud": {},
  "kernelspec": {
   "display_name": "Python 3",
   "language": "python",
   "name": "python3"
  },
  "language_info": {
   "codemirror_mode": {
    "name": "ipython",
    "version": 3
   },
   "file_extension": ".py",
   "mimetype": "text/x-python",
   "name": "python",
   "nbconvert_exporter": "python",
   "pygments_lexer": "ipython3",
   "version": "3.6.0"
  }
 },
 "nbformat": 4,
 "nbformat_minor": 1
}
