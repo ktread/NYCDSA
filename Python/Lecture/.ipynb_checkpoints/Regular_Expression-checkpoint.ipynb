{
 "cells": [
  {
   "cell_type": "markdown",
   "metadata": {},
   "source": [
    "<p><a name=\"sections\"></a></p>\n",
    "<br>\n",
    "<br>\n",
    "# Sections\n",
    "- <a href=\"#re\">Regular Expressions</a><br>\n",
    "    - <a href=\"#meta\">Metacharacters</a><br>\n",
    "        - <a href=\"#dot\">Dot</a><br>\n",
    "        - <a href=\"#question\">Question mark, plus, asterisk, and {}</a><br>\n",
    "        - <a href=\"#caret\">Caret/dollar sign</a><br>\n",
    "        - <a href=\"#bracket\">Bracket</a><br>\n",
    "        - <a href=\"#vertical\">Vertical Bar</a><br>\n",
    "        - <a href=\"#backslash\">Backslash</a><br>\n",
    "    - <a href=\"#function\">Functions in Regular Expression</a><br>\n",
    "        - <a href=\"#sub\">re.sub</a><br>\n",
    "        - <a href=\"#split\">re.split</a><br>\n",
    "        - <a href=\"#findall\">re.findall</a><br>\n",
    "    - <a href=\"#example\">Example: Wordcount</a><br>\n",
    "    - <a href=\"#email\">Example: Is it an email address</a><br>"
   ]
  },
  {
   "cell_type": "markdown",
   "metadata": {},
   "source": [
    "<p><a name=\"re\"></a></p>\n",
    "\n",
    "## Regular Expressions\n",
    "\n",
    "We have seen some basic and intermediate functions for handling and working with strings.\n",
    "\n",
    "However, if you really want to unleash the power of string manipulation, it's necessary to learn regular expressions.\n",
    "\n",
    "- **Concept**\n",
    "\n",
    "A regular expression is a special text string for describing a certain amount of text. This “certain amount of text” receives the formal name of **pattern**. Hence we say that a regular expression is a pattern that describes a set of strings.\n",
    "\n",
    "The goal of using regular expressions is to extract specific characters from text by describing its pattern.\n",
    "\n",
    "- **Pattern**\n",
    "\n",
    "For example, both **gray** and **grey** match the pattern **gr.y** in which the dot **.** refers to an arbitrary character."
   ]
  },
  {
   "cell_type": "markdown",
   "metadata": {},
   "source": [
    "<p><a name=\"meta\"></a></p>\n",
    "### Metacharacters\n",
    "[[back to top]](#sections)\n",
    "\n",
    "The simplest form of regular expressions is a pattern that matches a single character, for example, `a` matches exactly the character 'a'.\n",
    "\n",
    "However, there are some special characters that have a reserved status and they are known as **metacharacters**.\n",
    "\n",
    ">    . ^ $ * + ? { } [ ] \\ | ( )\n",
    "\n",
    "These metacharacters have special meaning when working with regular expressions. So the expression `a|b` does not match exactly the characters `a|b`. \n",
    "\n",
    "The backslash `\\` is called an **escape operator**, which is used for turning these metacharacters into normal characters. For example, `a\\|b` in regular expression matches exactly the character `a|b`."
   ]
  },
  {
   "cell_type": "markdown",
   "metadata": {},
   "source": [
    "### Python Module: re\n",
    "\n",
    "The library **re** is used to implement regular expressions in python."
   ]
  },
  {
   "cell_type": "code",
   "execution_count": null,
   "metadata": {
    "collapsed": true
   },
   "outputs": [],
   "source": [
    "import re\n",
    "raw_string = 'Hi, how are you today?, Hi'\n",
    "print(re.search('Hi', raw_string))"
   ]
  },
  {
   "cell_type": "code",
   "execution_count": null,
   "metadata": {
    "collapsed": true
   },
   "outputs": [],
   "source": [
    "print(re.search('Hello', raw_string))"
   ]
  },
  {
   "cell_type": "markdown",
   "metadata": {},
   "source": [
    "It returns a SRE_Mathch object if there exists a match, otherwise returns None."
   ]
  },
  {
   "cell_type": "code",
   "execution_count": null,
   "metadata": {
    "collapsed": true
   },
   "outputs": [],
   "source": [
    "s = re.search('Hi', raw_string)\n",
    "print(s.start()) # the starting position of of the matched string\n",
    "print(s.end())   # the ending position index of the matched string\n",
    "print(s.span())  # a tuple containing the (start, end) positions of the matched string\n",
    "print(s.group()) # the matched string"
   ]
  },
  {
   "cell_type": "markdown",
   "metadata": {},
   "source": [
    "### The meaning of metacharacters\n",
    "`re.search(pattern, string) != None` is `True` if the string matches the pattern. We will use this function to test our regular expressions."
   ]
  },
  {
   "cell_type": "markdown",
   "metadata": {},
   "source": [
    "<p><a name=\"dot\"></a></p>\n",
    "#### dot\n",
    "[[back to top]](#sections)\n",
    "\n",
    "`.` refers to any single characters. For example, `a.` matches any two characters start with 'a': `aa`, `ab`, `an`, `a1`, `a#`, etc."
   ]
  },
  {
   "cell_type": "code",
   "execution_count": null,
   "metadata": {
    "collapsed": true
   },
   "outputs": [],
   "source": [
    "print(re.search('a.', 'aa') != None)\n",
    "print(re.search('a.', 'ab') != None)\n",
    "print(re.search('a.', 'a1') != None)\n",
    "print(re.search('a.b', 'a+b') != None)\n",
    "print(re.search('a.b', 'a+x+b') != None)\n",
    "print(re.search('../../201.', 'From 06/01/2015') != None)"
   ]
  },
  {
   "cell_type": "markdown",
   "metadata": {},
   "source": [
    "What if we just want to extract the month from the entire string?\n",
    "\n",
    "`re.search('../../201.', 'From 06/01/2015')` -> `06`"
   ]
  },
  {
   "cell_type": "code",
   "execution_count": null,
   "metadata": {
    "collapsed": true
   },
   "outputs": [],
   "source": [
    "s = re.search('(..)/(..)/(201.)', 'From 06/01/2015')\n",
    "print(s.group(1))"
   ]
  },
  {
   "cell_type": "markdown",
   "metadata": {},
   "source": [
    "<p><a name=\"question\"></a></p>\n",
    "#### Question mark, plus, asterisk, and {}\n",
    "[[back to top]](#sections)\n",
    "\n",
    "`?` matches the preceding expression either once or zero times.\n",
    "\n",
    "`+` matches the preceding expression character at least once.\n",
    "\n",
    "`*` matches the preceding expression character arbitrary times.\n",
    "\n",
    "`{m,n}` matches the preceding expression at least m times and at most n times.\n",
    "\n",
    "For example, `ba?b` matches `bab` and `bb`."
   ]
  },
  {
   "cell_type": "code",
   "execution_count": null,
   "metadata": {
    "collapsed": true
   },
   "outputs": [],
   "source": [
    "print(re.search('ba?b', 'bb') != None)    # match\n",
    "print(re.search('ba?b', 'bab') != None)   # match\n",
    "print(re.search('ba?b', 'baab') != None)  # does not match"
   ]
  },
  {
   "cell_type": "markdown",
   "metadata": {},
   "source": [
    "`ba+b` matches `bab` and `baab`. `baaaab`, `baaaaaab`, etc."
   ]
  },
  {
   "cell_type": "code",
   "execution_count": null,
   "metadata": {
    "collapsed": true
   },
   "outputs": [],
   "source": [
    "print(re.search('ba+b', 'bb') != None)    # does not match\n",
    "print(re.search('ba+b', 'bab') != None)   # match\n",
    "print(re.search('ba+b', 'baab') != None)  # match"
   ]
  },
  {
   "cell_type": "markdown",
   "metadata": {},
   "source": [
    "`ba*b` matches both of them."
   ]
  },
  {
   "cell_type": "code",
   "execution_count": null,
   "metadata": {
    "collapsed": true
   },
   "outputs": [],
   "source": [
    "print(re.search('ba*b', 'bb') != None)    # match\n",
    "print(re.search('ba*b', 'bab') != None)   # match\n",
    "print(re.search('ba*b', 'baaaaaab') != None)  # match"
   ]
  },
  {
   "cell_type": "markdown",
   "metadata": {},
   "source": [
    "`ba{1,3}b` matches `bab`, `baab` and `baaab`."
   ]
  },
  {
   "cell_type": "code",
   "execution_count": null,
   "metadata": {
    "collapsed": true
   },
   "outputs": [],
   "source": [
    "print(re.search('ba{1,3}b', 'bab') != None)    # match\n",
    "print(re.search('ba{1,3}b', 'baab') != None)   # match\n",
    "print(re.search('ba{1,3}b', 'baaab') != None)  # match\n",
    "\n",
    "print(re.search('ba{1,3}b', 'bb') != None)     # does not match\n",
    "print(re.search('ba{1,3}b', 'baaaab') != None) # does not match"
   ]
  },
  {
   "cell_type": "markdown",
   "metadata": {},
   "source": [
    "`ba{0,1}b` is the same as `ba?b`. \n",
    "\n",
    "`ba{1,}b` is the same as `ba+b`. \n",
    "\n",
    "`ba{3,}b` matches `baaab`, `baaaab`, etc, in which 'a' appears more than 3 times."
   ]
  },
  {
   "cell_type": "markdown",
   "metadata": {},
   "source": [
    "<p><a name=\"caret\"></a></p>\n",
    "#### caret / dollar sign\n",
    "[[back to top]](#sections)\n",
    "\n",
    "`^` refers to the beginning of a text, while `$` refers to the ending of a text. \n",
    "\n",
    "For example, `^a` matches any text that begins with character `a`.\n",
    "\n",
    "`a$` matches any text ending with character `a`. "
   ]
  },
  {
   "cell_type": "code",
   "execution_count": null,
   "metadata": {
    "collapsed": true
   },
   "outputs": [],
   "source": [
    "print(re.search('^a', 'abc') != None)    # match\n",
    "print(re.search('^a', 'abcde') != None)  # match\n",
    "print(re.search('^a', ' abcde') != None) # does not match"
   ]
  },
  {
   "cell_type": "code",
   "execution_count": null,
   "metadata": {
    "collapsed": true
   },
   "outputs": [],
   "source": [
    "print(re.search('a$', 'aba') != None)   # match\n",
    "print(re.search('a$', 'abcba') != None)  # match\n",
    "print(re.search('a$', ' aba ') != None)  # does not match"
   ]
  },
  {
   "cell_type": "markdown",
   "metadata": {},
   "source": [
    "<p><a name=\"bracket\"></a></p>\n",
    "#### bracket\n",
    "[[back to top]](#sections)\n",
    "\n",
    "- `[]` is used to specify a set of characters that you wish to match. For example, `[123abc]` will match any of the characters `1, 2, 3, a, b`, or `c` ; this is the same as `[1-3a-c]`, which uses a range to express the same set of characters. Further more `[a-z]` matches all lower letters, while `[0-9]` matches all numbers.\n",
    "- Special characters lose their special meaning inside sets. For example, `[(+*)]` will match any of the literal characters '(', '+', `'*'`, or ')'.\n",
    "- Characters that are not within a range can be matched by complementing the set. If the first character of the set is '^', all the characters that are not in the set will be matched. "
   ]
  },
  {
   "cell_type": "code",
   "execution_count": null,
   "metadata": {
    "collapsed": true
   },
   "outputs": [],
   "source": [
    "print(re.search('[123abc]', 'defg')  != None)   # does not match\n",
    "print(re.search('[123abc]', '1defg') != None)   # match\n",
    "print(re.search('[1-3a-c]', '2defg') != None)   # match\n",
    "print(re.search('[15abij]', '2degh') != None)   # does not match\n",
    "print(re.search('[^15abij]', '2degh') != None)   # match"
   ]
  },
  {
   "cell_type": "markdown",
   "metadata": {},
   "source": [
    "The expression `()` is very similar to its mathematical meaning, the brackets group the expressions contained inside them, and you can repeat the contents in a group with a repeating qualifier. \n",
    "\n",
    "For example, the pattern `(abc){2,3}` matches `abc` 2 or 3 times."
   ]
  },
  {
   "cell_type": "code",
   "execution_count": null,
   "metadata": {
    "collapsed": true
   },
   "outputs": [],
   "source": [
    "print(re.search('(abc){2,3}', 'abc')  != None)         # does not match\n",
    "print(re.search('(abc){2,3}', 'abcabc')  != None)      # match\n",
    "print(re.search('(abc){2,3}', 'abcabcabc')  != None)   # match\n",
    "\n",
    "print(re.search('(Vivian, ){2,}', 'Vivian, Vivian, Jason, ')  != None)   # match\n",
    "print(re.search('(Vivian, ){2,}', 'Vivian, Jason, Vivian, ')  != None)   # does not match"
   ]
  },
  {
   "cell_type": "markdown",
   "metadata": {},
   "source": [
    "<p><a name=\"vertical\"></a></p>\n",
    "#### vertical bar\n",
    "[[back to top]](#sections)\n",
    "\n",
    "`|` is a logical operator. For examples, `a|b` matches `a` or `b`, which is similar to `[ab]`. \n",
    "`abc|123` matches `abc` or `123`, while `[abc123]` matches any single characters in `a, b, c, 1, 2, 3`. "
   ]
  },
  {
   "cell_type": "code",
   "execution_count": null,
   "metadata": {
    "collapsed": true
   },
   "outputs": [],
   "source": [
    "print(re.search('abc|123', 'a') != None)   # does not match\n",
    "print(re.search('abc|123', '1') != None)   # does not match\n",
    "print(re.search('abc|123', '123') != None) # match\n",
    "print(re.search('abc|123', 'abc') != None) # match"
   ]
  },
  {
   "cell_type": "markdown",
   "metadata": {},
   "source": [
    "<p><a name=\"blackslash\"></a></p>\n",
    "#### backslash\n",
    "[[back to top]](#sections)\n",
    "\n",
    "If you want to match exactly `?`, it is necessary to add a backslash `\\?`. Otherwise, the character `?` will be treated as a metacharacter. `?` matches a character(group) either once or zero times."
   ]
  },
  {
   "cell_type": "code",
   "execution_count": null,
   "metadata": {
    "collapsed": true
   },
   "outputs": [],
   "source": [
    "print(re.search('\\?', 'Hi, how are you today?') != None)"
   ]
  },
  {
   "cell_type": "markdown",
   "metadata": {},
   "source": [
    "```python\n",
    ">>> print re.search('?', 'Hi, how are you today?') != None\n",
    "Traceback (most recent call last):\n",
    "  File \"<stdin>\", line 1, in <module>\n",
    "  File \"/usr/lib/python2.7/re.py\", line 142, in search\n",
    "    return _compile(pattern, flags).search(string)\n",
    "  File \"/usr/lib/python2.7/re.py\", line 244, in _compile\n",
    "    raise error, v # invalid expression\n",
    "sre_constants.error: nothing to repeat\n",
    "```"
   ]
  },
  {
   "cell_type": "markdown",
   "metadata": {},
   "source": [
    "## Functions in Regular Expression\n",
    "\n",
    "\n",
    "- **re.split(pattern, string)**: Split the `string` into a list by the `pattern`.\n",
    "- **re.sub(pattern, replace, string)**: Replace the substrings in the `string` that matches the `pattern` with the argument `replace`.\n",
    "- **re.findall(pattern, string)**: Find all substrings where the `pattern` matches, and return them as a list.\n",
    "\n",
    "In the base library, the strings already have similar methods like `str.split` and `str.replace`.\n",
    "\n",
    "`str.split` is similar to `re.split`, `str.replace` is similar to `re.sub`.\n",
    "\n",
    "However, the regular expressions `re.split` and `re.sub` are much more powerful!"
   ]
  },
  {
   "cell_type": "code",
   "execution_count": null,
   "metadata": {
    "collapsed": true
   },
   "outputs": [],
   "source": [
    "s = '''The re module was added in Python 1.5, \n",
    "and provides Perl-style regular expression patterns. \n",
    "Earlier versions of Python came with the regex module, \n",
    "which provided Emacs-style patterns. \n",
    "The regex module was removed completely in Python 2.5.'''"
   ]
  },
  {
   "cell_type": "markdown",
   "metadata": {},
   "source": [
    "<p><a name=\"sub\"></a></p>\n",
    "### re.sub\n",
    "[[back to top]](#sections)\n",
    "\n",
    "We can replace all separators at the same time using regular expression."
   ]
  },
  {
   "cell_type": "markdown",
   "metadata": {},
   "source": [
    "- **Question**\n",
    "\n",
    "Suppose we want to split this sentence into a list in which each element is a word. The separators are `dot(.)`, `dash(-)`, `comma(,)` and `blank space( )`.\n",
    "\n",
    "- **Solution**\n",
    "\n",
    "1. Since we cannot split a string by multiple separators, an alternative is replacing all separators with a blank space.\n",
    "\n",
    "2. Then we can split the replaced text using the blank spaces."
   ]
  },
  {
   "cell_type": "code",
   "execution_count": null,
   "metadata": {},
   "outputs": [],
   "source": [
    "s2 = s\n",
    "s2 = re.sub('[\\n,.-]', ' ', s2)\n",
    "print(s2)\n",
    "re.split(' +', s2) \n",
    "# since there are empty characters in the result, we split it by one or more blank space"
   ]
  },
  {
   "cell_type": "markdown",
   "metadata": {},
   "source": [
    "<p><a name=\"split\"></a></p>\n",
    "### re.split\n",
    "[[back to top]](#sections)\n",
    "\n",
    "\n",
    "A simpler method uses regular expressions to directly split the text by multiple separators."
   ]
  },
  {
   "cell_type": "code",
   "execution_count": null,
   "metadata": {
    "collapsed": true
   },
   "outputs": [],
   "source": [
    "re.split('[\\n ,.-]+', s)"
   ]
  },
  {
   "cell_type": "markdown",
   "metadata": {},
   "source": [
    "<p><a name=\"findall\"></a></p>\n",
    "### re.findall\n",
    "[[back to top]](#sections)\n",
    "\n",
    "Similar to **re.split**, **re.findall** also works well in this case.\n",
    "\n",
    "Just select letters in the string `s` by using **re.findall**."
   ]
  },
  {
   "cell_type": "code",
   "execution_count": null,
   "metadata": {
    "collapsed": true
   },
   "outputs": [],
   "source": [
    "re.findall('[a-zA-Z]+', s) # if you want number too, run re.findall('[a-zA-Z0-9]+', s) "
   ]
  },
  {
   "cell_type": "markdown",
   "metadata": {},
   "source": [
    "### Special sequence in regular expression\n",
    "\n",
    "****\n",
    "\n",
    "There are some special sequences that have special meaning in regular expression.\n",
    "\n",
    "- `\\d`:\n",
    "Matches any decimal digit; this is equivalent to the class [0-9].\n",
    "- `\\D`:\n",
    "Matches any non-digit character; this is equivalent to the class [^0-9].\n",
    "\n",
    "- `\\w`:\n",
    "Matches any alphanumeric character; this is equivalent to the class [a-zA-Z0-9_].\n",
    "- `\\W`:\n",
    "Matches any non-alphanumeric character; this is equivalent to the class [^a-zA-Z0-9_].\n",
    "\n",
    "- `\\s`:\n",
    "Matches any whitespace character; this is equivalent to the class [ \\t\\n\\r\\f\\v].\n",
    "- `\\S`:\n",
    "Matches any non-whitespace character; this is equivalent to the class [^ \\t\\n\\r\\f\\v]."
   ]
  },
  {
   "cell_type": "markdown",
   "metadata": {},
   "source": [
    "So the simplest way to solve the problem is:"
   ]
  },
  {
   "cell_type": "code",
   "execution_count": null,
   "metadata": {
    "collapsed": true
   },
   "outputs": [],
   "source": [
    "re.findall('\\w+', s) # same as re.findall(`[a-zA-Z0-9_]+`, s)"
   ]
  },
  {
   "cell_type": "markdown",
   "metadata": {},
   "source": [
    "<p><a name=\"example\"></a></p>\n",
    "## Example: WordCount\n",
    "[[back to top]](#sections)\n",
    "\n",
    "\n",
    "- Now let's rewrite a function wordCount.\n",
    "- You can use the convenient `Counter()` data type from the `collections` module. See the details [here](https://docs.python.org/3/library/collections.html#collections.Counter). "
   ]
  },
  {
   "cell_type": "code",
   "execution_count": null,
   "metadata": {
    "collapsed": true
   },
   "outputs": [],
   "source": [
    "from collections import Counter\n",
    "import re\n",
    "\n",
    "def wordCount(x, number=False):\n",
    "    '''\n",
    "    x: string to count\n",
    "    number: whether to count the numbers\n",
    "    '''\n",
    "    ## tolower and find words\n",
    "    x = x.lower()\n",
    "    if number:\n",
    "        word_list = re.findall('\\w+', x)\n",
    "    else:\n",
    "        word_list = re.findall('[a-z]+', x)\n",
    "    ## count and return\n",
    "    result = {}\n",
    "    for word in word_list:\n",
    "        if word in result.keys():\n",
    "            result[word] += 1\n",
    "        else:\n",
    "            result[word] = 1\n",
    "    return result\n",
    "\n",
    "\n",
    "def wordCount(x, number=False):\n",
    "    '''\n",
    "    x: string to count\n",
    "    number: whether to count the numbers\n",
    "    '''\n",
    "    ## tolower and find words\n",
    "    x = x.lower()\n",
    "    if number:\n",
    "        word_list = re.findall('\\w+', x)\n",
    "    else:\n",
    "        word_list = re.findall('[a-z]+', x)\n",
    "        \n",
    "    ## Convert the word_list to a Counter object\n",
    "    result = Counter(word_list)\n",
    "    \n",
    "    return result "
   ]
  },
  {
   "cell_type": "markdown",
   "metadata": {},
   "source": [
    "<p><a name=\"email\"></a></p>\n",
    "## Example: Is it an email address?\n",
    "[[back to top]](#sections)"
   ]
  },
  {
   "cell_type": "markdown",
   "metadata": {},
   "source": [
    "- **Rule #1**\n",
    " - The first part of an email address contains at least one of the following: uppercase letters, lowercase letters, the numbers 0-9, periods (.), plus signs (+), orunderscores (_).\n",
    "  - Regex: **`^[a-zA-Z0-9_.+-]+`** \n",
    "  - By putting all these possible sequences and symbols in brackets (as opposed to parentheses) we are saying “this symbol can be any one of these things we’ve listed in the brackets.”\n",
    "  \n",
    "  \n",
    "- **Rule #2**\n",
    " - After this, the email address contains the @ symbol.\n",
    " - Regex: **`@`**\n",
    "\n",
    "- **Rule #3**\n",
    " - The email address then must contain at least one uppercase or lowercase letter.\n",
    " - Regex: **`[A-Za-z]+`**\n",
    " \n",
    "\n",
    "- **Rule #4**\n",
    " - This is followed by a period (.).\n",
    " - Regex: **`\\.`**\n",
    " \n",
    " \n",
    "- **Rule #5**\n",
    " - Finally, the email address ends with com, org, edu, or net (in reality, there are many possible top-level domains, but, these four should suffice for the sake of example).\n",
    " - Regex: **`(com|org|edu|net)$`**\n",
    " - This lists the possible sequences of letters that can occur after the period in the second part of an email address."
   ]
  },
  {
   "cell_type": "markdown",
   "metadata": {
    "collapsed": true
   },
   "source": [
    "- By concatenating all of the rules, we arrive at the regular expression:\n",
    "\n",
    "`^[a-zA-Z0-9_.+-]+@[A-Za-z]+\\.(com|org|edu|net)$`\n",
    "\n",
    "- Let's wrap it up in a function."
   ]
  },
  {
   "cell_type": "code",
   "execution_count": null,
   "metadata": {
    "collapsed": true
   },
   "outputs": [],
   "source": [
    "import re\n",
    "def isEmail(x):\n",
    "    x = x.lower() # case insensitive\n",
    "    emailPattern = \"^[a-zA-Z0-9_.+-]+@[A-Za-z]+\\.(com|org|edu|net)$\"\n",
    "    result = re.search(emailPattern, x) != None\n",
    "    return result"
   ]
  },
  {
   "cell_type": "code",
   "execution_count": null,
   "metadata": {},
   "outputs": [],
   "source": [
    "emails = ['some&name9@gmail.com', 'some_name@yahoo.com', 'contact@supstat.com',\\\n",
    "          'some.n@ame@an-email.com', 'some.name@an.email.com']\n",
    "for i in emails:\n",
    "    print ('%25s is a valid e-mail address: %s'%(i, isEmail(i)))"
   ]
  },
  {
   "cell_type": "markdown",
   "metadata": {},
   "source": [
    "- For people who are interested in how email validation is used in the industry, you can check some of the protocols mentioned in this [Stackoverflow answer](https://stackoverflow.com/a/201378)."
   ]
  },
  {
   "cell_type": "code",
   "execution_count": null,
   "metadata": {
    "collapsed": true
   },
   "outputs": [],
   "source": []
  }
 ],
 "metadata": {
  "kernelspec": {
   "display_name": "Python 3",
   "language": "python",
   "name": "python3"
  },
  "language_info": {
   "codemirror_mode": {
    "name": "ipython",
    "version": 3
   },
   "file_extension": ".py",
   "mimetype": "text/x-python",
   "name": "python",
   "nbconvert_exporter": "python",
   "pygments_lexer": "ipython3",
   "version": "3.7.3"
  }
 },
 "nbformat": 4,
 "nbformat_minor": 1
}
