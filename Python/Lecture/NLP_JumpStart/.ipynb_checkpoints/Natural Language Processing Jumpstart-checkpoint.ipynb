{
 "cells": [
  {
   "cell_type": "markdown",
   "metadata": {},
   "source": [
    "# Introduction to Natural  Language Processing"
   ]
  },
  {
   "cell_type": "markdown",
   "metadata": {},
   "source": [
    "Objective: A general introduction to basic NLP methods to serve as a foundation for further self study and additional NLP curriculums. This notebook intends to serve as a basis for various techniques such as Text Processing, vectorizing text, information retrieval, named entity recognition, and classifying text."
   ]
  },
  {
   "cell_type": "markdown",
   "metadata": {},
   "source": [
    "# Prerequisite\n"
   ]
  },
  {
   "cell_type": "code",
   "execution_count": 1,
   "metadata": {},
   "outputs": [],
   "source": [
    "import nltk\n",
    "\n",
    "# Uncomment the following line the first time you run the code\n",
    "# nltk.download('stopwords')\n",
    "# nltk.download('wordnet')"
   ]
  },
  {
   "cell_type": "markdown",
   "metadata": {},
   "source": [
    "- The data we will use today comes from Google BigQuery. You can find it [here](https://bigquery.cloud.google.com/table/fh-bigquery:reddit_posts.full_corpus_201509).\n",
    "\n",
    "- The original data is huge so we sampled from the top 10 subreddit.\n",
    "\n",
    "- [NLTK](http://www.nltk.org/)\n",
    "\n",
    "- [Textblob](https://textblob.readthedocs.io/en/dev/)\n",
    "\n",
    "- [WordCloud](https://github.com/amueller/word_cloud)"
   ]
  },
  {
   "cell_type": "markdown",
   "metadata": {
    "collapsed": true
   },
   "source": [
    "python -m textblob.download_corpora\n",
    "pip install -U textblob"
   ]
  },
  {
   "cell_type": "code",
   "execution_count": null,
   "metadata": {
    "collapsed": true
   },
   "outputs": [],
   "source": []
  },
  {
   "cell_type": "code",
   "execution_count": 1,
   "metadata": {
    "collapsed": true
   },
   "outputs": [],
   "source": [
    "from nltk.corpus import stopwords\n",
    "stop = stopwords.words('english')"
   ]
  },
  {
   "cell_type": "code",
   "execution_count": 2,
   "metadata": {
    "collapsed": true
   },
   "outputs": [],
   "source": [
    "import pandas as pd\n",
    "df = pd.read_csv('reddit_top10.csv')"
   ]
  },
  {
   "cell_type": "code",
   "execution_count": 2,
   "metadata": {},
   "outputs": [
    {
     "data": {
      "text/plain": [
       "AskReddit               152744\n",
       "Ice_Poseidon            125411\n",
       "AutoNewspaper           119155\n",
       "FortNiteBR               83562\n",
       "newsbotbot               48661\n",
       "RocketLeagueExchange     45875\n",
       "The_Donald               42539\n",
       "Showerthoughts           40571\n",
       "ACCIDENTAL_HAIKU_BOT     40505\n",
       "me_irl                   38316\n",
       "Name: subreddit, dtype: int64"
      ]
     },
     "execution_count": 2,
     "metadata": {},
     "output_type": "execute_result"
    }
   ],
   "source": [
    "df.subreddit.value_counts()"
   ]
  },
  {
   "cell_type": "markdown",
   "metadata": {},
   "source": [
    "When you first readin a dataset, I would recommend using `df.sample()` rather than `df.head()` so you get a big picture of the whole dataset."
   ]
  },
  {
   "cell_type": "code",
   "execution_count": 6,
   "metadata": {},
   "outputs": [
    {
     "data": {
      "text/html": [
       "<div>\n",
       "<style scoped>\n",
       "    .dataframe tbody tr th:only-of-type {\n",
       "        vertical-align: middle;\n",
       "    }\n",
       "\n",
       "    .dataframe tbody tr th {\n",
       "        vertical-align: top;\n",
       "    }\n",
       "\n",
       "    .dataframe thead th {\n",
       "        text-align: right;\n",
       "    }\n",
       "</style>\n",
       "<table border=\"1\" class=\"dataframe\">\n",
       "  <thead>\n",
       "    <tr style=\"text-align: right;\">\n",
       "      <th></th>\n",
       "      <th>created_utc</th>\n",
       "      <th>subreddit</th>\n",
       "      <th>author</th>\n",
       "      <th>domain</th>\n",
       "      <th>url</th>\n",
       "      <th>num_comments</th>\n",
       "      <th>score</th>\n",
       "      <th>ups</th>\n",
       "      <th>downs</th>\n",
       "      <th>title</th>\n",
       "      <th>selftext</th>\n",
       "    </tr>\n",
       "  </thead>\n",
       "  <tbody>\n",
       "    <tr>\n",
       "      <th>303038</th>\n",
       "      <td>1526429500</td>\n",
       "      <td>newsbotbot</td>\n",
       "      <td>-en-</td>\n",
       "      <td>twitter.com</td>\n",
       "      <td>https://twitter.com/washingtonpost/status/9965...</td>\n",
       "      <td>0</td>\n",
       "      <td>1</td>\n",
       "      <td>1</td>\n",
       "      <td>0</td>\n",
       "      <td>@washingtonpost: Polls just closed in the Penn...</td>\n",
       "      <td>NaN</td>\n",
       "    </tr>\n",
       "    <tr>\n",
       "      <th>529768</th>\n",
       "      <td>1525663751</td>\n",
       "      <td>Ice_Poseidon</td>\n",
       "      <td>[deleted]</td>\n",
       "      <td>self.Ice_Poseidon</td>\n",
       "      <td>https://www.reddit.com/r/Ice_Poseidon/comments...</td>\n",
       "      <td>0</td>\n",
       "      <td>0</td>\n",
       "      <td>0</td>\n",
       "      <td>0</td>\n",
       "      <td>Can Ice go to 480p for a bit ?</td>\n",
       "      <td>[deleted]</td>\n",
       "    </tr>\n",
       "    <tr>\n",
       "      <th>696814</th>\n",
       "      <td>1525314462</td>\n",
       "      <td>FortNiteBR</td>\n",
       "      <td>Aufinator</td>\n",
       "      <td>self.FortNiteBR</td>\n",
       "      <td>https://www.reddit.com/r/FortNiteBR/comments/8...</td>\n",
       "      <td>7</td>\n",
       "      <td>1</td>\n",
       "      <td>1</td>\n",
       "      <td>0</td>\n",
       "      <td>Could someone take a picture of the battle pas...</td>\n",
       "      <td>I know odd request. but I want to see what it ...</td>\n",
       "    </tr>\n",
       "    <tr>\n",
       "      <th>581114</th>\n",
       "      <td>1526952387</td>\n",
       "      <td>AskReddit</td>\n",
       "      <td>DruskiReddit</td>\n",
       "      <td>self.AskReddit</td>\n",
       "      <td>https://www.reddit.com/r/AskReddit/comments/8l...</td>\n",
       "      <td>19</td>\n",
       "      <td>2</td>\n",
       "      <td>2</td>\n",
       "      <td>0</td>\n",
       "      <td>What games overwhelm you with nostalgia?</td>\n",
       "      <td>NaN</td>\n",
       "    </tr>\n",
       "    <tr>\n",
       "      <th>321625</th>\n",
       "      <td>1527523615</td>\n",
       "      <td>ACCIDENTAL_HAIKU_BOT</td>\n",
       "      <td>ACCIDENTAL_HAIKU_BOT</td>\n",
       "      <td>self.ACCIDENTAL_HAIKU_BOT</td>\n",
       "      <td>https://www.reddit.com/r/ACCIDENTAL_HAIKU_BOT/...</td>\n",
       "      <td>0</td>\n",
       "      <td>1</td>\n",
       "      <td>1</td>\n",
       "      <td>0</td>\n",
       "      <td>/u/ritik01's accidental haiku in /r/Coinnup</td>\n",
       "      <td>excellent project. \\n    Successful develo...</td>\n",
       "    </tr>\n",
       "    <tr>\n",
       "      <th>274635</th>\n",
       "      <td>1526425782</td>\n",
       "      <td>Ice_Poseidon</td>\n",
       "      <td>[deleted]</td>\n",
       "      <td>i.redd.it</td>\n",
       "      <td>https://i.redd.it/d16q9211q3y01.jpg</td>\n",
       "      <td>0</td>\n",
       "      <td>2</td>\n",
       "      <td>2</td>\n",
       "      <td>0</td>\n",
       "      <td>Recent Studies shows that this is the last thi...</td>\n",
       "      <td>[deleted]</td>\n",
       "    </tr>\n",
       "    <tr>\n",
       "      <th>418779</th>\n",
       "      <td>1525492619</td>\n",
       "      <td>Ice_Poseidon</td>\n",
       "      <td>[deleted]</td>\n",
       "      <td>i.redd.it</td>\n",
       "      <td>https://i.redd.it/j3iz0cq0nyv01.png</td>\n",
       "      <td>0</td>\n",
       "      <td>9</td>\n",
       "      <td>9</td>\n",
       "      <td>0</td>\n",
       "      <td>When you gotta call in sick to work to watch t...</td>\n",
       "      <td>[deleted]</td>\n",
       "    </tr>\n",
       "    <tr>\n",
       "      <th>435736</th>\n",
       "      <td>1526777697</td>\n",
       "      <td>The_Donald</td>\n",
       "      <td>MajjorasMaskk</td>\n",
       "      <td>youtube.com</td>\n",
       "      <td>https://www.youtube.com/watch?v=opR2rAxpwIQ</td>\n",
       "      <td>0</td>\n",
       "      <td>4</td>\n",
       "      <td>4</td>\n",
       "      <td>0</td>\n",
       "      <td>he's orange like him</td>\n",
       "      <td>NaN</td>\n",
       "    </tr>\n",
       "    <tr>\n",
       "      <th>339371</th>\n",
       "      <td>1527486563</td>\n",
       "      <td>AutoNewspaper</td>\n",
       "      <td>AutoNewspaperAdmin</td>\n",
       "      <td>cnn.com</td>\n",
       "      <td>https://www.cnn.com/2018/05/27/asia/south-chin...</td>\n",
       "      <td>0</td>\n",
       "      <td>1</td>\n",
       "      <td>1</td>\n",
       "      <td>0</td>\n",
       "      <td>[Top Stories] - US sails warships past dispute...</td>\n",
       "      <td>NaN</td>\n",
       "    </tr>\n",
       "    <tr>\n",
       "      <th>110786</th>\n",
       "      <td>1525462839</td>\n",
       "      <td>me_irl</td>\n",
       "      <td>c0nsume0</td>\n",
       "      <td>i.redd.it</td>\n",
       "      <td>https://i.redd.it/kkg7tv9p6wv01.jpg</td>\n",
       "      <td>2</td>\n",
       "      <td>52</td>\n",
       "      <td>52</td>\n",
       "      <td>0</td>\n",
       "      <td>Me_irl</td>\n",
       "      <td>NaN</td>\n",
       "    </tr>\n",
       "  </tbody>\n",
       "</table>\n",
       "</div>"
      ],
      "text/plain": [
       "        created_utc             subreddit                author  \\\n",
       "303038   1526429500            newsbotbot                  -en-   \n",
       "529768   1525663751          Ice_Poseidon             [deleted]   \n",
       "696814   1525314462            FortNiteBR             Aufinator   \n",
       "581114   1526952387             AskReddit          DruskiReddit   \n",
       "321625   1527523615  ACCIDENTAL_HAIKU_BOT  ACCIDENTAL_HAIKU_BOT   \n",
       "274635   1526425782          Ice_Poseidon             [deleted]   \n",
       "418779   1525492619          Ice_Poseidon             [deleted]   \n",
       "435736   1526777697            The_Donald         MajjorasMaskk   \n",
       "339371   1527486563         AutoNewspaper    AutoNewspaperAdmin   \n",
       "110786   1525462839                me_irl              c0nsume0   \n",
       "\n",
       "                           domain  \\\n",
       "303038                twitter.com   \n",
       "529768          self.Ice_Poseidon   \n",
       "696814            self.FortNiteBR   \n",
       "581114             self.AskReddit   \n",
       "321625  self.ACCIDENTAL_HAIKU_BOT   \n",
       "274635                  i.redd.it   \n",
       "418779                  i.redd.it   \n",
       "435736                youtube.com   \n",
       "339371                    cnn.com   \n",
       "110786                  i.redd.it   \n",
       "\n",
       "                                                      url  num_comments  \\\n",
       "303038  https://twitter.com/washingtonpost/status/9965...             0   \n",
       "529768  https://www.reddit.com/r/Ice_Poseidon/comments...             0   \n",
       "696814  https://www.reddit.com/r/FortNiteBR/comments/8...             7   \n",
       "581114  https://www.reddit.com/r/AskReddit/comments/8l...            19   \n",
       "321625  https://www.reddit.com/r/ACCIDENTAL_HAIKU_BOT/...             0   \n",
       "274635                https://i.redd.it/d16q9211q3y01.jpg             0   \n",
       "418779                https://i.redd.it/j3iz0cq0nyv01.png             0   \n",
       "435736        https://www.youtube.com/watch?v=opR2rAxpwIQ             0   \n",
       "339371  https://www.cnn.com/2018/05/27/asia/south-chin...             0   \n",
       "110786                https://i.redd.it/kkg7tv9p6wv01.jpg             2   \n",
       "\n",
       "        score  ups  downs                                              title  \\\n",
       "303038      1    1      0  @washingtonpost: Polls just closed in the Penn...   \n",
       "529768      0    0      0                     Can Ice go to 480p for a bit ?   \n",
       "696814      1    1      0  Could someone take a picture of the battle pas...   \n",
       "581114      2    2      0           What games overwhelm you with nostalgia?   \n",
       "321625      1    1      0        /u/ritik01's accidental haiku in /r/Coinnup   \n",
       "274635      2    2      0  Recent Studies shows that this is the last thi...   \n",
       "418779      9    9      0  When you gotta call in sick to work to watch t...   \n",
       "435736      4    4      0                               he's orange like him   \n",
       "339371      1    1      0  [Top Stories] - US sails warships past dispute...   \n",
       "110786     52   52      0                                             Me_irl   \n",
       "\n",
       "                                                 selftext  \n",
       "303038                                                NaN  \n",
       "529768                                          [deleted]  \n",
       "696814  I know odd request. but I want to see what it ...  \n",
       "581114                                                NaN  \n",
       "321625      excellent project. \\n    Successful develo...  \n",
       "274635                                          [deleted]  \n",
       "418779                                          [deleted]  \n",
       "435736                                                NaN  \n",
       "339371                                                NaN  \n",
       "110786                                                NaN  "
      ]
     },
     "execution_count": 6,
     "metadata": {},
     "output_type": "execute_result"
    }
   ],
   "source": [
    "df.sample(10)"
   ]
  },
  {
   "cell_type": "markdown",
   "metadata": {},
   "source": [
    "Selftext is the column we care about the most. But take a look at the column. There are missing values, [deleted], [removed]"
   ]
  },
  {
   "cell_type": "code",
   "execution_count": 7,
   "metadata": {
    "collapsed": true
   },
   "outputs": [],
   "source": [
    "df['selftext'] = df['selftext'].fillna('')\n",
    "tbr = ['[removed]', '[deleted]']\n",
    "df['selftext'] = df['selftext'].apply(lambda x: '' if x in tbr else x)"
   ]
  },
  {
   "cell_type": "code",
   "execution_count": 8,
   "metadata": {},
   "outputs": [],
   "source": [
    "df['selftext'] = df['title'] + ' ' + df['selftext']"
   ]
  },
  {
   "cell_type": "code",
   "execution_count": 10,
   "metadata": {},
   "outputs": [
    {
     "data": {
      "text/html": [
       "<div>\n",
       "<style scoped>\n",
       "    .dataframe tbody tr th:only-of-type {\n",
       "        vertical-align: middle;\n",
       "    }\n",
       "\n",
       "    .dataframe tbody tr th {\n",
       "        vertical-align: top;\n",
       "    }\n",
       "\n",
       "    .dataframe thead th {\n",
       "        text-align: right;\n",
       "    }\n",
       "</style>\n",
       "<table border=\"1\" class=\"dataframe\">\n",
       "  <thead>\n",
       "    <tr style=\"text-align: right;\">\n",
       "      <th></th>\n",
       "      <th>created_utc</th>\n",
       "      <th>subreddit</th>\n",
       "      <th>author</th>\n",
       "      <th>domain</th>\n",
       "      <th>url</th>\n",
       "      <th>num_comments</th>\n",
       "      <th>score</th>\n",
       "      <th>ups</th>\n",
       "      <th>downs</th>\n",
       "      <th>title</th>\n",
       "      <th>selftext</th>\n",
       "    </tr>\n",
       "  </thead>\n",
       "  <tbody>\n",
       "    <tr>\n",
       "      <th>14430</th>\n",
       "      <td>1526696313</td>\n",
       "      <td>AutoNewspaper</td>\n",
       "      <td>AutoNewspaperAdmin</td>\n",
       "      <td>scmp.com</td>\n",
       "      <td>http://www.scmp.com/lifestyle/article/2146623/...</td>\n",
       "      <td>0</td>\n",
       "      <td>1</td>\n",
       "      <td>1</td>\n",
       "      <td>0</td>\n",
       "      <td>[Lifestyle] - Onyx Boox Max2: e-reader you can...</td>\n",
       "      <td>[Lifestyle] - Onyx Boox Max2: e-reader you can...</td>\n",
       "    </tr>\n",
       "    <tr>\n",
       "      <th>3599</th>\n",
       "      <td>1526696943</td>\n",
       "      <td>AskReddit</td>\n",
       "      <td>Leo9927</td>\n",
       "      <td>self.AskReddit</td>\n",
       "      <td>https://www.reddit.com/r/AskReddit/comments/8k...</td>\n",
       "      <td>11</td>\n",
       "      <td>3</td>\n",
       "      <td>3</td>\n",
       "      <td>0</td>\n",
       "      <td>What are those unexplained mysteries of your c...</td>\n",
       "      <td>What are those unexplained mysteries of your c...</td>\n",
       "    </tr>\n",
       "    <tr>\n",
       "      <th>303752</th>\n",
       "      <td>1526453896</td>\n",
       "      <td>newsbotbot</td>\n",
       "      <td>-en-</td>\n",
       "      <td>twitter.com</td>\n",
       "      <td>https://twitter.com/Reuters/status/99664550114...</td>\n",
       "      <td>0</td>\n",
       "      <td>1</td>\n",
       "      <td>1</td>\n",
       "      <td>0</td>\n",
       "      <td>@Reuters: Novartis General Counsel Felix Ehrat...</td>\n",
       "      <td>@Reuters: Novartis General Counsel Felix Ehrat...</td>\n",
       "    </tr>\n",
       "    <tr>\n",
       "      <th>389734</th>\n",
       "      <td>1526683045</td>\n",
       "      <td>FortNiteBR</td>\n",
       "      <td>Infamous4K</td>\n",
       "      <td>self.FortNiteBR</td>\n",
       "      <td>https://www.reddit.com/r/FortNiteBR/comments/8...</td>\n",
       "      <td>2</td>\n",
       "      <td>0</td>\n",
       "      <td>0</td>\n",
       "      <td>0</td>\n",
       "      <td>Having trouble redeeming Twitch Prime Pack #2</td>\n",
       "      <td>Having trouble redeeming Twitch Prime Pack #2</td>\n",
       "    </tr>\n",
       "    <tr>\n",
       "      <th>403443</th>\n",
       "      <td>1525491327</td>\n",
       "      <td>Ice_Poseidon</td>\n",
       "      <td>phantombeary</td>\n",
       "      <td>self.Ice_Poseidon</td>\n",
       "      <td>https://www.reddit.com/r/Ice_Poseidon/comments...</td>\n",
       "      <td>1</td>\n",
       "      <td>5</td>\n",
       "      <td>5</td>\n",
       "      <td>0</td>\n",
       "      <td>I’ll buy all EBZ music if he just starts driving</td>\n",
       "      <td>I’ll buy all EBZ music if he just starts driving</td>\n",
       "    </tr>\n",
       "    <tr>\n",
       "      <th>98553</th>\n",
       "      <td>1527067614</td>\n",
       "      <td>AskReddit</td>\n",
       "      <td>[deleted]</td>\n",
       "      <td>self.AskReddit</td>\n",
       "      <td>https://www.reddit.com/r/AskReddit/comments/8l...</td>\n",
       "      <td>1</td>\n",
       "      <td>1</td>\n",
       "      <td>1</td>\n",
       "      <td>0</td>\n",
       "      <td>What do you think will be the next generation’...</td>\n",
       "      <td>What do you think will be the next generation’...</td>\n",
       "    </tr>\n",
       "    <tr>\n",
       "      <th>195530</th>\n",
       "      <td>1526216653</td>\n",
       "      <td>newsbotbot</td>\n",
       "      <td>-en-</td>\n",
       "      <td>twitter.com</td>\n",
       "      <td>https://twitter.com/WSJ/status/995649904075857921</td>\n",
       "      <td>0</td>\n",
       "      <td>1</td>\n",
       "      <td>1</td>\n",
       "      <td>0</td>\n",
       "      <td>@WSJ: Drought hits the High Plains, preventing...</td>\n",
       "      <td>@WSJ: Drought hits the High Plains, preventing...</td>\n",
       "    </tr>\n",
       "    <tr>\n",
       "      <th>357141</th>\n",
       "      <td>1526636706</td>\n",
       "      <td>ACCIDENTAL_HAIKU_BOT</td>\n",
       "      <td>ACCIDENTAL_HAIKU_BOT</td>\n",
       "      <td>self.ACCIDENTAL_HAIKU_BOT</td>\n",
       "      <td>https://www.reddit.com/r/ACCIDENTAL_HAIKU_BOT/...</td>\n",
       "      <td>0</td>\n",
       "      <td>1</td>\n",
       "      <td>1</td>\n",
       "      <td>0</td>\n",
       "      <td>/u/GhostBearBestClan's accidental haiku in /r/...</td>\n",
       "      <td>/u/GhostBearBestClan's accidental haiku in /r/...</td>\n",
       "    </tr>\n",
       "    <tr>\n",
       "      <th>587904</th>\n",
       "      <td>1527011704</td>\n",
       "      <td>The_Donald</td>\n",
       "      <td>adyingbreedx</td>\n",
       "      <td>i.redd.it</td>\n",
       "      <td>https://i.redd.it/71htmug94gz01.jpg</td>\n",
       "      <td>4</td>\n",
       "      <td>54</td>\n",
       "      <td>54</td>\n",
       "      <td>0</td>\n",
       "      <td>Look what we found at LGA in New York!</td>\n",
       "      <td>Look what we found at LGA in New York!</td>\n",
       "    </tr>\n",
       "    <tr>\n",
       "      <th>300262</th>\n",
       "      <td>1526491182</td>\n",
       "      <td>AutoNewspaper</td>\n",
       "      <td>AutoNewspaperAdmin</td>\n",
       "      <td>miamiherald.com</td>\n",
       "      <td>http://www.miamiherald.com/news/business/artic...</td>\n",
       "      <td>0</td>\n",
       "      <td>1</td>\n",
       "      <td>1</td>\n",
       "      <td>0</td>\n",
       "      <td>[Business] - Emissions of banned ozone-eating ...</td>\n",
       "      <td>[Business] - Emissions of banned ozone-eating ...</td>\n",
       "    </tr>\n",
       "  </tbody>\n",
       "</table>\n",
       "</div>"
      ],
      "text/plain": [
       "        created_utc             subreddit                author  \\\n",
       "14430    1526696313         AutoNewspaper    AutoNewspaperAdmin   \n",
       "3599     1526696943             AskReddit               Leo9927   \n",
       "303752   1526453896            newsbotbot                  -en-   \n",
       "389734   1526683045            FortNiteBR            Infamous4K   \n",
       "403443   1525491327          Ice_Poseidon          phantombeary   \n",
       "98553    1527067614             AskReddit             [deleted]   \n",
       "195530   1526216653            newsbotbot                  -en-   \n",
       "357141   1526636706  ACCIDENTAL_HAIKU_BOT  ACCIDENTAL_HAIKU_BOT   \n",
       "587904   1527011704            The_Donald          adyingbreedx   \n",
       "300262   1526491182         AutoNewspaper    AutoNewspaperAdmin   \n",
       "\n",
       "                           domain  \\\n",
       "14430                    scmp.com   \n",
       "3599               self.AskReddit   \n",
       "303752                twitter.com   \n",
       "389734            self.FortNiteBR   \n",
       "403443          self.Ice_Poseidon   \n",
       "98553              self.AskReddit   \n",
       "195530                twitter.com   \n",
       "357141  self.ACCIDENTAL_HAIKU_BOT   \n",
       "587904                  i.redd.it   \n",
       "300262            miamiherald.com   \n",
       "\n",
       "                                                      url  num_comments  \\\n",
       "14430   http://www.scmp.com/lifestyle/article/2146623/...             0   \n",
       "3599    https://www.reddit.com/r/AskReddit/comments/8k...            11   \n",
       "303752  https://twitter.com/Reuters/status/99664550114...             0   \n",
       "389734  https://www.reddit.com/r/FortNiteBR/comments/8...             2   \n",
       "403443  https://www.reddit.com/r/Ice_Poseidon/comments...             1   \n",
       "98553   https://www.reddit.com/r/AskReddit/comments/8l...             1   \n",
       "195530  https://twitter.com/WSJ/status/995649904075857921             0   \n",
       "357141  https://www.reddit.com/r/ACCIDENTAL_HAIKU_BOT/...             0   \n",
       "587904                https://i.redd.it/71htmug94gz01.jpg             4   \n",
       "300262  http://www.miamiherald.com/news/business/artic...             0   \n",
       "\n",
       "        score  ups  downs                                              title  \\\n",
       "14430       1    1      0  [Lifestyle] - Onyx Boox Max2: e-reader you can...   \n",
       "3599        3    3      0  What are those unexplained mysteries of your c...   \n",
       "303752      1    1      0  @Reuters: Novartis General Counsel Felix Ehrat...   \n",
       "389734      0    0      0      Having trouble redeeming Twitch Prime Pack #2   \n",
       "403443      5    5      0   I’ll buy all EBZ music if he just starts driving   \n",
       "98553       1    1      0  What do you think will be the next generation’...   \n",
       "195530      1    1      0  @WSJ: Drought hits the High Plains, preventing...   \n",
       "357141      1    1      0  /u/GhostBearBestClan's accidental haiku in /r/...   \n",
       "587904     54   54      0             Look what we found at LGA in New York!   \n",
       "300262      1    1      0  [Business] - Emissions of banned ozone-eating ...   \n",
       "\n",
       "                                                 selftext  \n",
       "14430   [Lifestyle] - Onyx Boox Max2: e-reader you can...  \n",
       "3599    What are those unexplained mysteries of your c...  \n",
       "303752  @Reuters: Novartis General Counsel Felix Ehrat...  \n",
       "389734     Having trouble redeeming Twitch Prime Pack #2   \n",
       "403443  I’ll buy all EBZ music if he just starts driving   \n",
       "98553   What do you think will be the next generation’...  \n",
       "195530  @WSJ: Drought hits the High Plains, preventing...  \n",
       "357141  /u/GhostBearBestClan's accidental haiku in /r/...  \n",
       "587904            Look what we found at LGA in New York!   \n",
       "300262  [Business] - Emissions of banned ozone-eating ...  "
      ]
     },
     "execution_count": 10,
     "metadata": {},
     "output_type": "execute_result"
    }
   ],
   "source": [
    "df.sample(10)"
   ]
  },
  {
   "cell_type": "code",
   "execution_count": 8,
   "metadata": {},
   "outputs": [
    {
     "data": {
      "text/plain": [
       "AskReddit               152744\n",
       "Ice_Poseidon            125411\n",
       "AutoNewspaper           119155\n",
       "FortNiteBR               83562\n",
       "newsbotbot               48661\n",
       "RocketLeagueExchange     45875\n",
       "The_Donald               42539\n",
       "Showerthoughts           40571\n",
       "ACCIDENTAL_HAIKU_BOT     40505\n",
       "me_irl                   38316\n",
       "Name: subreddit, dtype: int64"
      ]
     },
     "execution_count": 8,
     "metadata": {},
     "output_type": "execute_result"
    }
   ],
   "source": [
    "df.subreddit.value_counts()"
   ]
  },
  {
   "cell_type": "code",
   "execution_count": 40,
   "metadata": {},
   "outputs": [
    {
     "data": {
      "text/plain": [
       "created_utc      int64\n",
       "subreddit       object\n",
       "author          object\n",
       "domain          object\n",
       "url             object\n",
       "num_comments     int64\n",
       "score            int64\n",
       "ups              int64\n",
       "downs            int64\n",
       "title           object\n",
       "selftext        object\n",
       "dtype: object"
      ]
     },
     "execution_count": 40,
     "metadata": {},
     "output_type": "execute_result"
    }
   ],
   "source": [
    "df.dtypes"
   ]
  },
  {
   "cell_type": "markdown",
   "metadata": {},
   "source": [
    "### Preprocessing\n",
    "\n",
    "- Convert all the text to lowercase - avoids having multiple copies of the same words.\n",
    "- Replace url in the text with empty space.\n",
    "- Replace all empty spaces with just one.\n",
    "- Remove all the empty text from the dataframe."
   ]
  },
  {
   "cell_type": "code",
   "execution_count": 24,
   "metadata": {},
   "outputs": [],
   "source": [
    "import re\n",
    "\n",
    "df['selftext'] = df['selftext'].apply(lambda x: \" \".join(x.lower() for x in x.split()))\n",
    "# \\S+ means anything that is not an empty space\n",
    "df['selftext'] = df['selftext'].apply(lambda x: re.sub('http\\S*', '', x))\n",
    "# \\s+ means all empty space (\\n, \\r, \\t)\n",
    "df['selftext'] = df['selftext'].apply(lambda x: re.sub('\\s+', ' ', x))\n",
    "# We don't want empty string in our text\n",
    "df = df.loc[df['selftext'] != \"\"]"
   ]
  },
  {
   "cell_type": "markdown",
   "metadata": {},
   "source": [
    "# Text Processing Steps and Methods"
   ]
  },
  {
   "cell_type": "code",
   "execution_count": 13,
   "metadata": {},
   "outputs": [],
   "source": [
    "from textblob import TextBlob"
   ]
  },
  {
   "cell_type": "code",
   "execution_count": 22,
   "metadata": {
    "collapsed": true
   },
   "outputs": [],
   "source": [
    "blob = TextBlob('watching a graduation ceremony is like sitting through a movie thats entirely end credits. This is. the second sentence')"
   ]
  },
  {
   "cell_type": "code",
   "execution_count": 23,
   "metadata": {},
   "outputs": [
    {
     "data": {
      "text/plain": [
       "[Sentence(\"watching a graduation ceremony is like sitting through a movie thats entirely end credits.\"),\n",
       " Sentence(\"This is.\"),\n",
       " Sentence(\"the second sentence\")]"
      ]
     },
     "execution_count": 23,
     "metadata": {},
     "output_type": "execute_result"
    }
   ],
   "source": [
    "blob.sentences"
   ]
  },
  {
   "cell_type": "markdown",
   "metadata": {},
   "source": [
    "Before we can make use of any text in machine assisted study of text or maching learning methods dealing with text, it's important that the text is fed as an input the model can interpret. To this end, the specific steps one must take is:\n"
   ]
  },
  {
   "cell_type": "markdown",
   "metadata": {},
   "source": [
    "- Filtering\n",
    "- Tokenization\n",
    "- Lemmitization\n",
    "- Stemming"
   ]
  },
  {
   "cell_type": "markdown",
   "metadata": {},
   "source": [
    "## Filtering"
   ]
  },
  {
   "cell_type": "markdown",
   "metadata": {},
   "source": [
    "Removing Punctuation\n",
    "The next step is to remove punctuation, as it doesn’t add any extra information while treating text data. Therefore removing all instances of it will help us reduce the size of the training data."
   ]
  },
  {
   "cell_type": "code",
   "execution_count": 25,
   "metadata": {},
   "outputs": [
    {
     "data": {
      "text/plain": [
       "0                                             me∆irl ∆\n",
       "1        me_irl royal wedding going i'm browsing memes\n",
       "2                                        irl ~~:.|:;~~\n",
       "3                           irl haha lol post text :\\]\n",
       "4    what’s go activity airport you’re plane delaye...\n",
       "Name: selftext, dtype: object"
      ]
     },
     "execution_count": 25,
     "metadata": {},
     "output_type": "execute_result"
    }
   ],
   "source": [
    "df['selftext'] = df['selftext'].apply(lambda x: x.replace('[^\\w\\s]',''))\n",
    "df['selftext'].head()"
   ]
  },
  {
   "cell_type": "markdown",
   "metadata": {},
   "source": [
    "When examining a text, often there are words used within a sentence that holds no meaning for various data mining such as topic modeling or word frequency. Examples of this include \"the\", \"is\", etc. Collectively, these are known as \"stopwords\". When mining for certain information, you should note whether your method should remove certain stopwords (for example, wordclouds) or keep them (ex. bigrams). Tools for removing stopwords are in most nlp packages but we will use a self created method to demonstrate the process."
   ]
  },
  {
   "cell_type": "markdown",
   "metadata": {},
   "source": [
    "\n",
    "\n",
    "To illustrate an example, we will call upon the stopwords method from nltk. Note, methods that interact with the text itself is usually found under nltk.corpus. Corpus is the linguistics term for set of structured text used for statistical study so be mindful of this specific vocabulary."
   ]
  },
  {
   "cell_type": "markdown",
   "metadata": {},
   "source": [
    "\n",
    "\n",
    "Note one can add to this list of stopwords if one wishes to include various stopwords that are too common within the topic of text. For example \"computer\" would be a stopword in corpus largely dealing with data science."
   ]
  },
  {
   "cell_type": "markdown",
   "metadata": {},
   "source": [
    "Removal of Stop Words\n",
    "As we discussed earlier, stop words (or commonly occurring words) should be removed from the text data. For this purpose, we can either create a list of stopwords ourselves or we can use predefined libraries."
   ]
  },
  {
   "cell_type": "code",
   "execution_count": 14,
   "metadata": {
    "scrolled": true
   },
   "outputs": [
    {
     "data": {
      "text/plain": [
       "0                                             Me∆irl ∆\n",
       "1        Me_irl Royal wedding going I'm browsing memes\n",
       "2                                        irl ~~:.|:;~~\n",
       "3                           irl Haha lol post text :\\]\n",
       "4    What’s go activity airport you’re plane delaye...\n",
       "Name: selftext, dtype: object"
      ]
     },
     "execution_count": 14,
     "metadata": {},
     "output_type": "execute_result"
    }
   ],
   "source": [
    "from nltk.corpus import stopwords\n",
    "stop = stopwords.words('english')\n",
    "df['selftext'] = df['selftext'].apply(lambda x: \" \".join(x for x in x.split() if x not in stop))\n",
    "df['selftext'].head()"
   ]
  },
  {
   "cell_type": "markdown",
   "metadata": {},
   "source": [
    "## Tokenization "
   ]
  },
  {
   "cell_type": "markdown",
   "metadata": {},
   "source": [
    "Tokenization is the act of splitting one's text into a sequence of words. The most common method of tokenization is the \"bag of words\" approach but it's important to recognize bag of words is one method of tokenization rather than a lateral method. Certain tokenization methods will preserve the sequential information of text while other methods such as \"bag of words\" will not. In this example, we will try a simplistic tokenization method below using the standard split."
   ]
  },
  {
   "cell_type": "code",
   "execution_count": 15,
   "metadata": {},
   "outputs": [
    {
     "name": "stdout",
     "output_type": "stream",
     "text": [
      "['This', 'is', 'a', 'toy', 'example.', 'Illustrate', 'this', 'example', 'below.']\n"
     ]
    }
   ],
   "source": [
    "sample_text = \"This is a toy example. Illustrate this example below.\"\n",
    "sample_tokens = sample_text.split()\n",
    "print(sample_tokens)"
   ]
  },
  {
   "cell_type": "markdown",
   "metadata": {},
   "source": [
    "Did you notice something? While we have the tokens, \"example\" and \"example.\" are treated as different tokens. As a NLP data scientist, you must make the choice on whether you choose to distinguish the two.\n",
    "\n",
    "Note, various packages in Python such as the nltk package will default tokenize \".\" as a seperate token instead to designate it it's own special meaning. This can be illustrated below:"
   ]
  },
  {
   "cell_type": "code",
   "execution_count": 25,
   "metadata": {},
   "outputs": [
    {
     "data": {
      "text/plain": [
       "['This',\n",
       " 'is',\n",
       " 'a',\n",
       " 'toy',\n",
       " 'example',\n",
       " '.',\n",
       " 'Illustrate',\n",
       " 'this',\n",
       " 'example',\n",
       " 'below',\n",
       " '.']"
      ]
     },
     "execution_count": 25,
     "metadata": {},
     "output_type": "execute_result"
    }
   ],
   "source": [
    "from nltk.tokenize import word_tokenize \n",
    "\n",
    "word_tokenize(sample_text)"
   ]
  },
  {
   "cell_type": "code",
   "execution_count": 26,
   "metadata": {},
   "outputs": [
    {
     "data": {
      "text/plain": [
       "WordList(['This', 'is', 'a', 'toy', 'example', 'Illustrate', 'this', 'example', 'below'])"
      ]
     },
     "execution_count": 26,
     "metadata": {},
     "output_type": "execute_result"
    }
   ],
   "source": [
    "TextBlob(sample_text).words"
   ]
  },
  {
   "cell_type": "markdown",
   "metadata": {},
   "source": [
    "## Lemmatization and Stemming"
   ]
  },
  {
   "cell_type": "markdown",
   "metadata": {},
   "source": [
    "Stemming\n",
    "\n",
    "Stemming refers to the removal of suffices, like “ing”, “ly”, “s”, etc. by a simple rule-based approach. For this purpose, we will use PorterStemmer from the NLTK library.\n",
    "\n"
   ]
  },
  {
   "cell_type": "markdown",
   "metadata": {},
   "source": [
    "Various words in English have the same meaning. There are two main methods for handling tasks such as recognizing \"strike, striking, struck\" as the same words."
   ]
  },
  {
   "cell_type": "markdown",
   "metadata": {},
   "source": [
    "Stemming attempts to remove and replace the suffix of various words to attempt to reach the same root word.\n",
    "\n",
    "The most common stemming algorithms are:\n",
    "\n",
    "[Porter Stemmer](https://tartarus.org/martin/PorterStemmer/) (the older traditional method)\n",
    "\n",
    "and\n",
    "\n",
    "[Lancaster Stemmer](http://textanalysisonline.com/nltk-lancaster-stemmer) (a more aggressive modern stemmer)\n",
    "\n",
    "Stemming and lemmatization can both be done with self written rules using creative forms of regex (and I urge you to try on simpler text for research purposes) but for practical example demo in this notebook, we will implement the PorterStemmer method from nltk on the example below.\n"
   ]
  },
  {
   "cell_type": "code",
   "execution_count": 16,
   "metadata": {
    "collapsed": true
   },
   "outputs": [],
   "source": [
    "nonprocess_text = \"I am writing a Python string\"\n",
    "\n",
    "from nltk.stem import PorterStemmer\n",
    "stemmer = PorterStemmer()"
   ]
  },
  {
   "cell_type": "code",
   "execution_count": 17,
   "metadata": {
    "collapsed": true
   },
   "outputs": [],
   "source": [
    "stemmed_text = ' '.join([stemmer.stem(word) for word in nonprocess_text.split()])"
   ]
  },
  {
   "cell_type": "code",
   "execution_count": 18,
   "metadata": {},
   "outputs": [
    {
     "name": "stdout",
     "output_type": "stream",
     "text": [
      "I am write a python string\n"
     ]
    }
   ],
   "source": [
    "print(stemmed_text)"
   ]
  },
  {
   "cell_type": "markdown",
   "metadata": {},
   "source": [
    "Note! This is more robust than the standard regex implementation as we see here \"writing\" is converted to \"write\" but \"string\" isn't converted to \"stre\"."
   ]
  },
  {
   "cell_type": "markdown",
   "metadata": {},
   "source": [
    "Lemmatization is a more effective option than stemming because it converts the word into its root word, rather than just stripping the suffices. It makes use of the vocabulary and does a morphological analysis to obtain the root word. Therefore, we usually prefer using lemmatization over stemming."
   ]
  },
  {
   "cell_type": "markdown",
   "metadata": {},
   "source": [
    "\n",
    "Unlike stemming, lemmatization will try to identify root words that are semantically similar to text based off a dictionary corpus. In essence, you can think of being able to replicate the effect manually by implementing a look-up method after parsing a text. There are various dictionaries one can use to base lemmization off of. NLTK's [wordnet](http://wordnet.princeton.edu/) is quite powerful to handle most lemmatization task. We'll examine a few implementations below."
   ]
  },
  {
   "cell_type": "code",
   "execution_count": 14,
   "metadata": {
    "collapsed": true
   },
   "outputs": [],
   "source": [
    "from nltk import WordNetLemmatizer\n",
    "\n",
    "lemztr = WordNetLemmatizer()"
   ]
  },
  {
   "cell_type": "code",
   "execution_count": 21,
   "metadata": {},
   "outputs": [
    {
     "data": {
      "text/plain": [
       "u'foot'"
      ]
     },
     "execution_count": 21,
     "metadata": {},
     "output_type": "execute_result"
    }
   ],
   "source": [
    "lemztr.lemmatize('feet')"
   ]
  },
  {
   "cell_type": "markdown",
   "metadata": {},
   "source": [
    "Note, lemmatization will return back the default if the text isn't found in the dictionary."
   ]
  },
  {
   "cell_type": "code",
   "execution_count": 31,
   "metadata": {},
   "outputs": [
    {
     "data": {
      "text/plain": [
       "'abacadabradoo'"
      ]
     },
     "execution_count": 31,
     "metadata": {},
     "output_type": "execute_result"
    }
   ],
   "source": [
    "lemztr.lemmatize('abacadabradoo')"
   ]
  },
  {
   "cell_type": "markdown",
   "metadata": {},
   "source": [
    "\n",
    "While on surface, lemmatizing seems to be the superior method to stemming, one must recognize that in most industry deployed example, stemming is often more practical. This is because, once the text is fed as a vectorized input, the algorithm doesn't mind whether the text states \"strike\" or \"strik\" as the text is read based on various methods of the algorithm itself rather than semantical understanding. Stemming is computationally more efficient and cheaper than lemmatization without much deviation in accuracy. That being said, lemmatizing should be considered when one desires output of processed text for semantical analysis or word looking up (for example, wordclouds, using it for field labels, etc)."
   ]
  },
  {
   "cell_type": "markdown",
   "metadata": {},
   "source": [
    "## N-grams"
   ]
  },
  {
   "cell_type": "markdown",
   "metadata": {},
   "source": [
    "- N-grams are the combination of multiple words used together. Ngrams with N=1 are called unigrams. Similarly, bigrams (N=2), trigrams (N=3) and so on can also be used.\n",
    "\n",
    "- Unigrams do not usually contain as much information as compared to bigrams and trigrams. The basic principle behind n-grams is that they capture the language structure, like what letter or word is likely to follow the given one. \n",
    "\n",
    "- The longer the n-gram (the higher the n), the more context you have to work with. Optimum length really depends on the application – if your n-grams are too short, you may fail to capture important differences. On the other hand, if they are too long, you may fail to capture the “general knowledge” and only stick to particular cases.\n",
    "\n",
    "- For example, for the sentence “I love Python over R”. If N=2 (known as bigrams), then the ngrams would be:\n",
    " - I love\n",
    " - love Python\n",
    " - Python over\n",
    " - over R"
   ]
  },
  {
   "cell_type": "markdown",
   "metadata": {},
   "source": [
    "- Google hosts its n-gram corpora on [AWS S3](https://aws.amazon.com/datasets/google-books-ngrams/) for free. \n",
    "- The size of the file is about 2.2TB. You might consider using [Python API](https://github.com/dimazest/google-ngram-downloader)."
   ]
  },
  {
   "cell_type": "markdown",
   "metadata": {},
   "source": [
    "## N-grams - Example"
   ]
  },
  {
   "cell_type": "code",
   "execution_count": 16,
   "metadata": {},
   "outputs": [
    {
     "data": {
      "text/plain": [
       "[WordList(['African', 'Americans']),\n",
       " WordList(['Americans', 'reddit']),\n",
       " WordList(['reddit', 'irritating']),\n",
       " WordList(['irritating', 'funny']),\n",
       " WordList(['funny', 'stupid']),\n",
       " WordList(['stupid', 'things']),\n",
       " WordList(['things', 'white']),\n",
       " WordList(['white', 'people']),\n",
       " WordList(['people', 'they']),\n",
       " WordList(['they', '’']),\n",
       " WordList(['’', 're']),\n",
       " WordList(['re', 'trying']),\n",
       " WordList(['trying', 'hard']),\n",
       " WordList(['hard', 'racist'])]"
      ]
     },
     "execution_count": 16,
     "metadata": {},
     "output_type": "execute_result"
    }
   ],
   "source": [
    "from textblob import TextBlob\n",
    "TextBlob(df['selftext'][10]).ngrams(2)"
   ]
  },
  {
   "cell_type": "markdown",
   "metadata": {},
   "source": [
    "- You can easily implement the N-gram function using native Python."
   ]
  },
  {
   "cell_type": "code",
   "execution_count": 4,
   "metadata": {
    "scrolled": true
   },
   "outputs": [
    {
     "data": {
      "text/plain": [
       "[('all', 'this'),\n",
       " ('this', 'happened'),\n",
       " ('happened', 'more'),\n",
       " ('more', 'or'),\n",
       " ('or', 'less')]"
      ]
     },
     "execution_count": 4,
     "metadata": {},
     "output_type": "execute_result"
    }
   ],
   "source": [
    "input_list = ['all', 'this', 'happened', 'more', 'or', 'less']\n",
    "\n",
    "def find_ngrams(input_list, n):\n",
    "    return list(zip(*[input_list[i:] for i in range(n)]))\n",
    "find_ngrams(input_list, 2)"
   ]
  },
  {
   "cell_type": "code",
   "execution_count": null,
   "metadata": {
    "collapsed": true
   },
   "outputs": [],
   "source": []
  },
  {
   "cell_type": "code",
   "execution_count": 17,
   "metadata": {
    "collapsed": true
   },
   "outputs": [],
   "source": [
    "from wordcloud import WordCloud"
   ]
  },
  {
   "cell_type": "code",
   "execution_count": 26,
   "metadata": {},
   "outputs": [
    {
     "data": {
      "text/plain": [
       "<wordcloud.wordcloud.WordCloud at 0x11ede73c8>"
      ]
     },
     "execution_count": 26,
     "metadata": {},
     "output_type": "execute_result"
    }
   ],
   "source": [
    "wc = WordCloud(background_color=\"white\", max_words=2000)\n",
    "# generate word cloud\n",
    "wc.generate(''.join(df['selftext']))"
   ]
  },
  {
   "cell_type": "code",
   "execution_count": 21,
   "metadata": {
    "collapsed": true
   },
   "outputs": [],
   "source": [
    "import matplotlib.pyplot as plt\n",
    "%matplotlib inline"
   ]
  },
  {
   "cell_type": "code",
   "execution_count": 27,
   "metadata": {},
   "outputs": [
    {
     "data": {
      "image/png": "[encoded data removed]",
      "text/plain": [
       "<matplotlib.figure.Figure at 0x1214bacf8>"
      ]
     },
     "metadata": {},
     "output_type": "display_data"
    },
    {
     "data": {
      "image/png": "[encoded data removed]",
      "text/plain": [
       "<matplotlib.figure.Figure at 0x1214d6080>"
      ]
     },
     "metadata": {},
     "output_type": "display_data"
    }
   ],
   "source": [
    "# show\n",
    "plt.imshow(wc, interpolation='bilinear')\n",
    "plt.axis(\"off\")\n",
    "plt.figure()\n",
    "# plt.imshow(alice_mask, cmap=plt.cm.gray, interpolation='bilinear')\n",
    "plt.axis(\"off\")\n",
    "plt.show()"
   ]
  },
  {
   "cell_type": "code",
   "execution_count": null,
   "metadata": {
    "collapsed": true
   },
   "outputs": [],
   "source": [
    "def sentiment_func(x):\n",
    "    sentiment = TextBlob(x['selftext'])\n",
    "    x['polarity'] = sentiment.polarity\n",
    "    x['subjectivity'] = sentiment.subjectivity\n",
    "    return x\n",
    "\n",
    "df['polarity'] = df['selftext'].apply(lambda x: TextBlob(x).sentiment.polarity)"
   ]
  },
  {
   "cell_type": "code",
   "execution_count": null,
   "metadata": {
    "collapsed": true
   },
   "outputs": [],
   "source": []
  },
  {
   "cell_type": "code",
   "execution_count": null,
   "metadata": {
    "collapsed": true
   },
   "outputs": [],
   "source": []
  },
  {
   "cell_type": "markdown",
   "metadata": {},
   "source": [
    "# Recommended Resources:\n",
    "\n",
    "Advanced Libraries in Python:\n",
    "\n",
    "[Spacy](https://spacy.io/)\n",
    "\n",
    "[Gensim](https://radimrehurek.com/gensim/)"
   ]
  },
  {
   "cell_type": "code",
   "execution_count": null,
   "metadata": {
    "collapsed": true
   },
   "outputs": [],
   "source": []
  }
 ],
 "metadata": {
  "anaconda-cloud": {},
  "kernelspec": {
   "display_name": "Python 3",
   "language": "python",
   "name": "python3"
  },
  "language_info": {
   "codemirror_mode": {
    "name": "ipython",
    "version": 3
   },
   "file_extension": ".py",
   "mimetype": "text/x-python",
   "name": "python",
   "nbconvert_exporter": "python",
   "pygments_lexer": "ipython3",
   "version": "3.6.5"
  }
 },
 "nbformat": 4,
 "nbformat_minor": 1
}
