{
 "cells": [
  {
   "cell_type": "markdown",
   "metadata": {},
   "source": [
    "# Python Exam Questions"
   ]
  },
  {
   "cell_type": "code",
   "execution_count": 1,
   "metadata": {},
   "outputs": [],
   "source": [
    "from unittest import TestCase\n",
    "import random\n",
    "import json"
   ]
  },
  {
   "cell_type": "markdown",
   "metadata": {},
   "source": [
    "## Functions"
   ]
  },
  {
   "cell_type": "markdown",
   "metadata": {},
   "source": [
    "### Question 1: \n",
    "\n",
    "Given an array (Python list) of integers sorted in ascending order, write a function to find if a number exists in the array. If the number can be found in the array, return the corresponding index, otherwise return -1. You may assume the numbers are unique.\n",
    "\n",
    "Your function will be called as:\n",
    "\n",
    "```\n",
    ">>> array = [1,2,4,7,9,11]\n",
    ">>> print(search(array, 4))\n",
    "2\n",
    ">>> print(search(array, 5))\n",
    "-1\n",
    "```"
   ]
  },
  {
   "cell_type": "code",
   "execution_count": 371,
   "metadata": {},
   "outputs": [],
   "source": [
    "# Answer:\n",
    "\n",
    "def search(array, target):\n",
    "    \"\"\"Return the index of a target number in a sorted array.\n",
    "    \n",
    "    :param array: a sorted array of unique integers\n",
    "    :param target: target number\n",
    "    :return: index of the target\n",
    "    \"\"\"\n",
    "    if target in array:\n",
    "        return array.index(target)\n",
    "    else:\n",
    "        return -1\n",
    "        \n",
    "    return "
   ]
  },
  {
   "cell_type": "code",
   "execution_count": 372,
   "metadata": {},
   "outputs": [
    {
     "name": "stdout",
     "output_type": "stream",
     "text": [
      "All test cases passed!\n"
     ]
    }
   ],
   "source": [
    "# Test:\n",
    "# DO NOT modify this cell\n",
    "\n",
    "test = TestCase()\n",
    "fails = 0\n",
    "\n",
    "for i in range(5):\n",
    "    k = 10**i - random.randint(1, 5**i)\n",
    "    array = sorted(random.sample(range(2*k), k=k))\n",
    "    idx = random.randint(0, k) - 1\n",
    "    target = random.choice([-1, 2*k]) if idx < 0 else array[idx]\n",
    "    try:\n",
    "        test.assertEqual(search(array, target), idx)\n",
    "    except AssertionError as e:\n",
    "        fails += 1\n",
    "        print('Failed to pass the test case with array of size {}.\\nError: {}\\n'.format(k, e))\n",
    "else:\n",
    "    if fails == 0:\n",
    "        print('All test cases passed!')"
   ]
  },
  {
   "cell_type": "markdown",
   "metadata": {},
   "source": [
    "### Question 2\n",
    "\n",
    "JSON (JavaScript Object Notation) is the most widely used data format for data interchange on the web. Below is an example of tweet JSON from Twitter api."
   ]
  },
  {
   "cell_type": "markdown",
   "metadata": {},
   "source": [
    "json1 = '{\n",
    "  \"created_at\": \"Thu Apr 06 15:24:15 +0000 2017\",\n",
    "  \"id_str\": \"850006245121695744\",\n",
    "  \"text\": \"Today we\\u2019re sharing our vision for the future of the Twitter API platform!\",\n",
    "  \"user\": {\n",
    "    \"id\": 2244994945,\n",
    "    \"name\": \"Twitter Dev\",\n",
    "    \"screen_name\": \"TwitterDev\",\n",
    "    \"location\": \"Internet\",\n",
    "    \"url\": \"https:\\/\\/dev.twitter.com\\/\",\n",
    "    \"description\": \"Your official source for Twitter Platform news, updates & events. Need technical help? Visit https:\\/\\/twittercommunity.com\\/ \\u2328\\ufe0f #TapIntoTwitter\"\n",
    "  },\n",
    "  \"place\": {\n",
    "    \"id\": \"01a9a39529b27f36\",\n",
    "    \"place_type\": \"city\",\n",
    "    \"name\": \"Manhattan\",\n",
    "    \"full_name\": \"Manhattan, NY\",\n",
    "    \"country_code\": \"US\",\n",
    "    \"country\": \"United States\"\n",
    "  }\n",
    "}'"
   ]
  },
  {
   "cell_type": "code",
   "execution_count": 171,
   "metadata": {},
   "outputs": [],
   "source": [
    "json1 = '''{\n",
    "  \"created_at\": \"Thu Apr 06 15:24:15 +0000 2017\",\n",
    "  \"id_str\": \"850006245121695744\",\n",
    "  \"text\": \"Today we\\u2019re sharing our vision for the future of the Twitter API platform!\",\n",
    "  \"user\": {\n",
    "    \"id\": 2244994945,\n",
    "    \"name\": \"Twitter Dev\",\n",
    "    \"screen_name\": \"TwitterDev\",\n",
    "    \"location\": \"Internet\",\n",
    "    \"url\": \"https:\\/\\/dev.twitter.com\\/\",\n",
    "    \"description\": \"Your official source for Twitter Platform news, updates & events. Need technical help? Visit https:\\/\\/twittercommunity.com\\/ \\u2328\\ufe0f #TapIntoTwitter\"\n",
    "  },\n",
    "  \"place\": {\n",
    "    \"id\": \"01a9a39529b27f36\",\n",
    "    \"place_type\": \"city\",\n",
    "    \"name\": \"Manhattan\",\n",
    "    \"full_name\": \"Manhattan, NY\",\n",
    "    \"country_code\": \"US\",\n",
    "    \"country\": \"United States\"\n",
    "  }\n",
    "}'''"
   ]
  },
  {
   "cell_type": "markdown",
   "metadata": {},
   "source": [
    "In Python, JSON data can be parsed as a dictionary via `json.loads` function. The parsed dictionary might have nested structure, i.e., the values of some keys (attribute) are also python dictionaries.\n",
    "\n",
    "Given a dictionary which might include nested data structure, we need to \"normalize\" it as a flattened dictionary before we can create a flat table. For example:\n",
    "\n",
    ">```\n",
    "{'foo': \n",
    "    {'bar': 1, \n",
    "     'baz': 2}, \n",
    " 'qux': 3}\n",
    "``` \n",
    "\n",
    "can be normalized as (keys of children level are joined to the key of its parent by a period `.`):\n",
    "\n",
    ">```\n",
    "{'foo.bar': 1, \n",
    " 'foo.baz': 2,\n",
    " 'qux': 3}\n",
    "```\n",
    "\n",
    "**Question**: Implement the function `flattenJSON` which reads a json and returns a flattened dictionary. Only built-in Python modules are allowed.\n",
    "\n",
    "Your function will be called as:\n",
    "\n",
    "```\n",
    ">>> json_data = '{\"text\": \"A nice day!\", \"user\": {\"name\": \"Twitter Dev\"}, \"place\" : {\"name\": \"Manhattan\", \"country\": \"United States\"}}'\n",
    ">>> flattenJSON(json_data)\n",
    "{'text': 'A nice day!', 'user.name': 'Twitter Dev', 'place.name': 'Manhattan', 'place.country': 'United States'}\n",
    "```"
   ]
  },
  {
   "cell_type": "code",
   "execution_count": null,
   "metadata": {},
   "outputs": [],
   "source": []
  },
  {
   "cell_type": "code",
   "execution_count": 375,
   "metadata": {},
   "outputs": [],
   "source": [
    "def flattenJSON(json_data):\n",
    "    \n",
    "    \"\"\"Flatten a JSON data to python dictionary\n",
    "    \n",
    "    :param json_data: str Unserialized JSON objects\n",
    "    :return: dict\n",
    "    \"\"\"\n",
    "    # load json data as a (nested) Python dictionary\n",
    "    data = json.loads(json_data)\n",
    "    return flatdict(data,'')\n",
    "def flatdict(data,prefix):\n",
    "    a={}\n",
    "    for k,v in data.items():\n",
    "        if isinstance(v, dict):\n",
    "            a.update(flatdict(v,prefix+k+'.'))\n",
    "        else:\n",
    "            a[prefix+k]= v \n",
    "    return a\n"
   ]
  },
  {
   "cell_type": "code",
   "execution_count": 376,
   "metadata": {},
   "outputs": [
    {
     "name": "stdout",
     "output_type": "stream",
     "text": [
      "All test cases passed!\n"
     ]
    }
   ],
   "source": [
    "# Test:\n",
    "# DO NOT modify this cell\n",
    "\n",
    "from pandas.io.json import json_normalize\n",
    "\n",
    "test = TestCase()\n",
    "\n",
    "json_1 = '{\"id\": 1, \"name\": {\"first\": \"Coleen\", \"last\": \"Volk\"}}'\n",
    "json_2 = '{\"text\": \"A nice day!\", \"user\": {\"name\": \"Twitter Dev\"}, \"place\" : {\"name\": \"Manhattan\", \"country\": \"United States\"}}'\n",
    "json_3 = \"\"\"\n",
    "{\n",
    "  \"created_at\": \"Thu Apr 06 15:24:15 +0000 2017\",\n",
    "  \"id_str\": \"850006245121695744\",\n",
    "  \"text\": \"Today we\\u2019re sharing our vision for the future of the Twitter API platform!\",\n",
    "  \"user\": {\n",
    "    \"id\": 2244994945,\n",
    "    \"name\": \"Twitter Dev\",\n",
    "    \"screen_name\": \"TwitterDev\",\n",
    "    \"location\": \"Internet\",\n",
    "    \"url\": \"https:\\/\\/dev.twitter.com\\/\",\n",
    "    \"description\": \"Your official source for Twitter Platform news, updates & events. Need technical help? Visit https:\\/\\/twittercommunity.com\\/ \\u2328\\ufe0f #TapIntoTwitter\"\n",
    "  },\n",
    "  \"place\": {\n",
    "    \"id\": \"01a9a39529b27f36\",\n",
    "    \"place_type\": \"city\",\n",
    "    \"name\": \"Manhattan\",\n",
    "    \"full_name\": \"Manhattan, NY\",\n",
    "    \"country_code\": \"US\",\n",
    "    \"country\": \"United States\"\n",
    "  }\n",
    "}\n",
    "\"\"\"\n",
    "\n",
    "for json_data in [json_1, json_2, json_3]:\n",
    "    ans = flattenJSON(json_data)\n",
    "    data = json.loads(json_data)\n",
    "    sol = json_normalize(data).to_dict('records')[0]\n",
    "    try:\n",
    "        test.assertDictEqual(ans, sol)\n",
    "    except AssertionError as e:\n",
    "        print('Failed to pass the test case.\\nError: {}\\n'.format(e))\n",
    "else:\n",
    "    print('All test cases passed!')"
   ]
  },
  {
   "cell_type": "markdown",
   "metadata": {},
   "source": [
    "## Object Oriented Programming"
   ]
  },
  {
   "cell_type": "markdown",
   "metadata": {},
   "source": [
    "### Question 3\n",
    "\n",
    "Fahrenheit and Celsius are two commonly used temperature units. Fahrenheit can be convert to Celsius using the following formula:\n",
    "\n",
    "$$t(C) = \\frac{t(F) - 32}{1.8}$$\n",
    "\n",
    "Below is a comparison of temperature scales\n",
    "\n",
    "|                                  | Celsius | Fahrenheit |\n",
    "|----------------------------------|---------|------------|\n",
    "| Absolute zero                    | -273.15 | -459.67    |\n",
    "| Ice melts                        | 0.00    | 32.00      |\n",
    "| Average human body temperature   | 37      | 98.6       |\n",
    "| Water boils at standard pressure | 100     | 212        |\n",
    "\n"
   ]
  },
  {
   "cell_type": "markdown",
   "metadata": {},
   "source": [
    "**Question**: Design and implement a `Temperature` class. Your class should be initialized with string inputs such as '-273.15C', '0F' or '37C', where 'F' stands for Fahrenheit and 'C' stands for Celsius.\n",
    "\n",
    "Implement the following functions in your `Temperature` class:\n",
    "\n",
    "* `Temperature.__init__(temperature)`: initialize the Temperature class with a string input\n",
    "* `Temperature.to_fahrenheit()`: return the string representation (round to 2 decimal places) of the temperature in Fahrenheit\n",
    "* `Temperature.to_celsius()`: return the string representation (round to 2 decimal places) of the temperature in Celsius\n",
    "\n",
    "You may assume the input is always composed of two parts, the numerical part and the unit part. The unit is a single character letter and only `'F'` and `'C'` are valid. If the unit is not valid, e.g., `'0K'`, then an exception should to be raised.\n",
    "\n",
    "Your implementation will be called as:\n",
    "\n",
    "```\n",
    ">>> t = '0C'\n",
    ">>> temp = Temperature(t)\n",
    ">>> print(temp.to_fahrenheit())\n",
    "32.00F\n",
    ">>> print(temp.to_celsius())\n",
    "0.00C\n",
    ">>>\n",
    ">>> t = '0K'\n",
    ">>> temp = Temperature(t)\n",
    "---------------------------------------------------------------------------\n",
    "ValueError                                Traceback (most recent call last)\n",
    "<ipython-input-78-a969fb612f68> in <module>()\n",
    "----> 1 Temperature('0K')\n",
    "\n",
    "... ...\n",
    "\n",
    "ValueError: Unit invalid or not supported\n",
    "```\n"
   ]
  },
  {
   "cell_type": "code",
   "execution_count": 386,
   "metadata": {},
   "outputs": [],
   "source": [
    "# Answer:\n",
    "import re\n",
    "\n",
    "class Temperature(object):\n",
    "\n",
    "    def __init__(self, temperature):\n",
    "        \"\"\"Initialize your data structure here.\n",
    "\n",
    "        :param temperature: str\n",
    "        \"\"\"\n",
    "        self.degree = float(re.search('-?\\d*\\.*\\d*',temperature).group(0))\n",
    "        self.unit = (re.search('.',temperature).group(0))\n",
    "        if self.unit not in ('F','C'):\n",
    "            raise ValueError('Unit invalid or not supported')\n",
    "    def to_fahrenheit(self):\n",
    "        \"\"\"String representation (round to 2 decimal places) of the temperature in Fahrenheit.\n",
    "\n",
    "        :return: str\n",
    "        \"\"\"\n",
    "        if self.unit == 'F':\n",
    "            return '%.2fF' % self.degree\n",
    "        return '%.2fF' % ((self.degree*1.8)+32)\n",
    "\n",
    "    def to_celsius(self):\n",
    "        \"\"\"String representation (round to 2 decimal places) of the temperature in Celsius.\n",
    "\n",
    "        :return: str\n",
    "        \"\"\"\n",
    "        if self.unit == 'C':\n",
    "            return '%.2fC' % self.degree\n",
    "        return '%.2fC' % ((self.degree-32)/(1.8))\n",
    "\n"
   ]
  },
  {
   "cell_type": "code",
   "execution_count": 387,
   "metadata": {},
   "outputs": [
    {
     "ename": "ValueError",
     "evalue": "Unit invalid or not supported",
     "output_type": "error",
     "traceback": [
      "\u001b[0;31m---------------------------------------------------------------------------\u001b[0m",
      "\u001b[0;31mValueError\u001b[0m                                Traceback (most recent call last)",
      "\u001b[0;32m<ipython-input-387-450c89419b3b>\u001b[0m in \u001b[0;36m<module>\u001b[0;34m\u001b[0m\n\u001b[1;32m      9\u001b[0m \u001b[0;34m\u001b[0m\u001b[0m\n\u001b[1;32m     10\u001b[0m \u001b[0;32mfor\u001b[0m \u001b[0mc\u001b[0m\u001b[0;34m,\u001b[0m \u001b[0mf\u001b[0m \u001b[0;32min\u001b[0m \u001b[0mzip\u001b[0m\u001b[0;34m(\u001b[0m\u001b[0mcelsius\u001b[0m\u001b[0;34m,\u001b[0m \u001b[0mfahrenheit\u001b[0m\u001b[0;34m)\u001b[0m\u001b[0;34m:\u001b[0m\u001b[0;34m\u001b[0m\u001b[0;34m\u001b[0m\u001b[0m\n\u001b[0;32m---> 11\u001b[0;31m     \u001b[0mx\u001b[0m \u001b[0;34m=\u001b[0m \u001b[0mTemperature\u001b[0m\u001b[0;34m(\u001b[0m\u001b[0mc\u001b[0m\u001b[0;34m)\u001b[0m\u001b[0;34m\u001b[0m\u001b[0;34m\u001b[0m\u001b[0m\n\u001b[0m\u001b[1;32m     12\u001b[0m     \u001b[0my\u001b[0m \u001b[0;34m=\u001b[0m \u001b[0mTemperature\u001b[0m\u001b[0;34m(\u001b[0m\u001b[0mf\u001b[0m\u001b[0;34m)\u001b[0m\u001b[0;34m\u001b[0m\u001b[0;34m\u001b[0m\u001b[0m\n\u001b[1;32m     13\u001b[0m     \u001b[0;32mtry\u001b[0m\u001b[0;34m:\u001b[0m\u001b[0;34m\u001b[0m\u001b[0;34m\u001b[0m\u001b[0m\n",
      "\u001b[0;32m<ipython-input-386-9a3532daa250>\u001b[0m in \u001b[0;36m__init__\u001b[0;34m(self, temperature)\u001b[0m\n\u001b[1;32m     12\u001b[0m         \u001b[0mself\u001b[0m\u001b[0;34m.\u001b[0m\u001b[0munit\u001b[0m \u001b[0;34m=\u001b[0m \u001b[0;34m(\u001b[0m\u001b[0mre\u001b[0m\u001b[0;34m.\u001b[0m\u001b[0msearch\u001b[0m\u001b[0;34m(\u001b[0m\u001b[0;34m'.'\u001b[0m\u001b[0;34m,\u001b[0m\u001b[0mtemperature\u001b[0m\u001b[0;34m)\u001b[0m\u001b[0;34m.\u001b[0m\u001b[0mgroup\u001b[0m\u001b[0;34m(\u001b[0m\u001b[0;36m0\u001b[0m\u001b[0;34m)\u001b[0m\u001b[0;34m)\u001b[0m\u001b[0;34m\u001b[0m\u001b[0;34m\u001b[0m\u001b[0m\n\u001b[1;32m     13\u001b[0m         \u001b[0;32mif\u001b[0m \u001b[0mself\u001b[0m\u001b[0;34m.\u001b[0m\u001b[0munit\u001b[0m \u001b[0;32mnot\u001b[0m \u001b[0;32min\u001b[0m \u001b[0;34m(\u001b[0m\u001b[0;34m'F'\u001b[0m\u001b[0;34m,\u001b[0m\u001b[0;34m'C'\u001b[0m\u001b[0;34m)\u001b[0m\u001b[0;34m:\u001b[0m\u001b[0;34m\u001b[0m\u001b[0;34m\u001b[0m\u001b[0m\n\u001b[0;32m---> 14\u001b[0;31m             \u001b[0;32mraise\u001b[0m \u001b[0mValueError\u001b[0m\u001b[0;34m(\u001b[0m\u001b[0;34m'Unit invalid or not supported'\u001b[0m\u001b[0;34m)\u001b[0m\u001b[0;34m\u001b[0m\u001b[0;34m\u001b[0m\u001b[0m\n\u001b[0m\u001b[1;32m     15\u001b[0m     \u001b[0;32mdef\u001b[0m \u001b[0mto_fahrenheit\u001b[0m\u001b[0;34m(\u001b[0m\u001b[0mself\u001b[0m\u001b[0;34m)\u001b[0m\u001b[0;34m:\u001b[0m\u001b[0;34m\u001b[0m\u001b[0;34m\u001b[0m\u001b[0m\n\u001b[1;32m     16\u001b[0m         \"\"\"String representation (round to 2 decimal places) of the temperature in Fahrenheit.\n",
      "\u001b[0;31mValueError\u001b[0m: Unit invalid or not supported"
     ]
    }
   ],
   "source": [
    "# Test:\n",
    "# DO NOT modify this cell\n",
    "\n",
    "test = TestCase()\n",
    "fails = 0\n",
    "\n",
    "celsius = ('-273.15C', '0C', '37C', '100C')\n",
    "fahrenheit = ('-459.67F', '32.00F', '98.60F', '212.00F')\n",
    "\n",
    "for c, f in zip(celsius, fahrenheit):\n",
    "    x = Temperature(c)\n",
    "    y = Temperature(f)\n",
    "    try:\n",
    "        test.assertSetEqual(set([x.to_celsius()[-1], y.to_celsius()[-1]]), set('C'))\n",
    "        test.assertSetEqual(set([x.to_fahrenheit()[-1], y.to_fahrenheit()[-1]]), set('F'))\n",
    "        test.assertAlmostEqual(float(c[:-1]), float(x.to_celsius()[:-1]), places=1)\n",
    "        test.assertAlmostEqual(float(c[:-1]), float(y.to_celsius()[:-1]), places=1)\n",
    "        test.assertAlmostEqual(float(f[:-1]), float(x.to_fahrenheit()[:-1]), places=1)\n",
    "        test.assertAlmostEqual(float(f[:-1]), float(y.to_fahrenheit()[:-1]), places=1)\n",
    "    except AssertionError as e:\n",
    "        fails += 1\n",
    "        print('Failed to pass the test case with input: \"{}\"/\"{}\".\\nError: {}\\n'.format(c, f, e))\n",
    "else:\n",
    "    t = '12K'\n",
    "    try:\n",
    "        test.assertRaises(ValueError, Temperature, t)\n",
    "    except AssertionError as e:\n",
    "        fails += 1\n",
    "        print('Failed to raise Exception with input: \"{}\".\\nError: {}\\n'.format(t, e))\n",
    "    if fails == 0:\n",
    "        print('All test cases passed!')"
   ]
  },
  {
   "cell_type": "markdown",
   "metadata": {},
   "source": [
    "## Numpy and Scientific Computing "
   ]
  },
  {
   "cell_type": "markdown",
   "metadata": {},
   "source": [
    "### Question 4\n",
    "\n",
    "In a simple linear regression model, the relationship between response variable $y$ and features $x$ are modeled as:\n",
    "\n",
    "$$y = \\beta_0 + \\beta_1 x$$\n",
    "\n",
    "or in a matrix format if we concatenate a column of 1 with feature $x$:\n",
    "\n",
    "$$y = X \\cdot \\beta$$\n",
    "\n",
    "where $X$ is a $n \\times 2$ matrix and $\\beta = [\\beta_{0}, \\beta_{1}]$ is a $2 \\times 1$ matrix.\n",
    "\n",
    "The coefficient matrix $\\beta$ can be estimated using the following formula:\n",
    "\n",
    "$$\\beta = (X^T \\cdot X)^{-1} \\cdot X^T \\cdot y$$\n",
    "\n",
    "where $X^T$ is the matrix transpose of $X$."
   ]
  },
  {
   "cell_type": "markdown",
   "metadata": {},
   "source": [
    "**Question**: Complete the function `fit(X, y)` below to calculate the coefficient matrix $\\beta$ using `numpy`.\n",
    "\n",
    "Your function will be called as:\n",
    "\n",
    "```\n",
    ">>> X = np.concatenate([np.ones((4, 1)), np.array([-1,0,1,2]).reshape(-1, 1)], axis=1)\n",
    ">>> X\n",
    "array([[ 1., -1.],\n",
    "       [ 1.,  0.],\n",
    "       [ 1.,  1.],\n",
    "       [ 1.,  2.]])\n",
    ">>> y = np.array([4,2,0,-2]).reshape(-1, 1)\n",
    ">>> y\n",
    "array([[ 4],\n",
    "       [ 2],\n",
    "       [ 0],\n",
    "       [-2]])\n",
    ">>> fit(X, y)\n",
    "array([[ 2.],\n",
    "       [-2.]])\n",
    "```\n",
    "\n",
    "*Hint*:\n",
    "* `numpy.matmul(a, b)`: Matrix product of two arrays.\n",
    "* `numpy.linalg.inv(a)`: Compute the (multiplicative) inverse of a matrix."
   ]
  },
  {
   "cell_type": "code",
   "execution_count": 388,
   "metadata": {},
   "outputs": [],
   "source": [
    "import numpy as np\n",
    "\n",
    "\n",
    "def fit(X, y):\n",
    "    \"\"\"Compute the coefficients of a linear model.\n",
    "\n",
    "    :param X: Training data, shape (n_samples, n_features)\n",
    "    :param y: Target values, shape (n_samples, 1)\n",
    "    :return: Coefficient, shape (n_features, 1)\n",
    "    \"\"\"\n",
    "    a = np.linalg.inv(np.matmul(X.T,X))\n",
    "    b = X.T\n",
    "    return np.matmul(np.matmul(a, b),y)"
   ]
  },
  {
   "cell_type": "code",
   "execution_count": 389,
   "metadata": {},
   "outputs": [
    {
     "name": "stdout",
     "output_type": "stream",
     "text": [
      "All test cases passed!\n"
     ]
    }
   ],
   "source": [
    "# Test:\n",
    "# DO NOT modify this cell\n",
    "\n",
    "test = TestCase()\n",
    "fails = 0\n",
    "\n",
    "for n in range(10, 100, 20):\n",
    "    b0, b1 = random.random(), random.random()\n",
    "    X = np.concatenate([np.ones((n, 1)), \n",
    "                        np.array([i for i in range(n)]).reshape(-1, 1)], axis=1)\n",
    "    y = np.array([b0 + b1*i for i in range(n)]).reshape(-1, 1)\n",
    "    coef = fit(X, y)\n",
    "    try:\n",
    "        test.assertAlmostEqual(b0, coef[0, 0], places=1)\n",
    "        test.assertAlmostEqual(b1, coef[1, 0], places=1)\n",
    "    except AssertionError as e:\n",
    "        fails += 1\n",
    "        print('Failed to pass the test case with coefficients: \"{}\"/\"{}\".\\nError: {}\\n'.format(b0, b1, e))\n",
    "else:\n",
    "    print('All test cases passed!')"
   ]
  },
  {
   "cell_type": "markdown",
   "metadata": {},
   "source": [
    "## Python Data Analysis"
   ]
  },
  {
   "cell_type": "markdown",
   "metadata": {},
   "source": [
    "### Question 5\n",
    "\n",
    "The `sklearn.datasets` package embeds some small toy datasets. The original data format is numpy array, so we create a Pandas DataFrame called `data` for you. You can read the dataset decscription via `boston.DESCR`.\n",
    "\n",
    "Answer the following questions using `pandas`:\n",
    "\n",
    "1. Among all the features, what are the top 3 most positively and negatively correlated features with the target variable `'MEDV'`? Calculate the correlation coefficient with pearson correlation.\n",
    "2. The feature `'CHAS'` is a binary categorical variable. Compute the *median* and *standard deviation* of target varialbe `'MEDV'` in each group."
   ]
  },
  {
   "cell_type": "code",
   "execution_count": 390,
   "metadata": {},
   "outputs": [
    {
     "data": {
      "text/html": [
       "<div>\n",
       "<style scoped>\n",
       "    .dataframe tbody tr th:only-of-type {\n",
       "        vertical-align: middle;\n",
       "    }\n",
       "\n",
       "    .dataframe tbody tr th {\n",
       "        vertical-align: top;\n",
       "    }\n",
       "\n",
       "    .dataframe thead th {\n",
       "        text-align: right;\n",
       "    }\n",
       "</style>\n",
       "<table border=\"1\" class=\"dataframe\">\n",
       "  <thead>\n",
       "    <tr style=\"text-align: right;\">\n",
       "      <th></th>\n",
       "      <th>MEDV</th>\n",
       "    </tr>\n",
       "  </thead>\n",
       "  <tbody>\n",
       "    <tr>\n",
       "      <th>LSTAT</th>\n",
       "      <td>-0.737663</td>\n",
       "    </tr>\n",
       "    <tr>\n",
       "      <th>PTRATIO</th>\n",
       "      <td>-0.507787</td>\n",
       "    </tr>\n",
       "    <tr>\n",
       "      <th>INDUS</th>\n",
       "      <td>-0.483725</td>\n",
       "    </tr>\n",
       "  </tbody>\n",
       "</table>\n",
       "</div>"
      ],
      "text/plain": [
       "             MEDV\n",
       "LSTAT   -0.737663\n",
       "PTRATIO -0.507787\n",
       "INDUS   -0.483725"
      ]
     },
     "execution_count": 390,
     "metadata": {},
     "output_type": "execute_result"
    }
   ],
   "source": [
    "# Answer:\n",
    "\n",
    "# Q 1\n",
    "from sklearn import datasets\n",
    "import pandas as pd\n",
    "boston = datasets.load_boston()\n",
    "data = pd.DataFrame(boston.data, columns=boston.feature_names)\n",
    "data['MEDV'] = boston.target\n",
    "\n",
    "def negativecorr():\n",
    "    cordata = data.corr(method ='pearson')[['MEDV']].sort_values('MEDV') \n",
    "    return cordata[:3]\n",
    "negativecorr()\n"
   ]
  },
  {
   "cell_type": "code",
   "execution_count": 391,
   "metadata": {},
   "outputs": [
    {
     "data": {
      "text/html": [
       "<div>\n",
       "<style scoped>\n",
       "    .dataframe tbody tr th:only-of-type {\n",
       "        vertical-align: middle;\n",
       "    }\n",
       "\n",
       "    .dataframe tbody tr th {\n",
       "        vertical-align: top;\n",
       "    }\n",
       "\n",
       "    .dataframe thead th {\n",
       "        text-align: right;\n",
       "    }\n",
       "</style>\n",
       "<table border=\"1\" class=\"dataframe\">\n",
       "  <thead>\n",
       "    <tr style=\"text-align: right;\">\n",
       "      <th></th>\n",
       "      <th>MEDV</th>\n",
       "    </tr>\n",
       "    <tr>\n",
       "      <th>CHAS</th>\n",
       "      <th></th>\n",
       "    </tr>\n",
       "  </thead>\n",
       "  <tbody>\n",
       "    <tr>\n",
       "      <th>0.0</th>\n",
       "      <td>20.9</td>\n",
       "    </tr>\n",
       "    <tr>\n",
       "      <th>1.0</th>\n",
       "      <td>23.3</td>\n",
       "    </tr>\n",
       "  </tbody>\n",
       "</table>\n",
       "</div>"
      ],
      "text/plain": [
       "      MEDV\n",
       "CHAS      \n",
       "0.0   20.9\n",
       "1.0   23.3"
      ]
     },
     "execution_count": 391,
     "metadata": {},
     "output_type": "execute_result"
    }
   ],
   "source": [
    "\n",
    "\n",
    "# Q 2\n",
    "def medianchas():\n",
    "    med = data.groupby('CHAS').median()\n",
    "    return pd.DataFrame(med.MEDV)\n",
    "medianchas()\n"
   ]
  }
 ],
 "metadata": {
  "kernelspec": {
   "display_name": "Python 3",
   "language": "python",
   "name": "python3"
  },
  "language_info": {
   "codemirror_mode": {
    "name": "ipython",
    "version": 3
   },
   "file_extension": ".py",
   "mimetype": "text/x-python",
   "name": "python",
   "nbconvert_exporter": "python",
   "pygments_lexer": "ipython3",
   "version": "3.7.3"
  }
 },
 "nbformat": 4,
 "nbformat_minor": 2
}
