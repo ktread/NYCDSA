{
 "cells": [
  {
   "cell_type": "markdown",
   "metadata": {},
   "source": [
    "<p><a name=\"sections\"></a></p>\n",
    "<br>\n",
    "<br>\n",
    "\n",
    "# Sections\n",
    "\n",
    "- <a href=\"#intro\">Introduction to Beautiful Soup</a><br>\n",
    "    - <a href=\"#web\">What is web scraping</a><br>\n",
    "    - <a href=\"#html\">Introduction to HTML</a><br>\n",
    "    - <a href=\"#beautiful\">Basics of Beautiful Soup</a><br>\n",
    "\n",
    "- <a href=\"#example\">Examples</a><br>\n",
    "    - <a href=\"#calendar\">Python User Group Calendar</a><br>\n",
    "    - <a href=\"#yelp\">Scrape Yelp Reviews</a><br>"
   ]
  },
  {
   "cell_type": "markdown",
   "metadata": {},
   "source": [
    "<p><a name=\"web\"></a></p>\n",
    "\n",
    "## What is web scraping?\n",
    "\n",
    "- HTML is short for **HyperText Markup Language**. It's a language for presenting content on the Web.\n",
    "\n",
    "- Plain text is turned into an HTML document by **tags** that are then interpreted by a browser.\n",
    "\n",
    "- Using BeautifulSoup, you can easily extract the tag values from HTML source code."
   ]
  },
  {
   "cell_type": "markdown",
   "metadata": {},
   "source": [
    "### Beautiful Soup VS Regular Expressions"
   ]
  },
  {
   "cell_type": "code",
   "execution_count": 3,
   "metadata": {},
   "outputs": [
    {
     "name": "stdout",
     "output_type": "stream",
     "text": [
      "<!DOCTYPE html>\r\n",
      "<html>\r\n",
      "    <head>\r\n",
      "        <title>Hi</title> <!--Im a comment, ignore me.-->\r\n",
      "    </head>\r\n",
      "    <body>\r\n",
      "        <a href='http://www.crummy.com/software/BeautifulSoup/'>Hello, beautifulsoup!</a>\r\n",
      "    </body>\r\n",
      "</html>\r\n"
     ]
    }
   ],
   "source": [
    "# the source code of hi.html\n",
    "!cat data/hi.html\n",
    "# Windows user\n",
    "# !type data\\hi.html"
   ]
  },
  {
   "cell_type": "markdown",
   "metadata": {},
   "source": [
    "### Example:\n",
    "- Extract the characters between the title tags. \n",
    "\n",
    "\n",
    "- In this case it's `Hi` (`<title>Hi</title>`)."
   ]
  },
  {
   "cell_type": "markdown",
   "metadata": {},
   "source": [
    "- **Solution using Regular Expressions**"
   ]
  },
  {
   "cell_type": "code",
   "execution_count": 4,
   "metadata": {},
   "outputs": [
    {
     "name": "stdout",
     "output_type": "stream",
     "text": [
      "['Hi']\n"
     ]
    }
   ],
   "source": [
    "import re\n",
    "hi_path = 'data/hi.html'\n",
    "with open(hi_path, 'r') as f:\n",
    "    hi = f.read()\n",
    "    print(re.findall('<title>(.*)</title>', hi))"
   ]
  },
  {
   "cell_type": "markdown",
   "metadata": {},
   "source": [
    "- **Solution using BeautifulSoup**"
   ]
  },
  {
   "cell_type": "code",
   "execution_count": 5,
   "metadata": {
    "scrolled": true
   },
   "outputs": [
    {
     "name": "stdout",
     "output_type": "stream",
     "text": [
      "<title>Hi</title>\n",
      "Hi\n"
     ]
    }
   ],
   "source": [
    "from bs4 import BeautifulSoup\n",
    "with open(hi_path, 'r') as f:\n",
    "    hi = f.read()\n",
    "    hi = BeautifulSoup(hi, 'html.parser')\n",
    "    print(hi.title) # find the title tag\n",
    "    print(hi.title.string)  # find the value of tag"
   ]
  },
  {
   "cell_type": "markdown",
   "metadata": {},
   "source": [
    "**Compared with regular expressions:**\n",
    "    \n",
    "- Beautiful Soup's syntax is much simpler, while regular expressions are more flexible."
   ]
  },
  {
   "cell_type": "markdown",
   "metadata": {},
   "source": [
    "<p><a name=\"html\"></a></p>\n",
    "\n",
    "## Introduction to HTML"
   ]
  },
  {
   "cell_type": "markdown",
   "metadata": {},
   "source": [
    "### Tag\n",
    "\n",
    "- The `<title>` tags in this example designate the enclosed text as the title to be displayed in the head of the browser tab.\n",
    "![hi](pic/hi.png)\n",
    "\n",
    "- Tags are always enclosed by `<` and `>` to distinguish them from the content. \n",
    "- A pair of tags consist of start and end tags which carry the same name, but the end tag is preceded by a slash `/` ."
   ]
  },
  {
   "cell_type": "markdown",
   "metadata": {},
   "source": [
    "### Values\n",
    "\n",
    "Values are the content between start tags and end tags.\n",
    "\n",
    "- **Example**\n",
    "\n",
    "`<title>Hi</title>`: It's a title tag with a value of `Hi`."
   ]
  },
  {
   "cell_type": "markdown",
   "metadata": {},
   "source": [
    "### Attributes\n",
    "Tags have another feauture called attributes.\n",
    "\n",
    "- **Example**\n",
    "\n",
    "`<a href='http://www.crummy.com/software/BeautifulSoup/'>Hello, beautifulsoup!</a>`\n",
    "\n",
    "The anchor tag `<a>` with an attribute `href` and hyperlink—http://www.crummy.com/software/BeautifulSoup/. It creates an association of text points to another address (a hyperlink)."
   ]
  },
  {
   "cell_type": "markdown",
   "metadata": {},
   "source": [
    "### Tree structure\n",
    "- The first tag in the example is the `<html>` tag. \n",
    "\n",
    "- Between the `<html>` tags, several tags are opened and closed again: `<head>, <title>` , and\n",
    "`<body>, <a>`.\n",
    "\n",
    "    - The `<head>` and `<body>` tags are directly enclosed by the `<html>` tag. \n",
    "    - The `<title>` tag is enclosed by the `<head>` tag.\n",
    "    - The `<a>` tag is enclosed by the `<body>` tag.\n",
    "\n",
    "\n",
    "- A good way to describe the multiple layers of an HTML document is the tree analogy. \n",
    "![html](pic/html.png)\n",
    "\n",
    "- The `html` tag is the root tag that splits into two branches, `<head>` and `<body>`; `<head>` is followed by another branch called `<title>`; `<body>` is followed by another branch called `<a>`."
   ]
  },
  {
   "cell_type": "markdown",
   "metadata": {},
   "source": [
    "<p><a name=\"beautiful\"></a></p>\n",
    "\n",
    "## Basics of Beautiful Soup"
   ]
  },
  {
   "cell_type": "markdown",
   "metadata": {},
   "source": [
    "### Parse HTML"
   ]
  },
  {
   "cell_type": "markdown",
   "metadata": {},
   "source": [
    "- The `prettify()` method adds indentations so that it will help you understand the tree structure of the html document."
   ]
  },
  {
   "cell_type": "code",
   "execution_count": 6,
   "metadata": {},
   "outputs": [
    {
     "name": "stdout",
     "output_type": "stream",
     "text": [
      "<class 'bs4.BeautifulSoup'>\n",
      "\n",
      "\n",
      "<!DOCTYPE html>\n",
      "<html>\n",
      " <head>\n",
      "  <title>\n",
      "   Hi\n",
      "  </title>\n",
      "  <!--Im a comment, ignore me.-->\n",
      " </head>\n",
      " <body>\n",
      "  <a href=\"http://www.crummy.com/software/BeautifulSoup/\">\n",
      "   Hello, beautifulsoup!\n",
      "  </a>\n",
      " </body>\n",
      "</html>\n",
      "\n"
     ]
    }
   ],
   "source": [
    "from bs4 import BeautifulSoup\n",
    "# open a local file and parse the plain text by BeautifulSoup directly\n",
    "with open(hi_path, 'r') as f:\n",
    "    hi = f.read()\n",
    "    hi = BeautifulSoup(hi, 'html.parser')\n",
    "    print(type(hi)) # get a bs4.BeautifulSoup object\n",
    "    print('\\n')\n",
    "    print(hi.prettify())"
   ]
  },
  {
   "cell_type": "markdown",
   "metadata": {},
   "source": [
    "### Names, Values, and Attributes\n",
    "\n",
    "Beautiful Soup can extract the `name`, `value` and `attributes` of tags. The corresponding methods are:\n",
    "- name\n",
    "- string\n",
    "- attrs"
   ]
  },
  {
   "cell_type": "code",
   "execution_count": 7,
   "metadata": {},
   "outputs": [
    {
     "name": "stdout",
     "output_type": "stream",
     "text": [
      "The name of a tags is:  a\n",
      "The value of a tags is:  Hello, beautifulsoup!\n",
      "The attribute of a tags is:  {'href': 'http://www.crummy.com/software/BeautifulSoup/'}\n"
     ]
    }
   ],
   "source": [
    "print(\"The name of a tags is: \", hi.a.name)\n",
    "print(\"The value of a tags is: \", hi.a.string)\n",
    "print(\"The attribute of a tags is: \", hi.a.attrs)"
   ]
  },
  {
   "cell_type": "markdown",
   "metadata": {},
   "source": [
    "### get_text() & get()\n",
    "- For tags that have child tags the string does not work"
   ]
  },
  {
   "cell_type": "code",
   "execution_count": 8,
   "metadata": {},
   "outputs": [
    {
     "name": "stdout",
     "output_type": "stream",
     "text": [
      "None\n"
     ]
    }
   ],
   "source": [
    "print(hi.html.string)"
   ]
  },
  {
   "cell_type": "markdown",
   "metadata": {},
   "source": [
    "- Use the get_text method instead. The `get_text()` method will extract all the contents of child tags."
   ]
  },
  {
   "cell_type": "code",
   "execution_count": 9,
   "metadata": {},
   "outputs": [
    {
     "name": "stdout",
     "output_type": "stream",
     "text": [
      "\n",
      "\n",
      "Hi \n",
      "\n",
      "\n",
      "Hello, beautifulsoup!\n",
      "\n",
      "\n"
     ]
    }
   ],
   "source": [
    "print(hi.html.get_text())"
   ]
  },
  {
   "cell_type": "markdown",
   "metadata": {},
   "source": [
    "- `get()` is used to find the attribute of a tag. For example, we can get the href of tag a using the following code. \n",
    "\n",
    "- It is the same as run `hi.a.attrs` first and then find the value of key `href` from the dictionary."
   ]
  },
  {
   "cell_type": "code",
   "execution_count": 10,
   "metadata": {},
   "outputs": [
    {
     "name": "stdout",
     "output_type": "stream",
     "text": [
      "http://www.crummy.com/software/BeautifulSoup/\n"
     ]
    }
   ],
   "source": [
    "print(hi.a.get('href'))"
   ]
  },
  {
   "cell_type": "code",
   "execution_count": 11,
   "metadata": {},
   "outputs": [
    {
     "name": "stdout",
     "output_type": "stream",
     "text": [
      "{'href': 'http://www.crummy.com/software/BeautifulSoup/'}\n"
     ]
    }
   ],
   "source": [
    "print(hi.a.attrs)"
   ]
  },
  {
   "cell_type": "markdown",
   "metadata": {},
   "source": [
    "### find() & find_all()\n",
    "The functions `find` and `findall` are flexible for finding tags."
   ]
  },
  {
   "cell_type": "code",
   "execution_count": 12,
   "metadata": {},
   "outputs": [
    {
     "name": "stdout",
     "output_type": "stream",
     "text": [
      "<!DOCTYPE html>\r\n",
      "<html>\r\n",
      "    <head>\r\n",
      "        <title>Article</title>\r\n",
      "    </head>\r\n",
      "    <body>\r\n",
      "        <h1 id='one'>One</h1>\r\n",
      "        \t<p>This is the first paragraph.</p>\r\n",
      "        <h2 id='two'>Two</h2>\r\n",
      "        \t<p><a href='www.google.com'>Here is the Google website.</a></p>\r\n",
      "        <h3 id='three'>Three</h3>\r\n",
      "        \t<p>This is the third paragraph.</p>\r\n",
      "    </body>\r\n",
      "</html>\r\n"
     ]
    }
   ],
   "source": [
    "!cat data/article.html\n",
    "# Windows user\n",
    "# !type data\\article.html"
   ]
  },
  {
   "cell_type": "markdown",
   "metadata": {},
   "source": [
    "![article](pic/article.png)"
   ]
  },
  {
   "cell_type": "code",
   "execution_count": 13,
   "metadata": {},
   "outputs": [],
   "source": [
    "article_path = 'data/article.html'\n",
    "with open(article_path, 'r') as f:\n",
    "    article = f.read()\n",
    "    article = BeautifulSoup(article, 'html.parser')"
   ]
  },
  {
   "cell_type": "markdown",
   "metadata": {},
   "source": [
    "- Return only the first `p` tag."
   ]
  },
  {
   "cell_type": "code",
   "execution_count": 16,
   "metadata": {},
   "outputs": [
    {
     "name": "stdout",
     "output_type": "stream",
     "text": [
      "<p>This is the first paragraph.</p>\n"
     ]
    }
   ],
   "source": [
    "print(article.p)"
   ]
  },
  {
   "cell_type": "markdown",
   "metadata": {},
   "source": [
    "- `find()` returns the first p tags, which is equivalent to article.p"
   ]
  },
  {
   "cell_type": "code",
   "execution_count": 17,
   "metadata": {},
   "outputs": [
    {
     "name": "stdout",
     "output_type": "stream",
     "text": [
      "<p>This is the first paragraph.</p>\n"
     ]
    }
   ],
   "source": [
    "print(article.find('p'))"
   ]
  },
  {
   "cell_type": "markdown",
   "metadata": {},
   "source": [
    "- `find_all()` returns all p tags"
   ]
  },
  {
   "cell_type": "code",
   "execution_count": 18,
   "metadata": {},
   "outputs": [
    {
     "name": "stdout",
     "output_type": "stream",
     "text": [
      "[<p>This is the first paragraph.</p>, <p><a href=\"www.google.com\">Here is the Google website.</a></p>, <p>This is the third paragraph.</p>]\n"
     ]
    }
   ],
   "source": [
    "print(article.find_all('p'))"
   ]
  },
  {
   "cell_type": "markdown",
   "metadata": {},
   "source": [
    "- To find the tags that have specific attributes, you can pass a dictionary as the `attrs` argument."
   ]
  },
  {
   "cell_type": "code",
   "execution_count": 19,
   "metadata": {},
   "outputs": [
    {
     "name": "stdout",
     "output_type": "stream",
     "text": [
      "[<h1 id=\"one\">One</h1>]\n"
     ]
    }
   ],
   "source": [
    "print(article.find_all('h1', attrs={'id':'one'}))"
   ]
  },
  {
   "cell_type": "markdown",
   "metadata": {},
   "source": [
    "- You can also specify a function to extract a list of Tag objects that match the given criteria.\n",
    "- It is the same as the following:"
   ]
  },
  {
   "cell_type": "code",
   "execution_count": 20,
   "metadata": {},
   "outputs": [
    {
     "name": "stdout",
     "output_type": "stream",
     "text": [
      "[<h1 id=\"one\">One</h1>]\n"
     ]
    }
   ],
   "source": [
    "# the tags whose attribute id equals 'one'\n",
    "print(article.find_all(lambda tag: tag.get('id') == 'one'))"
   ]
  },
  {
   "cell_type": "markdown",
   "metadata": {},
   "source": [
    "<p><a name=\"example\"></a></p>\n",
    "\n",
    "## Examples"
   ]
  },
  {
   "cell_type": "markdown",
   "metadata": {},
   "source": [
    "<p><a name=\"calendar\"></a></p>\n",
    "\n",
    "### Python User Group Calendar"
   ]
  },
  {
   "cell_type": "markdown",
   "metadata": {},
   "source": [
    "Let's extract the time, location, and event titles from this web page [Python User Group Calendar](https://www.python.org/events/python-user-group/)."
   ]
  },
  {
   "cell_type": "markdown",
   "metadata": {},
   "source": [
    "<img src=pic/events.png width=800/>"
   ]
  },
  {
   "cell_type": "markdown",
   "metadata": {},
   "source": [
    "- For the examples we discussed before, we saved the html document locally. However, you don't want to download all the pages and then start scraping for your web scraping project.\n",
    "- The [Requests package](http://docs.python-requests.org/en/master/) we are using here is well designed and very popular in the industry. It makes http requests easy to use with Python.\n",
    "- The `get` method we are using here is one type of [http request](https://www.tutorialspoint.com/http/http_methods.htm). It is most often used to retrieve information from the web server. "
   ]
  },
  {
   "cell_type": "code",
   "execution_count": 21,
   "metadata": {},
   "outputs": [],
   "source": [
    "import requests\n",
    "response = requests.get('https://www.python.org/events/python-user-group/')\n",
    "text = BeautifulSoup(response.text, 'html.parser')"
   ]
  },
  {
   "cell_type": "code",
   "execution_count": 22,
   "metadata": {},
   "outputs": [
    {
     "name": "stdout",
     "output_type": "stream",
     "text": [
      "<!DOCTYPE doctype html>\n",
      "<!--[if lt IE 7]>   <html class=\"no-js ie6 lt-ie7 lt-ie8 lt-ie9\">   <![endif]-->\n",
      "<!--[if IE 7]>      <html class=\"no-js ie7 lt-ie8 lt-ie9\">          <![endif]-->\n",
      "<!--[if IE 8]>      <html class=\"no-js ie8 lt-ie9\">                 <![endif]-->\n",
      "<!--[if gt IE 8]><!-->\n",
      "<html class=\"no-js\" dir=\"ltr\" lang=\"en\">\n",
      " <!--<![endif]-->\n",
      " <head>\n",
      "  <meta charset=\"utf-8\"/>\n",
      "  <meta content=\"IE=edge\" http-equiv=\"X-UA-Compatible\"/>\n",
      "  <link href=\"//ajax.googleapis.com/ajax/libs/jquery/1.8.2/jquery.min.js\" rel=\"prefetch\"/>\n",
      "  <meta content=\"Python.org\" name=\"application-name\"/>\n",
      "  <meta content=\"The official home of the Python Programming Language\" name=\"msapplication-tooltip\"/>\n",
      "  <meta content=\"Python.org\" name=\"apple-mobile-web-app-title\"/>\n",
      "  <meta content=\"yes\" name=\"apple-mobile-web-app-capable\"/>\n",
      "  <meta content=\"black\" name=\"apple-mobile-web-app-status-bar-style\"/>\n",
      "  <meta content=\"width=device-width, initial-scale=1.0\" name=\"viewport\"/>\n",
      "  <meta content=\"True\" name=\"HandheldFriendly\"/>\n",
      "  <meta content=\"telephone=no\" name=\"format-detection\"/>\n",
      "  <meta content=\"on\" http-equiv=\"cleartype\"/>\n",
      "  <meta content=\"false\" http-equiv=\"imagetoolbar\"/>\n",
      "  <script src=\"/static/js/libs/modernizr.js\">\n",
      "  </script>\n",
      "  <link href=\"/static/stylesheets/style.67f4b30f7483.css\" rel=\"stylesheet\" title=\"default\" type=\"text/css\">\n",
      "   <link href=\"/static/stylesheets/mq.3ae8e02ece5b.css\" media=\"not print, braille, embossed, speech, tty\" rel=\"stylesheet\" type=\"text/css\"/>\n",
      "   <!--[if (lte IE 8)&(!IEMobile)]>\n",
      "    <link href=\"/static/stylesheets/no-mq.fcf414dc68a3.css\" rel=\"stylesheet\" type=\"text/css\" media=\"screen\" />\n",
      "    \n",
      "    \n",
      "    <![endif]-->\n",
      "   <link href=\"/static/favicon.ico\" rel=\"icon\" type=\"image/x-icon\"/>\n",
      "   <link href=\"/static/apple-touch-icon-144x144-precomposed.png\" rel=\"apple-touch-icon-precomposed\" sizes=\"144x144\"/>\n",
      "   <link href=\"/static/apple-touch-icon-114x114-precomposed.png\" rel=\"apple-touch-icon-precomposed\" sizes=\"114x114\"/>\n",
      "   <link href=\"/static/apple-touch-icon-72x72-precomposed.png\" rel=\"apple-touch-icon-precomposed\" sizes=\"72x72\"/>\n",
      "   <link href=\"/static/apple-touch-icon-precomposed.png\" rel=\"apple-touch-icon-precomposed\"/>\n",
      "   <link href=\"/static/apple-touch-icon-precomposed.png\" rel=\"apple-touch-icon\"/>\n",
      "   <meta content=\"/static/metro-icon-144x144-precomposed.png\" name=\"msapplication-TileImage\"/>\n",
      "   <!-- white shape -->\n",
      "   <meta content=\"#3673a5\" name=\"msapplication-TileColor\"/>\n",
      "   <!-- python blue -->\n",
      "   <meta content=\"#3673a5\" name=\"msapplication-navbutton-color\"/>\n",
      "   <title>\n",
      "    Our Events | Python.org\n",
      "   </title>\n",
      "   <meta content=\"The official home of the Python Programming Language\" name=\"description\"/>\n",
      "   <meta content=\"Python programming language object oriented web free open source software license documentation download community\" name=\"keywords\"/>\n",
      "   <meta content=\"website\" property=\"og:type\"/>\n",
      "   <meta content=\"Python.org\" property=\"og:site_name\"/>\n",
      "   <meta content=\"Our Events\" property=\"og:title\"/>\n",
      "   <meta content=\"The official home of the Python Programming Language\" property=\"og:description\"/>\n",
      "   <meta content=\"https://www.python.org/static/opengraph-icon-200x200.png\" property=\"og:image\"/>\n",
      "   <meta content=\"https://www.python.org/static/opengraph-icon-200x200.png\" property=\"og:image:secure_url\"/>\n",
      "   <meta content=\"https://www.python.org/events/python-user-group/\" property=\"og:url\"/>\n",
      "   <link href=\"/static/humans.txt\" rel=\"author\"/>\n",
      "   <link href=\"https://www.python.org/dev/peps/peps.rss/\" rel=\"alternate\" title=\"Python Enhancement Proposals\" type=\"application/rss+xml\"/>\n",
      "   <link href=\"https://www.python.org/jobs/feed/rss/\" rel=\"alternate\" title=\"Python Job Opportunities\" type=\"application/rss+xml\"/>\n",
      "   <link href=\"https://feeds.feedburner.com/PythonSoftwareFoundationNews\" rel=\"alternate\" title=\"Python Software Foundation News\" type=\"application/rss+xml\"/>\n",
      "   <link href=\"https://feeds.feedburner.com/PythonInsider\" rel=\"alternate\" title=\"Python Insider\" type=\"application/rss+xml\"/>\n",
      "   <script type=\"application/ld+json\">\n",
      "    {\n",
      "       \"@context\": \"https://schema.org\",\n",
      "       \"@type\": \"WebSite\",\n",
      "       \"url\": \"https://www.python.org/\",\n",
      "       \"potentialAction\": {\n",
      "         \"@type\": \"SearchAction\",\n",
      "         \"target\": \"https://www.python.org/search/?q={search_term_string}\",\n",
      "         \"query-input\": \"required name=search_term_string\"\n",
      "       }\n",
      "     }\n",
      "   </script>\n",
      "   <script type=\"text/javascript\">\n",
      "    var _gaq = _gaq || [];\n",
      "    _gaq.push(['_setAccount', 'UA-39055973-1']);\n",
      "    _gaq.push(['_trackPageview']);\n",
      "\n",
      "    (function() {\n",
      "        var ga = document.createElement('script'); ga.type = 'text/javascript'; ga.async = true;\n",
      "        ga.src = ('https:' == document.location.protocol ? 'https://ssl' : 'http://www') + '.google-analytics.com/ga.js';\n",
      "        var s = document.getElementsByTagName('script')[0]; s.parentNode.insertBefore(ga, s);\n",
      "    })();\n",
      "   </script>\n",
      "  </link>\n",
      " </head>\n",
      " <body class=\"python events default-page\">\n",
      "  <div id=\"touchnav-wrapper\">\n",
      "   <div class=\"do-not-print\" id=\"nojs\">\n",
      "    <p>\n",
      "     <strong>\n",
      "      Notice:\n",
      "     </strong>\n",
      "     While Javascript is not essential for this website, your interaction with the content will be limited. Please turn Javascript on for the full experience.\n",
      "    </p>\n",
      "   </div>\n",
      "   <!--[if lte IE 8]>\n",
      "        <div id=\"oldie-warning\" class=\"do-not-print\">\n",
      "            <p>\n",
      "                <strong>Notice:</strong> Your browser is <em>ancient</em>. Please\n",
      "                <a href=\"http://browsehappy.com/\">upgrade to a different browser</a> to experience a better web.\n",
      "            </p>\n",
      "        </div>\n",
      "        <![endif]-->\n",
      "   <!-- Sister Site Links -->\n",
      "   <div class=\"top-bar do-not-print\" id=\"top\">\n",
      "    <nav class=\"meta-navigation container\" role=\"navigation\">\n",
      "     <div class=\"skip-link screen-reader-text\">\n",
      "      <a href=\"#content\" title=\"Skip to content\">\n",
      "       Skip to content\n",
      "      </a>\n",
      "     </div>\n",
      "     <a aria-hidden=\"true\" class=\"jump-link\" href=\"#python-network\" id=\"close-python-network\">\n",
      "      <span aria-hidden=\"true\" class=\"icon-arrow-down\">\n",
      "       <span>\n",
      "        ▼\n",
      "       </span>\n",
      "      </span>\n",
      "      Close\n",
      "     </a>\n",
      "     <ul class=\"menu\" role=\"tree\">\n",
      "      <li class=\"python-meta current_branch selected\">\n",
      "       <a class=\"current_branch selected\" href=\"/\" title=\"The Python Programming Language\">\n",
      "        Python\n",
      "       </a>\n",
      "      </li>\n",
      "      <li class=\"psf-meta\">\n",
      "       <a href=\"/psf-landing/\" title=\"The Python Software Foundation\">\n",
      "        PSF\n",
      "       </a>\n",
      "      </li>\n",
      "      <li class=\"docs-meta\">\n",
      "       <a href=\"https://docs.python.org\" title=\"Python Documentation\">\n",
      "        Docs\n",
      "       </a>\n",
      "      </li>\n",
      "      <li class=\"pypi-meta\">\n",
      "       <a href=\"https://pypi.python.org/\" title=\"Python Package Index\">\n",
      "        PyPI\n",
      "       </a>\n",
      "      </li>\n",
      "      <li class=\"jobs-meta\">\n",
      "       <a href=\"/jobs/\" title=\"Python Job Board\">\n",
      "        Jobs\n",
      "       </a>\n",
      "      </li>\n",
      "      <li class=\"shop-meta\">\n",
      "       <a href=\"/community/\" title=\"Python Community\">\n",
      "        Community\n",
      "       </a>\n",
      "      </li>\n",
      "     </ul>\n",
      "     <a aria-hidden=\"true\" class=\"jump-link\" href=\"#top\" id=\"python-network\">\n",
      "      <span aria-hidden=\"true\" class=\"icon-arrow-up\">\n",
      "       <span>\n",
      "        ▲\n",
      "       </span>\n",
      "      </span>\n",
      "      The Python Network\n",
      "     </a>\n",
      "    </nav>\n",
      "   </div>\n",
      "   <!-- Header elements -->\n",
      "   <header class=\"main-header\" role=\"banner\">\n",
      "    <div class=\"container\">\n",
      "     <h1 class=\"site-headline\">\n",
      "      <a href=\"/\">\n",
      "       <img alt=\"python™\" class=\"python-logo\" src=\"/static/img/python-logo.png\"/>\n",
      "      </a>\n",
      "     </h1>\n",
      "     <div class=\"options-bar-container do-not-print\">\n",
      "      <a class=\"donate-button\" href=\"/psf/donations/\">\n",
      "       Donate\n",
      "      </a>\n",
      "      <div class=\"options-bar\">\n",
      "       <a class=\"jump-to-menu\" href=\"#site-map\" id=\"site-map-link\">\n",
      "        <span class=\"menu-icon\">\n",
      "         ≡\n",
      "        </span>\n",
      "        Menu\n",
      "       </a>\n",
      "       <form action=\"/search/\" class=\"search-the-site\" method=\"get\">\n",
      "        <fieldset title=\"Search Python.org\">\n",
      "         <span aria-hidden=\"true\" class=\"icon-search\">\n",
      "         </span>\n",
      "         <label class=\"screen-reader-text\" for=\"id-search-field\">\n",
      "          Search This Site\n",
      "         </label>\n",
      "         <input class=\"search-field\" id=\"id-search-field\" name=\"q\" placeholder=\"Search\" role=\"textbox\" tabindex=\"1\" type=\"search\" value=\"\"/>\n",
      "         <button class=\"search-button\" id=\"submit\" name=\"submit\" tabindex=\"3\" title=\"Submit this Search\" type=\"submit\">\n",
      "          GO\n",
      "         </button>\n",
      "         <!--[if IE]><input type=\"text\" style=\"display: none;\" disabled=\"disabled\" size=\"1\" tabindex=\"4\"><![endif]-->\n",
      "        </fieldset>\n",
      "       </form>\n",
      "       <span class=\"breaker\">\n",
      "       </span>\n",
      "       <div aria-hidden=\"true\" class=\"adjust-font-size\">\n",
      "        <ul aria-label=\"Adjust Text Size on Page\" class=\"navigation menu\">\n",
      "         <li aria-haspopup=\"true\" class=\"tier-1 last\">\n",
      "          <a class=\"action-trigger\" href=\"#\">\n",
      "           <strong>\n",
      "            <small>\n",
      "             A\n",
      "            </small>\n",
      "            A\n",
      "           </strong>\n",
      "          </a>\n",
      "          <ul class=\"subnav menu\">\n",
      "           <li class=\"tier-2 element-1\" role=\"treeitem\">\n",
      "            <a class=\"text-shrink\" href=\"javascript:;\" title=\"Make Text Smaller\">\n",
      "             Smaller\n",
      "            </a>\n",
      "           </li>\n",
      "           <li class=\"tier-2 element-2\" role=\"treeitem\">\n",
      "            <a class=\"text-grow\" href=\"javascript:;\" title=\"Make Text Larger\">\n",
      "             Larger\n",
      "            </a>\n",
      "           </li>\n",
      "           <li class=\"tier-2 element-3\" role=\"treeitem\">\n",
      "            <a class=\"text-reset\" href=\"javascript:;\" title=\"Reset any font size changes I have made\">\n",
      "             Reset\n",
      "            </a>\n",
      "           </li>\n",
      "          </ul>\n",
      "         </li>\n",
      "        </ul>\n",
      "       </div>\n",
      "       <div class=\"winkwink-nudgenudge\">\n",
      "        <ul aria-label=\"Social Media Navigation\" class=\"navigation menu\">\n",
      "         <li aria-haspopup=\"true\" class=\"tier-1 last\">\n",
      "          <a class=\"action-trigger\" href=\"#\">\n",
      "           Socialize\n",
      "          </a>\n",
      "          <ul class=\"subnav menu\">\n",
      "           <li class=\"tier-2 element-1\" role=\"treeitem\">\n",
      "            <a href=\"https://www.facebook.com/pythonlang?fref=ts\">\n",
      "             <span aria-hidden=\"true\" class=\"icon-facebook\">\n",
      "             </span>\n",
      "             Facebook\n",
      "            </a>\n",
      "           </li>\n",
      "           <li class=\"tier-2 element-2\" role=\"treeitem\">\n",
      "            <a href=\"https://twitter.com/ThePSF\">\n",
      "             <span aria-hidden=\"true\" class=\"icon-twitter\">\n",
      "             </span>\n",
      "             Twitter\n",
      "            </a>\n",
      "           </li>\n",
      "           <li class=\"tier-2 element-3\" role=\"treeitem\">\n",
      "            <a href=\"/community/irc/\">\n",
      "             <span aria-hidden=\"true\" class=\"icon-freenode\">\n",
      "             </span>\n",
      "             Chat on IRC\n",
      "            </a>\n",
      "           </li>\n",
      "          </ul>\n",
      "         </li>\n",
      "        </ul>\n",
      "       </div>\n",
      "       <span data-html-include=\"/authenticated\">\n",
      "       </span>\n",
      "      </div>\n",
      "      <!-- end options-bar -->\n",
      "     </div>\n",
      "     <nav class=\"python-navigation main-navigation do-not-print\" id=\"mainnav\" role=\"navigation\">\n",
      "      <ul aria-label=\"Main Navigation\" class=\"navigation menu\" role=\"menubar\">\n",
      "       <li aria-haspopup=\"true\" class=\"tier-1 element-1\" id=\"about\">\n",
      "        <a class=\"\" href=\"/about/\" title=\"\">\n",
      "         About\n",
      "        </a>\n",
      "        <ul aria-hidden=\"true\" class=\"subnav menu\" role=\"menu\">\n",
      "         <li class=\"tier-2 element-1\" role=\"treeitem\">\n",
      "          <a href=\"/about/apps/\" title=\"\">\n",
      "           Applications\n",
      "          </a>\n",
      "         </li>\n",
      "         <li class=\"tier-2 element-2\" role=\"treeitem\">\n",
      "          <a href=\"/about/quotes/\" title=\"\">\n",
      "           Quotes\n",
      "          </a>\n",
      "         </li>\n",
      "         <li class=\"tier-2 element-3\" role=\"treeitem\">\n",
      "          <a href=\"/about/gettingstarted/\" title=\"\">\n",
      "           Getting Started\n",
      "          </a>\n",
      "         </li>\n",
      "         <li class=\"tier-2 element-4\" role=\"treeitem\">\n",
      "          <a href=\"/about/help/\" title=\"\">\n",
      "           Help\n",
      "          </a>\n",
      "         </li>\n",
      "         <li class=\"tier-2 element-5\" role=\"treeitem\">\n",
      "          <a href=\"http://brochure.getpython.info/\" title=\"\">\n",
      "           Python Brochure\n",
      "          </a>\n",
      "         </li>\n",
      "        </ul>\n",
      "       </li>\n",
      "       <li aria-haspopup=\"true\" class=\"tier-1 element-2\" id=\"downloads\">\n",
      "        <a class=\"\" href=\"/downloads/\" title=\"\">\n",
      "         Downloads\n",
      "        </a>\n",
      "        <ul aria-hidden=\"true\" class=\"subnav menu\" role=\"menu\">\n",
      "         <li class=\"tier-2 element-1\" role=\"treeitem\">\n",
      "          <a href=\"/downloads/\" title=\"\">\n",
      "           All releases\n",
      "          </a>\n",
      "         </li>\n",
      "         <li class=\"tier-2 element-2\" role=\"treeitem\">\n",
      "          <a href=\"/downloads/source/\" title=\"\">\n",
      "           Source code\n",
      "          </a>\n",
      "         </li>\n",
      "         <li class=\"tier-2 element-3\" role=\"treeitem\">\n",
      "          <a href=\"/downloads/windows/\" title=\"\">\n",
      "           Windows\n",
      "          </a>\n",
      "         </li>\n",
      "         <li class=\"tier-2 element-4\" role=\"treeitem\">\n",
      "          <a href=\"/downloads/mac-osx/\" title=\"\">\n",
      "           Mac OS X\n",
      "          </a>\n",
      "         </li>\n",
      "         <li class=\"tier-2 element-5\" role=\"treeitem\">\n",
      "          <a href=\"/download/other/\" title=\"\">\n",
      "           Other Platforms\n",
      "          </a>\n",
      "         </li>\n",
      "         <li class=\"tier-2 element-6\" role=\"treeitem\">\n",
      "          <a href=\"https://docs.python.org/3/license.html\" title=\"\">\n",
      "           License\n",
      "          </a>\n",
      "         </li>\n",
      "         <li class=\"tier-2 element-7\" role=\"treeitem\">\n",
      "          <a href=\"/download/alternatives\" title=\"\">\n",
      "           Alternative Implementations\n",
      "          </a>\n",
      "         </li>\n",
      "        </ul>\n",
      "       </li>\n",
      "       <li aria-haspopup=\"true\" class=\"tier-1 element-3\" id=\"documentation\">\n",
      "        <a class=\"\" href=\"/doc/\" title=\"\">\n",
      "         Documentation\n",
      "        </a>\n",
      "        <ul aria-hidden=\"true\" class=\"subnav menu\" role=\"menu\">\n",
      "         <li class=\"tier-2 element-1\" role=\"treeitem\">\n",
      "          <a href=\"/doc/\" title=\"\">\n",
      "           Docs\n",
      "          </a>\n",
      "         </li>\n",
      "         <li class=\"tier-2 element-2\" role=\"treeitem\">\n",
      "          <a href=\"/doc/av\" title=\"\">\n",
      "           Audio/Visual Talks\n",
      "          </a>\n",
      "         </li>\n",
      "         <li class=\"tier-2 element-3\" role=\"treeitem\">\n",
      "          <a href=\"https://wiki.python.org/moin/BeginnersGuide\" title=\"\">\n",
      "           Beginner's Guide\n",
      "          </a>\n",
      "         </li>\n",
      "         <li class=\"tier-2 element-4\" role=\"treeitem\">\n",
      "          <a href=\"https://devguide.python.org/\" title=\"\">\n",
      "           Developer's Guide\n",
      "          </a>\n",
      "         </li>\n",
      "         <li class=\"tier-2 element-5\" role=\"treeitem\">\n",
      "          <a href=\"https://docs.python.org/faq/\" title=\"\">\n",
      "           FAQ\n",
      "          </a>\n",
      "         </li>\n",
      "         <li class=\"tier-2 element-6\" role=\"treeitem\">\n",
      "          <a href=\"http://wiki.python.org/moin/Languages\" title=\"\">\n",
      "           Non-English Docs\n",
      "          </a>\n",
      "         </li>\n",
      "         <li class=\"tier-2 element-7\" role=\"treeitem\">\n",
      "          <a href=\"http://python.org/dev/peps/\" title=\"\">\n",
      "           PEP Index\n",
      "          </a>\n",
      "         </li>\n",
      "         <li class=\"tier-2 element-8\" role=\"treeitem\">\n",
      "          <a href=\"https://wiki.python.org/moin/PythonBooks\" title=\"\">\n",
      "           Python Books\n",
      "          </a>\n",
      "         </li>\n",
      "         <li class=\"tier-2 element-9\" role=\"treeitem\">\n",
      "          <a href=\"/doc/essays/\" title=\"\">\n",
      "           Python Essays\n",
      "          </a>\n",
      "         </li>\n",
      "        </ul>\n",
      "       </li>\n",
      "       <li aria-haspopup=\"true\" class=\"tier-1 element-4\" id=\"community\">\n",
      "        <a class=\"\" href=\"/community/\" title=\"\">\n",
      "         Community\n",
      "        </a>\n",
      "        <ul aria-hidden=\"true\" class=\"subnav menu\" role=\"menu\">\n",
      "         <li class=\"tier-2 element-1\" role=\"treeitem\">\n",
      "          <a href=\"/community/survey\" title=\"\">\n",
      "           Community Survey\n",
      "          </a>\n",
      "         </li>\n",
      "         <li class=\"tier-2 element-2\" role=\"treeitem\">\n",
      "          <a href=\"/community/diversity/\" title=\"\">\n",
      "           Diversity\n",
      "          </a>\n",
      "         </li>\n",
      "         <li class=\"tier-2 element-3\" role=\"treeitem\">\n",
      "          <a href=\"/community/lists/\" title=\"\">\n",
      "           Mailing Lists\n",
      "          </a>\n",
      "         </li>\n",
      "         <li class=\"tier-2 element-4\" role=\"treeitem\">\n",
      "          <a href=\"/community/irc/\" title=\"\">\n",
      "           IRC\n",
      "          </a>\n",
      "         </li>\n",
      "         <li class=\"tier-2 element-5\" role=\"treeitem\">\n",
      "          <a href=\"/community/forums/\" title=\"\">\n",
      "           Forums\n",
      "          </a>\n",
      "         </li>\n",
      "         <li class=\"tier-2 element-6\" role=\"treeitem\">\n",
      "          <a href=\"/community/workshops/\" title=\"\">\n",
      "           Python Conferences\n",
      "          </a>\n",
      "         </li>\n",
      "         <li class=\"tier-2 element-7\" role=\"treeitem\">\n",
      "          <a href=\"/community/sigs/\" title=\"\">\n",
      "           Special Interest Groups\n",
      "          </a>\n",
      "         </li>\n",
      "         <li class=\"tier-2 element-8\" role=\"treeitem\">\n",
      "          <a href=\"/community/logos/\" title=\"\">\n",
      "           Python Logo\n",
      "          </a>\n",
      "         </li>\n",
      "         <li class=\"tier-2 element-9\" role=\"treeitem\">\n",
      "          <a href=\"https://wiki.python.org/moin/\" title=\"\">\n",
      "           Python Wiki\n",
      "          </a>\n",
      "         </li>\n",
      "         <li class=\"tier-2 element-10\" role=\"treeitem\">\n",
      "          <a href=\"/community/merchandise/\" title=\"\">\n",
      "           Merchandise\n",
      "          </a>\n",
      "         </li>\n",
      "         <li class=\"tier-2 element-11\" role=\"treeitem\">\n",
      "          <a href=\"/community/awards\" title=\"\">\n",
      "           Community Awards\n",
      "          </a>\n",
      "         </li>\n",
      "         <li class=\"tier-2 element-12\" role=\"treeitem\">\n",
      "          <a href=\"https://www.python.org/psf/codeofconduct/\" title=\"\">\n",
      "           Code of Conduct\n",
      "          </a>\n",
      "         </li>\n",
      "        </ul>\n",
      "       </li>\n",
      "       <li aria-haspopup=\"true\" class=\"tier-1 element-5\" id=\"success-stories\">\n",
      "        <a class=\"\" href=\"/success-stories/\" title=\"success-stories\">\n",
      "         Success Stories\n",
      "        </a>\n",
      "        <ul aria-hidden=\"true\" class=\"subnav menu\" role=\"menu\">\n",
      "         <li class=\"tier-2 element-1\" role=\"treeitem\">\n",
      "          <a href=\"/success-stories/category/arts/\" title=\"\">\n",
      "           Arts\n",
      "          </a>\n",
      "         </li>\n",
      "         <li class=\"tier-2 element-2\" role=\"treeitem\">\n",
      "          <a href=\"/success-stories/category/business/\" title=\"\">\n",
      "           Business\n",
      "          </a>\n",
      "         </li>\n",
      "         <li class=\"tier-2 element-3\" role=\"treeitem\">\n",
      "          <a href=\"/success-stories/category/education/\" title=\"\">\n",
      "           Education\n",
      "          </a>\n",
      "         </li>\n",
      "         <li class=\"tier-2 element-4\" role=\"treeitem\">\n",
      "          <a href=\"/success-stories/category/engineering/\" title=\"\">\n",
      "           Engineering\n",
      "          </a>\n",
      "         </li>\n",
      "         <li class=\"tier-2 element-5\" role=\"treeitem\">\n",
      "          <a href=\"/success-stories/category/government/\" title=\"\">\n",
      "           Government\n",
      "          </a>\n",
      "         </li>\n",
      "         <li class=\"tier-2 element-6\" role=\"treeitem\">\n",
      "          <a href=\"/success-stories/category/scientific/\" title=\"\">\n",
      "           Scientific\n",
      "          </a>\n",
      "         </li>\n",
      "         <li class=\"tier-2 element-7\" role=\"treeitem\">\n",
      "          <a href=\"/success-stories/category/software-development/\" title=\"\">\n",
      "           Software Development\n",
      "          </a>\n",
      "         </li>\n",
      "        </ul>\n",
      "       </li>\n",
      "       <li aria-haspopup=\"true\" class=\"tier-1 element-6\" id=\"news\">\n",
      "        <a class=\"\" href=\"/blogs/\" title=\"News from around the Python world\">\n",
      "         News\n",
      "        </a>\n",
      "        <ul aria-hidden=\"true\" class=\"subnav menu\" role=\"menu\">\n",
      "         <li class=\"tier-2 element-1\" role=\"treeitem\">\n",
      "          <a href=\"/blogs/\" title=\"Python Insider Blog Posts\">\n",
      "           Python News\n",
      "          </a>\n",
      "         </li>\n",
      "         <li class=\"tier-2 element-2\" role=\"treeitem\">\n",
      "          <a href=\"http://planetpython.org/\" title=\"Planet Python\">\n",
      "           Community News\n",
      "          </a>\n",
      "         </li>\n",
      "         <li class=\"tier-2 element-3\" role=\"treeitem\">\n",
      "          <a href=\"http://pyfound.blogspot.com/\" title=\"PSF Blog\">\n",
      "           PSF News\n",
      "          </a>\n",
      "         </li>\n",
      "         <li class=\"tier-2 element-4\" role=\"treeitem\">\n",
      "          <a href=\"http://pycon.blogspot.com/\" title=\"PyCon Blog\">\n",
      "           PyCon News\n",
      "          </a>\n",
      "         </li>\n",
      "        </ul>\n",
      "       </li>\n",
      "       <li aria-haspopup=\"true\" class=\"tier-1 element-7\" id=\"events\">\n",
      "        <a class=\"selected\" href=\"/events/\" title=\"\">\n",
      "         Events\n",
      "        </a>\n",
      "        <ul aria-hidden=\"true\" class=\"subnav menu\" role=\"menu\">\n",
      "         <li class=\"tier-2 element-1\" role=\"treeitem\">\n",
      "          <a href=\"/events/python-events\" title=\"\">\n",
      "           Python Events\n",
      "          </a>\n",
      "         </li>\n",
      "         <li class=\"tier-2 element-2\" role=\"treeitem\">\n",
      "          <a href=\"/events/python-user-group/\" title=\"\">\n",
      "           User Group Events\n",
      "          </a>\n",
      "         </li>\n",
      "         <li class=\"tier-2 element-3\" role=\"treeitem\">\n",
      "          <a href=\"/events/python-events/past/\" title=\"\">\n",
      "           Python Events Archive\n",
      "          </a>\n",
      "         </li>\n",
      "         <li class=\"tier-2 element-4\" role=\"treeitem\">\n",
      "          <a href=\"/events/python-user-group/past/\" title=\"\">\n",
      "           User Group Events Archive\n",
      "          </a>\n",
      "         </li>\n",
      "         <li class=\"tier-2 element-5\" role=\"treeitem\">\n",
      "          <a href=\"https://wiki.python.org/moin/PythonEventsCalendar#Submitting_an_Event\" title=\"\">\n",
      "           Submit an Event\n",
      "          </a>\n",
      "         </li>\n",
      "        </ul>\n",
      "       </li>\n",
      "      </ul>\n",
      "     </nav>\n",
      "     <div class=\"header-banner\">\n",
      "      <!-- for optional \"do-not-print\" class -->\n",
      "     </div>\n",
      "    </div>\n",
      "    <!-- end .container -->\n",
      "   </header>\n",
      "   <div class=\"content-wrapper\" id=\"content\">\n",
      "    <!-- Main Content Column -->\n",
      "    <div class=\"container\">\n",
      "     <section class=\"main-content with-right-sidebar\" role=\"main\">\n",
      "      <header class=\"article-header\">\n",
      "       <h3>\n",
      "        from the Python User Group Calendar\n",
      "       </h3>\n",
      "      </header>\n",
      "      <div class=\"most-recent-events\">\n",
      "       <div class=\"shrubbery\">\n",
      "        <h2 class=\"widget-title\">\n",
      "         <span aria-hidden=\"true\" class=\"icon-calendar\">\n",
      "         </span>\n",
      "         Upcoming Events\n",
      "        </h2>\n",
      "        <ul class=\"list-recent-events menu\">\n",
      "         <li>\n",
      "          <h3 class=\"event-title\">\n",
      "           <a href=\"/events/python-user-group/835/\">\n",
      "            PyCon Latam 2019\n",
      "           </a>\n",
      "          </h3>\n",
      "          <p>\n",
      "           <time datetime=\"2019-08-29T00:00:00+00:00\">\n",
      "            29 Aug. – 31 Aug.\n",
      "            <span class=\"say-no-more\">\n",
      "             2019\n",
      "            </span>\n",
      "           </time>\n",
      "           <span class=\"event-location\">\n",
      "            Hotel Friendly, Puerto Vallarta, México\n",
      "           </span>\n",
      "          </p>\n",
      "         </li>\n",
      "        </ul>\n",
      "       </div>\n",
      "       <h3 class=\"widget-title just-missed\">\n",
      "        You just missed...\n",
      "       </h3>\n",
      "       <ul class=\"list-recent-events menu\">\n",
      "        <li>\n",
      "         <h3 class=\"event-title\">\n",
      "          <a href=\"/events/python-user-group/829/\">\n",
      "           Django Girls Abuja\n",
      "          </a>\n",
      "         </h3>\n",
      "         <p>\n",
      "          <time datetime=\"2019-06-28T00:00:00+00:00\">\n",
      "           28 June – 29 June\n",
      "           <span class=\"say-no-more\">\n",
      "            2019\n",
      "           </span>\n",
      "          </time>\n",
      "          <span class=\"event-location\">\n",
      "           Abuja, Nigeria\n",
      "          </span>\n",
      "         </p>\n",
      "        </li>\n",
      "        <li>\n",
      "         <h3 class=\"event-title\">\n",
      "          <a href=\"/events/python-user-group/858/\">\n",
      "           Python Mauritius UserGroup (Pymug) June Meetup\n",
      "          </a>\n",
      "         </h3>\n",
      "         <p>\n",
      "          <time datetime=\"2019-06-23T06:00:00+00:00\">\n",
      "           23 June\n",
      "           <span class=\"say-no-more\">\n",
      "            2019\n",
      "           </span>\n",
      "           6am UTC – 10am UTC\n",
      "          </time>\n",
      "          <span class=\"event-location\">\n",
      "           Curepipe, Mauritius\n",
      "          </span>\n",
      "         </p>\n",
      "        </li>\n",
      "       </ul>\n",
      "      </div>\n",
      "     </section>\n",
      "     <aside class=\"right-sidebar\" role=\"secondary\">\n",
      "      <div class=\"sidebar-widget subscribe-widget\">\n",
      "       <h2 class=\"widget-title\">\n",
      "        Python Event Subscriptions\n",
      "       </h2>\n",
      "       <p>\n",
      "        Subscribe to Python Event Calendars:\n",
      "       </p>\n",
      "       <ul class=\"menu\">\n",
      "        <li>\n",
      "         <a href=\"https://www.google.com/calendar/ical/3haig2m9msslkpf2tn1h56nn9g@group.calendar.google.com/public/basic.ics\">\n",
      "          <span aria-hidden=\"true\" class=\"icon-ical\">\n",
      "          </span>\n",
      "          Events in iCal format\n",
      "         </a>\n",
      "        </li>\n",
      "       </ul>\n",
      "       <h2 class=\"widget-title\">\n",
      "        Python Events Calendars\n",
      "       </h2>\n",
      "       <br/>\n",
      "       <p>\n",
      "        For Python events near you, please have a look at the\n",
      "        <a href=\"http://lmorillas.github.io/python_events/\">\n",
      "         <b>\n",
      "          Python events map\n",
      "         </b>\n",
      "        </a>\n",
      "        .\n",
      "       </p>\n",
      "       <p>\n",
      "        The Python events calendars are maintained by the\n",
      "        <a href=\"https://wiki.python.org/moin/PythonEventsCalendar#Python_Calendar_Team\">\n",
      "         events calendar team\n",
      "        </a>\n",
      "        .\n",
      "       </p>\n",
      "       <p>\n",
      "        Please see the\n",
      "        <a href=\"https://wiki.python.org/moin/PythonEventsCalendar\">\n",
      "         events calendar project page\n",
      "        </a>\n",
      "        for details on how to\n",
      "        <a href=\"https://wiki.python.org/moin/PythonEventsCalendar#Submitting_an_Event\">\n",
      "         submit events\n",
      "        </a>\n",
      "        ,\n",
      "        <a href=\"https://wiki.python.org/moin/PythonEventsCalendar#Available_Calendars\">\n",
      "         subscribe to the calendars\n",
      "        </a>\n",
      "        , get\n",
      "        <a href=\"https://twitter.com/PythonEvents\">\n",
      "         Twitter feeds\n",
      "        </a>\n",
      "        or embed them.\n",
      "       </p>\n",
      "       <p>\n",
      "        Thank you.\n",
      "       </p>\n",
      "      </div>\n",
      "     </aside>\n",
      "    </div>\n",
      "    <!-- end .container -->\n",
      "   </div>\n",
      "   <!-- end #content .content-wrapper -->\n",
      "   <!-- Footer and social media list -->\n",
      "   <footer class=\"main-footer\" id=\"site-map\" role=\"contentinfo\">\n",
      "    <div class=\"main-footer-links\">\n",
      "     <div class=\"container\">\n",
      "      <a class=\"jump-link\" href=\"#python-network\" id=\"back-to-top-1\">\n",
      "       <span aria-hidden=\"true\" class=\"icon-arrow-up\">\n",
      "        <span>\n",
      "         ▲\n",
      "        </span>\n",
      "       </span>\n",
      "       Back to Top\n",
      "      </a>\n",
      "      <ul class=\"sitemap navigation menu do-not-print\" id=\"container\" role=\"tree\">\n",
      "       <li class=\"tier-1 element-1\">\n",
      "        <a href=\"/about/\">\n",
      "         About\n",
      "        </a>\n",
      "        <ul class=\"subnav menu\">\n",
      "         <li class=\"tier-2 element-1\" role=\"treeitem\">\n",
      "          <a href=\"/about/apps/\" title=\"\">\n",
      "           Applications\n",
      "          </a>\n",
      "         </li>\n",
      "         <li class=\"tier-2 element-2\" role=\"treeitem\">\n",
      "          <a href=\"/about/quotes/\" title=\"\">\n",
      "           Quotes\n",
      "          </a>\n",
      "         </li>\n",
      "         <li class=\"tier-2 element-3\" role=\"treeitem\">\n",
      "          <a href=\"/about/gettingstarted/\" title=\"\">\n",
      "           Getting Started\n",
      "          </a>\n",
      "         </li>\n",
      "         <li class=\"tier-2 element-4\" role=\"treeitem\">\n",
      "          <a href=\"/about/help/\" title=\"\">\n",
      "           Help\n",
      "          </a>\n",
      "         </li>\n",
      "         <li class=\"tier-2 element-5\" role=\"treeitem\">\n",
      "          <a href=\"http://brochure.getpython.info/\" title=\"\">\n",
      "           Python Brochure\n",
      "          </a>\n",
      "         </li>\n",
      "        </ul>\n",
      "       </li>\n",
      "       <li class=\"tier-1 element-2\">\n",
      "        <a href=\"/downloads/\">\n",
      "         Downloads\n",
      "        </a>\n",
      "        <ul class=\"subnav menu\">\n",
      "         <li class=\"tier-2 element-1\" role=\"treeitem\">\n",
      "          <a href=\"/downloads/\" title=\"\">\n",
      "           All releases\n",
      "          </a>\n",
      "         </li>\n",
      "         <li class=\"tier-2 element-2\" role=\"treeitem\">\n",
      "          <a href=\"/downloads/source/\" title=\"\">\n",
      "           Source code\n",
      "          </a>\n",
      "         </li>\n",
      "         <li class=\"tier-2 element-3\" role=\"treeitem\">\n",
      "          <a href=\"/downloads/windows/\" title=\"\">\n",
      "           Windows\n",
      "          </a>\n",
      "         </li>\n",
      "         <li class=\"tier-2 element-4\" role=\"treeitem\">\n",
      "          <a href=\"/downloads/mac-osx/\" title=\"\">\n",
      "           Mac OS X\n",
      "          </a>\n",
      "         </li>\n",
      "         <li class=\"tier-2 element-5\" role=\"treeitem\">\n",
      "          <a href=\"/download/other/\" title=\"\">\n",
      "           Other Platforms\n",
      "          </a>\n",
      "         </li>\n",
      "         <li class=\"tier-2 element-6\" role=\"treeitem\">\n",
      "          <a href=\"https://docs.python.org/3/license.html\" title=\"\">\n",
      "           License\n",
      "          </a>\n",
      "         </li>\n",
      "         <li class=\"tier-2 element-7\" role=\"treeitem\">\n",
      "          <a href=\"/download/alternatives\" title=\"\">\n",
      "           Alternative Implementations\n",
      "          </a>\n",
      "         </li>\n",
      "        </ul>\n",
      "       </li>\n",
      "       <li class=\"tier-1 element-3\">\n",
      "        <a href=\"/doc/\">\n",
      "         Documentation\n",
      "        </a>\n",
      "        <ul class=\"subnav menu\">\n",
      "         <li class=\"tier-2 element-1\" role=\"treeitem\">\n",
      "          <a href=\"/doc/\" title=\"\">\n",
      "           Docs\n",
      "          </a>\n",
      "         </li>\n",
      "         <li class=\"tier-2 element-2\" role=\"treeitem\">\n",
      "          <a href=\"/doc/av\" title=\"\">\n",
      "           Audio/Visual Talks\n",
      "          </a>\n",
      "         </li>\n",
      "         <li class=\"tier-2 element-3\" role=\"treeitem\">\n",
      "          <a href=\"https://wiki.python.org/moin/BeginnersGuide\" title=\"\">\n",
      "           Beginner's Guide\n",
      "          </a>\n",
      "         </li>\n",
      "         <li class=\"tier-2 element-4\" role=\"treeitem\">\n",
      "          <a href=\"https://devguide.python.org/\" title=\"\">\n",
      "           Developer's Guide\n",
      "          </a>\n",
      "         </li>\n",
      "         <li class=\"tier-2 element-5\" role=\"treeitem\">\n",
      "          <a href=\"https://docs.python.org/faq/\" title=\"\">\n",
      "           FAQ\n",
      "          </a>\n",
      "         </li>\n",
      "         <li class=\"tier-2 element-6\" role=\"treeitem\">\n",
      "          <a href=\"http://wiki.python.org/moin/Languages\" title=\"\">\n",
      "           Non-English Docs\n",
      "          </a>\n",
      "         </li>\n",
      "         <li class=\"tier-2 element-7\" role=\"treeitem\">\n",
      "          <a href=\"http://python.org/dev/peps/\" title=\"\">\n",
      "           PEP Index\n",
      "          </a>\n",
      "         </li>\n",
      "         <li class=\"tier-2 element-8\" role=\"treeitem\">\n",
      "          <a href=\"https://wiki.python.org/moin/PythonBooks\" title=\"\">\n",
      "           Python Books\n",
      "          </a>\n",
      "         </li>\n",
      "         <li class=\"tier-2 element-9\" role=\"treeitem\">\n",
      "          <a href=\"/doc/essays/\" title=\"\">\n",
      "           Python Essays\n",
      "          </a>\n",
      "         </li>\n",
      "        </ul>\n",
      "       </li>\n",
      "       <li class=\"tier-1 element-4\">\n",
      "        <a href=\"/community/\">\n",
      "         Community\n",
      "        </a>\n",
      "        <ul class=\"subnav menu\">\n",
      "         <li class=\"tier-2 element-1\" role=\"treeitem\">\n",
      "          <a href=\"/community/survey\" title=\"\">\n",
      "           Community Survey\n",
      "          </a>\n",
      "         </li>\n",
      "         <li class=\"tier-2 element-2\" role=\"treeitem\">\n",
      "          <a href=\"/community/diversity/\" title=\"\">\n",
      "           Diversity\n",
      "          </a>\n",
      "         </li>\n",
      "         <li class=\"tier-2 element-3\" role=\"treeitem\">\n",
      "          <a href=\"/community/lists/\" title=\"\">\n",
      "           Mailing Lists\n",
      "          </a>\n",
      "         </li>\n",
      "         <li class=\"tier-2 element-4\" role=\"treeitem\">\n",
      "          <a href=\"/community/irc/\" title=\"\">\n",
      "           IRC\n",
      "          </a>\n",
      "         </li>\n",
      "         <li class=\"tier-2 element-5\" role=\"treeitem\">\n",
      "          <a href=\"/community/forums/\" title=\"\">\n",
      "           Forums\n",
      "          </a>\n",
      "         </li>\n",
      "         <li class=\"tier-2 element-6\" role=\"treeitem\">\n",
      "          <a href=\"/community/workshops/\" title=\"\">\n",
      "           Python Conferences\n",
      "          </a>\n",
      "         </li>\n",
      "         <li class=\"tier-2 element-7\" role=\"treeitem\">\n",
      "          <a href=\"/community/sigs/\" title=\"\">\n",
      "           Special Interest Groups\n",
      "          </a>\n",
      "         </li>\n",
      "         <li class=\"tier-2 element-8\" role=\"treeitem\">\n",
      "          <a href=\"/community/logos/\" title=\"\">\n",
      "           Python Logo\n",
      "          </a>\n",
      "         </li>\n",
      "         <li class=\"tier-2 element-9\" role=\"treeitem\">\n",
      "          <a href=\"https://wiki.python.org/moin/\" title=\"\">\n",
      "           Python Wiki\n",
      "          </a>\n",
      "         </li>\n",
      "         <li class=\"tier-2 element-10\" role=\"treeitem\">\n",
      "          <a href=\"/community/merchandise/\" title=\"\">\n",
      "           Merchandise\n",
      "          </a>\n",
      "         </li>\n",
      "         <li class=\"tier-2 element-11\" role=\"treeitem\">\n",
      "          <a href=\"/community/awards\" title=\"\">\n",
      "           Community Awards\n",
      "          </a>\n",
      "         </li>\n",
      "         <li class=\"tier-2 element-12\" role=\"treeitem\">\n",
      "          <a href=\"https://www.python.org/psf/codeofconduct/\" title=\"\">\n",
      "           Code of Conduct\n",
      "          </a>\n",
      "         </li>\n",
      "        </ul>\n",
      "       </li>\n",
      "       <li class=\"tier-1 element-5\">\n",
      "        <a href=\"/success-stories/\" title=\"success-stories\">\n",
      "         Success Stories\n",
      "        </a>\n",
      "        <ul class=\"subnav menu\">\n",
      "         <li class=\"tier-2 element-1\" role=\"treeitem\">\n",
      "          <a href=\"/success-stories/category/arts/\" title=\"\">\n",
      "           Arts\n",
      "          </a>\n",
      "         </li>\n",
      "         <li class=\"tier-2 element-2\" role=\"treeitem\">\n",
      "          <a href=\"/success-stories/category/business/\" title=\"\">\n",
      "           Business\n",
      "          </a>\n",
      "         </li>\n",
      "         <li class=\"tier-2 element-3\" role=\"treeitem\">\n",
      "          <a href=\"/success-stories/category/education/\" title=\"\">\n",
      "           Education\n",
      "          </a>\n",
      "         </li>\n",
      "         <li class=\"tier-2 element-4\" role=\"treeitem\">\n",
      "          <a href=\"/success-stories/category/engineering/\" title=\"\">\n",
      "           Engineering\n",
      "          </a>\n",
      "         </li>\n",
      "         <li class=\"tier-2 element-5\" role=\"treeitem\">\n",
      "          <a href=\"/success-stories/category/government/\" title=\"\">\n",
      "           Government\n",
      "          </a>\n",
      "         </li>\n",
      "         <li class=\"tier-2 element-6\" role=\"treeitem\">\n",
      "          <a href=\"/success-stories/category/scientific/\" title=\"\">\n",
      "           Scientific\n",
      "          </a>\n",
      "         </li>\n",
      "         <li class=\"tier-2 element-7\" role=\"treeitem\">\n",
      "          <a href=\"/success-stories/category/software-development/\" title=\"\">\n",
      "           Software Development\n",
      "          </a>\n",
      "         </li>\n",
      "        </ul>\n",
      "       </li>\n",
      "       <li class=\"tier-1 element-6\">\n",
      "        <a href=\"/blogs/\" title=\"News from around the Python world\">\n",
      "         News\n",
      "        </a>\n",
      "        <ul class=\"subnav menu\">\n",
      "         <li class=\"tier-2 element-1\" role=\"treeitem\">\n",
      "          <a href=\"/blogs/\" title=\"Python Insider Blog Posts\">\n",
      "           Python News\n",
      "          </a>\n",
      "         </li>\n",
      "         <li class=\"tier-2 element-2\" role=\"treeitem\">\n",
      "          <a href=\"http://planetpython.org/\" title=\"Planet Python\">\n",
      "           Community News\n",
      "          </a>\n",
      "         </li>\n",
      "         <li class=\"tier-2 element-3\" role=\"treeitem\">\n",
      "          <a href=\"http://pyfound.blogspot.com/\" title=\"PSF Blog\">\n",
      "           PSF News\n",
      "          </a>\n",
      "         </li>\n",
      "         <li class=\"tier-2 element-4\" role=\"treeitem\">\n",
      "          <a href=\"http://pycon.blogspot.com/\" title=\"PyCon Blog\">\n",
      "           PyCon News\n",
      "          </a>\n",
      "         </li>\n",
      "        </ul>\n",
      "       </li>\n",
      "       <li class=\"tier-1 element-7\">\n",
      "        <a href=\"/events/\">\n",
      "         Events\n",
      "        </a>\n",
      "        <ul class=\"subnav menu\">\n",
      "         <li class=\"tier-2 element-1\" role=\"treeitem\">\n",
      "          <a href=\"/events/python-events\" title=\"\">\n",
      "           Python Events\n",
      "          </a>\n",
      "         </li>\n",
      "         <li class=\"tier-2 element-2\" role=\"treeitem\">\n",
      "          <a href=\"/events/python-user-group/\" title=\"\">\n",
      "           User Group Events\n",
      "          </a>\n",
      "         </li>\n",
      "         <li class=\"tier-2 element-3\" role=\"treeitem\">\n",
      "          <a href=\"/events/python-events/past/\" title=\"\">\n",
      "           Python Events Archive\n",
      "          </a>\n",
      "         </li>\n",
      "         <li class=\"tier-2 element-4\" role=\"treeitem\">\n",
      "          <a href=\"/events/python-user-group/past/\" title=\"\">\n",
      "           User Group Events Archive\n",
      "          </a>\n",
      "         </li>\n",
      "         <li class=\"tier-2 element-5\" role=\"treeitem\">\n",
      "          <a href=\"https://wiki.python.org/moin/PythonEventsCalendar#Submitting_an_Event\" title=\"\">\n",
      "           Submit an Event\n",
      "          </a>\n",
      "         </li>\n",
      "        </ul>\n",
      "       </li>\n",
      "       <li class=\"tier-1 element-8\">\n",
      "        <a href=\"/dev/\">\n",
      "         Contributing\n",
      "        </a>\n",
      "        <ul class=\"subnav menu\">\n",
      "         <li class=\"tier-2 element-1\" role=\"treeitem\">\n",
      "          <a href=\"https://devguide.python.org/\" title=\"\">\n",
      "           Developer's Guide\n",
      "          </a>\n",
      "         </li>\n",
      "         <li class=\"tier-2 element-2\" role=\"treeitem\">\n",
      "          <a href=\"https://bugs.python.org/\" title=\"\">\n",
      "           Issue Tracker\n",
      "          </a>\n",
      "         </li>\n",
      "         <li class=\"tier-2 element-3\" role=\"treeitem\">\n",
      "          <a href=\"https://mail.python.org/mailman/listinfo/python-dev\" title=\"\">\n",
      "           python-dev list\n",
      "          </a>\n",
      "         </li>\n",
      "         <li class=\"tier-2 element-4\" role=\"treeitem\">\n",
      "          <a href=\"/dev/core-mentorship/\" title=\"\">\n",
      "           Core Mentorship\n",
      "          </a>\n",
      "         </li>\n",
      "         <li class=\"tier-2 element-5\" role=\"treeitem\">\n",
      "          <a href=\"/news/security/\" title=\"\">\n",
      "           Report a Security Issue\n",
      "          </a>\n",
      "         </li>\n",
      "        </ul>\n",
      "       </li>\n",
      "      </ul>\n",
      "      <a class=\"jump-link\" href=\"#python-network\" id=\"back-to-top-2\">\n",
      "       <span aria-hidden=\"true\" class=\"icon-arrow-up\">\n",
      "        <span>\n",
      "         ▲\n",
      "        </span>\n",
      "       </span>\n",
      "       Back to Top\n",
      "      </a>\n",
      "     </div>\n",
      "     <!-- end .container -->\n",
      "    </div>\n",
      "    <!-- end .main-footer-links -->\n",
      "    <div class=\"site-base\">\n",
      "     <div class=\"container\">\n",
      "      <ul class=\"footer-links navigation menu do-not-print\" role=\"tree\">\n",
      "       <li class=\"tier-1 element-1\">\n",
      "        <a href=\"/about/help/\">\n",
      "         Help &amp;\n",
      "         <span class=\"say-no-more\">\n",
      "          General\n",
      "         </span>\n",
      "         Contact\n",
      "        </a>\n",
      "       </li>\n",
      "       <li class=\"tier-1 element-2\">\n",
      "        <a href=\"/community/diversity/\">\n",
      "         Diversity\n",
      "         <span class=\"say-no-more\">\n",
      "          Initiatives\n",
      "         </span>\n",
      "        </a>\n",
      "       </li>\n",
      "       <li class=\"tier-1 element-3\">\n",
      "        <a href=\"https://github.com/python/pythondotorg/issues\">\n",
      "         Submit Website Bug\n",
      "        </a>\n",
      "       </li>\n",
      "       <li class=\"tier-1 element-4\">\n",
      "        <a href=\"https://status.python.org/\">\n",
      "         Status\n",
      "         <span class=\"python-status-indicator-default\" id=\"python-status-indicator\">\n",
      "         </span>\n",
      "        </a>\n",
      "       </li>\n",
      "      </ul>\n",
      "      <div class=\"copyright\">\n",
      "       <p>\n",
      "        <small>\n",
      "         <span class=\"pre\">\n",
      "          Copyright ©2001-2019.\n",
      "         </span>\n",
      "         <span class=\"pre\">\n",
      "          <a href=\"/psf-landing/\">\n",
      "           Python Software Foundation\n",
      "          </a>\n",
      "         </span>\n",
      "         <span class=\"pre\">\n",
      "          <a href=\"/about/legal/\">\n",
      "           Legal Statements\n",
      "          </a>\n",
      "         </span>\n",
      "         <span class=\"pre\">\n",
      "          <a href=\"/privacy/\">\n",
      "           Privacy Policy\n",
      "          </a>\n",
      "         </span>\n",
      "         <span class=\"pre\">\n",
      "          <a href=\"/psf/sponsorship/sponsors/#heroku\">\n",
      "           Powered by Heroku\n",
      "          </a>\n",
      "         </span>\n",
      "        </small>\n",
      "       </p>\n",
      "      </div>\n",
      "     </div>\n",
      "     <!-- end .container -->\n",
      "    </div>\n",
      "    <!-- end .site-base -->\n",
      "   </footer>\n",
      "  </div>\n",
      "  <!-- end #touchnav-wrapper -->\n",
      "  <script src=\"//ajax.googleapis.com/ajax/libs/jquery/1.8.2/jquery.min.js\">\n",
      "  </script>\n",
      "  <script>\n",
      "   window.jQuery || document.write('<script src=\"/static/js/libs/jquery-1.8.2.min.js\"><\\/script>')\n",
      "  </script>\n",
      "  <script src=\"/static/js/libs/masonry.pkgd.min.js\">\n",
      "  </script>\n",
      "  <script src=\"/static/js/libs/html-includes.js\">\n",
      "  </script>\n",
      "  <script charset=\"utf-8\" src=\"/static/js/main-min.fbfe252506ae.js\" type=\"text/javascript\">\n",
      "  </script>\n",
      "  <!--[if lte IE 7]>\n",
      "    <script type=\"text/javascript\" src=\"/static/js/plugins/IE8-min.16868e6a5d2f.js\" charset=\"utf-8\"></script>\n",
      "    \n",
      "    \n",
      "    <![endif]-->\n",
      "  <!--[if lte IE 8]>\n",
      "    <script type=\"text/javascript\" src=\"/static/js/plugins/getComputedStyle-min.c3860be1d290.js\" charset=\"utf-8\"></script>\n",
      "    \n",
      "    \n",
      "    <![endif]-->\n",
      " </body>\n",
      "</html>\n",
      "\n"
     ]
    }
   ],
   "source": [
    "print(text.prettify())"
   ]
  },
  {
   "cell_type": "markdown",
   "metadata": {},
   "source": [
    "#### Title\n",
    "Titles are in `h3` tags with an attribute `class=\"event-title\"`.\n",
    "<img src=pic/title.png width=900/>"
   ]
  },
  {
   "cell_type": "code",
   "execution_count": 23,
   "metadata": {},
   "outputs": [
    {
     "data": {
      "text/plain": [
       "[<h3 class=\"event-title\"><a href=\"/events/python-user-group/835/\">PyCon Latam 2019</a></h3>,\n",
       " <h3 class=\"event-title\"><a href=\"/events/python-user-group/829/\">Django Girls Abuja</a></h3>,\n",
       " <h3 class=\"event-title\"><a href=\"/events/python-user-group/858/\">Python Mauritius UserGroup (Pymug) June Meetup</a></h3>]"
      ]
     },
     "execution_count": 23,
     "metadata": {},
     "output_type": "execute_result"
    }
   ],
   "source": [
    "titleTags = text.find_all('h3', {'class': \"event-title\"})\n",
    "titleTags"
   ]
  },
  {
   "cell_type": "code",
   "execution_count": 24,
   "metadata": {},
   "outputs": [
    {
     "data": {
      "text/plain": [
       "['PyCon Latam 2019',\n",
       " 'Django Girls Abuja',\n",
       " 'Python Mauritius UserGroup (Pymug) June Meetup']"
      ]
     },
     "execution_count": 24,
     "metadata": {},
     "output_type": "execute_result"
    }
   ],
   "source": [
    "titleString = [tag.string for tag in titleTags]\n",
    "titleString"
   ]
  },
  {
   "cell_type": "markdown",
   "metadata": {},
   "source": [
    "#### Time\n",
    "Times are in the `time` tags that have `datetime` attribute."
   ]
  },
  {
   "cell_type": "markdown",
   "metadata": {},
   "source": [
    "![time](pic/time.png)"
   ]
  },
  {
   "cell_type": "code",
   "execution_count": 25,
   "metadata": {},
   "outputs": [
    {
     "data": {
      "text/plain": [
       "[<time datetime=\"2019-08-29T00:00:00+00:00\">29 Aug. – 31 Aug. <span class=\"say-no-more\"> 2019</span></time>,\n",
       " <time datetime=\"2019-06-28T00:00:00+00:00\">28 June – 29 June <span class=\"say-no-more\"> 2019</span></time>,\n",
       " <time datetime=\"2019-06-23T06:00:00+00:00\">23 June<span class=\"say-no-more\"> 2019</span> 6am UTC – 10am UTC</time>]"
      ]
     },
     "execution_count": 25,
     "metadata": {},
     "output_type": "execute_result"
    }
   ],
   "source": [
    "timeTags = text.find_all(lambda tag: 'datetime' in tag.attrs)\n",
    "timeTags"
   ]
  },
  {
   "cell_type": "code",
   "execution_count": 26,
   "metadata": {},
   "outputs": [
    {
     "data": {
      "text/plain": [
       "['2019-08-29T00:00:00+00:00',\n",
       " '2019-06-28T00:00:00+00:00',\n",
       " '2019-06-23T06:00:00+00:00']"
      ]
     },
     "execution_count": 26,
     "metadata": {},
     "output_type": "execute_result"
    }
   ],
   "source": [
    "timeString = [tag.get('datetime') for tag in timeTags]\n",
    "timeString"
   ]
  },
  {
   "cell_type": "markdown",
   "metadata": {},
   "source": [
    "#### Location\n",
    "Locations are in `span` tags with the attribute `class=\"event-location\"`."
   ]
  },
  {
   "cell_type": "markdown",
   "metadata": {},
   "source": [
    "<img src=pic/location.png width=900/>"
   ]
  },
  {
   "cell_type": "code",
   "execution_count": 27,
   "metadata": {},
   "outputs": [
    {
     "data": {
      "text/plain": [
       "[<span class=\"event-location\">Hotel Friendly, Puerto Vallarta, México</span>,\n",
       " <span class=\"event-location\">Abuja, Nigeria</span>,\n",
       " <span class=\"event-location\">Curepipe, Mauritius</span>]"
      ]
     },
     "execution_count": 27,
     "metadata": {},
     "output_type": "execute_result"
    }
   ],
   "source": [
    "locationTags = text.find_all(\"span\", {\"class\": \"event-location\"})\n",
    "locationTags"
   ]
  },
  {
   "cell_type": "code",
   "execution_count": 28,
   "metadata": {},
   "outputs": [
    {
     "data": {
      "text/plain": [
       "['Hotel Friendly, Puerto Vallarta, México',\n",
       " 'Abuja, Nigeria',\n",
       " 'Curepipe, Mauritius']"
      ]
     },
     "execution_count": 28,
     "metadata": {},
     "output_type": "execute_result"
    }
   ],
   "source": [
    "locationString = [tag.string for tag in locationTags]\n",
    "locationString"
   ]
  },
  {
   "cell_type": "markdown",
   "metadata": {},
   "source": [
    "### Web Scraping Project Workflow\n",
    "- We have been lucky so far because there is no missing values on this page. But what if the location of one event is missing? There is no way for us to locate it from three lists of different length.\n",
    "- The general workflow of a web scraping project is like the following:\n",
    " - Find the unique attribute that will locate the **top level** tags that you are interested in.\n",
    "     - Each tag could be a listing, review, item...\n",
    "     - **one unique tag -> one row in csv file**\n",
    " - We want to locate the event tag that its child tags contain the title, datetime and location that you want to save as columns in a csv file.\n",
    " - Then you go levels deeper to find the child tags of each event. If there is something missing there, you just replace it with an empty string.\n",
    " - The event tags have a unique  attribute **class=list-recent-events menu**.\n",
    " - Next question is: what is the best data structure to represent one single event?"
   ]
  },
  {
   "cell_type": "code",
   "execution_count": 29,
   "metadata": {},
   "outputs": [],
   "source": [
    "# Save all the event is a list\n",
    "result = []\n",
    "# Save all the ul tags, each ul is a section of the page\n",
    "uls = text.find_all('ul', {'class': 'list-recent-events menu'})\n",
    "for ul in uls:\n",
    "    # Save all the li tags, each li is an event\n",
    "    lis = ul.find_all('li')\n",
    "    for li in lis:\n",
    "        # Initialize an empty dictionary for each event\n",
    "        event = {}\n",
    "        # Using try/except to avoid errors caused by missing values\n",
    "        try:\n",
    "            title = li.find('a').string\n",
    "        except:\n",
    "            continue       \n",
    "        try:\n",
    "            time = li.find('time').get('datetime')\n",
    "        except:\n",
    "            time = \"\"\n",
    "        try:\n",
    "            location = li.find('span', {'class':'event-location'}).string.strip()\n",
    "        except:\n",
    "            location = \"\"\n",
    "        \n",
    "        # Assign the values in the dictionary\n",
    "        event['location'] = location\n",
    "        event['time'] = time\n",
    "        event['title'] = title\n",
    "        result.append(event)"
   ]
  },
  {
   "cell_type": "code",
   "execution_count": 30,
   "metadata": {},
   "outputs": [
    {
     "data": {
      "text/plain": [
       "[{'location': 'Hotel Friendly, Puerto Vallarta, México',\n",
       "  'time': '2019-08-29T00:00:00+00:00',\n",
       "  'title': 'PyCon Latam 2019'},\n",
       " {'location': 'Abuja, Nigeria',\n",
       "  'time': '2019-06-28T00:00:00+00:00',\n",
       "  'title': 'Django Girls Abuja'},\n",
       " {'location': 'Curepipe, Mauritius',\n",
       "  'time': '2019-06-23T06:00:00+00:00',\n",
       "  'title': 'Python Mauritius UserGroup (Pymug) June Meetup'}]"
      ]
     },
     "execution_count": 30,
     "metadata": {},
     "output_type": "execute_result"
    }
   ],
   "source": [
    "result"
   ]
  },
  {
   "cell_type": "markdown",
   "metadata": {},
   "source": [
    "<p><a name=\"yelp\"></a></p>\n",
    "\n",
    "## Scrape Yelp Reviews\n",
    "- Let's apply what we have learned to a more complicated example - scrape Yelp reviews. \n",
    "- Our task is to scrape all the reviews of the ABC Kitchen Restaurant on Yelp. https://www.yelp.com/biz/abc-kitchen-new-york\n",
    "- You can easily extend this code to all the restaurants."
   ]
  },
  {
   "cell_type": "markdown",
   "metadata": {},
   "source": [
    "### Step 1: Find the pattern of url"
   ]
  },
  {
   "cell_type": "markdown",
   "metadata": {},
   "source": [
    "- Here we added `User-Agent` to the header of our request. It is because sometimes the web server will check the different fields of the header to block robot scrapers. \n",
    "- `User-Agent` is the most common one because it is specific to your browser."
   ]
  },
  {
   "cell_type": "code",
   "execution_count": null,
   "metadata": {},
   "outputs": [],
   "source": [
    "from bs4 import BeautifulSoup\n",
    "import requests\n",
    "\n",
    "headers = {'User-Agent': 'Mozilla/5.0 (Macintosh; Intel Mac OS X 10_12_3) AppleWebKit/537.36 (KHTML, like Gecko) Chrome/58.0.3029.110 Safari/537.36'\n",
    "            }\n",
    "\n",
    "response = requests.get('https://www.yelp.com/biz/abc-kitchen-new-york', headers=headers)\n",
    "text = BeautifulSoup(response.text, 'html.parser')"
   ]
  },
  {
   "cell_type": "markdown",
   "metadata": {},
   "source": [
    "- If you go to the second page, you can see the url becomes https://www.yelp.com/biz/abc-kitchen-new-york?start=20\n",
    "- Similarly, the url to the thid page: https://www.yelp.com/biz/abc-kitchen-new-york?start=40\n",
    "- But how do we find out the url of the last page?"
   ]
  },
  {
   "cell_type": "code",
   "execution_count": null,
   "metadata": {},
   "outputs": [],
   "source": [
    "import re\n",
    "\n",
    "temp = 'lemon--p__373c0__3Qnnj text__373c0__2pB8f text-color--mid__373c0__3G312 text-align--left__373c0__2pnx_ text-size--large__373c0__1568g'\n",
    "num_reviews = text.find('p', attrs={'class': temp}).string\n",
    "num_reviews = int(re.findall('\\d+', num_reviews)[0])\n",
    "print(num_reviews)"
   ]
  },
  {
   "cell_type": "code",
   "execution_count": null,
   "metadata": {},
   "outputs": [],
   "source": [
    "url_list = []\n",
    "for i in range(0, num_reviews, 20):\n",
    "    url_list.append('https://www.yelp.com/biz/abc-kitchen-new-york?start='+str(i))\n",
    "print(url_list[:10])"
   ]
  },
  {
   "cell_type": "markdown",
   "metadata": {},
   "source": [
    "### Step 2: Find all the review divs on the page"
   ]
  },
  {
   "cell_type": "code",
   "execution_count": null,
   "metadata": {},
   "outputs": [],
   "source": [
    "temp = 'lemon--li__373c0__1r9wz u-space-b3 u-padding-b3 border--bottom__373c0__uPbXS border-color--default__373c0__2oFDT'\n",
    "reviews = text.find_all('li', attrs={'class': temp})\n",
    "print(len(reviews))"
   ]
  },
  {
   "cell_type": "markdown",
   "metadata": {},
   "source": [
    "### Step 3: Scrape the detail information\n",
    "\n",
    "For debugging purpose, we usually test it out on one review and then apply to the others."
   ]
  },
  {
   "cell_type": "code",
   "execution_count": null,
   "metadata": {},
   "outputs": [],
   "source": [
    "review = reviews[0]\n",
    "\n",
    "# Username\n",
    "temp = 'lemon--span__373c0__3997G text__373c0__2pB8f text-color--inherit__373c0__w_15m text-align--left__373c0__2pnx_ text-weight--bold__373c0__3HYJa'\n",
    "username = review.find('span', attrs={'class': temp}).string\n",
    "print(username)"
   ]
  },
  {
   "cell_type": "code",
   "execution_count": null,
   "metadata": {},
   "outputs": [],
   "source": [
    "# Location\n",
    "temp = 'lemon--span__373c0__3997G text__373c0__2pB8f text-color--normal__373c0__K_MKN text-align--left__373c0__2pnx_ text-weight--bold__373c0__3HYJa text-size--small__373c0__3SGMi'\n",
    "location = review.find('span', attrs={'class': temp}).get_text()\n",
    "print(location)"
   ]
  },
  {
   "cell_type": "code",
   "execution_count": null,
   "metadata": {},
   "outputs": [],
   "source": [
    "# Rating\n",
    "temp = 'lemon--span__373c0__3997G display--inline__373c0__1DbOG border-color--default__373c0__2oFDT'\n",
    "rating = review.find('span', attrs={'class': temp}).find('div').get('aria-label')\n",
    "rating = float(re.findall('\\d+', rating)[0])\n",
    "print(rating)"
   ]
  },
  {
   "cell_type": "code",
   "execution_count": null,
   "metadata": {},
   "outputs": [],
   "source": [
    "# Date\n",
    "temp = 'lemon--span__373c0__3997G text__373c0__2pB8f text-color--mid__373c0__3G312 text-align--left__373c0__2pnx_'\n",
    "date = review.find('span', attrs={'class': temp}).get_text()\n",
    "print(date)"
   ]
  },
  {
   "cell_type": "code",
   "execution_count": null,
   "metadata": {},
   "outputs": [],
   "source": [
    "# Content'\n",
    "temp = 'lemon--p__373c0__3Qnnj text__373c0__2pB8f comment__373c0__3EKjH text-color--normal__373c0__K_MKN text-align--left__373c0__2pnx_'\n",
    "content = review.find('p', attrs={'class': temp}).get_text()\n",
    "print(content)"
   ]
  },
  {
   "cell_type": "markdown",
   "metadata": {},
   "source": [
    "### Step 4: Apply to all the reviews and save them to a csv file"
   ]
  },
  {
   "cell_type": "code",
   "execution_count": null,
   "metadata": {},
   "outputs": [],
   "source": [
    "import csv\n",
    "# Windows using text encoding when opening the file by default.\n",
    "# Override it to 'utf-8' will save lots of encoding issues.\n",
    "with open('reviews.csv', 'w', encoding='utf-8') as csvfile:\n",
    "    review_writer = csv.writer(csvfile)\n",
    "    for review in reviews:\n",
    "        dic = {}\n",
    "        username = review.find('span', attrs={'class': 'lemon--span__373c0__3997G text__373c0__2pB8f text-color--inherit__373c0__w_15m text-align--left__373c0__2pnx_ text-weight--bold__373c0__3HYJa'})\\\n",
    "                   .string.strip() \n",
    "        location = review.find('span', attrs={'class': 'lemon--span__373c0__3997G text__373c0__2pB8f text-color--normal__373c0__K_MKN text-align--left__373c0__2pnx_ text-weight--bold__373c0__3HYJa text-size--small__373c0__3SGMi'})\\\n",
    "                   .get_text().strip()\n",
    "        date = review.find('span', attrs={'class': 'lemon--span__373c0__3997G text__373c0__2pB8f text-color--mid__373c0__3G312 text-align--left__373c0__2pnx_'})\\\n",
    "                   .get_text().strip()\n",
    "        rating = review.find('span', attrs={'class': 'lemon--span__373c0__3997G display--inline__373c0__1DbOG border-color--default__373c0__2oFDT'})\\\n",
    "                   .find('div').get('aria-label')\n",
    "        rating = float(re.findall('\\d+', rating)[0])\n",
    "        content = review.find('p', attrs={'class': 'lemon--p__373c0__3Qnnj text__373c0__2pB8f comment__373c0__3EKjH text-color--normal__373c0__K_MKN text-align--left__373c0__2pnx_'})\\\n",
    "                   .get_text().strip()\n",
    "        dic['username'] = username\n",
    "        dic['location'] = location\n",
    "        dic['date'] = date\n",
    "        dic['rating'] = rating\n",
    "        dic['content'] = content\n",
    "        review_writer.writerow(dic.values())"
   ]
  },
  {
   "cell_type": "markdown",
   "metadata": {},
   "source": [
    "### Step 5: Apply to all the pages"
   ]
  },
  {
   "cell_type": "code",
   "execution_count": null,
   "metadata": {
    "scrolled": false
   },
   "outputs": [],
   "source": [
    "import time\n",
    "import random\n",
    "\n",
    "\n",
    "def scrape_single_page(reviews, csvwriter):\n",
    "    for review in reviews:\n",
    "        dic = {}\n",
    "        username = review.find('span', attrs={'class': 'lemon--span__373c0__3997G text__373c0__2pB8f text-color--inherit__373c0__w_15m text-align--left__373c0__2pnx_ text-weight--bold__373c0__3HYJa'})\\\n",
    "                   .string.strip() \n",
    "        location = review.find('span', attrs={'class': 'lemon--span__373c0__3997G text__373c0__2pB8f text-color--normal__373c0__K_MKN text-align--left__373c0__2pnx_ text-weight--bold__373c0__3HYJa text-size--small__373c0__3SGMi'})\\\n",
    "                   .get_text().strip()\n",
    "        date = review.find('span', attrs={'class': 'lemon--span__373c0__3997G text__373c0__2pB8f text-color--mid__373c0__3G312 text-align--left__373c0__2pnx_'})\\\n",
    "                   .get_text().strip()\n",
    "        rating = review.find('span', attrs={'class': 'lemon--span__373c0__3997G display--inline__373c0__1DbOG border-color--default__373c0__2oFDT'})\\\n",
    "                   .find('div').get('aria-label')\n",
    "        rating = float(re.findall('\\d+', rating)[0])\n",
    "        content = review.find('p', attrs={'class': 'lemon--p__373c0__3Qnnj text__373c0__2pB8f comment__373c0__3EKjH text-color--normal__373c0__K_MKN text-align--left__373c0__2pnx_'})\\\n",
    "                   .get_text().strip()\n",
    "        dic['username'] = username\n",
    "        dic['location'] = location\n",
    "        dic['date'] = date\n",
    "        dic['rating'] = rating\n",
    "        dic['content'] = content\n",
    "        review_writer.writerow(dic.values())\n",
    "    \n",
    "\n",
    "with open('reviews.csv', 'w', encoding='utf-8', newline='') as csvfile:\n",
    "    review_writer = csv.writer(csvfile)\n",
    "    for index, url in enumerate(url_list):\n",
    "        response = requests.get(url, headers=headers)\n",
    "        text = BeautifulSoup(response.text, 'html.parser')\n",
    "        reviews = text.find_all('li', attrs={'class': 'lemon--li__373c0__1r9wz u-space-b3 u-padding-b3 border--bottom__373c0__uPbXS border-color--default__373c0__2oFDT'})\n",
    "        scrape_single_page(reviews, review_writer)\n",
    "        # Random sleep to avoid getting banned from the server\n",
    "        time.sleep(random.randint(1,3))\n",
    "        # Log the progress\n",
    "        print('Finished page ' + str(index + 1))"
   ]
  },
  {
   "cell_type": "code",
   "execution_count": null,
   "metadata": {},
   "outputs": [],
   "source": []
  }
 ],
 "metadata": {
  "kernelspec": {
   "display_name": "Python 3",
   "language": "python",
   "name": "python3"
  },
  "language_info": {
   "codemirror_mode": {
    "name": "ipython",
    "version": 3
   },
   "file_extension": ".py",
   "mimetype": "text/x-python",
   "name": "python",
   "nbconvert_exporter": "python",
   "pygments_lexer": "ipython3",
   "version": "3.7.3"
  }
 },
 "nbformat": 4,
 "nbformat_minor": 1
}
