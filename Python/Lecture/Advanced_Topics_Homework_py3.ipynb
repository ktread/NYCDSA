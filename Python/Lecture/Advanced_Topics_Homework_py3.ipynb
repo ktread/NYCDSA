{
 "cells": [
  {
   "cell_type": "markdown",
   "metadata": {},
   "source": [
    "<p><a name=\"home\"></a></p>\n",
    "# Homework"
   ]
  },
  {
   "cell_type": "markdown",
   "metadata": {},
   "source": [
    "### Problem 1\n",
    "\n",
    "- Define a function called `search()` that takes a keyword and the name of a file as input. \n",
    "- Open the file and iterate through the file object line by line. If you find the keyword in the line, yield it.\n",
    "- Also show how would you call the function and iterate through the generator."
   ]
  },
  {
   "cell_type": "code",
   "execution_count": null,
   "metadata": {
    "collapsed": true
   },
   "outputs": [],
   "source": [
    "def search(keyword, filename):\n",
    "    # Your code here\n",
    "    pass"
   ]
  },
  {
   "cell_type": "markdown",
   "metadata": {},
   "source": [
    "### Problem 2\n",
    "\n",
    "Flatten a list:\n",
    "\n",
    "- Write a function called `chain_list()` to turn [[1, 2, 3], [4, 5], [6, 7, 8]] into [1, 2, 3, 4, 5, 6, 7, 8].\n",
    "- Check the [itertools](https://docs.python.org/2/library/itertools.html) packages and see if you can find a function that does the same thing. **Note**: it returns a generator instead of a list."
   ]
  },
  {
   "cell_type": "code",
   "execution_count": null,
   "metadata": {
    "collapsed": true
   },
   "outputs": [],
   "source": [
    "def chain_list(nested_list):\n",
    "    # Your code here\n",
    "    pass"
   ]
  },
  {
   "cell_type": "markdown",
   "metadata": {},
   "source": [
    "### Problem 3\n",
    "\n",
    "- Create a class called `BankAccount` with the following attributes and methods:\n",
    " - Attributes: \n",
    "   - name(string): instance variable, make it private;\n",
    "   - balance(number): instance variable, make it private;\n",
    " - Methods: \n",
    "   - `__init__(self, name, balance)`: initialize a BankAccount object with a string and a number.\n",
    "   - `deposit(self, n)`: add n to the balance\n",
    "   - `withdraw(self, n)`: subtract n from the balance, if n > balance, `raise ValueError(\"You don't have enough money!\")`\n",
    "   - `check_balance`: print out the remaining balance of the account. "
   ]
  },
  {
   "cell_type": "code",
   "execution_count": 1,
   "metadata": {
    "collapsed": true
   },
   "outputs": [],
   "source": [
    "class BankAccount(object):\n",
    "    # Your code here\n",
    "    pass"
   ]
  },
  {
   "cell_type": "code",
   "execution_count": null,
   "metadata": {
    "collapsed": true
   },
   "outputs": [],
   "source": [
    "account = BankAccount('Test', 2000)\n",
    "account.check_balance() # 2000\n",
    "account.deposit(500)\n",
    "account.withdraw(3000) # ValueError: You don't have enough money!"
   ]
  },
  {
   "cell_type": "code",
   "execution_count": null,
   "metadata": {
    "collapsed": true
   },
   "outputs": [],
   "source": [
    "account.withdraw(2000) # 500\n",
    "account.check_balance()"
   ]
  },
  {
   "cell_type": "code",
   "execution_count": null,
   "metadata": {
    "collapsed": true
   },
   "outputs": [],
   "source": []
  }
 ],
 "metadata": {
  "kernelspec": {
   "display_name": "Python 3",
   "language": "python",
   "name": "python3"
  },
  "language_info": {
   "codemirror_mode": {
    "name": "ipython",
    "version": 3
   },
   "file_extension": ".py",
   "mimetype": "text/x-python",
   "name": "python",
   "nbconvert_exporter": "python",
   "pygments_lexer": "ipython3",
   "version": "3.6.0"
  }
 },
 "nbformat": 4,
 "nbformat_minor": 1
}
